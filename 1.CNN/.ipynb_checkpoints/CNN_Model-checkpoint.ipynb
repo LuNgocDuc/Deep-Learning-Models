{
 "cells": [
  {
   "cell_type": "markdown",
   "metadata": {
    "colab_type": "text",
    "id": "view-in-github"
   },
   "source": [
    "<a href=\"https://colab.research.google.com/github/amanjain252002/Stock-Price-Prediction/blob/main/Deep_Learning_Model.ipynb\" target=\"_parent\"><img src=\"https://colab.research.google.com/assets/colab-badge.svg\" alt=\"Open In Colab\"/></a>"
   ]
  },
  {
   "cell_type": "code",
   "execution_count": 1,
   "metadata": {
    "id": "a92nHELU1gxI"
   },
   "outputs": [
    {
     "name": "stdout",
     "output_type": "stream",
     "text": [
      "WARNING:tensorflow:From C:\\Users\\Win10\\anaconda3\\Lib\\site-packages\\keras\\src\\losses.py:2976: The name tf.losses.sparse_softmax_cross_entropy is deprecated. Please use tf.compat.v1.losses.sparse_softmax_cross_entropy instead.\n",
      "\n"
     ]
    }
   ],
   "source": [
    "import math\n",
    "import numpy as np\n",
    "import pandas as pd\n",
    "import matplotlib.pyplot as plt\n",
    "\n",
    "import tensorflow as tf\n",
    "from sklearn.metrics import mean_squared_error, mean_absolute_error\n",
    "\n",
    "import warnings\n",
    "warnings.filterwarnings('ignore')"
   ]
  },
  {
   "cell_type": "code",
   "execution_count": 2,
   "metadata": {
    "id": "cniPewwH16-t"
   },
   "outputs": [],
   "source": [
    "AAPL = pd.read_csv(\"./Database/Pre_Processed_AAPL.csv\")\n",
    "TSLA = pd.read_csv(\"./Database/Pre_Processed_TSLA.csv\")\n",
    "GOOG = pd.read_csv(\"./Database/Pre_Processed_GOOG.csv\")"
   ]
  },
  {
   "cell_type": "markdown",
   "metadata": {
    "id": "vDdZr0DH0sor"
   },
   "source": [
    "### Data Proprocessing"
   ]
  },
  {
   "cell_type": "code",
   "execution_count": 3,
   "metadata": {
    "id": "kkZs6LC9QPMp"
   },
   "outputs": [],
   "source": [
    "def Dataset(Data, Date):\n",
    "\n",
    "  Train_Data = Data['Adj. Close'][Data['Date'] < Date].to_numpy()\n",
    "  Data_Train = []\n",
    "  Data_Train_X = []\n",
    "  Data_Train_Y = []\n",
    "  for i in range(0, len(Train_Data), 5):\n",
    "    try:\n",
    "      Data_Train.append(Train_Data[i : i + 5])\n",
    "    except:\n",
    "      pass\n",
    "\n",
    "  if len(Data_Train[-1]) < 5:\n",
    "    Data_Train.pop(-1)\n",
    "  \n",
    "  Data_Train_X = Data_Train[0 : -1]\n",
    "  Data_Train_X = np.array(Data_Train_X)\n",
    "  Data_Train_X = Data_Train_X.reshape((-1, 5, 1))\n",
    "  Data_Train_Y = Data_Train[1 : len(Data_Train)]\n",
    "  Data_Train_Y = np.array(Data_Train_Y)\n",
    "  Data_Train_Y = Data_Train_Y.reshape((-1, 5, 1))\n",
    "\n",
    "\n",
    "  Test_Data = Data['Adj. Close'][Data['Date'] >= Date].to_numpy()\n",
    "  Data_Test = []\n",
    "  Data_Test_X = []\n",
    "  Data_Test_Y = []\n",
    "  for i in range(0, len(Test_Data), 5):\n",
    "    try:\n",
    "      Data_Test.append(Test_Data[i : i + 5])\n",
    "    except:\n",
    "      pass\n",
    "\n",
    "  if len(Data_Test[-1]) < 5:\n",
    "    Data_Test.pop(-1)\n",
    "  \n",
    "  Data_Test_X = Data_Test[0 : -1]\n",
    "  Data_Test_X = np.array(Data_Test_X)\n",
    "  Data_Test_X = Data_Test_X.reshape((-1, 5, 1))\n",
    "  Data_Test_Y = Data_Test[1 : len(Data_Test)]\n",
    "  Data_Test_Y = np.array(Data_Test_Y)\n",
    "  Data_Test_Y = Data_Test_Y.reshape((-1, 5, 1))\n",
    "\n",
    "  return Data_Train_X, Data_Train_Y, Data_Test_X, Data_Test_Y"
   ]
  },
  {
   "cell_type": "markdown",
   "metadata": {
    "id": "fFmGO6j50wbO"
   },
   "source": [
    "### Model"
   ]
  },
  {
   "cell_type": "code",
   "execution_count": 5,
   "metadata": {
    "id": "DPWMIKGv_7b1"
   },
   "outputs": [],
   "source": [
    "def Model():\n",
    "    from keras.layers import Conv1D, Activation,MaxPooling1D,Flatten, GRU, AveragePooling1D, Dense, Dropout\n",
    "    from keras.models import Sequential\n",
    "\n",
    "    #Input các vecto 7X1\n",
    "    # 32*\n",
    "    #Build model\n",
    "    model=Sequential()\n",
    "    #Layer1 \n",
    "    model.add(Conv1D(32, 3, padding='same', input_shape=(time_step,1)))\n",
    "    model.add(Activation('relu'))\n",
    "\n",
    "    #Layer2\n",
    "    model.add(Conv1D(32, 3, padding='same'))\n",
    "    model.add(Activation('relu'))\n",
    "\n",
    "    #layer3 \n",
    "    model.add(AveragePooling1D(pool_size=2))\n",
    "\n",
    "    #layer4\n",
    "    model.add(Conv1D(64, 3, padding='same', input_shape=(time_step,1)))\n",
    "    model.add(Activation('relu'))\n",
    "\n",
    "    #layer5\n",
    "    model.add(Conv1D(64, 3, padding='same'))\n",
    "    model.add(Activation('relu'))\n",
    "\n",
    "    #layer6\n",
    "    model.add(AveragePooling1D())\n",
    "\n",
    "    #Flatten\n",
    "    model.add(Flatten())\n",
    "    #Output\n",
    "    model.add(Dense(1))\n",
    "\n",
    "\n",
    "    return model"
   ]
  },
  {
   "cell_type": "code",
   "execution_count": 6,
   "metadata": {
    "id": "k-zXwjAyrGm7"
   },
   "outputs": [
    {
     "name": "stdout",
     "output_type": "stream",
     "text": [
      "WARNING:tensorflow:From C:\\Users\\Win10\\anaconda3\\Lib\\site-packages\\keras\\src\\layers\\rnn\\lstm.py:148: The name tf.executing_eagerly_outside_functions is deprecated. Please use tf.compat.v1.executing_eagerly_outside_functions instead.\n",
      "\n"
     ]
    }
   ],
   "source": [
    "model = Model()"
   ]
  },
  {
   "cell_type": "code",
   "execution_count": 7,
   "metadata": {
    "colab": {
     "base_uri": "https://localhost:8080/",
     "height": 754
    },
    "id": "RAS71VonrLzU",
    "outputId": "18166993-ab89-4ce0-84ea-f367714824db"
   },
   "outputs": [
    {
     "name": "stdout",
     "output_type": "stream",
     "text": [
      "You must install pydot (`pip install pydot`) and install graphviz (see instructions at https://graphviz.gitlab.io/download/) for plot_model to work.\n"
     ]
    }
   ],
   "source": [
    "tf.keras.utils.plot_model(model, show_shapes=True)"
   ]
  },
  {
   "cell_type": "code",
   "execution_count": 8,
   "metadata": {
    "colab": {
     "base_uri": "https://localhost:8080/"
    },
    "id": "neXmHN79rO0k",
    "outputId": "307f6638-11fe-4ad2-c5bb-51fe1611d996"
   },
   "outputs": [
    {
     "name": "stdout",
     "output_type": "stream",
     "text": [
      "Model: \"sequential\"\n",
      "_________________________________________________________________\n",
      " Layer (type)                Output Shape              Param #   \n",
      "=================================================================\n",
      " lstm (LSTM)                 (None, 5, 200)            161600    \n",
      "                                                                 \n",
      " lstm_1 (LSTM)               (None, 200)               320800    \n",
      "                                                                 \n",
      " dense (Dense)               (None, 200)               40200     \n",
      "                                                                 \n",
      " dense_1 (Dense)             (None, 100)               20100     \n",
      "                                                                 \n",
      " dense_2 (Dense)             (None, 50)                5050      \n",
      "                                                                 \n",
      " dense_3 (Dense)             (None, 5)                 255       \n",
      "                                                                 \n",
      "=================================================================\n",
      "Total params: 548005 (2.09 MB)\n",
      "Trainable params: 548005 (2.09 MB)\n",
      "Non-trainable params: 0 (0.00 Byte)\n",
      "_________________________________________________________________\n"
     ]
    }
   ],
   "source": [
    "model.summary()"
   ]
  },
  {
   "cell_type": "markdown",
   "metadata": {
    "id": "vJDxyTC40zmg"
   },
   "source": [
    "### Custom Learning Rate"
   ]
  },
  {
   "cell_type": "code",
   "execution_count": 9,
   "metadata": {
    "id": "vLjevQLkiIoP"
   },
   "outputs": [],
   "source": [
    "def scheduler(epoch):\n",
    "  \n",
    "  if epoch <= 150:\n",
    "    lrate = (10 ** -5) * (epoch / 150) \n",
    "  elif epoch <= 400:\n",
    "    initial_lrate = (10 ** -5)\n",
    "    k = 0.01\n",
    "    lrate = initial_lrate * math.exp(-k * (epoch - 150))\n",
    "  else:\n",
    "    lrate = (10 ** -6)\n",
    "  \n",
    "  return lrate"
   ]
  },
  {
   "cell_type": "code",
   "execution_count": 10,
   "metadata": {
    "colab": {
     "base_uri": "https://localhost:8080/",
     "height": 293
    },
    "id": "H5Aoh-QGiLh-",
    "outputId": "0d26ee6d-1c08-40fb-c73d-9680afab6ba1"
   },
   "outputs": [
    {
     "data": {
      "text/plain": [
       "[<matplotlib.lines.Line2D at 0x27dbf2bf410>]"
      ]
     },
     "execution_count": 10,
     "metadata": {},
     "output_type": "execute_result"
    },
    {
     "data": {
      "image/png": "[encoded data removed]",
      "text/plain": [
       "<Figure size 640x480 with 1 Axes>"
      ]
     },
     "metadata": {},
     "output_type": "display_data"
    }
   ],
   "source": [
    "epochs = [i for i in range(1, 1001, 1)]\n",
    "lrate = [scheduler(i) for i in range(1, 1001, 1)]\n",
    "plt.plot(epochs, lrate)"
   ]
  },
  {
   "cell_type": "code",
   "execution_count": 11,
   "metadata": {
    "id": "R0NG_mhJiQH_"
   },
   "outputs": [],
   "source": [
    "callback = tf.keras.callbacks.LearningRateScheduler(scheduler)"
   ]
  },
  {
   "cell_type": "markdown",
   "metadata": {
    "id": "P9l6y-jBQL-G"
   },
   "source": [
    "#Apple"
   ]
  },
  {
   "cell_type": "code",
   "execution_count": 12,
   "metadata": {
    "colab": {
     "base_uri": "https://localhost:8080/",
     "height": 195
    },
    "id": "thrQ_-6x7_7m",
    "outputId": "95ad792e-1c99-4e80-b987-9ca65ffe5fac"
   },
   "outputs": [
    {
     "data": {
      "text/html": [
       "<div>\n",
       "<style scoped>\n",
       "    .dataframe tbody tr th:only-of-type {\n",
       "        vertical-align: middle;\n",
       "    }\n",
       "\n",
       "    .dataframe tbody tr th {\n",
       "        vertical-align: top;\n",
       "    }\n",
       "\n",
       "    .dataframe thead th {\n",
       "        text-align: right;\n",
       "    }\n",
       "</style>\n",
       "<table border=\"1\" class=\"dataframe\">\n",
       "  <thead>\n",
       "    <tr style=\"text-align: right;\">\n",
       "      <th></th>\n",
       "      <th>Date</th>\n",
       "      <th>Open</th>\n",
       "      <th>High</th>\n",
       "      <th>Low</th>\n",
       "      <th>Close</th>\n",
       "      <th>Adj. Close</th>\n",
       "      <th>Volume</th>\n",
       "    </tr>\n",
       "  </thead>\n",
       "  <tbody>\n",
       "    <tr>\n",
       "      <th>0</th>\n",
       "      <td>2015-01-02</td>\n",
       "      <td>27.85</td>\n",
       "      <td>27.86</td>\n",
       "      <td>26.84</td>\n",
       "      <td>27.33</td>\n",
       "      <td>24.86</td>\n",
       "      <td>212818400.0</td>\n",
       "    </tr>\n",
       "    <tr>\n",
       "      <th>1</th>\n",
       "      <td>2015-01-05</td>\n",
       "      <td>27.07</td>\n",
       "      <td>27.16</td>\n",
       "      <td>26.35</td>\n",
       "      <td>26.56</td>\n",
       "      <td>24.16</td>\n",
       "      <td>257142000.0</td>\n",
       "    </tr>\n",
       "    <tr>\n",
       "      <th>2</th>\n",
       "      <td>2015-01-06</td>\n",
       "      <td>26.64</td>\n",
       "      <td>26.86</td>\n",
       "      <td>26.16</td>\n",
       "      <td>26.57</td>\n",
       "      <td>24.16</td>\n",
       "      <td>263188400.0</td>\n",
       "    </tr>\n",
       "    <tr>\n",
       "      <th>3</th>\n",
       "      <td>2015-01-07</td>\n",
       "      <td>26.80</td>\n",
       "      <td>27.05</td>\n",
       "      <td>26.67</td>\n",
       "      <td>26.94</td>\n",
       "      <td>24.50</td>\n",
       "      <td>160423600.0</td>\n",
       "    </tr>\n",
       "    <tr>\n",
       "      <th>4</th>\n",
       "      <td>2015-01-08</td>\n",
       "      <td>27.31</td>\n",
       "      <td>28.04</td>\n",
       "      <td>27.17</td>\n",
       "      <td>27.97</td>\n",
       "      <td>25.44</td>\n",
       "      <td>237458000.0</td>\n",
       "    </tr>\n",
       "  </tbody>\n",
       "</table>\n",
       "</div>"
      ],
      "text/plain": [
       "         Date   Open   High    Low  Close  Adj. Close       Volume\n",
       "0  2015-01-02  27.85  27.86  26.84  27.33       24.86  212818400.0\n",
       "1  2015-01-05  27.07  27.16  26.35  26.56       24.16  257142000.0\n",
       "2  2015-01-06  26.64  26.86  26.16  26.57       24.16  263188400.0\n",
       "3  2015-01-07  26.80  27.05  26.67  26.94       24.50  160423600.0\n",
       "4  2015-01-08  27.31  28.04  27.17  27.97       25.44  237458000.0"
      ]
     },
     "execution_count": 12,
     "metadata": {},
     "output_type": "execute_result"
    }
   ],
   "source": [
    "AAPL.head()"
   ]
  },
  {
   "cell_type": "code",
   "execution_count": 13,
   "metadata": {
    "colab": {
     "base_uri": "https://localhost:8080/"
    },
    "id": "IA_pY7CN8B0x",
    "outputId": "41684e67-b44b-4a2b-f80a-122356808927"
   },
   "outputs": [
    {
     "name": "stdout",
     "output_type": "stream",
     "text": [
      "<class 'pandas.core.frame.DataFrame'>\n",
      "RangeIndex: 1549 entries, 0 to 1548\n",
      "Data columns (total 7 columns):\n",
      " #   Column      Non-Null Count  Dtype  \n",
      "---  ------      --------------  -----  \n",
      " 0   Date        1549 non-null   object \n",
      " 1   Open        1549 non-null   float64\n",
      " 2   High        1549 non-null   float64\n",
      " 3   Low         1549 non-null   float64\n",
      " 4   Close       1549 non-null   float64\n",
      " 5   Adj. Close  1549 non-null   float64\n",
      " 6   Volume      1549 non-null   float64\n",
      "dtypes: float64(6), object(1)\n",
      "memory usage: 84.8+ KB\n"
     ]
    }
   ],
   "source": [
    "AAPL.info()"
   ]
  },
  {
   "cell_type": "code",
   "execution_count": 14,
   "metadata": {
    "id": "elqcyE_H3h2S"
   },
   "outputs": [],
   "source": [
    "# Change Dtype of Date column\n",
    "AAPL[\"Date\"] = pd.to_datetime(AAPL[\"Date\"])"
   ]
  },
  {
   "cell_type": "markdown",
   "metadata": {
    "id": "FPawFX7U5VVz"
   },
   "source": [
    "###Split the Data into Training and Test set\n",
    "    Training Period: 2015-01-02 - 2020-09-30\n",
    "\n",
    "    Testing Period:  2020-10-01 - 2021-02-26"
   ]
  },
  {
   "cell_type": "code",
   "execution_count": 15,
   "metadata": {
    "id": "Cdu0-_N238N2"
   },
   "outputs": [],
   "source": [
    "AAPL_Date = '2020-10-01'\n",
    "AAPL_Train_X, AAPL_Train_Y, AAPL_Test_X, AAPL_Test_Y = Dataset(AAPL, AAPL_Date)"
   ]
  },
  {
   "cell_type": "markdown",
   "metadata": {
    "id": "WhsAWnFP1-_t"
   },
   "source": [
    "### Model Fitting"
   ]
  },
  {
   "cell_type": "code",
   "execution_count": 16,
   "metadata": {
    "id": "yMBW7DTXAOo6"
   },
   "outputs": [],
   "source": [
    "AAPL_Model = Model()"
   ]
  },
  {
   "cell_type": "code",
   "execution_count": 17,
   "metadata": {
    "id": "YIN5tmbx9Pz5"
   },
   "outputs": [],
   "source": [
    "AAPL_Model.compile(optimizer = tf.keras.optimizers.Adam(), loss = 'mse', metrics = tf.keras.metrics.RootMeanSquaredError())"
   ]
  },
  {
   "cell_type": "code",
   "execution_count": 18,
   "metadata": {
    "id": "BNxXmS48BxEb"
   },
   "outputs": [
    {
     "name": "stdout",
     "output_type": "stream",
     "text": [
      "Epoch 1/1000\n",
      "WARNING:tensorflow:From C:\\Users\\Win10\\anaconda3\\Lib\\site-packages\\keras\\src\\utils\\tf_utils.py:492: The name tf.ragged.RaggedTensorValue is deprecated. Please use tf.compat.v1.ragged.RaggedTensorValue instead.\n",
      "\n",
      "9/9 [==============================] - 4s 70ms/step - loss: 2304.1787 - root_mean_squared_error: 48.0019 - val_loss: 15743.1895 - val_root_mean_squared_error: 125.4719 - lr: 0.0000e+00\n",
      "Epoch 2/1000\n",
      "9/9 [==============================] - 0s 15ms/step - loss: 2304.1562 - root_mean_squared_error: 48.0016 - val_loss: 15743.0342 - val_root_mean_squared_error: 125.4712 - lr: 6.6667e-08\n",
      "Epoch 3/1000\n",
      "9/9 [==============================] - 0s 15ms/step - loss: 2304.0850 - root_mean_squared_error: 48.0009 - val_loss: 15742.7188 - val_root_mean_squared_error: 125.4700 - lr: 1.3333e-07\n",
      "Epoch 4/1000\n",
      "9/9 [==============================] - 0s 16ms/step - loss: 2303.9697 - root_mean_squared_error: 47.9997 - val_loss: 15742.2354 - val_root_mean_squared_error: 125.4681 - lr: 2.0000e-07\n",
      "Epoch 5/1000\n",
      "9/9 [==============================] - 0s 16ms/step - loss: 2303.8008 - root_mean_squared_error: 47.9979 - val_loss: 15741.5967 - val_root_mean_squared_error: 125.4655 - lr: 2.6667e-07\n",
      "Epoch 6/1000\n",
      "9/9 [==============================] - 0s 16ms/step - loss: 2303.5840 - root_mean_squared_error: 47.9957 - val_loss: 15740.7891 - val_root_mean_squared_error: 125.4623 - lr: 3.3333e-07\n",
      "Epoch 7/1000\n",
      "9/9 [==============================] - 0s 14ms/step - loss: 2303.3218 - root_mean_squared_error: 47.9929 - val_loss: 15739.7480 - val_root_mean_squared_error: 125.4582 - lr: 4.0000e-07\n",
      "Epoch 8/1000\n",
      "9/9 [==============================] - 0s 14ms/step - loss: 2303.0010 - root_mean_squared_error: 47.9896 - val_loss: 15738.4521 - val_root_mean_squared_error: 125.4530 - lr: 4.6667e-07\n",
      "Epoch 9/1000\n",
      "9/9 [==============================] - 0s 16ms/step - loss: 2302.6238 - root_mean_squared_error: 47.9857 - val_loss: 15736.8984 - val_root_mean_squared_error: 125.4468 - lr: 5.3333e-07\n",
      "Epoch 10/1000\n",
      "9/9 [==============================] - 0s 14ms/step - loss: 2302.1953 - root_mean_squared_error: 47.9812 - val_loss: 15734.9014 - val_root_mean_squared_error: 125.4388 - lr: 6.0000e-07\n",
      "Epoch 11/1000\n",
      "9/9 [==============================] - 0s 14ms/step - loss: 2301.7053 - root_mean_squared_error: 47.9761 - val_loss: 15732.5293 - val_root_mean_squared_error: 125.4294 - lr: 6.6667e-07\n",
      "Epoch 12/1000\n",
      "9/9 [==============================] - 0s 14ms/step - loss: 2301.1536 - root_mean_squared_error: 47.9703 - val_loss: 15729.6992 - val_root_mean_squared_error: 125.4181 - lr: 7.3333e-07\n",
      "Epoch 13/1000\n",
      "9/9 [==============================] - 0s 14ms/step - loss: 2300.5410 - root_mean_squared_error: 47.9640 - val_loss: 15726.2930 - val_root_mean_squared_error: 125.4045 - lr: 8.0000e-07\n",
      "Epoch 14/1000\n",
      "9/9 [==============================] - 0s 15ms/step - loss: 2299.8687 - root_mean_squared_error: 47.9569 - val_loss: 15722.3877 - val_root_mean_squared_error: 125.3890 - lr: 8.6667e-07\n",
      "Epoch 15/1000\n",
      "9/9 [==============================] - 0s 14ms/step - loss: 2299.1609 - root_mean_squared_error: 47.9496 - val_loss: 15717.7549 - val_root_mean_squared_error: 125.3705 - lr: 9.3333e-07\n",
      "Epoch 16/1000\n",
      "9/9 [==============================] - 0s 14ms/step - loss: 2298.3403 - root_mean_squared_error: 47.9410 - val_loss: 15712.9834 - val_root_mean_squared_error: 125.3514 - lr: 1.0000e-06\n",
      "Epoch 17/1000\n",
      "9/9 [==============================] - 0s 14ms/step - loss: 2297.5352 - root_mean_squared_error: 47.9326 - val_loss: 15707.3057 - val_root_mean_squared_error: 125.3288 - lr: 1.0667e-06\n",
      "Epoch 18/1000\n",
      "9/9 [==============================] - 0s 14ms/step - loss: 2296.5813 - root_mean_squared_error: 47.9227 - val_loss: 15701.6016 - val_root_mean_squared_error: 125.3060 - lr: 1.1333e-06\n",
      "Epoch 19/1000\n",
      "9/9 [==============================] - 0s 15ms/step - loss: 2295.6106 - root_mean_squared_error: 47.9125 - val_loss: 15695.3252 - val_root_mean_squared_error: 125.2810 - lr: 1.2000e-06\n",
      "Epoch 20/1000\n",
      "9/9 [==============================] - 0s 19ms/step - loss: 2294.5588 - root_mean_squared_error: 47.9016 - val_loss: 15688.9951 - val_root_mean_squared_error: 125.2557 - lr: 1.2667e-06\n",
      "Epoch 21/1000\n",
      "9/9 [==============================] - 0s 15ms/step - loss: 2293.4138 - root_mean_squared_error: 47.8896 - val_loss: 15682.6846 - val_root_mean_squared_error: 125.2305 - lr: 1.3333e-06\n",
      "Epoch 22/1000\n",
      "9/9 [==============================] - 0s 13ms/step - loss: 2292.2356 - root_mean_squared_error: 47.8773 - val_loss: 15675.9873 - val_root_mean_squared_error: 125.2038 - lr: 1.4000e-06\n",
      "Epoch 23/1000\n",
      "9/9 [==============================] - 0s 14ms/step - loss: 2290.9775 - root_mean_squared_error: 47.8642 - val_loss: 15668.6055 - val_root_mean_squared_error: 125.1743 - lr: 1.4667e-06\n",
      "Epoch 24/1000\n",
      "9/9 [==============================] - 0s 14ms/step - loss: 2289.6245 - root_mean_squared_error: 47.8500 - val_loss: 15661.0576 - val_root_mean_squared_error: 125.1441 - lr: 1.5333e-06\n",
      "Epoch 25/1000\n",
      "9/9 [==============================] - 0s 13ms/step - loss: 2288.2080 - root_mean_squared_error: 47.8352 - val_loss: 15653.4814 - val_root_mean_squared_error: 125.1139 - lr: 1.6000e-06\n",
      "Epoch 26/1000\n",
      "9/9 [==============================] - 0s 13ms/step - loss: 2286.7290 - root_mean_squared_error: 47.8198 - val_loss: 15645.3223 - val_root_mean_squared_error: 125.0813 - lr: 1.6667e-06\n",
      "Epoch 27/1000\n",
      "9/9 [==============================] - 0s 15ms/step - loss: 2285.1748 - root_mean_squared_error: 47.8035 - val_loss: 15636.6445 - val_root_mean_squared_error: 125.0466 - lr: 1.7333e-06\n",
      "Epoch 28/1000\n",
      "9/9 [==============================] - 0s 13ms/step - loss: 2283.4626 - root_mean_squared_error: 47.7856 - val_loss: 15628.0547 - val_root_mean_squared_error: 125.0122 - lr: 1.8000e-06\n",
      "Epoch 29/1000\n",
      "9/9 [==============================] - 0s 16ms/step - loss: 2281.7100 - root_mean_squared_error: 47.7672 - val_loss: 15618.6123 - val_root_mean_squared_error: 124.9744 - lr: 1.8667e-06\n",
      "Epoch 30/1000\n",
      "9/9 [==============================] - 0s 17ms/step - loss: 2279.8284 - root_mean_squared_error: 47.7475 - val_loss: 15608.7812 - val_root_mean_squared_error: 124.9351 - lr: 1.9333e-06\n",
      "Epoch 31/1000\n",
      "9/9 [==============================] - 0s 15ms/step - loss: 2277.8875 - root_mean_squared_error: 47.7272 - val_loss: 15598.0244 - val_root_mean_squared_error: 124.8920 - lr: 2.0000e-06\n",
      "Epoch 32/1000\n",
      "9/9 [==============================] - 0s 14ms/step - loss: 2275.6667 - root_mean_squared_error: 47.7039 - val_loss: 15587.0049 - val_root_mean_squared_error: 124.8479 - lr: 2.0667e-06\n",
      "Epoch 33/1000\n",
      "9/9 [==============================] - 0s 13ms/step - loss: 2273.3428 - root_mean_squared_error: 47.6796 - val_loss: 15574.3623 - val_root_mean_squared_error: 124.7973 - lr: 2.1333e-06\n",
      "Epoch 34/1000\n",
      "9/9 [==============================] - 0s 15ms/step - loss: 2270.9089 - root_mean_squared_error: 47.6541 - val_loss: 15558.3105 - val_root_mean_squared_error: 124.7330 - lr: 2.2000e-06\n",
      "Epoch 35/1000\n",
      "9/9 [==============================] - 0s 16ms/step - loss: 2268.1494 - root_mean_squared_error: 47.6251 - val_loss: 15541.4424 - val_root_mean_squared_error: 124.6653 - lr: 2.2667e-06\n",
      "Epoch 36/1000\n",
      "9/9 [==============================] - 0s 15ms/step - loss: 2265.4502 - root_mean_squared_error: 47.5967 - val_loss: 15520.3105 - val_root_mean_squared_error: 124.5805 - lr: 2.3333e-06\n",
      "Epoch 37/1000\n",
      "9/9 [==============================] - 0s 16ms/step - loss: 2262.4363 - root_mean_squared_error: 47.5651 - val_loss: 15498.5674 - val_root_mean_squared_error: 124.4932 - lr: 2.4000e-06\n",
      "Epoch 38/1000\n",
      "9/9 [==============================] - 0s 15ms/step - loss: 2259.3579 - root_mean_squared_error: 47.5327 - val_loss: 15475.2354 - val_root_mean_squared_error: 124.3995 - lr: 2.4667e-06\n",
      "Epoch 39/1000\n",
      "9/9 [==============================] - 0s 13ms/step - loss: 2256.0012 - root_mean_squared_error: 47.4974 - val_loss: 15450.7373 - val_root_mean_squared_error: 124.3010 - lr: 2.5333e-06\n",
      "Epoch 40/1000\n",
      "9/9 [==============================] - 0s 13ms/step - loss: 2252.4397 - root_mean_squared_error: 47.4599 - val_loss: 15425.4375 - val_root_mean_squared_error: 124.1992 - lr: 2.6000e-06\n",
      "Epoch 41/1000\n",
      "9/9 [==============================] - 0s 13ms/step - loss: 2248.7358 - root_mean_squared_error: 47.4208 - val_loss: 15396.8604 - val_root_mean_squared_error: 124.0841 - lr: 2.6667e-06\n",
      "Epoch 42/1000\n",
      "9/9 [==============================] - 0s 12ms/step - loss: 2244.6089 - root_mean_squared_error: 47.3773 - val_loss: 15366.0078 - val_root_mean_squared_error: 123.9597 - lr: 2.7333e-06\n",
      "Epoch 43/1000\n",
      "9/9 [==============================] - 0s 13ms/step - loss: 2240.0952 - root_mean_squared_error: 47.3296 - val_loss: 15328.8555 - val_root_mean_squared_error: 123.8098 - lr: 2.8000e-06\n",
      "Epoch 44/1000\n",
      "9/9 [==============================] - 0s 13ms/step - loss: 2234.8171 - root_mean_squared_error: 47.2739 - val_loss: 15289.5791 - val_root_mean_squared_error: 123.6510 - lr: 2.8667e-06\n",
      "Epoch 45/1000\n",
      "9/9 [==============================] - 0s 16ms/step - loss: 2229.3723 - root_mean_squared_error: 47.2162 - val_loss: 15248.2744 - val_root_mean_squared_error: 123.4839 - lr: 2.9333e-06\n",
      "Epoch 46/1000\n",
      "9/9 [==============================] - 0s 16ms/step - loss: 2223.4338 - root_mean_squared_error: 47.1533 - val_loss: 15205.9307 - val_root_mean_squared_error: 123.3123 - lr: 3.0000e-06\n",
      "Epoch 47/1000\n",
      "9/9 [==============================] - 0s 12ms/step - loss: 2217.5186 - root_mean_squared_error: 47.0905 - val_loss: 15158.1484 - val_root_mean_squared_error: 123.1184 - lr: 3.0667e-06\n",
      "Epoch 48/1000\n",
      "9/9 [==============================] - 0s 13ms/step - loss: 2211.0386 - root_mean_squared_error: 47.0217 - val_loss: 15108.3027 - val_root_mean_squared_error: 122.9158 - lr: 3.1333e-06\n",
      "Epoch 49/1000\n",
      "9/9 [==============================] - 0s 12ms/step - loss: 2204.1094 - root_mean_squared_error: 46.9479 - val_loss: 15056.4395 - val_root_mean_squared_error: 122.7047 - lr: 3.2000e-06\n",
      "Epoch 50/1000\n",
      "9/9 [==============================] - 0s 12ms/step - loss: 2196.9834 - root_mean_squared_error: 46.8720 - val_loss: 15000.6543 - val_root_mean_squared_error: 122.4772 - lr: 3.2667e-06\n",
      "Epoch 51/1000\n",
      "9/9 [==============================] - 0s 13ms/step - loss: 2189.1155 - root_mean_squared_error: 46.7880 - val_loss: 14943.2168 - val_root_mean_squared_error: 122.2425 - lr: 3.3333e-06\n",
      "Epoch 52/1000\n",
      "9/9 [==============================] - 0s 13ms/step - loss: 2181.1013 - root_mean_squared_error: 46.7023 - val_loss: 14879.0547 - val_root_mean_squared_error: 121.9797 - lr: 3.4000e-06\n",
      "Epoch 53/1000\n",
      "9/9 [==============================] - 0s 12ms/step - loss: 2172.3120 - root_mean_squared_error: 46.6081 - val_loss: 14809.6689 - val_root_mean_squared_error: 121.6950 - lr: 3.4667e-06\n",
      "Epoch 54/1000\n",
      "9/9 [==============================] - 0s 13ms/step - loss: 2162.8892 - root_mean_squared_error: 46.5069 - val_loss: 14736.2930 - val_root_mean_squared_error: 121.3931 - lr: 3.5333e-06\n",
      "Epoch 55/1000\n",
      "9/9 [==============================] - 0s 13ms/step - loss: 2152.9136 - root_mean_squared_error: 46.3995 - val_loss: 14660.3730 - val_root_mean_squared_error: 121.0800 - lr: 3.6000e-06\n",
      "Epoch 56/1000\n",
      "9/9 [==============================] - 0s 14ms/step - loss: 2142.4839 - root_mean_squared_error: 46.2870 - val_loss: 14580.7471 - val_root_mean_squared_error: 120.7508 - lr: 3.6667e-06\n",
      "Epoch 57/1000\n",
      "9/9 [==============================] - 0s 16ms/step - loss: 2131.6008 - root_mean_squared_error: 46.1693 - val_loss: 14494.3154 - val_root_mean_squared_error: 120.3923 - lr: 3.7333e-06\n",
      "Epoch 58/1000\n",
      "9/9 [==============================] - 0s 14ms/step - loss: 2120.0283 - root_mean_squared_error: 46.0438 - val_loss: 14401.3682 - val_root_mean_squared_error: 120.0057 - lr: 3.8000e-06\n",
      "Epoch 59/1000\n",
      "9/9 [==============================] - 0s 13ms/step - loss: 2107.0127 - root_mean_squared_error: 45.9022 - val_loss: 14305.8467 - val_root_mean_squared_error: 119.6071 - lr: 3.8667e-06\n",
      "Epoch 60/1000\n",
      "9/9 [==============================] - 0s 13ms/step - loss: 2093.7634 - root_mean_squared_error: 45.7577 - val_loss: 14198.4590 - val_root_mean_squared_error: 119.1573 - lr: 3.9333e-06\n",
      "Epoch 61/1000\n",
      "9/9 [==============================] - 0s 13ms/step - loss: 2078.1990 - root_mean_squared_error: 45.5873 - val_loss: 14086.0596 - val_root_mean_squared_error: 118.6847 - lr: 4.0000e-06\n",
      "Epoch 62/1000\n",
      "9/9 [==============================] - 0s 13ms/step - loss: 2061.9912 - root_mean_squared_error: 45.4092 - val_loss: 13957.5264 - val_root_mean_squared_error: 118.1420 - lr: 4.0667e-06\n",
      "Epoch 63/1000\n",
      "9/9 [==============================] - 0s 13ms/step - loss: 2044.5072 - root_mean_squared_error: 45.2162 - val_loss: 13808.4141 - val_root_mean_squared_error: 117.5092 - lr: 4.1333e-06\n",
      "Epoch 64/1000\n",
      "9/9 [==============================] - 0s 13ms/step - loss: 2023.1304 - root_mean_squared_error: 44.9792 - val_loss: 13653.6533 - val_root_mean_squared_error: 116.8488 - lr: 4.2000e-06\n",
      "Epoch 65/1000\n",
      "9/9 [==============================] - 0s 13ms/step - loss: 2000.2542 - root_mean_squared_error: 44.7242 - val_loss: 13480.1377 - val_root_mean_squared_error: 116.1040 - lr: 4.2667e-06\n",
      "Epoch 66/1000\n",
      "9/9 [==============================] - 0s 13ms/step - loss: 1976.0612 - root_mean_squared_error: 44.4529 - val_loss: 13282.1943 - val_root_mean_squared_error: 115.2484 - lr: 4.3333e-06\n",
      "Epoch 67/1000\n",
      "9/9 [==============================] - 0s 17ms/step - loss: 1947.7502 - root_mean_squared_error: 44.1333 - val_loss: 13069.0078 - val_root_mean_squared_error: 114.3198 - lr: 4.4000e-06\n",
      "Epoch 68/1000\n",
      "9/9 [==============================] - 0s 15ms/step - loss: 1917.2798 - root_mean_squared_error: 43.7868 - val_loss: 12828.8779 - val_root_mean_squared_error: 113.2646 - lr: 4.4667e-06\n",
      "Epoch 69/1000\n",
      "9/9 [==============================] - 0s 15ms/step - loss: 1880.2615 - root_mean_squared_error: 43.3620 - val_loss: 12566.4580 - val_root_mean_squared_error: 112.1002 - lr: 4.5333e-06\n",
      "Epoch 70/1000\n",
      "9/9 [==============================] - 0s 13ms/step - loss: 1842.3689 - root_mean_squared_error: 42.9228 - val_loss: 12261.7734 - val_root_mean_squared_error: 110.7329 - lr: 4.6000e-06\n",
      "Epoch 71/1000\n",
      "9/9 [==============================] - 0s 13ms/step - loss: 1797.0293 - root_mean_squared_error: 42.3914 - val_loss: 11939.7266 - val_root_mean_squared_error: 109.2691 - lr: 4.6667e-06\n",
      "Epoch 72/1000\n",
      "9/9 [==============================] - 0s 12ms/step - loss: 1750.7041 - root_mean_squared_error: 41.8414 - val_loss: 11565.3408 - val_root_mean_squared_error: 107.5423 - lr: 4.7333e-06\n",
      "Epoch 73/1000\n",
      "9/9 [==============================] - 0s 12ms/step - loss: 1699.4266 - root_mean_squared_error: 41.2241 - val_loss: 11151.7393 - val_root_mean_squared_error: 105.6018 - lr: 4.8000e-06\n",
      "Epoch 74/1000\n",
      "9/9 [==============================] - 0s 13ms/step - loss: 1639.9849 - root_mean_squared_error: 40.4967 - val_loss: 10709.7998 - val_root_mean_squared_error: 103.4882 - lr: 4.8667e-06\n",
      "Epoch 75/1000\n",
      "9/9 [==============================] - 0s 12ms/step - loss: 1577.1732 - root_mean_squared_error: 39.7136 - val_loss: 10208.9902 - val_root_mean_squared_error: 101.0396 - lr: 4.9333e-06\n",
      "Epoch 76/1000\n",
      "9/9 [==============================] - 0s 13ms/step - loss: 1506.8652 - root_mean_squared_error: 38.8184 - val_loss: 9666.2227 - val_root_mean_squared_error: 98.3170 - lr: 5.0000e-06\n",
      "Epoch 77/1000\n",
      "9/9 [==============================] - 0s 12ms/step - loss: 1433.4934 - root_mean_squared_error: 37.8615 - val_loss: 9077.2725 - val_root_mean_squared_error: 95.2747 - lr: 5.0667e-06\n",
      "Epoch 78/1000\n",
      "9/9 [==============================] - 0s 13ms/step - loss: 1352.0830 - root_mean_squared_error: 36.7707 - val_loss: 8470.7578 - val_root_mean_squared_error: 92.0367 - lr: 5.1333e-06\n",
      "Epoch 79/1000\n",
      "9/9 [==============================] - 0s 13ms/step - loss: 1265.4387 - root_mean_squared_error: 35.5730 - val_loss: 7864.3535 - val_root_mean_squared_error: 88.6812 - lr: 5.2000e-06\n",
      "Epoch 80/1000\n",
      "9/9 [==============================] - 0s 12ms/step - loss: 1177.1978 - root_mean_squared_error: 34.3103 - val_loss: 7240.4023 - val_root_mean_squared_error: 85.0906 - lr: 5.2667e-06\n",
      "Epoch 81/1000\n",
      "9/9 [==============================] - 0s 13ms/step - loss: 1082.4326 - root_mean_squared_error: 32.9003 - val_loss: 6622.4097 - val_root_mean_squared_error: 81.3782 - lr: 5.3333e-06\n",
      "Epoch 82/1000\n"
     ]
    },
    {
     "name": "stdout",
     "output_type": "stream",
     "text": [
      "9/9 [==============================] - 0s 13ms/step - loss: 985.2040 - root_mean_squared_error: 31.3880 - val_loss: 6008.9917 - val_root_mean_squared_error: 77.5177 - lr: 5.4000e-06\n",
      "Epoch 83/1000\n",
      "9/9 [==============================] - 0s 13ms/step - loss: 886.0867 - root_mean_squared_error: 29.7672 - val_loss: 5409.2578 - val_root_mean_squared_error: 73.5477 - lr: 5.4667e-06\n",
      "Epoch 84/1000\n",
      "9/9 [==============================] - 0s 13ms/step - loss: 791.1031 - root_mean_squared_error: 28.1266 - val_loss: 4804.0654 - val_root_mean_squared_error: 69.3114 - lr: 5.5333e-06\n",
      "Epoch 85/1000\n",
      "9/9 [==============================] - 0s 12ms/step - loss: 699.0955 - root_mean_squared_error: 26.4404 - val_loss: 4221.4854 - val_root_mean_squared_error: 64.9730 - lr: 5.6000e-06\n",
      "Epoch 86/1000\n",
      "9/9 [==============================] - 0s 13ms/step - loss: 612.7884 - root_mean_squared_error: 24.7546 - val_loss: 3702.1892 - val_root_mean_squared_error: 60.8456 - lr: 5.6667e-06\n",
      "Epoch 87/1000\n",
      "9/9 [==============================] - 0s 13ms/step - loss: 537.1399 - root_mean_squared_error: 23.1763 - val_loss: 3267.1492 - val_root_mean_squared_error: 57.1590 - lr: 5.7333e-06\n",
      "Epoch 88/1000\n",
      "9/9 [==============================] - 0s 12ms/step - loss: 476.2899 - root_mean_squared_error: 21.8241 - val_loss: 2892.5803 - val_root_mean_squared_error: 53.7827 - lr: 5.8000e-06\n",
      "Epoch 89/1000\n",
      "9/9 [==============================] - 0s 13ms/step - loss: 421.5609 - root_mean_squared_error: 20.5319 - val_loss: 2597.1348 - val_root_mean_squared_error: 50.9621 - lr: 5.8667e-06\n",
      "Epoch 90/1000\n",
      "9/9 [==============================] - 0s 12ms/step - loss: 379.4564 - root_mean_squared_error: 19.4796 - val_loss: 2347.3167 - val_root_mean_squared_error: 48.4491 - lr: 5.9333e-06\n",
      "Epoch 91/1000\n",
      "9/9 [==============================] - 0s 12ms/step - loss: 343.5114 - root_mean_squared_error: 18.5341 - val_loss: 2138.7026 - val_root_mean_squared_error: 46.2461 - lr: 6.0000e-06\n",
      "Epoch 92/1000\n",
      "9/9 [==============================] - 0s 12ms/step - loss: 313.7704 - root_mean_squared_error: 17.7136 - val_loss: 1953.4901 - val_root_mean_squared_error: 44.1983 - lr: 6.0667e-06\n",
      "Epoch 93/1000\n",
      "9/9 [==============================] - 0s 13ms/step - loss: 286.9818 - root_mean_squared_error: 16.9405 - val_loss: 1783.3293 - val_root_mean_squared_error: 42.2295 - lr: 6.1333e-06\n",
      "Epoch 94/1000\n",
      "9/9 [==============================] - 0s 13ms/step - loss: 262.2238 - root_mean_squared_error: 16.1933 - val_loss: 1629.7054 - val_root_mean_squared_error: 40.3696 - lr: 6.2000e-06\n",
      "Epoch 95/1000\n",
      "9/9 [==============================] - 0s 13ms/step - loss: 239.9475 - root_mean_squared_error: 15.4902 - val_loss: 1491.6833 - val_root_mean_squared_error: 38.6223 - lr: 6.2667e-06\n",
      "Epoch 96/1000\n",
      "9/9 [==============================] - 0s 14ms/step - loss: 220.9396 - root_mean_squared_error: 14.8640 - val_loss: 1361.4871 - val_root_mean_squared_error: 36.8983 - lr: 6.3333e-06\n",
      "Epoch 97/1000\n",
      "9/9 [==============================] - 0s 14ms/step - loss: 203.1372 - root_mean_squared_error: 14.2526 - val_loss: 1236.7703 - val_root_mean_squared_error: 35.1677 - lr: 6.4000e-06\n",
      "Epoch 98/1000\n",
      "9/9 [==============================] - 0s 13ms/step - loss: 185.2718 - root_mean_squared_error: 13.6115 - val_loss: 1122.3322 - val_root_mean_squared_error: 33.5012 - lr: 6.4667e-06\n",
      "Epoch 99/1000\n",
      "9/9 [==============================] - 0s 13ms/step - loss: 168.5395 - root_mean_squared_error: 12.9823 - val_loss: 1008.3782 - val_root_mean_squared_error: 31.7550 - lr: 6.5333e-06\n",
      "Epoch 100/1000\n",
      "9/9 [==============================] - 0s 13ms/step - loss: 152.0325 - root_mean_squared_error: 12.3301 - val_loss: 900.2505 - val_root_mean_squared_error: 30.0042 - lr: 6.6000e-06\n",
      "Epoch 101/1000\n",
      "9/9 [==============================] - 0s 13ms/step - loss: 137.0438 - root_mean_squared_error: 11.7066 - val_loss: 798.4791 - val_root_mean_squared_error: 28.2574 - lr: 6.6667e-06\n",
      "Epoch 102/1000\n",
      "9/9 [==============================] - 0s 13ms/step - loss: 122.3611 - root_mean_squared_error: 11.0617 - val_loss: 704.9623 - val_root_mean_squared_error: 26.5511 - lr: 6.7333e-06\n",
      "Epoch 103/1000\n",
      "9/9 [==============================] - 0s 12ms/step - loss: 108.4552 - root_mean_squared_error: 10.4142 - val_loss: 622.4467 - val_root_mean_squared_error: 24.9489 - lr: 6.8000e-06\n",
      "Epoch 104/1000\n",
      "9/9 [==============================] - 0s 13ms/step - loss: 96.4024 - root_mean_squared_error: 9.8185 - val_loss: 543.0430 - val_root_mean_squared_error: 23.3033 - lr: 6.8667e-06\n",
      "Epoch 105/1000\n",
      "9/9 [==============================] - 0s 13ms/step - loss: 84.8621 - root_mean_squared_error: 9.2121 - val_loss: 473.1944 - val_root_mean_squared_error: 21.7530 - lr: 6.9333e-06\n",
      "Epoch 106/1000\n",
      "9/9 [==============================] - 0s 12ms/step - loss: 74.7900 - root_mean_squared_error: 8.6481 - val_loss: 406.9153 - val_root_mean_squared_error: 20.1721 - lr: 7.0000e-06\n",
      "Epoch 107/1000\n",
      "9/9 [==============================] - 0s 12ms/step - loss: 64.7304 - root_mean_squared_error: 8.0455 - val_loss: 350.7599 - val_root_mean_squared_error: 18.7286 - lr: 7.0667e-06\n",
      "Epoch 108/1000\n",
      "9/9 [==============================] - 0s 13ms/step - loss: 55.9136 - root_mean_squared_error: 7.4775 - val_loss: 303.7527 - val_root_mean_squared_error: 17.4285 - lr: 7.1333e-06\n",
      "Epoch 109/1000\n",
      "9/9 [==============================] - 0s 12ms/step - loss: 48.9385 - root_mean_squared_error: 6.9956 - val_loss: 264.5261 - val_root_mean_squared_error: 16.2643 - lr: 7.2000e-06\n",
      "Epoch 110/1000\n",
      "9/9 [==============================] - 0s 13ms/step - loss: 43.0958 - root_mean_squared_error: 6.5647 - val_loss: 226.4491 - val_root_mean_squared_error: 15.0482 - lr: 7.2667e-06\n",
      "Epoch 111/1000\n",
      "9/9 [==============================] - 0s 13ms/step - loss: 37.9494 - root_mean_squared_error: 6.1603 - val_loss: 199.1012 - val_root_mean_squared_error: 14.1103 - lr: 7.3333e-06\n",
      "Epoch 112/1000\n",
      "9/9 [==============================] - 0s 13ms/step - loss: 33.4457 - root_mean_squared_error: 5.7832 - val_loss: 175.8849 - val_root_mean_squared_error: 13.2622 - lr: 7.4000e-06\n",
      "Epoch 113/1000\n",
      "9/9 [==============================] - 0s 12ms/step - loss: 29.6549 - root_mean_squared_error: 5.4456 - val_loss: 157.4310 - val_root_mean_squared_error: 12.5471 - lr: 7.4667e-06\n",
      "Epoch 114/1000\n",
      "9/9 [==============================] - 0s 13ms/step - loss: 26.4221 - root_mean_squared_error: 5.1402 - val_loss: 144.1313 - val_root_mean_squared_error: 12.0055 - lr: 7.5333e-06\n",
      "Epoch 115/1000\n",
      "9/9 [==============================] - 0s 13ms/step - loss: 23.7101 - root_mean_squared_error: 4.8693 - val_loss: 125.6905 - val_root_mean_squared_error: 11.2112 - lr: 7.6000e-06\n",
      "Epoch 116/1000\n",
      "9/9 [==============================] - 0s 13ms/step - loss: 21.4896 - root_mean_squared_error: 4.6357 - val_loss: 113.0585 - val_root_mean_squared_error: 10.6329 - lr: 7.6667e-06\n",
      "Epoch 117/1000\n",
      "9/9 [==============================] - 0s 12ms/step - loss: 19.7694 - root_mean_squared_error: 4.4463 - val_loss: 107.4603 - val_root_mean_squared_error: 10.3663 - lr: 7.7333e-06\n",
      "Epoch 118/1000\n",
      "9/9 [==============================] - 0s 13ms/step - loss: 18.3042 - root_mean_squared_error: 4.2783 - val_loss: 99.4706 - val_root_mean_squared_error: 9.9735 - lr: 7.8000e-06\n",
      "Epoch 119/1000\n",
      "9/9 [==============================] - 0s 13ms/step - loss: 17.1767 - root_mean_squared_error: 4.1445 - val_loss: 90.7031 - val_root_mean_squared_error: 9.5238 - lr: 7.8667e-06\n",
      "Epoch 120/1000\n",
      "9/9 [==============================] - 0s 14ms/step - loss: 16.2390 - root_mean_squared_error: 4.0298 - val_loss: 88.9581 - val_root_mean_squared_error: 9.4318 - lr: 7.9333e-06\n",
      "Epoch 121/1000\n",
      "9/9 [==============================] - 0s 13ms/step - loss: 15.4262 - root_mean_squared_error: 3.9276 - val_loss: 83.8433 - val_root_mean_squared_error: 9.1566 - lr: 8.0000e-06\n",
      "Epoch 122/1000\n",
      "9/9 [==============================] - 0s 14ms/step - loss: 14.7786 - root_mean_squared_error: 3.8443 - val_loss: 80.6986 - val_root_mean_squared_error: 8.9832 - lr: 8.0667e-06\n",
      "Epoch 123/1000\n",
      "9/9 [==============================] - 0s 14ms/step - loss: 14.2428 - root_mean_squared_error: 3.7740 - val_loss: 82.8699 - val_root_mean_squared_error: 9.1033 - lr: 8.1333e-06\n",
      "Epoch 124/1000\n",
      "9/9 [==============================] - 0s 13ms/step - loss: 13.7535 - root_mean_squared_error: 3.7086 - val_loss: 77.3375 - val_root_mean_squared_error: 8.7942 - lr: 8.2000e-06\n",
      "Epoch 125/1000\n",
      "9/9 [==============================] - 0s 12ms/step - loss: 13.3345 - root_mean_squared_error: 3.6516 - val_loss: 73.8057 - val_root_mean_squared_error: 8.5910 - lr: 8.2667e-06\n",
      "Epoch 126/1000\n",
      "9/9 [==============================] - 0s 12ms/step - loss: 12.9617 - root_mean_squared_error: 3.6002 - val_loss: 75.2543 - val_root_mean_squared_error: 8.6749 - lr: 8.3333e-06\n",
      "Epoch 127/1000\n",
      "9/9 [==============================] - 0s 12ms/step - loss: 12.6451 - root_mean_squared_error: 3.5560 - val_loss: 75.8654 - val_root_mean_squared_error: 8.7101 - lr: 8.4000e-06\n",
      "Epoch 128/1000\n",
      "9/9 [==============================] - 0s 13ms/step - loss: 12.3430 - root_mean_squared_error: 3.5133 - val_loss: 71.2514 - val_root_mean_squared_error: 8.4411 - lr: 8.4667e-06\n",
      "Epoch 129/1000\n",
      "9/9 [==============================] - 0s 13ms/step - loss: 12.1042 - root_mean_squared_error: 3.4791 - val_loss: 70.0292 - val_root_mean_squared_error: 8.3683 - lr: 8.5333e-06\n",
      "Epoch 130/1000\n",
      "9/9 [==============================] - 0s 14ms/step - loss: 11.8371 - root_mean_squared_error: 3.4405 - val_loss: 69.2818 - val_root_mean_squared_error: 8.3236 - lr: 8.6000e-06\n",
      "Epoch 131/1000\n",
      "9/9 [==============================] - 0s 13ms/step - loss: 11.6333 - root_mean_squared_error: 3.4108 - val_loss: 69.2377 - val_root_mean_squared_error: 8.3209 - lr: 8.6667e-06\n",
      "Epoch 132/1000\n",
      "9/9 [==============================] - 0s 13ms/step - loss: 11.4187 - root_mean_squared_error: 3.3792 - val_loss: 68.9444 - val_root_mean_squared_error: 8.3033 - lr: 8.7333e-06\n",
      "Epoch 133/1000\n",
      "9/9 [==============================] - 0s 13ms/step - loss: 11.2273 - root_mean_squared_error: 3.3507 - val_loss: 68.2737 - val_root_mean_squared_error: 8.2628 - lr: 8.8000e-06\n",
      "Epoch 134/1000\n",
      "9/9 [==============================] - 0s 13ms/step - loss: 11.0258 - root_mean_squared_error: 3.3205 - val_loss: 63.2756 - val_root_mean_squared_error: 7.9546 - lr: 8.8667e-06\n",
      "Epoch 135/1000\n",
      "9/9 [==============================] - 0s 13ms/step - loss: 10.8257 - root_mean_squared_error: 3.2903 - val_loss: 64.0200 - val_root_mean_squared_error: 8.0012 - lr: 8.9333e-06\n",
      "Epoch 136/1000\n",
      "9/9 [==============================] - 0s 12ms/step - loss: 10.6648 - root_mean_squared_error: 3.2657 - val_loss: 61.7074 - val_root_mean_squared_error: 7.8554 - lr: 9.0000e-06\n",
      "Epoch 137/1000\n",
      "9/9 [==============================] - 0s 13ms/step - loss: 10.4868 - root_mean_squared_error: 3.2383 - val_loss: 63.2392 - val_root_mean_squared_error: 7.9523 - lr: 9.0667e-06\n",
      "Epoch 138/1000\n",
      "9/9 [==============================] - 0s 13ms/step - loss: 10.3336 - root_mean_squared_error: 3.2146 - val_loss: 61.4979 - val_root_mean_squared_error: 7.8421 - lr: 9.1333e-06\n",
      "Epoch 139/1000\n",
      "9/9 [==============================] - 0s 13ms/step - loss: 10.1702 - root_mean_squared_error: 3.1891 - val_loss: 61.2912 - val_root_mean_squared_error: 7.8289 - lr: 9.2000e-06\n",
      "Epoch 140/1000\n",
      "9/9 [==============================] - 0s 12ms/step - loss: 10.0384 - root_mean_squared_error: 3.1683 - val_loss: 58.1472 - val_root_mean_squared_error: 7.6254 - lr: 9.2667e-06\n",
      "Epoch 141/1000\n",
      "9/9 [==============================] - 0s 13ms/step - loss: 9.8573 - root_mean_squared_error: 3.1396 - val_loss: 57.7875 - val_root_mean_squared_error: 7.6018 - lr: 9.3333e-06\n",
      "Epoch 142/1000\n",
      "9/9 [==============================] - 0s 13ms/step - loss: 9.7312 - root_mean_squared_error: 3.1195 - val_loss: 57.1092 - val_root_mean_squared_error: 7.5571 - lr: 9.4000e-06\n",
      "Epoch 143/1000\n",
      "9/9 [==============================] - 0s 12ms/step - loss: 9.6443 - root_mean_squared_error: 3.1055 - val_loss: 53.2006 - val_root_mean_squared_error: 7.2939 - lr: 9.4667e-06\n",
      "Epoch 144/1000\n",
      "9/9 [==============================] - 0s 12ms/step - loss: 9.4418 - root_mean_squared_error: 3.0728 - val_loss: 54.0686 - val_root_mean_squared_error: 7.3531 - lr: 9.5333e-06\n",
      "Epoch 145/1000\n",
      "9/9 [==============================] - 0s 12ms/step - loss: 9.3729 - root_mean_squared_error: 3.0615 - val_loss: 56.7219 - val_root_mean_squared_error: 7.5314 - lr: 9.6000e-06\n",
      "Epoch 146/1000\n",
      "9/9 [==============================] - 0s 13ms/step - loss: 9.2525 - root_mean_squared_error: 3.0418 - val_loss: 53.7439 - val_root_mean_squared_error: 7.3310 - lr: 9.6667e-06\n",
      "Epoch 147/1000\n",
      "9/9 [==============================] - 0s 12ms/step - loss: 9.0892 - root_mean_squared_error: 3.0148 - val_loss: 51.1142 - val_root_mean_squared_error: 7.1494 - lr: 9.7333e-06\n",
      "Epoch 148/1000\n",
      "9/9 [==============================] - 0s 13ms/step - loss: 8.9797 - root_mean_squared_error: 2.9966 - val_loss: 51.9778 - val_root_mean_squared_error: 7.2096 - lr: 9.8000e-06\n",
      "Epoch 149/1000\n",
      "9/9 [==============================] - 0s 13ms/step - loss: 8.8756 - root_mean_squared_error: 2.9792 - val_loss: 49.0251 - val_root_mean_squared_error: 7.0018 - lr: 9.8667e-06\n",
      "Epoch 150/1000\n",
      "9/9 [==============================] - 0s 13ms/step - loss: 8.7477 - root_mean_squared_error: 2.9576 - val_loss: 48.4737 - val_root_mean_squared_error: 6.9623 - lr: 9.9333e-06\n",
      "Epoch 151/1000\n",
      "9/9 [==============================] - 0s 13ms/step - loss: 8.6409 - root_mean_squared_error: 2.9395 - val_loss: 47.8992 - val_root_mean_squared_error: 6.9209 - lr: 1.0000e-05\n",
      "Epoch 152/1000\n",
      "9/9 [==============================] - 0s 13ms/step - loss: 8.5698 - root_mean_squared_error: 2.9274 - val_loss: 49.0875 - val_root_mean_squared_error: 7.0062 - lr: 9.9005e-06\n",
      "Epoch 153/1000\n",
      "9/9 [==============================] - 0s 13ms/step - loss: 8.4573 - root_mean_squared_error: 2.9081 - val_loss: 45.8477 - val_root_mean_squared_error: 6.7711 - lr: 9.8020e-06\n",
      "Epoch 154/1000\n",
      "9/9 [==============================] - 0s 13ms/step - loss: 8.4103 - root_mean_squared_error: 2.9001 - val_loss: 44.5799 - val_root_mean_squared_error: 6.6768 - lr: 9.7045e-06\n",
      "Epoch 155/1000\n",
      "9/9 [==============================] - 0s 12ms/step - loss: 8.2534 - root_mean_squared_error: 2.8729 - val_loss: 45.2493 - val_root_mean_squared_error: 6.7268 - lr: 9.6079e-06\n",
      "Epoch 156/1000\n",
      "9/9 [==============================] - 0s 13ms/step - loss: 8.1875 - root_mean_squared_error: 2.8614 - val_loss: 45.3138 - val_root_mean_squared_error: 6.7316 - lr: 9.5123e-06\n",
      "Epoch 157/1000\n",
      "9/9 [==============================] - 0s 13ms/step - loss: 8.0990 - root_mean_squared_error: 2.8459 - val_loss: 44.1066 - val_root_mean_squared_error: 6.6413 - lr: 9.4176e-06\n",
      "Epoch 158/1000\n",
      "9/9 [==============================] - 0s 13ms/step - loss: 8.0776 - root_mean_squared_error: 2.8421 - val_loss: 42.0706 - val_root_mean_squared_error: 6.4862 - lr: 9.3239e-06\n",
      "Epoch 159/1000\n",
      "9/9 [==============================] - 0s 13ms/step - loss: 7.9504 - root_mean_squared_error: 2.8197 - val_loss: 42.9120 - val_root_mean_squared_error: 6.5507 - lr: 9.2312e-06\n",
      "Epoch 160/1000\n",
      "9/9 [==============================] - 0s 12ms/step - loss: 7.8831 - root_mean_squared_error: 2.8077 - val_loss: 42.2218 - val_root_mean_squared_error: 6.4978 - lr: 9.1393e-06\n",
      "Epoch 161/1000\n",
      "9/9 [==============================] - 0s 13ms/step - loss: 7.8168 - root_mean_squared_error: 2.7958 - val_loss: 41.6785 - val_root_mean_squared_error: 6.4559 - lr: 9.0484e-06\n",
      "Epoch 162/1000\n",
      "9/9 [==============================] - 0s 12ms/step - loss: 7.7391 - root_mean_squared_error: 2.7819 - val_loss: 40.8084 - val_root_mean_squared_error: 6.3881 - lr: 8.9583e-06\n",
      "Epoch 163/1000\n",
      "9/9 [==============================] - 0s 13ms/step - loss: 7.6981 - root_mean_squared_error: 2.7745 - val_loss: 40.1741 - val_root_mean_squared_error: 6.3383 - lr: 8.8692e-06\n",
      "Epoch 164/1000\n",
      "9/9 [==============================] - 0s 13ms/step - loss: 7.6283 - root_mean_squared_error: 2.7619 - val_loss: 39.1215 - val_root_mean_squared_error: 6.2547 - lr: 8.7810e-06\n",
      "Epoch 165/1000\n",
      "9/9 [==============================] - 0s 13ms/step - loss: 7.5490 - root_mean_squared_error: 2.7475 - val_loss: 38.9044 - val_root_mean_squared_error: 6.2373 - lr: 8.6936e-06\n",
      "Epoch 166/1000\n",
      "9/9 [==============================] - 0s 12ms/step - loss: 7.5168 - root_mean_squared_error: 2.7417 - val_loss: 39.4352 - val_root_mean_squared_error: 6.2797 - lr: 8.6071e-06\n"
     ]
    },
    {
     "name": "stdout",
     "output_type": "stream",
     "text": [
      "Epoch 167/1000\n",
      "9/9 [==============================] - 0s 13ms/step - loss: 7.4474 - root_mean_squared_error: 2.7290 - val_loss: 38.4743 - val_root_mean_squared_error: 6.2028 - lr: 8.5214e-06\n",
      "Epoch 168/1000\n",
      "9/9 [==============================] - 0s 12ms/step - loss: 7.3950 - root_mean_squared_error: 2.7194 - val_loss: 38.2858 - val_root_mean_squared_error: 6.1876 - lr: 8.4366e-06\n",
      "Epoch 169/1000\n",
      "9/9 [==============================] - 0s 13ms/step - loss: 7.3285 - root_mean_squared_error: 2.7071 - val_loss: 37.5692 - val_root_mean_squared_error: 6.1294 - lr: 8.3527e-06\n",
      "Epoch 170/1000\n",
      "9/9 [==============================] - 0s 13ms/step - loss: 7.2847 - root_mean_squared_error: 2.6990 - val_loss: 37.4583 - val_root_mean_squared_error: 6.1203 - lr: 8.2696e-06\n",
      "Epoch 171/1000\n",
      "9/9 [==============================] - 0s 13ms/step - loss: 7.2207 - root_mean_squared_error: 2.6871 - val_loss: 37.6593 - val_root_mean_squared_error: 6.1367 - lr: 8.1873e-06\n",
      "Epoch 172/1000\n",
      "9/9 [==============================] - 0s 13ms/step - loss: 7.1754 - root_mean_squared_error: 2.6787 - val_loss: 36.4743 - val_root_mean_squared_error: 6.0394 - lr: 8.1058e-06\n",
      "Epoch 173/1000\n",
      "9/9 [==============================] - 0s 13ms/step - loss: 7.1341 - root_mean_squared_error: 2.6710 - val_loss: 35.8101 - val_root_mean_squared_error: 5.9842 - lr: 8.0252e-06\n",
      "Epoch 174/1000\n",
      "9/9 [==============================] - 0s 12ms/step - loss: 7.1133 - root_mean_squared_error: 2.6671 - val_loss: 36.0839 - val_root_mean_squared_error: 6.0070 - lr: 7.9453e-06\n",
      "Epoch 175/1000\n",
      "9/9 [==============================] - 0s 12ms/step - loss: 7.0369 - root_mean_squared_error: 2.6527 - val_loss: 35.5628 - val_root_mean_squared_error: 5.9635 - lr: 7.8663e-06\n",
      "Epoch 176/1000\n",
      "9/9 [==============================] - 0s 12ms/step - loss: 6.9788 - root_mean_squared_error: 2.6417 - val_loss: 36.0489 - val_root_mean_squared_error: 6.0041 - lr: 7.7880e-06\n",
      "Epoch 177/1000\n",
      "9/9 [==============================] - 0s 12ms/step - loss: 6.9357 - root_mean_squared_error: 2.6336 - val_loss: 35.6633 - val_root_mean_squared_error: 5.9719 - lr: 7.7105e-06\n",
      "Epoch 178/1000\n",
      "9/9 [==============================] - 0s 13ms/step - loss: 6.9531 - root_mean_squared_error: 2.6369 - val_loss: 34.9734 - val_root_mean_squared_error: 5.9138 - lr: 7.6338e-06\n",
      "Epoch 179/1000\n",
      "9/9 [==============================] - 0s 13ms/step - loss: 6.8595 - root_mean_squared_error: 2.6191 - val_loss: 34.9652 - val_root_mean_squared_error: 5.9131 - lr: 7.5578e-06\n",
      "Epoch 180/1000\n",
      "9/9 [==============================] - 0s 12ms/step - loss: 6.8240 - root_mean_squared_error: 2.6123 - val_loss: 35.0393 - val_root_mean_squared_error: 5.9194 - lr: 7.4826e-06\n",
      "Epoch 181/1000\n",
      "9/9 [==============================] - 0s 13ms/step - loss: 6.7961 - root_mean_squared_error: 2.6069 - val_loss: 34.6570 - val_root_mean_squared_error: 5.8870 - lr: 7.4082e-06\n",
      "Epoch 182/1000\n",
      "9/9 [==============================] - 0s 12ms/step - loss: 6.8345 - root_mean_squared_error: 2.6143 - val_loss: 35.0496 - val_root_mean_squared_error: 5.9203 - lr: 7.3345e-06\n",
      "Epoch 183/1000\n",
      "9/9 [==============================] - 0s 13ms/step - loss: 6.7554 - root_mean_squared_error: 2.5991 - val_loss: 34.2859 - val_root_mean_squared_error: 5.8554 - lr: 7.2615e-06\n",
      "Epoch 184/1000\n",
      "9/9 [==============================] - 0s 13ms/step - loss: 6.7240 - root_mean_squared_error: 2.5931 - val_loss: 34.0925 - val_root_mean_squared_error: 5.8389 - lr: 7.1892e-06\n",
      "Epoch 185/1000\n",
      "9/9 [==============================] - 0s 13ms/step - loss: 6.6799 - root_mean_squared_error: 2.5846 - val_loss: 33.9778 - val_root_mean_squared_error: 5.8290 - lr: 7.1177e-06\n",
      "Epoch 186/1000\n",
      "9/9 [==============================] - 0s 13ms/step - loss: 6.6591 - root_mean_squared_error: 2.5805 - val_loss: 33.7451 - val_root_mean_squared_error: 5.8091 - lr: 7.0469e-06\n",
      "Epoch 187/1000\n",
      "9/9 [==============================] - 0s 13ms/step - loss: 6.6281 - root_mean_squared_error: 2.5745 - val_loss: 33.6643 - val_root_mean_squared_error: 5.8021 - lr: 6.9768e-06\n",
      "Epoch 188/1000\n",
      "9/9 [==============================] - 0s 13ms/step - loss: 6.6473 - root_mean_squared_error: 2.5782 - val_loss: 33.6879 - val_root_mean_squared_error: 5.8041 - lr: 6.9073e-06\n",
      "Epoch 189/1000\n",
      "9/9 [==============================] - 0s 13ms/step - loss: 6.5781 - root_mean_squared_error: 2.5648 - val_loss: 33.0689 - val_root_mean_squared_error: 5.7506 - lr: 6.8386e-06\n",
      "Epoch 190/1000\n",
      "9/9 [==============================] - 0s 12ms/step - loss: 6.6011 - root_mean_squared_error: 2.5693 - val_loss: 32.9071 - val_root_mean_squared_error: 5.7365 - lr: 6.7706e-06\n",
      "Epoch 191/1000\n",
      "9/9 [==============================] - 0s 12ms/step - loss: 6.6366 - root_mean_squared_error: 2.5762 - val_loss: 33.4369 - val_root_mean_squared_error: 5.7825 - lr: 6.7032e-06\n",
      "Epoch 192/1000\n",
      "9/9 [==============================] - 0s 13ms/step - loss: 6.5625 - root_mean_squared_error: 2.5617 - val_loss: 32.6762 - val_root_mean_squared_error: 5.7163 - lr: 6.6365e-06\n",
      "Epoch 193/1000\n",
      "9/9 [==============================] - 0s 13ms/step - loss: 6.4916 - root_mean_squared_error: 2.5479 - val_loss: 32.7631 - val_root_mean_squared_error: 5.7239 - lr: 6.5705e-06\n",
      "Epoch 194/1000\n",
      "9/9 [==============================] - 0s 13ms/step - loss: 6.4666 - root_mean_squared_error: 2.5430 - val_loss: 32.3860 - val_root_mean_squared_error: 5.6909 - lr: 6.5051e-06\n",
      "Epoch 195/1000\n",
      "9/9 [==============================] - 0s 13ms/step - loss: 6.4778 - root_mean_squared_error: 2.5451 - val_loss: 32.1774 - val_root_mean_squared_error: 5.6725 - lr: 6.4404e-06\n",
      "Epoch 196/1000\n",
      "9/9 [==============================] - 0s 12ms/step - loss: 6.4435 - root_mean_squared_error: 2.5384 - val_loss: 32.4889 - val_root_mean_squared_error: 5.6999 - lr: 6.3763e-06\n",
      "Epoch 197/1000\n",
      "9/9 [==============================] - 0s 13ms/step - loss: 6.4544 - root_mean_squared_error: 2.5406 - val_loss: 31.9394 - val_root_mean_squared_error: 5.6515 - lr: 6.3128e-06\n",
      "Epoch 198/1000\n",
      "9/9 [==============================] - 0s 13ms/step - loss: 6.3938 - root_mean_squared_error: 2.5286 - val_loss: 32.1461 - val_root_mean_squared_error: 5.6698 - lr: 6.2500e-06\n",
      "Epoch 199/1000\n",
      "9/9 [==============================] - 0s 12ms/step - loss: 6.3999 - root_mean_squared_error: 2.5298 - val_loss: 32.4411 - val_root_mean_squared_error: 5.6957 - lr: 6.1878e-06\n",
      "Epoch 200/1000\n",
      "9/9 [==============================] - 0s 12ms/step - loss: 6.3576 - root_mean_squared_error: 2.5214 - val_loss: 32.0033 - val_root_mean_squared_error: 5.6571 - lr: 6.1263e-06\n",
      "Epoch 201/1000\n",
      "9/9 [==============================] - 0s 13ms/step - loss: 6.3301 - root_mean_squared_error: 2.5160 - val_loss: 31.7853 - val_root_mean_squared_error: 5.6378 - lr: 6.0653e-06\n",
      "Epoch 202/1000\n",
      "9/9 [==============================] - 0s 13ms/step - loss: 6.3688 - root_mean_squared_error: 2.5236 - val_loss: 31.3067 - val_root_mean_squared_error: 5.5952 - lr: 6.0050e-06\n",
      "Epoch 203/1000\n",
      "9/9 [==============================] - 0s 12ms/step - loss: 6.3024 - root_mean_squared_error: 2.5105 - val_loss: 31.3770 - val_root_mean_squared_error: 5.6015 - lr: 5.9452e-06\n",
      "Epoch 204/1000\n",
      "9/9 [==============================] - 0s 13ms/step - loss: 6.2810 - root_mean_squared_error: 2.5062 - val_loss: 31.3577 - val_root_mean_squared_error: 5.5998 - lr: 5.8860e-06\n",
      "Epoch 205/1000\n",
      "9/9 [==============================] - 0s 13ms/step - loss: 6.2789 - root_mean_squared_error: 2.5058 - val_loss: 31.0584 - val_root_mean_squared_error: 5.5730 - lr: 5.8275e-06\n",
      "Epoch 206/1000\n",
      "9/9 [==============================] - 0s 13ms/step - loss: 6.2514 - root_mean_squared_error: 2.5003 - val_loss: 31.0837 - val_root_mean_squared_error: 5.5753 - lr: 5.7695e-06\n",
      "Epoch 207/1000\n",
      "9/9 [==============================] - 0s 12ms/step - loss: 6.2454 - root_mean_squared_error: 2.4991 - val_loss: 31.0296 - val_root_mean_squared_error: 5.5704 - lr: 5.7121e-06\n",
      "Epoch 208/1000\n",
      "9/9 [==============================] - 0s 13ms/step - loss: 6.2443 - root_mean_squared_error: 2.4989 - val_loss: 30.9116 - val_root_mean_squared_error: 5.5598 - lr: 5.6553e-06\n",
      "Epoch 209/1000\n",
      "9/9 [==============================] - 0s 13ms/step - loss: 6.2197 - root_mean_squared_error: 2.4939 - val_loss: 30.9192 - val_root_mean_squared_error: 5.5605 - lr: 5.5990e-06\n"
     ]
    },
    {
     "name": "stdout",
     "output_type": "stream",
     "text": [
      "Epoch 210/1000\n",
      "9/9 [==============================] - 0s 12ms/step - loss: 6.2204 - root_mean_squared_error: 2.4941 - val_loss: 30.9434 - val_root_mean_squared_error: 5.5627 - lr: 5.5433e-06\n",
      "Epoch 211/1000\n",
      "9/9 [==============================] - 0s 12ms/step - loss: 6.1939 - root_mean_squared_error: 2.4887 - val_loss: 30.7757 - val_root_mean_squared_error: 5.5476 - lr: 5.4881e-06\n",
      "Epoch 212/1000\n",
      "9/9 [==============================] - 0s 12ms/step - loss: 6.1785 - root_mean_squared_error: 2.4857 - val_loss: 30.4741 - val_root_mean_squared_error: 5.5203 - lr: 5.4335e-06\n",
      "Epoch 213/1000\n",
      "9/9 [==============================] - 0s 12ms/step - loss: 6.1631 - root_mean_squared_error: 2.4825 - val_loss: 30.3732 - val_root_mean_squared_error: 5.5112 - lr: 5.3794e-06\n",
      "Epoch 214/1000\n",
      "9/9 [==============================] - 0s 12ms/step - loss: 6.1407 - root_mean_squared_error: 2.4780 - val_loss: 30.3101 - val_root_mean_squared_error: 5.5055 - lr: 5.3259e-06\n",
      "Epoch 215/1000\n",
      "9/9 [==============================] - 0s 13ms/step - loss: 6.1274 - root_mean_squared_error: 2.4754 - val_loss: 30.2491 - val_root_mean_squared_error: 5.4999 - lr: 5.2729e-06\n",
      "Epoch 216/1000\n",
      "9/9 [==============================] - 0s 12ms/step - loss: 6.1207 - root_mean_squared_error: 2.4740 - val_loss: 30.1858 - val_root_mean_squared_error: 5.4942 - lr: 5.2205e-06\n",
      "Epoch 217/1000\n",
      "9/9 [==============================] - 0s 12ms/step - loss: 6.1234 - root_mean_squared_error: 2.4745 - val_loss: 29.9736 - val_root_mean_squared_error: 5.4748 - lr: 5.1685e-06\n",
      "Epoch 218/1000\n",
      "9/9 [==============================] - 0s 13ms/step - loss: 6.0901 - root_mean_squared_error: 2.4678 - val_loss: 29.9681 - val_root_mean_squared_error: 5.4743 - lr: 5.1171e-06\n",
      "Epoch 219/1000\n",
      "9/9 [==============================] - 0s 12ms/step - loss: 6.0890 - root_mean_squared_error: 2.4676 - val_loss: 30.1665 - val_root_mean_squared_error: 5.4924 - lr: 5.0662e-06\n",
      "Epoch 220/1000\n",
      "9/9 [==============================] - 0s 12ms/step - loss: 6.0703 - root_mean_squared_error: 2.4638 - val_loss: 29.9608 - val_root_mean_squared_error: 5.4736 - lr: 5.0158e-06\n",
      "Epoch 221/1000\n",
      "9/9 [==============================] - 0s 12ms/step - loss: 6.0946 - root_mean_squared_error: 2.4687 - val_loss: 29.7416 - val_root_mean_squared_error: 5.4536 - lr: 4.9659e-06\n",
      "Epoch 222/1000\n",
      "9/9 [==============================] - 0s 13ms/step - loss: 6.0548 - root_mean_squared_error: 2.4606 - val_loss: 29.6660 - val_root_mean_squared_error: 5.4467 - lr: 4.9164e-06\n",
      "Epoch 223/1000\n",
      "9/9 [==============================] - 0s 12ms/step - loss: 6.0352 - root_mean_squared_error: 2.4567 - val_loss: 29.6454 - val_root_mean_squared_error: 5.4448 - lr: 4.8675e-06\n",
      "Epoch 224/1000\n",
      "9/9 [==============================] - 0s 13ms/step - loss: 6.0295 - root_mean_squared_error: 2.4555 - val_loss: 29.4853 - val_root_mean_squared_error: 5.4300 - lr: 4.8191e-06\n",
      "Epoch 225/1000\n",
      "9/9 [==============================] - 0s 13ms/step - loss: 6.0477 - root_mean_squared_error: 2.4592 - val_loss: 29.3677 - val_root_mean_squared_error: 5.4192 - lr: 4.7711e-06\n",
      "Epoch 226/1000\n",
      "9/9 [==============================] - 0s 13ms/step - loss: 6.0364 - root_mean_squared_error: 2.4569 - val_loss: 29.4722 - val_root_mean_squared_error: 5.4288 - lr: 4.7237e-06\n",
      "Epoch 227/1000\n",
      "9/9 [==============================] - 0s 13ms/step - loss: 5.9990 - root_mean_squared_error: 2.4493 - val_loss: 29.4884 - val_root_mean_squared_error: 5.4303 - lr: 4.6767e-06\n",
      "Epoch 228/1000\n",
      "9/9 [==============================] - 0s 13ms/step - loss: 5.9886 - root_mean_squared_error: 2.4472 - val_loss: 29.2543 - val_root_mean_squared_error: 5.4087 - lr: 4.6301e-06\n",
      "Epoch 229/1000\n",
      "9/9 [==============================] - 0s 13ms/step - loss: 5.9738 - root_mean_squared_error: 2.4441 - val_loss: 29.1607 - val_root_mean_squared_error: 5.4001 - lr: 4.5841e-06\n",
      "Epoch 230/1000\n",
      "9/9 [==============================] - 0s 13ms/step - loss: 5.9514 - root_mean_squared_error: 2.4396 - val_loss: 29.0714 - val_root_mean_squared_error: 5.3918 - lr: 4.5384e-06\n",
      "Epoch 231/1000\n",
      "9/9 [==============================] - 0s 12ms/step - loss: 5.9474 - root_mean_squared_error: 2.4387 - val_loss: 29.0242 - val_root_mean_squared_error: 5.3874 - lr: 4.4933e-06\n",
      "Epoch 232/1000\n",
      "9/9 [==============================] - 0s 12ms/step - loss: 5.9471 - root_mean_squared_error: 2.4387 - val_loss: 29.0771 - val_root_mean_squared_error: 5.3923 - lr: 4.4486e-06\n",
      "Epoch 233/1000\n",
      "9/9 [==============================] - 0s 13ms/step - loss: 5.9267 - root_mean_squared_error: 2.4345 - val_loss: 28.9120 - val_root_mean_squared_error: 5.3770 - lr: 4.4043e-06\n",
      "Epoch 234/1000\n",
      "9/9 [==============================] - 0s 13ms/step - loss: 5.9293 - root_mean_squared_error: 2.4350 - val_loss: 28.7637 - val_root_mean_squared_error: 5.3632 - lr: 4.3605e-06\n",
      "Epoch 235/1000\n",
      "9/9 [==============================] - 0s 13ms/step - loss: 5.9111 - root_mean_squared_error: 2.4313 - val_loss: 28.7611 - val_root_mean_squared_error: 5.3629 - lr: 4.3171e-06\n",
      "Epoch 236/1000\n",
      "9/9 [==============================] - 0s 14ms/step - loss: 5.9229 - root_mean_squared_error: 2.4337 - val_loss: 28.6831 - val_root_mean_squared_error: 5.3557 - lr: 4.2741e-06\n",
      "Epoch 237/1000\n",
      "9/9 [==============================] - 0s 12ms/step - loss: 5.8817 - root_mean_squared_error: 2.4252 - val_loss: 28.5856 - val_root_mean_squared_error: 5.3465 - lr: 4.2316e-06\n",
      "Epoch 238/1000\n",
      "9/9 [==============================] - 0s 13ms/step - loss: 5.8769 - root_mean_squared_error: 2.4242 - val_loss: 28.4487 - val_root_mean_squared_error: 5.3337 - lr: 4.1895e-06\n",
      "Epoch 239/1000\n",
      "9/9 [==============================] - 0s 13ms/step - loss: 5.8566 - root_mean_squared_error: 2.4200 - val_loss: 28.4278 - val_root_mean_squared_error: 5.3318 - lr: 4.1478e-06\n",
      "Epoch 240/1000\n",
      "9/9 [==============================] - 0s 13ms/step - loss: 5.8527 - root_mean_squared_error: 2.4192 - val_loss: 28.3366 - val_root_mean_squared_error: 5.3232 - lr: 4.1066e-06\n",
      "Epoch 241/1000\n",
      "9/9 [==============================] - 0s 13ms/step - loss: 5.8413 - root_mean_squared_error: 2.4169 - val_loss: 28.2560 - val_root_mean_squared_error: 5.3156 - lr: 4.0657e-06\n",
      "Epoch 242/1000\n",
      "9/9 [==============================] - 0s 13ms/step - loss: 5.8387 - root_mean_squared_error: 2.4163 - val_loss: 28.2053 - val_root_mean_squared_error: 5.3109 - lr: 4.0252e-06\n",
      "Epoch 243/1000\n",
      "9/9 [==============================] - 0s 13ms/step - loss: 5.8359 - root_mean_squared_error: 2.4158 - val_loss: 28.0975 - val_root_mean_squared_error: 5.3007 - lr: 3.9852e-06\n",
      "Epoch 244/1000\n",
      "9/9 [==============================] - 0s 13ms/step - loss: 5.8146 - root_mean_squared_error: 2.4113 - val_loss: 28.0866 - val_root_mean_squared_error: 5.2997 - lr: 3.9455e-06\n",
      "Epoch 245/1000\n",
      "9/9 [==============================] - 0s 13ms/step - loss: 5.8121 - root_mean_squared_error: 2.4108 - val_loss: 28.0490 - val_root_mean_squared_error: 5.2961 - lr: 3.9063e-06\n",
      "Epoch 246/1000\n",
      "9/9 [==============================] - 0s 13ms/step - loss: 5.7939 - root_mean_squared_error: 2.4071 - val_loss: 27.9311 - val_root_mean_squared_error: 5.2850 - lr: 3.8674e-06\n",
      "Epoch 247/1000\n",
      "9/9 [==============================] - 0s 13ms/step - loss: 5.7916 - root_mean_squared_error: 2.4066 - val_loss: 27.8555 - val_root_mean_squared_error: 5.2778 - lr: 3.8289e-06\n",
      "Epoch 248/1000\n",
      "9/9 [==============================] - 0s 12ms/step - loss: 5.7828 - root_mean_squared_error: 2.4047 - val_loss: 27.8010 - val_root_mean_squared_error: 5.2727 - lr: 3.7908e-06\n",
      "Epoch 249/1000\n",
      "9/9 [==============================] - 0s 13ms/step - loss: 5.7777 - root_mean_squared_error: 2.4037 - val_loss: 27.7036 - val_root_mean_squared_error: 5.2634 - lr: 3.7531e-06\n",
      "Epoch 250/1000\n",
      "9/9 [==============================] - 0s 13ms/step - loss: 5.7585 - root_mean_squared_error: 2.3997 - val_loss: 27.6389 - val_root_mean_squared_error: 5.2573 - lr: 3.7158e-06\n",
      "Epoch 251/1000\n",
      "9/9 [==============================] - 0s 13ms/step - loss: 5.7532 - root_mean_squared_error: 2.3986 - val_loss: 27.6477 - val_root_mean_squared_error: 5.2581 - lr: 3.6788e-06\n",
      "Epoch 252/1000\n",
      "9/9 [==============================] - 0s 12ms/step - loss: 5.7432 - root_mean_squared_error: 2.3965 - val_loss: 27.5913 - val_root_mean_squared_error: 5.2527 - lr: 3.6422e-06\n"
     ]
    },
    {
     "name": "stdout",
     "output_type": "stream",
     "text": [
      "Epoch 253/1000\n",
      "9/9 [==============================] - 0s 13ms/step - loss: 5.7310 - root_mean_squared_error: 2.3940 - val_loss: 27.4975 - val_root_mean_squared_error: 5.2438 - lr: 3.6059e-06\n",
      "Epoch 254/1000\n",
      "9/9 [==============================] - 0s 13ms/step - loss: 5.7183 - root_mean_squared_error: 2.3913 - val_loss: 27.4788 - val_root_mean_squared_error: 5.2420 - lr: 3.5701e-06\n",
      "Epoch 255/1000\n",
      "9/9 [==============================] - 0s 12ms/step - loss: 5.7184 - root_mean_squared_error: 2.3913 - val_loss: 27.4573 - val_root_mean_squared_error: 5.2400 - lr: 3.5345e-06\n",
      "Epoch 256/1000\n",
      "9/9 [==============================] - 0s 12ms/step - loss: 5.7026 - root_mean_squared_error: 2.3880 - val_loss: 27.4017 - val_root_mean_squared_error: 5.2347 - lr: 3.4994e-06\n",
      "Epoch 257/1000\n",
      "9/9 [==============================] - 0s 12ms/step - loss: 5.7026 - root_mean_squared_error: 2.3880 - val_loss: 27.4448 - val_root_mean_squared_error: 5.2388 - lr: 3.4646e-06\n",
      "Epoch 258/1000\n",
      "9/9 [==============================] - 0s 12ms/step - loss: 5.6906 - root_mean_squared_error: 2.3855 - val_loss: 27.3844 - val_root_mean_squared_error: 5.2330 - lr: 3.4301e-06\n",
      "Epoch 259/1000\n",
      "9/9 [==============================] - 0s 13ms/step - loss: 5.6886 - root_mean_squared_error: 2.3851 - val_loss: 27.3617 - val_root_mean_squared_error: 5.2308 - lr: 3.3960e-06\n",
      "Epoch 260/1000\n",
      "9/9 [==============================] - 0s 13ms/step - loss: 5.6737 - root_mean_squared_error: 2.3820 - val_loss: 27.2828 - val_root_mean_squared_error: 5.2233 - lr: 3.3622e-06\n",
      "Epoch 261/1000\n",
      "9/9 [==============================] - 0s 12ms/step - loss: 5.6730 - root_mean_squared_error: 2.3818 - val_loss: 27.1974 - val_root_mean_squared_error: 5.2151 - lr: 3.3287e-06\n",
      "Epoch 262/1000\n",
      "9/9 [==============================] - 0s 13ms/step - loss: 5.6915 - root_mean_squared_error: 2.3857 - val_loss: 27.1423 - val_root_mean_squared_error: 5.2098 - lr: 3.2956e-06\n",
      "Epoch 263/1000\n",
      "9/9 [==============================] - 0s 12ms/step - loss: 5.6611 - root_mean_squared_error: 2.3793 - val_loss: 27.1632 - val_root_mean_squared_error: 5.2118 - lr: 3.2628e-06\n",
      "Epoch 264/1000\n",
      "9/9 [==============================] - 0s 13ms/step - loss: 5.6686 - root_mean_squared_error: 2.3809 - val_loss: 27.0542 - val_root_mean_squared_error: 5.2014 - lr: 3.2303e-06\n",
      "Epoch 265/1000\n",
      "9/9 [==============================] - 0s 13ms/step - loss: 5.6551 - root_mean_squared_error: 2.3780 - val_loss: 27.0610 - val_root_mean_squared_error: 5.2020 - lr: 3.1982e-06\n",
      "Epoch 266/1000\n",
      "9/9 [==============================] - 0s 12ms/step - loss: 5.6336 - root_mean_squared_error: 2.3735 - val_loss: 27.0557 - val_root_mean_squared_error: 5.2015 - lr: 3.1664e-06\n",
      "Epoch 267/1000\n",
      "9/9 [==============================] - 0s 13ms/step - loss: 5.6397 - root_mean_squared_error: 2.3748 - val_loss: 26.9789 - val_root_mean_squared_error: 5.1941 - lr: 3.1349e-06\n",
      "Epoch 268/1000\n",
      "9/9 [==============================] - 0s 13ms/step - loss: 5.6196 - root_mean_squared_error: 2.3706 - val_loss: 26.9803 - val_root_mean_squared_error: 5.1943 - lr: 3.1037e-06\n",
      "Epoch 269/1000\n",
      "9/9 [==============================] - 0s 13ms/step - loss: 5.6137 - root_mean_squared_error: 2.3693 - val_loss: 26.9059 - val_root_mean_squared_error: 5.1871 - lr: 3.0728e-06\n",
      "Epoch 270/1000\n",
      "9/9 [==============================] - 0s 13ms/step - loss: 5.6133 - root_mean_squared_error: 2.3692 - val_loss: 26.8087 - val_root_mean_squared_error: 5.1777 - lr: 3.0422e-06\n",
      "Epoch 271/1000\n",
      "9/9 [==============================] - 0s 13ms/step - loss: 5.6054 - root_mean_squared_error: 2.3676 - val_loss: 26.8303 - val_root_mean_squared_error: 5.1798 - lr: 3.0119e-06\n",
      "Epoch 272/1000\n",
      "9/9 [==============================] - 0s 13ms/step - loss: 5.5991 - root_mean_squared_error: 2.3662 - val_loss: 26.8249 - val_root_mean_squared_error: 5.1793 - lr: 2.9820e-06\n",
      "Epoch 273/1000\n",
      "9/9 [==============================] - 0s 13ms/step - loss: 5.5993 - root_mean_squared_error: 2.3663 - val_loss: 26.7480 - val_root_mean_squared_error: 5.1718 - lr: 2.9523e-06\n",
      "Epoch 274/1000\n",
      "9/9 [==============================] - 0s 13ms/step - loss: 5.5908 - root_mean_squared_error: 2.3645 - val_loss: 26.7153 - val_root_mean_squared_error: 5.1687 - lr: 2.9229e-06\n",
      "Epoch 275/1000\n",
      "9/9 [==============================] - 0s 13ms/step - loss: 5.5765 - root_mean_squared_error: 2.3615 - val_loss: 26.6825 - val_root_mean_squared_error: 5.1655 - lr: 2.8938e-06\n",
      "Epoch 276/1000\n",
      "9/9 [==============================] - 0s 12ms/step - loss: 5.5910 - root_mean_squared_error: 2.3645 - val_loss: 26.7262 - val_root_mean_squared_error: 5.1697 - lr: 2.8650e-06\n",
      "Epoch 277/1000\n",
      "9/9 [==============================] - 0s 13ms/step - loss: 5.5676 - root_mean_squared_error: 2.3596 - val_loss: 26.6226 - val_root_mean_squared_error: 5.1597 - lr: 2.8365e-06\n",
      "Epoch 278/1000\n",
      "9/9 [==============================] - 0s 12ms/step - loss: 5.5629 - root_mean_squared_error: 2.3586 - val_loss: 26.6107 - val_root_mean_squared_error: 5.1586 - lr: 2.8083e-06\n",
      "Epoch 279/1000\n",
      "9/9 [==============================] - 0s 13ms/step - loss: 5.5569 - root_mean_squared_error: 2.3573 - val_loss: 26.5494 - val_root_mean_squared_error: 5.1526 - lr: 2.7804e-06\n",
      "Epoch 280/1000\n",
      "9/9 [==============================] - 0s 12ms/step - loss: 5.5476 - root_mean_squared_error: 2.3553 - val_loss: 26.5218 - val_root_mean_squared_error: 5.1499 - lr: 2.7527e-06\n",
      "Epoch 281/1000\n",
      "9/9 [==============================] - 0s 13ms/step - loss: 5.5423 - root_mean_squared_error: 2.3542 - val_loss: 26.5281 - val_root_mean_squared_error: 5.1505 - lr: 2.7253e-06\n",
      "Epoch 282/1000\n",
      "9/9 [==============================] - 0s 13ms/step - loss: 5.5445 - root_mean_squared_error: 2.3547 - val_loss: 26.5210 - val_root_mean_squared_error: 5.1499 - lr: 2.6982e-06\n",
      "Epoch 283/1000\n",
      "9/9 [==============================] - 0s 13ms/step - loss: 5.5348 - root_mean_squared_error: 2.3526 - val_loss: 26.4660 - val_root_mean_squared_error: 5.1445 - lr: 2.6714e-06\n",
      "Epoch 284/1000\n",
      "9/9 [==============================] - 0s 12ms/step - loss: 5.5314 - root_mean_squared_error: 2.3519 - val_loss: 26.4655 - val_root_mean_squared_error: 5.1445 - lr: 2.6448e-06\n",
      "Epoch 285/1000\n",
      "9/9 [==============================] - 0s 13ms/step - loss: 5.5316 - root_mean_squared_error: 2.3519 - val_loss: 26.4124 - val_root_mean_squared_error: 5.1393 - lr: 2.6185e-06\n",
      "Epoch 286/1000\n",
      "9/9 [==============================] - 0s 12ms/step - loss: 5.5168 - root_mean_squared_error: 2.3488 - val_loss: 26.3767 - val_root_mean_squared_error: 5.1358 - lr: 2.5924e-06\n",
      "Epoch 287/1000\n",
      "9/9 [==============================] - 0s 13ms/step - loss: 5.5360 - root_mean_squared_error: 2.3529 - val_loss: 26.3888 - val_root_mean_squared_error: 5.1370 - lr: 2.5666e-06\n",
      "Epoch 288/1000\n",
      "9/9 [==============================] - 0s 13ms/step - loss: 5.5053 - root_mean_squared_error: 2.3463 - val_loss: 26.3351 - val_root_mean_squared_error: 5.1318 - lr: 2.5411e-06\n",
      "Epoch 289/1000\n",
      "9/9 [==============================] - 0s 13ms/step - loss: 5.5183 - root_mean_squared_error: 2.3491 - val_loss: 26.2915 - val_root_mean_squared_error: 5.1275 - lr: 2.5158e-06\n",
      "Epoch 290/1000\n",
      "9/9 [==============================] - 0s 12ms/step - loss: 5.4989 - root_mean_squared_error: 2.3450 - val_loss: 26.2630 - val_root_mean_squared_error: 5.1247 - lr: 2.4908e-06\n",
      "Epoch 291/1000\n",
      "9/9 [==============================] - 0s 12ms/step - loss: 5.5119 - root_mean_squared_error: 2.3477 - val_loss: 26.2105 - val_root_mean_squared_error: 5.1196 - lr: 2.4660e-06\n",
      "Epoch 292/1000\n",
      "9/9 [==============================] - 0s 14ms/step - loss: 5.4922 - root_mean_squared_error: 2.3435 - val_loss: 26.1777 - val_root_mean_squared_error: 5.1164 - lr: 2.4414e-06\n",
      "Epoch 293/1000\n",
      "9/9 [==============================] - 0s 12ms/step - loss: 5.5015 - root_mean_squared_error: 2.3455 - val_loss: 26.1833 - val_root_mean_squared_error: 5.1170 - lr: 2.4171e-06\n",
      "Epoch 294/1000\n",
      "9/9 [==============================] - 0s 12ms/step - loss: 5.4825 - root_mean_squared_error: 2.3415 - val_loss: 26.1889 - val_root_mean_squared_error: 5.1175 - lr: 2.3931e-06\n",
      "Epoch 295/1000\n",
      "9/9 [==============================] - 0s 12ms/step - loss: 5.4761 - root_mean_squared_error: 2.3401 - val_loss: 26.1778 - val_root_mean_squared_error: 5.1164 - lr: 2.3693e-06\n"
     ]
    },
    {
     "name": "stdout",
     "output_type": "stream",
     "text": [
      "Epoch 296/1000\n",
      "9/9 [==============================] - 0s 13ms/step - loss: 5.4712 - root_mean_squared_error: 2.3391 - val_loss: 26.1902 - val_root_mean_squared_error: 5.1176 - lr: 2.3457e-06\n",
      "Epoch 297/1000\n",
      "9/9 [==============================] - 0s 13ms/step - loss: 5.4724 - root_mean_squared_error: 2.3393 - val_loss: 26.1771 - val_root_mean_squared_error: 5.1164 - lr: 2.3224e-06\n",
      "Epoch 298/1000\n",
      "9/9 [==============================] - 0s 12ms/step - loss: 5.4771 - root_mean_squared_error: 2.3403 - val_loss: 26.1054 - val_root_mean_squared_error: 5.1093 - lr: 2.2993e-06\n",
      "Epoch 299/1000\n",
      "9/9 [==============================] - 0s 12ms/step - loss: 5.4630 - root_mean_squared_error: 2.3373 - val_loss: 26.0805 - val_root_mean_squared_error: 5.1069 - lr: 2.2764e-06\n",
      "Epoch 300/1000\n",
      "9/9 [==============================] - 0s 13ms/step - loss: 5.4616 - root_mean_squared_error: 2.3370 - val_loss: 26.0466 - val_root_mean_squared_error: 5.1036 - lr: 2.2537e-06\n",
      "Epoch 301/1000\n",
      "9/9 [==============================] - 0s 12ms/step - loss: 5.4607 - root_mean_squared_error: 2.3368 - val_loss: 26.0822 - val_root_mean_squared_error: 5.1071 - lr: 2.2313e-06\n",
      "Epoch 302/1000\n",
      "9/9 [==============================] - 0s 12ms/step - loss: 5.4486 - root_mean_squared_error: 2.3342 - val_loss: 26.0396 - val_root_mean_squared_error: 5.1029 - lr: 2.2091e-06\n",
      "Epoch 303/1000\n",
      "9/9 [==============================] - 0s 12ms/step - loss: 5.4493 - root_mean_squared_error: 2.3344 - val_loss: 26.0355 - val_root_mean_squared_error: 5.1025 - lr: 2.1871e-06\n",
      "Epoch 304/1000\n",
      "9/9 [==============================] - 0s 12ms/step - loss: 5.4538 - root_mean_squared_error: 2.3353 - val_loss: 25.9880 - val_root_mean_squared_error: 5.0978 - lr: 2.1654e-06\n",
      "Epoch 305/1000\n",
      "9/9 [==============================] - 0s 13ms/step - loss: 5.4386 - root_mean_squared_error: 2.3321 - val_loss: 25.9737 - val_root_mean_squared_error: 5.0964 - lr: 2.1438e-06\n",
      "Epoch 306/1000\n",
      "9/9 [==============================] - 0s 13ms/step - loss: 5.4323 - root_mean_squared_error: 2.3307 - val_loss: 25.9668 - val_root_mean_squared_error: 5.0958 - lr: 2.1225e-06\n",
      "Epoch 307/1000\n",
      "9/9 [==============================] - 0s 12ms/step - loss: 5.4314 - root_mean_squared_error: 2.3305 - val_loss: 25.9842 - val_root_mean_squared_error: 5.0975 - lr: 2.1014e-06\n",
      "Epoch 308/1000\n",
      "9/9 [==============================] - 0s 13ms/step - loss: 5.4313 - root_mean_squared_error: 2.3305 - val_loss: 25.9731 - val_root_mean_squared_error: 5.0964 - lr: 2.0805e-06\n",
      "Epoch 309/1000\n",
      "9/9 [==============================] - 0s 12ms/step - loss: 5.4163 - root_mean_squared_error: 2.3273 - val_loss: 25.9395 - val_root_mean_squared_error: 5.0931 - lr: 2.0598e-06\n",
      "Epoch 310/1000\n",
      "9/9 [==============================] - 0s 13ms/step - loss: 5.4195 - root_mean_squared_error: 2.3280 - val_loss: 25.9558 - val_root_mean_squared_error: 5.0947 - lr: 2.0393e-06\n",
      "Epoch 311/1000\n",
      "9/9 [==============================] - 0s 12ms/step - loss: 5.4311 - root_mean_squared_error: 2.3305 - val_loss: 25.8840 - val_root_mean_squared_error: 5.0876 - lr: 2.0190e-06\n",
      "Epoch 312/1000\n",
      "9/9 [==============================] - 0s 13ms/step - loss: 5.4125 - root_mean_squared_error: 2.3265 - val_loss: 25.8578 - val_root_mean_squared_error: 5.0851 - lr: 1.9989e-06\n",
      "Epoch 313/1000\n",
      "9/9 [==============================] - 0s 12ms/step - loss: 5.4067 - root_mean_squared_error: 2.3252 - val_loss: 25.8649 - val_root_mean_squared_error: 5.0858 - lr: 1.9790e-06\n",
      "Epoch 314/1000\n",
      "9/9 [==============================] - 0s 13ms/step - loss: 5.3985 - root_mean_squared_error: 2.3235 - val_loss: 25.8378 - val_root_mean_squared_error: 5.0831 - lr: 1.9593e-06\n",
      "Epoch 315/1000\n",
      "9/9 [==============================] - 0s 13ms/step - loss: 5.3980 - root_mean_squared_error: 2.3234 - val_loss: 25.8337 - val_root_mean_squared_error: 5.0827 - lr: 1.9398e-06\n",
      "Epoch 316/1000\n",
      "9/9 [==============================] - 0s 13ms/step - loss: 5.3940 - root_mean_squared_error: 2.3225 - val_loss: 25.7999 - val_root_mean_squared_error: 5.0794 - lr: 1.9205e-06\n",
      "Epoch 317/1000\n",
      "9/9 [==============================] - 0s 13ms/step - loss: 5.3917 - root_mean_squared_error: 2.3220 - val_loss: 25.8129 - val_root_mean_squared_error: 5.0806 - lr: 1.9014e-06\n",
      "Epoch 318/1000\n",
      "9/9 [==============================] - 0s 13ms/step - loss: 5.3863 - root_mean_squared_error: 2.3208 - val_loss: 25.7919 - val_root_mean_squared_error: 5.0786 - lr: 1.8825e-06\n",
      "Epoch 319/1000\n",
      "9/9 [==============================] - 0s 13ms/step - loss: 5.3850 - root_mean_squared_error: 2.3206 - val_loss: 25.7638 - val_root_mean_squared_error: 5.0758 - lr: 1.8637e-06\n",
      "Epoch 320/1000\n",
      "9/9 [==============================] - 0s 13ms/step - loss: 5.3811 - root_mean_squared_error: 2.3197 - val_loss: 25.7296 - val_root_mean_squared_error: 5.0724 - lr: 1.8452e-06\n",
      "Epoch 321/1000\n",
      "9/9 [==============================] - 0s 13ms/step - loss: 5.3921 - root_mean_squared_error: 2.3221 - val_loss: 25.7822 - val_root_mean_squared_error: 5.0776 - lr: 1.8268e-06\n",
      "Epoch 322/1000\n",
      "9/9 [==============================] - 0s 13ms/step - loss: 5.3797 - root_mean_squared_error: 2.3194 - val_loss: 25.7234 - val_root_mean_squared_error: 5.0718 - lr: 1.8087e-06\n",
      "Epoch 323/1000\n",
      "9/9 [==============================] - 0s 13ms/step - loss: 5.3700 - root_mean_squared_error: 2.3173 - val_loss: 25.7010 - val_root_mean_squared_error: 5.0696 - lr: 1.7907e-06\n",
      "Epoch 324/1000\n",
      "9/9 [==============================] - 0s 13ms/step - loss: 5.3662 - root_mean_squared_error: 2.3165 - val_loss: 25.6698 - val_root_mean_squared_error: 5.0665 - lr: 1.7728e-06\n",
      "Epoch 325/1000\n",
      "9/9 [==============================] - 0s 13ms/step - loss: 5.3716 - root_mean_squared_error: 2.3177 - val_loss: 25.6521 - val_root_mean_squared_error: 5.0648 - lr: 1.7552e-06\n",
      "Epoch 326/1000\n",
      "9/9 [==============================] - 0s 13ms/step - loss: 5.3658 - root_mean_squared_error: 2.3164 - val_loss: 25.6729 - val_root_mean_squared_error: 5.0668 - lr: 1.7377e-06\n",
      "Epoch 327/1000\n",
      "9/9 [==============================] - 0s 13ms/step - loss: 5.3671 - root_mean_squared_error: 2.3167 - val_loss: 25.6807 - val_root_mean_squared_error: 5.0676 - lr: 1.7204e-06\n",
      "Epoch 328/1000\n",
      "9/9 [==============================] - 0s 12ms/step - loss: 5.3557 - root_mean_squared_error: 2.3142 - val_loss: 25.6504 - val_root_mean_squared_error: 5.0646 - lr: 1.7033e-06\n",
      "Epoch 329/1000\n",
      "9/9 [==============================] - 0s 13ms/step - loss: 5.3507 - root_mean_squared_error: 2.3132 - val_loss: 25.6525 - val_root_mean_squared_error: 5.0648 - lr: 1.6864e-06\n",
      "Epoch 330/1000\n",
      "9/9 [==============================] - 0s 13ms/step - loss: 5.3510 - root_mean_squared_error: 2.3132 - val_loss: 25.6284 - val_root_mean_squared_error: 5.0624 - lr: 1.6696e-06\n",
      "Epoch 331/1000\n",
      "9/9 [==============================] - 0s 13ms/step - loss: 5.3514 - root_mean_squared_error: 2.3133 - val_loss: 25.5932 - val_root_mean_squared_error: 5.0590 - lr: 1.6530e-06\n",
      "Epoch 332/1000\n",
      "9/9 [==============================] - 0s 12ms/step - loss: 5.3512 - root_mean_squared_error: 2.3133 - val_loss: 25.5951 - val_root_mean_squared_error: 5.0592 - lr: 1.6365e-06\n",
      "Epoch 333/1000\n",
      "9/9 [==============================] - 0s 13ms/step - loss: 5.3402 - root_mean_squared_error: 2.3109 - val_loss: 25.5811 - val_root_mean_squared_error: 5.0578 - lr: 1.6203e-06\n",
      "Epoch 334/1000\n",
      "9/9 [==============================] - 0s 13ms/step - loss: 5.3366 - root_mean_squared_error: 2.3101 - val_loss: 25.5696 - val_root_mean_squared_error: 5.0566 - lr: 1.6041e-06\n",
      "Epoch 335/1000\n",
      "9/9 [==============================] - 0s 13ms/step - loss: 5.3355 - root_mean_squared_error: 2.3099 - val_loss: 25.5575 - val_root_mean_squared_error: 5.0554 - lr: 1.5882e-06\n",
      "Epoch 336/1000\n",
      "9/9 [==============================] - 0s 12ms/step - loss: 5.3352 - root_mean_squared_error: 2.3098 - val_loss: 25.5686 - val_root_mean_squared_error: 5.0565 - lr: 1.5724e-06\n",
      "Epoch 337/1000\n",
      "9/9 [==============================] - 0s 13ms/step - loss: 5.3307 - root_mean_squared_error: 2.3088 - val_loss: 25.5199 - val_root_mean_squared_error: 5.0517 - lr: 1.5567e-06\n",
      "Epoch 338/1000\n",
      "9/9 [==============================] - 0s 13ms/step - loss: 5.3285 - root_mean_squared_error: 2.3083 - val_loss: 25.5060 - val_root_mean_squared_error: 5.0504 - lr: 1.5412e-06\n"
     ]
    },
    {
     "name": "stdout",
     "output_type": "stream",
     "text": [
      "Epoch 339/1000\n",
      "9/9 [==============================] - 0s 13ms/step - loss: 5.3254 - root_mean_squared_error: 2.3077 - val_loss: 25.4790 - val_root_mean_squared_error: 5.0477 - lr: 1.5259e-06\n",
      "Epoch 340/1000\n",
      "9/9 [==============================] - 0s 12ms/step - loss: 5.3238 - root_mean_squared_error: 2.3073 - val_loss: 25.4895 - val_root_mean_squared_error: 5.0487 - lr: 1.5107e-06\n",
      "Epoch 341/1000\n",
      "9/9 [==============================] - 0s 12ms/step - loss: 5.3227 - root_mean_squared_error: 2.3071 - val_loss: 25.4982 - val_root_mean_squared_error: 5.0496 - lr: 1.4957e-06\n",
      "Epoch 342/1000\n",
      "9/9 [==============================] - 0s 13ms/step - loss: 5.3187 - root_mean_squared_error: 2.3062 - val_loss: 25.5022 - val_root_mean_squared_error: 5.0500 - lr: 1.4808e-06\n",
      "Epoch 343/1000\n",
      "9/9 [==============================] - 0s 12ms/step - loss: 5.3286 - root_mean_squared_error: 2.3084 - val_loss: 25.4353 - val_root_mean_squared_error: 5.0433 - lr: 1.4661e-06\n",
      "Epoch 344/1000\n",
      "9/9 [==============================] - 0s 12ms/step - loss: 5.3221 - root_mean_squared_error: 2.3070 - val_loss: 25.4227 - val_root_mean_squared_error: 5.0421 - lr: 1.4515e-06\n",
      "Epoch 345/1000\n",
      "9/9 [==============================] - 0s 12ms/step - loss: 5.3062 - root_mean_squared_error: 2.3035 - val_loss: 25.4114 - val_root_mean_squared_error: 5.0410 - lr: 1.4370e-06\n",
      "Epoch 346/1000\n",
      "9/9 [==============================] - 0s 12ms/step - loss: 5.3103 - root_mean_squared_error: 2.3044 - val_loss: 25.4154 - val_root_mean_squared_error: 5.0414 - lr: 1.4227e-06\n",
      "Epoch 347/1000\n",
      "9/9 [==============================] - 0s 12ms/step - loss: 5.3033 - root_mean_squared_error: 2.3029 - val_loss: 25.3877 - val_root_mean_squared_error: 5.0386 - lr: 1.4086e-06\n",
      "Epoch 348/1000\n",
      "9/9 [==============================] - 0s 13ms/step - loss: 5.3007 - root_mean_squared_error: 2.3023 - val_loss: 25.3815 - val_root_mean_squared_error: 5.0380 - lr: 1.3946e-06\n",
      "Epoch 349/1000\n",
      "9/9 [==============================] - 0s 13ms/step - loss: 5.2999 - root_mean_squared_error: 2.3022 - val_loss: 25.3685 - val_root_mean_squared_error: 5.0367 - lr: 1.3807e-06\n",
      "Epoch 350/1000\n",
      "9/9 [==============================] - 0s 13ms/step - loss: 5.2974 - root_mean_squared_error: 2.3016 - val_loss: 25.3464 - val_root_mean_squared_error: 5.0345 - lr: 1.3670e-06\n",
      "Epoch 351/1000\n",
      "9/9 [==============================] - 0s 13ms/step - loss: 5.2932 - root_mean_squared_error: 2.3007 - val_loss: 25.3357 - val_root_mean_squared_error: 5.0335 - lr: 1.3534e-06\n",
      "Epoch 352/1000\n",
      "9/9 [==============================] - 0s 13ms/step - loss: 5.2909 - root_mean_squared_error: 2.3002 - val_loss: 25.3372 - val_root_mean_squared_error: 5.0336 - lr: 1.3399e-06\n",
      "Epoch 353/1000\n",
      "9/9 [==============================] - 0s 13ms/step - loss: 5.2895 - root_mean_squared_error: 2.2999 - val_loss: 25.3448 - val_root_mean_squared_error: 5.0344 - lr: 1.3266e-06\n",
      "Epoch 354/1000\n",
      "9/9 [==============================] - 0s 13ms/step - loss: 5.2876 - root_mean_squared_error: 2.2995 - val_loss: 25.3364 - val_root_mean_squared_error: 5.0335 - lr: 1.3134e-06\n",
      "Epoch 355/1000\n",
      "9/9 [==============================] - 0s 13ms/step - loss: 5.2942 - root_mean_squared_error: 2.3009 - val_loss: 25.3121 - val_root_mean_squared_error: 5.0311 - lr: 1.3003e-06\n",
      "Epoch 356/1000\n",
      "9/9 [==============================] - 0s 13ms/step - loss: 5.3087 - root_mean_squared_error: 2.3041 - val_loss: 25.3748 - val_root_mean_squared_error: 5.0373 - lr: 1.2873e-06\n",
      "Epoch 357/1000\n",
      "9/9 [==============================] - 0s 12ms/step - loss: 5.2909 - root_mean_squared_error: 2.3002 - val_loss: 25.2926 - val_root_mean_squared_error: 5.0292 - lr: 1.2745e-06\n",
      "Epoch 358/1000\n",
      "9/9 [==============================] - 0s 13ms/step - loss: 5.2801 - root_mean_squared_error: 2.2978 - val_loss: 25.3015 - val_root_mean_squared_error: 5.0301 - lr: 1.2619e-06\n",
      "Epoch 359/1000\n",
      "9/9 [==============================] - 0s 15ms/step - loss: 5.2801 - root_mean_squared_error: 2.2978 - val_loss: 25.2984 - val_root_mean_squared_error: 5.0298 - lr: 1.2493e-06\n",
      "Epoch 360/1000\n",
      "9/9 [==============================] - 0s 13ms/step - loss: 5.2799 - root_mean_squared_error: 2.2978 - val_loss: 25.2585 - val_root_mean_squared_error: 5.0258 - lr: 1.2369e-06\n",
      "Epoch 361/1000\n",
      "9/9 [==============================] - 0s 12ms/step - loss: 5.2748 - root_mean_squared_error: 2.2967 - val_loss: 25.2561 - val_root_mean_squared_error: 5.0255 - lr: 1.2246e-06\n",
      "Epoch 362/1000\n",
      "9/9 [==============================] - 0s 12ms/step - loss: 5.2749 - root_mean_squared_error: 2.2967 - val_loss: 25.2602 - val_root_mean_squared_error: 5.0260 - lr: 1.2124e-06\n",
      "Epoch 363/1000\n",
      "9/9 [==============================] - 0s 12ms/step - loss: 5.2665 - root_mean_squared_error: 2.2949 - val_loss: 25.2375 - val_root_mean_squared_error: 5.0237 - lr: 1.2003e-06\n",
      "Epoch 364/1000\n",
      "9/9 [==============================] - 0s 12ms/step - loss: 5.2800 - root_mean_squared_error: 2.2978 - val_loss: 25.1969 - val_root_mean_squared_error: 5.0197 - lr: 1.1884e-06\n",
      "Epoch 365/1000\n",
      "9/9 [==============================] - 0s 13ms/step - loss: 5.2644 - root_mean_squared_error: 2.2944 - val_loss: 25.2083 - val_root_mean_squared_error: 5.0208 - lr: 1.1765e-06\n",
      "Epoch 366/1000\n",
      "9/9 [==============================] - 0s 12ms/step - loss: 5.2655 - root_mean_squared_error: 2.2947 - val_loss: 25.1958 - val_root_mean_squared_error: 5.0195 - lr: 1.1648e-06\n",
      "Epoch 367/1000\n",
      "9/9 [==============================] - 0s 13ms/step - loss: 5.2638 - root_mean_squared_error: 2.2943 - val_loss: 25.1790 - val_root_mean_squared_error: 5.0179 - lr: 1.1533e-06\n",
      "Epoch 368/1000\n",
      "9/9 [==============================] - 0s 13ms/step - loss: 5.2562 - root_mean_squared_error: 2.2926 - val_loss: 25.1900 - val_root_mean_squared_error: 5.0190 - lr: 1.1418e-06\n",
      "Epoch 369/1000\n",
      "9/9 [==============================] - 0s 13ms/step - loss: 5.2562 - root_mean_squared_error: 2.2926 - val_loss: 25.2074 - val_root_mean_squared_error: 5.0207 - lr: 1.1304e-06\n",
      "Epoch 370/1000\n",
      "9/9 [==============================] - 0s 13ms/step - loss: 5.2593 - root_mean_squared_error: 2.2933 - val_loss: 25.2111 - val_root_mean_squared_error: 5.0211 - lr: 1.1192e-06\n",
      "Epoch 371/1000\n",
      "9/9 [==============================] - 0s 13ms/step - loss: 5.2526 - root_mean_squared_error: 2.2919 - val_loss: 25.1986 - val_root_mean_squared_error: 5.0198 - lr: 1.1080e-06\n",
      "Epoch 372/1000\n",
      "9/9 [==============================] - 0s 13ms/step - loss: 5.2502 - root_mean_squared_error: 2.2913 - val_loss: 25.1711 - val_root_mean_squared_error: 5.0171 - lr: 1.0970e-06\n",
      "Epoch 373/1000\n",
      "9/9 [==============================] - 0s 13ms/step - loss: 5.2482 - root_mean_squared_error: 2.2909 - val_loss: 25.1766 - val_root_mean_squared_error: 5.0176 - lr: 1.0861e-06\n",
      "Epoch 374/1000\n",
      "9/9 [==============================] - 0s 13ms/step - loss: 5.2459 - root_mean_squared_error: 2.2904 - val_loss: 25.1657 - val_root_mean_squared_error: 5.0165 - lr: 1.0753e-06\n",
      "Epoch 375/1000\n",
      "9/9 [==============================] - 0s 13ms/step - loss: 5.2467 - root_mean_squared_error: 2.2906 - val_loss: 25.1330 - val_root_mean_squared_error: 5.0133 - lr: 1.0646e-06\n",
      "Epoch 376/1000\n",
      "9/9 [==============================] - 0s 13ms/step - loss: 5.2440 - root_mean_squared_error: 2.2900 - val_loss: 25.1457 - val_root_mean_squared_error: 5.0145 - lr: 1.0540e-06\n",
      "Epoch 377/1000\n",
      "9/9 [==============================] - 0s 13ms/step - loss: 5.2423 - root_mean_squared_error: 2.2896 - val_loss: 25.1183 - val_root_mean_squared_error: 5.0118 - lr: 1.0435e-06\n",
      "Epoch 378/1000\n",
      "9/9 [==============================] - 0s 12ms/step - loss: 5.2397 - root_mean_squared_error: 2.2890 - val_loss: 25.1084 - val_root_mean_squared_error: 5.0108 - lr: 1.0331e-06\n",
      "Epoch 379/1000\n",
      "9/9 [==============================] - 0s 13ms/step - loss: 5.2371 - root_mean_squared_error: 2.2885 - val_loss: 25.1043 - val_root_mean_squared_error: 5.0104 - lr: 1.0228e-06\n",
      "Epoch 380/1000\n",
      "9/9 [==============================] - 0s 13ms/step - loss: 5.2387 - root_mean_squared_error: 2.2888 - val_loss: 25.0774 - val_root_mean_squared_error: 5.0077 - lr: 1.0127e-06\n",
      "Epoch 381/1000\n",
      "9/9 [==============================] - 0s 13ms/step - loss: 5.2352 - root_mean_squared_error: 2.2881 - val_loss: 25.0789 - val_root_mean_squared_error: 5.0079 - lr: 1.0026e-06\n"
     ]
    },
    {
     "name": "stdout",
     "output_type": "stream",
     "text": [
      "Epoch 382/1000\n",
      "9/9 [==============================] - 0s 12ms/step - loss: 5.2344 - root_mean_squared_error: 2.2879 - val_loss: 25.0565 - val_root_mean_squared_error: 5.0056 - lr: 9.9261e-07\n",
      "Epoch 383/1000\n",
      "9/9 [==============================] - 0s 12ms/step - loss: 5.2315 - root_mean_squared_error: 2.2872 - val_loss: 25.0507 - val_root_mean_squared_error: 5.0051 - lr: 9.8274e-07\n",
      "Epoch 384/1000\n",
      "9/9 [==============================] - 0s 12ms/step - loss: 5.2290 - root_mean_squared_error: 2.2867 - val_loss: 25.0565 - val_root_mean_squared_error: 5.0056 - lr: 9.7296e-07\n",
      "Epoch 385/1000\n",
      "9/9 [==============================] - 0s 12ms/step - loss: 5.2303 - root_mean_squared_error: 2.2870 - val_loss: 25.0474 - val_root_mean_squared_error: 5.0047 - lr: 9.6328e-07\n",
      "Epoch 386/1000\n",
      "9/9 [==============================] - 0s 12ms/step - loss: 5.2264 - root_mean_squared_error: 2.2861 - val_loss: 25.0536 - val_root_mean_squared_error: 5.0054 - lr: 9.5369e-07\n",
      "Epoch 387/1000\n",
      "9/9 [==============================] - 0s 13ms/step - loss: 5.2320 - root_mean_squared_error: 2.2874 - val_loss: 25.0633 - val_root_mean_squared_error: 5.0063 - lr: 9.4420e-07\n",
      "Epoch 388/1000\n",
      "9/9 [==============================] - 0s 12ms/step - loss: 5.2244 - root_mean_squared_error: 2.2857 - val_loss: 25.0567 - val_root_mean_squared_error: 5.0057 - lr: 9.3481e-07\n",
      "Epoch 389/1000\n",
      "9/9 [==============================] - 0s 12ms/step - loss: 5.2311 - root_mean_squared_error: 2.2872 - val_loss: 25.0234 - val_root_mean_squared_error: 5.0023 - lr: 9.2551e-07\n",
      "Epoch 390/1000\n",
      "9/9 [==============================] - 0s 12ms/step - loss: 5.2231 - root_mean_squared_error: 2.2854 - val_loss: 24.9959 - val_root_mean_squared_error: 4.9996 - lr: 9.1630e-07\n",
      "Epoch 391/1000\n",
      "9/9 [==============================] - 0s 13ms/step - loss: 5.2193 - root_mean_squared_error: 2.2846 - val_loss: 25.0071 - val_root_mean_squared_error: 5.0007 - lr: 9.0718e-07\n",
      "Epoch 392/1000\n",
      "9/9 [==============================] - 0s 13ms/step - loss: 5.2210 - root_mean_squared_error: 2.2850 - val_loss: 25.0127 - val_root_mean_squared_error: 5.0013 - lr: 8.9815e-07\n",
      "Epoch 393/1000\n",
      "9/9 [==============================] - 0s 13ms/step - loss: 5.2174 - root_mean_squared_error: 2.2842 - val_loss: 25.0038 - val_root_mean_squared_error: 5.0004 - lr: 8.8922e-07\n",
      "Epoch 394/1000\n",
      "9/9 [==============================] - 0s 12ms/step - loss: 5.2184 - root_mean_squared_error: 2.2844 - val_loss: 24.9724 - val_root_mean_squared_error: 4.9972 - lr: 8.8037e-07\n",
      "Epoch 395/1000\n",
      "9/9 [==============================] - 0s 12ms/step - loss: 5.2155 - root_mean_squared_error: 2.2837 - val_loss: 24.9894 - val_root_mean_squared_error: 4.9989 - lr: 8.7161e-07\n",
      "Epoch 396/1000\n",
      "9/9 [==============================] - 0s 12ms/step - loss: 5.2113 - root_mean_squared_error: 2.2828 - val_loss: 24.9620 - val_root_mean_squared_error: 4.9962 - lr: 8.6294e-07\n",
      "Epoch 397/1000\n",
      "9/9 [==============================] - 0s 13ms/step - loss: 5.2075 - root_mean_squared_error: 2.2820 - val_loss: 24.9633 - val_root_mean_squared_error: 4.9963 - lr: 8.5435e-07\n",
      "Epoch 398/1000\n",
      "9/9 [==============================] - 0s 12ms/step - loss: 5.2068 - root_mean_squared_error: 2.2818 - val_loss: 24.9552 - val_root_mean_squared_error: 4.9955 - lr: 8.4585e-07\n",
      "Epoch 399/1000\n",
      "9/9 [==============================] - 0s 13ms/step - loss: 5.2123 - root_mean_squared_error: 2.2830 - val_loss: 24.9739 - val_root_mean_squared_error: 4.9974 - lr: 8.3743e-07\n",
      "Epoch 400/1000\n",
      "9/9 [==============================] - 0s 13ms/step - loss: 5.2047 - root_mean_squared_error: 2.2814 - val_loss: 24.9646 - val_root_mean_squared_error: 4.9965 - lr: 8.2910e-07\n",
      "Epoch 401/1000\n",
      "9/9 [==============================] - 0s 13ms/step - loss: 5.2047 - root_mean_squared_error: 2.2814 - val_loss: 24.9483 - val_root_mean_squared_error: 4.9948 - lr: 8.2085e-07\n",
      "Epoch 402/1000\n",
      "9/9 [==============================] - 0s 13ms/step - loss: 5.2035 - root_mean_squared_error: 2.2811 - val_loss: 24.9538 - val_root_mean_squared_error: 4.9954 - lr: 1.0000e-06\n",
      "Epoch 403/1000\n",
      "9/9 [==============================] - 0s 14ms/step - loss: 5.2005 - root_mean_squared_error: 2.2805 - val_loss: 24.9353 - val_root_mean_squared_error: 4.9935 - lr: 1.0000e-06\n",
      "Epoch 404/1000\n",
      "9/9 [==============================] - 0s 12ms/step - loss: 5.1997 - root_mean_squared_error: 2.2803 - val_loss: 24.9273 - val_root_mean_squared_error: 4.9927 - lr: 1.0000e-06\n",
      "Epoch 405/1000\n",
      "9/9 [==============================] - 0s 13ms/step - loss: 5.1969 - root_mean_squared_error: 2.2797 - val_loss: 24.9131 - val_root_mean_squared_error: 4.9913 - lr: 1.0000e-06\n",
      "Epoch 406/1000\n",
      "9/9 [==============================] - 0s 13ms/step - loss: 5.1983 - root_mean_squared_error: 2.2800 - val_loss: 24.8930 - val_root_mean_squared_error: 4.9893 - lr: 1.0000e-06\n",
      "Epoch 407/1000\n",
      "9/9 [==============================] - 0s 13ms/step - loss: 5.1971 - root_mean_squared_error: 2.2797 - val_loss: 24.9048 - val_root_mean_squared_error: 4.9905 - lr: 1.0000e-06\n",
      "Epoch 408/1000\n",
      "9/9 [==============================] - 0s 13ms/step - loss: 5.1939 - root_mean_squared_error: 2.2790 - val_loss: 24.8827 - val_root_mean_squared_error: 4.9883 - lr: 1.0000e-06\n",
      "Epoch 409/1000\n",
      "9/9 [==============================] - 0s 13ms/step - loss: 5.1918 - root_mean_squared_error: 2.2786 - val_loss: 24.8686 - val_root_mean_squared_error: 4.9868 - lr: 1.0000e-06\n",
      "Epoch 410/1000\n",
      "9/9 [==============================] - 0s 13ms/step - loss: 5.1947 - root_mean_squared_error: 2.2792 - val_loss: 24.8693 - val_root_mean_squared_error: 4.9869 - lr: 1.0000e-06\n",
      "Epoch 411/1000\n",
      "9/9 [==============================] - 0s 13ms/step - loss: 5.1862 - root_mean_squared_error: 2.2773 - val_loss: 24.8432 - val_root_mean_squared_error: 4.9843 - lr: 1.0000e-06\n",
      "Epoch 412/1000\n",
      "9/9 [==============================] - 0s 13ms/step - loss: 5.1834 - root_mean_squared_error: 2.2767 - val_loss: 24.8402 - val_root_mean_squared_error: 4.9840 - lr: 1.0000e-06\n",
      "Epoch 413/1000\n",
      "9/9 [==============================] - 0s 13ms/step - loss: 5.1877 - root_mean_squared_error: 2.2777 - val_loss: 24.8522 - val_root_mean_squared_error: 4.9852 - lr: 1.0000e-06\n",
      "Epoch 414/1000\n",
      "9/9 [==============================] - 0s 12ms/step - loss: 5.1828 - root_mean_squared_error: 2.2766 - val_loss: 24.8379 - val_root_mean_squared_error: 4.9838 - lr: 1.0000e-06\n",
      "Epoch 415/1000\n",
      "9/9 [==============================] - 0s 13ms/step - loss: 5.1790 - root_mean_squared_error: 2.2757 - val_loss: 24.8307 - val_root_mean_squared_error: 4.9830 - lr: 1.0000e-06\n",
      "Epoch 416/1000\n",
      "9/9 [==============================] - 0s 12ms/step - loss: 5.1857 - root_mean_squared_error: 2.2772 - val_loss: 24.8106 - val_root_mean_squared_error: 4.9810 - lr: 1.0000e-06\n",
      "Epoch 417/1000\n",
      "9/9 [==============================] - 0s 13ms/step - loss: 5.1779 - root_mean_squared_error: 2.2755 - val_loss: 24.8117 - val_root_mean_squared_error: 4.9811 - lr: 1.0000e-06\n",
      "Epoch 418/1000\n",
      "9/9 [==============================] - 0s 13ms/step - loss: 5.1760 - root_mean_squared_error: 2.2751 - val_loss: 24.7994 - val_root_mean_squared_error: 4.9799 - lr: 1.0000e-06\n",
      "Epoch 419/1000\n",
      "9/9 [==============================] - 0s 13ms/step - loss: 5.1727 - root_mean_squared_error: 2.2744 - val_loss: 24.7969 - val_root_mean_squared_error: 4.9796 - lr: 1.0000e-06\n",
      "Epoch 420/1000\n",
      "9/9 [==============================] - 0s 12ms/step - loss: 5.1721 - root_mean_squared_error: 2.2742 - val_loss: 24.7855 - val_root_mean_squared_error: 4.9785 - lr: 1.0000e-06\n",
      "Epoch 421/1000\n",
      "9/9 [==============================] - 0s 13ms/step - loss: 5.1751 - root_mean_squared_error: 2.2749 - val_loss: 24.7824 - val_root_mean_squared_error: 4.9782 - lr: 1.0000e-06\n",
      "Epoch 422/1000\n",
      "9/9 [==============================] - 0s 13ms/step - loss: 5.1825 - root_mean_squared_error: 2.2765 - val_loss: 24.7469 - val_root_mean_squared_error: 4.9746 - lr: 1.0000e-06\n",
      "Epoch 423/1000\n",
      "9/9 [==============================] - 0s 13ms/step - loss: 5.1663 - root_mean_squared_error: 2.2730 - val_loss: 24.7390 - val_root_mean_squared_error: 4.9738 - lr: 1.0000e-06\n",
      "Epoch 424/1000\n",
      "9/9 [==============================] - 0s 13ms/step - loss: 5.1685 - root_mean_squared_error: 2.2734 - val_loss: 24.7361 - val_root_mean_squared_error: 4.9735 - lr: 1.0000e-06\n"
     ]
    },
    {
     "name": "stdout",
     "output_type": "stream",
     "text": [
      "Epoch 425/1000\n",
      "9/9 [==============================] - 0s 12ms/step - loss: 5.1676 - root_mean_squared_error: 2.2732 - val_loss: 24.7554 - val_root_mean_squared_error: 4.9755 - lr: 1.0000e-06\n",
      "Epoch 426/1000\n",
      "9/9 [==============================] - 0s 13ms/step - loss: 5.1648 - root_mean_squared_error: 2.2726 - val_loss: 24.7776 - val_root_mean_squared_error: 4.9777 - lr: 1.0000e-06\n",
      "Epoch 427/1000\n",
      "9/9 [==============================] - 0s 13ms/step - loss: 5.1603 - root_mean_squared_error: 2.2716 - val_loss: 24.7458 - val_root_mean_squared_error: 4.9745 - lr: 1.0000e-06\n",
      "Epoch 428/1000\n",
      "9/9 [==============================] - 0s 13ms/step - loss: 5.1574 - root_mean_squared_error: 2.2710 - val_loss: 24.7480 - val_root_mean_squared_error: 4.9747 - lr: 1.0000e-06\n",
      "Epoch 429/1000\n",
      "9/9 [==============================] - 0s 12ms/step - loss: 5.1565 - root_mean_squared_error: 2.2708 - val_loss: 24.7240 - val_root_mean_squared_error: 4.9723 - lr: 1.0000e-06\n",
      "Epoch 430/1000\n",
      "9/9 [==============================] - 0s 13ms/step - loss: 5.1572 - root_mean_squared_error: 2.2710 - val_loss: 24.7021 - val_root_mean_squared_error: 4.9701 - lr: 1.0000e-06\n",
      "Epoch 431/1000\n",
      "9/9 [==============================] - 0s 13ms/step - loss: 5.1567 - root_mean_squared_error: 2.2708 - val_loss: 24.7033 - val_root_mean_squared_error: 4.9702 - lr: 1.0000e-06\n",
      "Epoch 432/1000\n",
      "9/9 [==============================] - 0s 13ms/step - loss: 5.1539 - root_mean_squared_error: 2.2702 - val_loss: 24.6936 - val_root_mean_squared_error: 4.9693 - lr: 1.0000e-06\n",
      "Epoch 433/1000\n",
      "9/9 [==============================] - 0s 13ms/step - loss: 5.1534 - root_mean_squared_error: 2.2701 - val_loss: 24.6992 - val_root_mean_squared_error: 4.9698 - lr: 1.0000e-06\n",
      "Epoch 434/1000\n",
      "9/9 [==============================] - 0s 12ms/step - loss: 5.1479 - root_mean_squared_error: 2.2689 - val_loss: 24.6884 - val_root_mean_squared_error: 4.9687 - lr: 1.0000e-06\n",
      "Epoch 435/1000\n",
      "9/9 [==============================] - 0s 13ms/step - loss: 5.1477 - root_mean_squared_error: 2.2689 - val_loss: 24.6855 - val_root_mean_squared_error: 4.9684 - lr: 1.0000e-06\n",
      "Epoch 436/1000\n",
      "9/9 [==============================] - 0s 13ms/step - loss: 5.1456 - root_mean_squared_error: 2.2684 - val_loss: 24.6742 - val_root_mean_squared_error: 4.9673 - lr: 1.0000e-06\n",
      "Epoch 437/1000\n",
      "9/9 [==============================] - 0s 13ms/step - loss: 5.1436 - root_mean_squared_error: 2.2680 - val_loss: 24.6676 - val_root_mean_squared_error: 4.9667 - lr: 1.0000e-06\n",
      "Epoch 438/1000\n",
      "9/9 [==============================] - 0s 13ms/step - loss: 5.1441 - root_mean_squared_error: 2.2681 - val_loss: 24.6383 - val_root_mean_squared_error: 4.9637 - lr: 1.0000e-06\n",
      "Epoch 439/1000\n",
      "9/9 [==============================] - 0s 13ms/step - loss: 5.1398 - root_mean_squared_error: 2.2671 - val_loss: 24.6177 - val_root_mean_squared_error: 4.9616 - lr: 1.0000e-06\n",
      "Epoch 440/1000\n",
      "9/9 [==============================] - 0s 13ms/step - loss: 5.1389 - root_mean_squared_error: 2.2669 - val_loss: 24.6209 - val_root_mean_squared_error: 4.9619 - lr: 1.0000e-06\n",
      "Epoch 441/1000\n",
      "9/9 [==============================] - 0s 15ms/step - loss: 5.1366 - root_mean_squared_error: 2.2664 - val_loss: 24.6172 - val_root_mean_squared_error: 4.9616 - lr: 1.0000e-06\n",
      "Epoch 442/1000\n",
      "9/9 [==============================] - 0s 12ms/step - loss: 5.1404 - root_mean_squared_error: 2.2673 - val_loss: 24.6427 - val_root_mean_squared_error: 4.9641 - lr: 1.0000e-06\n",
      "Epoch 443/1000\n",
      "9/9 [==============================] - 0s 13ms/step - loss: 5.1370 - root_mean_squared_error: 2.2665 - val_loss: 24.6012 - val_root_mean_squared_error: 4.9600 - lr: 1.0000e-06\n",
      "Epoch 444/1000\n",
      "9/9 [==============================] - 0s 13ms/step - loss: 5.1314 - root_mean_squared_error: 2.2653 - val_loss: 24.5938 - val_root_mean_squared_error: 4.9592 - lr: 1.0000e-06\n",
      "Epoch 445/1000\n",
      "9/9 [==============================] - 0s 13ms/step - loss: 5.1320 - root_mean_squared_error: 2.2654 - val_loss: 24.5736 - val_root_mean_squared_error: 4.9572 - lr: 1.0000e-06\n",
      "Epoch 446/1000\n",
      "9/9 [==============================] - 0s 13ms/step - loss: 5.1269 - root_mean_squared_error: 2.2643 - val_loss: 24.5962 - val_root_mean_squared_error: 4.9595 - lr: 1.0000e-06\n",
      "Epoch 447/1000\n",
      "9/9 [==============================] - 0s 12ms/step - loss: 5.1264 - root_mean_squared_error: 2.2642 - val_loss: 24.5861 - val_root_mean_squared_error: 4.9584 - lr: 1.0000e-06\n",
      "Epoch 448/1000\n",
      "9/9 [==============================] - 0s 13ms/step - loss: 5.1252 - root_mean_squared_error: 2.2639 - val_loss: 24.5988 - val_root_mean_squared_error: 4.9597 - lr: 1.0000e-06\n",
      "Epoch 449/1000\n",
      "9/9 [==============================] - 0s 14ms/step - loss: 5.1251 - root_mean_squared_error: 2.2639 - val_loss: 24.5841 - val_root_mean_squared_error: 4.9582 - lr: 1.0000e-06\n",
      "Epoch 450/1000\n",
      "9/9 [==============================] - 0s 13ms/step - loss: 5.1199 - root_mean_squared_error: 2.2627 - val_loss: 24.5738 - val_root_mean_squared_error: 4.9572 - lr: 1.0000e-06\n",
      "Epoch 451/1000\n",
      "9/9 [==============================] - 0s 13ms/step - loss: 5.1228 - root_mean_squared_error: 2.2634 - val_loss: 24.5293 - val_root_mean_squared_error: 4.9527 - lr: 1.0000e-06\n",
      "Epoch 452/1000\n",
      "9/9 [==============================] - 0s 13ms/step - loss: 5.1190 - root_mean_squared_error: 2.2625 - val_loss: 24.5305 - val_root_mean_squared_error: 4.9528 - lr: 1.0000e-06\n",
      "Epoch 453/1000\n",
      "9/9 [==============================] - 0s 13ms/step - loss: 5.1154 - root_mean_squared_error: 2.2617 - val_loss: 24.5368 - val_root_mean_squared_error: 4.9535 - lr: 1.0000e-06\n",
      "Epoch 454/1000\n",
      "9/9 [==============================] - 0s 13ms/step - loss: 5.1227 - root_mean_squared_error: 2.2633 - val_loss: 24.5527 - val_root_mean_squared_error: 4.9551 - lr: 1.0000e-06\n",
      "Epoch 455/1000\n",
      "9/9 [==============================] - 0s 12ms/step - loss: 5.1212 - root_mean_squared_error: 2.2630 - val_loss: 24.5120 - val_root_mean_squared_error: 4.9510 - lr: 1.0000e-06\n",
      "Epoch 456/1000\n",
      "9/9 [==============================] - 0s 13ms/step - loss: 5.1119 - root_mean_squared_error: 2.2609 - val_loss: 24.5351 - val_root_mean_squared_error: 4.9533 - lr: 1.0000e-06\n",
      "Epoch 457/1000\n",
      "9/9 [==============================] - 0s 13ms/step - loss: 5.1209 - root_mean_squared_error: 2.2629 - val_loss: 24.5609 - val_root_mean_squared_error: 4.9559 - lr: 1.0000e-06\n",
      "Epoch 458/1000\n",
      "9/9 [==============================] - 0s 13ms/step - loss: 5.1082 - root_mean_squared_error: 2.2601 - val_loss: 24.5198 - val_root_mean_squared_error: 4.9517 - lr: 1.0000e-06\n",
      "Epoch 459/1000\n",
      "9/9 [==============================] - 0s 13ms/step - loss: 5.1063 - root_mean_squared_error: 2.2597 - val_loss: 24.5021 - val_root_mean_squared_error: 4.9500 - lr: 1.0000e-06\n",
      "Epoch 460/1000\n",
      "9/9 [==============================] - 0s 13ms/step - loss: 5.1055 - root_mean_squared_error: 2.2595 - val_loss: 24.4931 - val_root_mean_squared_error: 4.9490 - lr: 1.0000e-06\n",
      "Epoch 461/1000\n",
      "9/9 [==============================] - 0s 13ms/step - loss: 5.1050 - root_mean_squared_error: 2.2594 - val_loss: 24.4703 - val_root_mean_squared_error: 4.9468 - lr: 1.0000e-06\n",
      "Epoch 462/1000\n",
      "9/9 [==============================] - 0s 13ms/step - loss: 5.1026 - root_mean_squared_error: 2.2589 - val_loss: 24.4585 - val_root_mean_squared_error: 4.9456 - lr: 1.0000e-06\n",
      "Epoch 463/1000\n",
      "9/9 [==============================] - 0s 13ms/step - loss: 5.1042 - root_mean_squared_error: 2.2593 - val_loss: 24.4735 - val_root_mean_squared_error: 4.9471 - lr: 1.0000e-06\n",
      "Epoch 464/1000\n",
      "9/9 [==============================] - 0s 13ms/step - loss: 5.0998 - root_mean_squared_error: 2.2583 - val_loss: 24.4857 - val_root_mean_squared_error: 4.9483 - lr: 1.0000e-06\n",
      "Epoch 465/1000\n",
      "9/9 [==============================] - 0s 13ms/step - loss: 5.0942 - root_mean_squared_error: 2.2570 - val_loss: 24.4555 - val_root_mean_squared_error: 4.9453 - lr: 1.0000e-06\n",
      "Epoch 466/1000\n",
      "9/9 [==============================] - 0s 14ms/step - loss: 5.0925 - root_mean_squared_error: 2.2567 - val_loss: 24.4571 - val_root_mean_squared_error: 4.9454 - lr: 1.0000e-06\n",
      "Epoch 467/1000\n",
      "9/9 [==============================] - 0s 13ms/step - loss: 5.0909 - root_mean_squared_error: 2.2563 - val_loss: 24.4377 - val_root_mean_squared_error: 4.9434 - lr: 1.0000e-06\n"
     ]
    },
    {
     "name": "stdout",
     "output_type": "stream",
     "text": [
      "Epoch 468/1000\n",
      "9/9 [==============================] - 0s 13ms/step - loss: 5.0928 - root_mean_squared_error: 2.2567 - val_loss: 24.4023 - val_root_mean_squared_error: 4.9399 - lr: 1.0000e-06\n",
      "Epoch 469/1000\n",
      "9/9 [==============================] - 0s 12ms/step - loss: 5.0947 - root_mean_squared_error: 2.2571 - val_loss: 24.4275 - val_root_mean_squared_error: 4.9424 - lr: 1.0000e-06\n",
      "Epoch 470/1000\n",
      "9/9 [==============================] - 0s 13ms/step - loss: 5.0896 - root_mean_squared_error: 2.2560 - val_loss: 24.3986 - val_root_mean_squared_error: 4.9395 - lr: 1.0000e-06\n",
      "Epoch 471/1000\n",
      "9/9 [==============================] - 0s 12ms/step - loss: 5.0848 - root_mean_squared_error: 2.2550 - val_loss: 24.3874 - val_root_mean_squared_error: 4.9384 - lr: 1.0000e-06\n",
      "Epoch 472/1000\n",
      "9/9 [==============================] - 0s 12ms/step - loss: 5.0854 - root_mean_squared_error: 2.2551 - val_loss: 24.3906 - val_root_mean_squared_error: 4.9387 - lr: 1.0000e-06\n",
      "Epoch 473/1000\n",
      "9/9 [==============================] - 0s 12ms/step - loss: 5.0819 - root_mean_squared_error: 2.2543 - val_loss: 24.3899 - val_root_mean_squared_error: 4.9386 - lr: 1.0000e-06\n",
      "Epoch 474/1000\n",
      "9/9 [==============================] - 0s 13ms/step - loss: 5.0787 - root_mean_squared_error: 2.2536 - val_loss: 24.3843 - val_root_mean_squared_error: 4.9381 - lr: 1.0000e-06\n",
      "Epoch 475/1000\n",
      "9/9 [==============================] - 0s 13ms/step - loss: 5.0788 - root_mean_squared_error: 2.2536 - val_loss: 24.3944 - val_root_mean_squared_error: 4.9391 - lr: 1.0000e-06\n",
      "Epoch 476/1000\n",
      "9/9 [==============================] - 0s 12ms/step - loss: 5.0762 - root_mean_squared_error: 2.2530 - val_loss: 24.3934 - val_root_mean_squared_error: 4.9390 - lr: 1.0000e-06\n",
      "Epoch 477/1000\n",
      "9/9 [==============================] - 0s 13ms/step - loss: 5.0750 - root_mean_squared_error: 2.2528 - val_loss: 24.3614 - val_root_mean_squared_error: 4.9357 - lr: 1.0000e-06\n",
      "Epoch 478/1000\n",
      "9/9 [==============================] - 0s 12ms/step - loss: 5.0727 - root_mean_squared_error: 2.2523 - val_loss: 24.3520 - val_root_mean_squared_error: 4.9348 - lr: 1.0000e-06\n",
      "Epoch 479/1000\n",
      "9/9 [==============================] - 0s 12ms/step - loss: 5.0711 - root_mean_squared_error: 2.2519 - val_loss: 24.3480 - val_root_mean_squared_error: 4.9344 - lr: 1.0000e-06\n",
      "Epoch 480/1000\n",
      "9/9 [==============================] - 0s 13ms/step - loss: 5.0725 - root_mean_squared_error: 2.2522 - val_loss: 24.3586 - val_root_mean_squared_error: 4.9354 - lr: 1.0000e-06\n",
      "Epoch 481/1000\n",
      "9/9 [==============================] - 0s 13ms/step - loss: 5.0728 - root_mean_squared_error: 2.2523 - val_loss: 24.3371 - val_root_mean_squared_error: 4.9333 - lr: 1.0000e-06\n",
      "Epoch 482/1000\n",
      "9/9 [==============================] - 0s 13ms/step - loss: 5.0677 - root_mean_squared_error: 2.2512 - val_loss: 24.3163 - val_root_mean_squared_error: 4.9312 - lr: 1.0000e-06\n",
      "Epoch 483/1000\n",
      "9/9 [==============================] - 0s 13ms/step - loss: 5.0637 - root_mean_squared_error: 2.2503 - val_loss: 24.3091 - val_root_mean_squared_error: 4.9304 - lr: 1.0000e-06\n",
      "Epoch 484/1000\n",
      "9/9 [==============================] - 0s 13ms/step - loss: 5.0658 - root_mean_squared_error: 2.2507 - val_loss: 24.3317 - val_root_mean_squared_error: 4.9327 - lr: 1.0000e-06\n",
      "Epoch 485/1000\n",
      "9/9 [==============================] - 0s 12ms/step - loss: 5.0614 - root_mean_squared_error: 2.2497 - val_loss: 24.3199 - val_root_mean_squared_error: 4.9315 - lr: 1.0000e-06\n",
      "Epoch 486/1000\n",
      "9/9 [==============================] - 0s 13ms/step - loss: 5.0637 - root_mean_squared_error: 2.2503 - val_loss: 24.3403 - val_root_mean_squared_error: 4.9336 - lr: 1.0000e-06\n",
      "Epoch 487/1000\n",
      "9/9 [==============================] - 0s 13ms/step - loss: 5.0562 - root_mean_squared_error: 2.2486 - val_loss: 24.3074 - val_root_mean_squared_error: 4.9303 - lr: 1.0000e-06\n",
      "Epoch 488/1000\n",
      "9/9 [==============================] - 0s 13ms/step - loss: 5.0561 - root_mean_squared_error: 2.2486 - val_loss: 24.3025 - val_root_mean_squared_error: 4.9298 - lr: 1.0000e-06\n",
      "Epoch 489/1000\n",
      "9/9 [==============================] - 0s 13ms/step - loss: 5.0551 - root_mean_squared_error: 2.2483 - val_loss: 24.2992 - val_root_mean_squared_error: 4.9294 - lr: 1.0000e-06\n",
      "Epoch 490/1000\n",
      "9/9 [==============================] - 0s 13ms/step - loss: 5.0533 - root_mean_squared_error: 2.2480 - val_loss: 24.2768 - val_root_mean_squared_error: 4.9272 - lr: 1.0000e-06\n",
      "Epoch 491/1000\n",
      "9/9 [==============================] - 0s 12ms/step - loss: 5.0548 - root_mean_squared_error: 2.2483 - val_loss: 24.2853 - val_root_mean_squared_error: 4.9280 - lr: 1.0000e-06\n",
      "Epoch 492/1000\n",
      "9/9 [==============================] - 0s 12ms/step - loss: 5.0584 - root_mean_squared_error: 2.2491 - val_loss: 24.2434 - val_root_mean_squared_error: 4.9238 - lr: 1.0000e-06\n",
      "Epoch 493/1000\n",
      "9/9 [==============================] - 0s 13ms/step - loss: 5.0545 - root_mean_squared_error: 2.2482 - val_loss: 24.2790 - val_root_mean_squared_error: 4.9274 - lr: 1.0000e-06\n",
      "Epoch 494/1000\n",
      "9/9 [==============================] - 0s 13ms/step - loss: 5.0453 - root_mean_squared_error: 2.2462 - val_loss: 24.2902 - val_root_mean_squared_error: 4.9285 - lr: 1.0000e-06\n",
      "Epoch 495/1000\n",
      "9/9 [==============================] - 0s 12ms/step - loss: 5.0435 - root_mean_squared_error: 2.2458 - val_loss: 24.2698 - val_root_mean_squared_error: 4.9264 - lr: 1.0000e-06\n",
      "Epoch 496/1000\n",
      "9/9 [==============================] - 0s 13ms/step - loss: 5.0427 - root_mean_squared_error: 2.2456 - val_loss: 24.2766 - val_root_mean_squared_error: 4.9271 - lr: 1.0000e-06\n",
      "Epoch 497/1000\n",
      "9/9 [==============================] - 0s 12ms/step - loss: 5.0393 - root_mean_squared_error: 2.2448 - val_loss: 24.2558 - val_root_mean_squared_error: 4.9250 - lr: 1.0000e-06\n",
      "Epoch 498/1000\n",
      "9/9 [==============================] - 0s 13ms/step - loss: 5.0377 - root_mean_squared_error: 2.2445 - val_loss: 24.2471 - val_root_mean_squared_error: 4.9241 - lr: 1.0000e-06\n",
      "Epoch 499/1000\n",
      "9/9 [==============================] - 0s 12ms/step - loss: 5.0369 - root_mean_squared_error: 2.2443 - val_loss: 24.2367 - val_root_mean_squared_error: 4.9231 - lr: 1.0000e-06\n",
      "Epoch 500/1000\n",
      "9/9 [==============================] - 0s 13ms/step - loss: 5.0359 - root_mean_squared_error: 2.2441 - val_loss: 24.2342 - val_root_mean_squared_error: 4.9228 - lr: 1.0000e-06\n",
      "Epoch 501/1000\n",
      "9/9 [==============================] - 0s 13ms/step - loss: 5.0369 - root_mean_squared_error: 2.2443 - val_loss: 24.2087 - val_root_mean_squared_error: 4.9202 - lr: 1.0000e-06\n",
      "Epoch 502/1000\n",
      "9/9 [==============================] - 0s 13ms/step - loss: 5.0326 - root_mean_squared_error: 2.2434 - val_loss: 24.1943 - val_root_mean_squared_error: 4.9188 - lr: 1.0000e-06\n",
      "Epoch 503/1000\n",
      "9/9 [==============================] - 0s 13ms/step - loss: 5.0303 - root_mean_squared_error: 2.2428 - val_loss: 24.1925 - val_root_mean_squared_error: 4.9186 - lr: 1.0000e-06\n",
      "Epoch 504/1000\n",
      "9/9 [==============================] - 0s 15ms/step - loss: 5.0316 - root_mean_squared_error: 2.2431 - val_loss: 24.1995 - val_root_mean_squared_error: 4.9193 - lr: 1.0000e-06\n",
      "Epoch 505/1000\n",
      "9/9 [==============================] - 0s 14ms/step - loss: 5.0285 - root_mean_squared_error: 2.2424 - val_loss: 24.2229 - val_root_mean_squared_error: 4.9217 - lr: 1.0000e-06\n",
      "Epoch 506/1000\n",
      "9/9 [==============================] - 0s 14ms/step - loss: 5.0241 - root_mean_squared_error: 2.2415 - val_loss: 24.2126 - val_root_mean_squared_error: 4.9206 - lr: 1.0000e-06\n",
      "Epoch 507/1000\n",
      "9/9 [==============================] - 0s 12ms/step - loss: 5.0380 - root_mean_squared_error: 2.2445 - val_loss: 24.2406 - val_root_mean_squared_error: 4.9235 - lr: 1.0000e-06\n",
      "Epoch 508/1000\n",
      "9/9 [==============================] - 0s 13ms/step - loss: 5.0275 - root_mean_squared_error: 2.2422 - val_loss: 24.1843 - val_root_mean_squared_error: 4.9178 - lr: 1.0000e-06\n",
      "Epoch 509/1000\n",
      "9/9 [==============================] - 0s 12ms/step - loss: 5.0212 - root_mean_squared_error: 2.2408 - val_loss: 24.1753 - val_root_mean_squared_error: 4.9168 - lr: 1.0000e-06\n",
      "Epoch 510/1000\n",
      "9/9 [==============================] - 0s 13ms/step - loss: 5.0169 - root_mean_squared_error: 2.2398 - val_loss: 24.1673 - val_root_mean_squared_error: 4.9160 - lr: 1.0000e-06\n"
     ]
    },
    {
     "name": "stdout",
     "output_type": "stream",
     "text": [
      "Epoch 511/1000\n",
      "9/9 [==============================] - 0s 13ms/step - loss: 5.0192 - root_mean_squared_error: 2.2404 - val_loss: 24.1967 - val_root_mean_squared_error: 4.9190 - lr: 1.0000e-06\n",
      "Epoch 512/1000\n",
      "9/9 [==============================] - 0s 13ms/step - loss: 5.0142 - root_mean_squared_error: 2.2392 - val_loss: 24.1706 - val_root_mean_squared_error: 4.9164 - lr: 1.0000e-06\n",
      "Epoch 513/1000\n",
      "9/9 [==============================] - 0s 13ms/step - loss: 5.0294 - root_mean_squared_error: 2.2426 - val_loss: 24.1310 - val_root_mean_squared_error: 4.9123 - lr: 1.0000e-06\n",
      "Epoch 514/1000\n",
      "9/9 [==============================] - 0s 13ms/step - loss: 5.0157 - root_mean_squared_error: 2.2396 - val_loss: 24.1321 - val_root_mean_squared_error: 4.9124 - lr: 1.0000e-06\n",
      "Epoch 515/1000\n",
      "9/9 [==============================] - 0s 14ms/step - loss: 5.0114 - root_mean_squared_error: 2.2386 - val_loss: 24.1235 - val_root_mean_squared_error: 4.9116 - lr: 1.0000e-06\n",
      "Epoch 516/1000\n",
      "9/9 [==============================] - 0s 12ms/step - loss: 5.0079 - root_mean_squared_error: 2.2378 - val_loss: 24.1191 - val_root_mean_squared_error: 4.9111 - lr: 1.0000e-06\n",
      "Epoch 517/1000\n",
      "9/9 [==============================] - 0s 12ms/step - loss: 5.0074 - root_mean_squared_error: 2.2377 - val_loss: 24.1513 - val_root_mean_squared_error: 4.9144 - lr: 1.0000e-06\n",
      "Epoch 518/1000\n",
      "9/9 [==============================] - 0s 13ms/step - loss: 5.0047 - root_mean_squared_error: 2.2371 - val_loss: 24.1605 - val_root_mean_squared_error: 4.9153 - lr: 1.0000e-06\n",
      "Epoch 519/1000\n",
      "9/9 [==============================] - 0s 13ms/step - loss: 5.0135 - root_mean_squared_error: 2.2391 - val_loss: 24.1203 - val_root_mean_squared_error: 4.9112 - lr: 1.0000e-06\n",
      "Epoch 520/1000\n",
      "9/9 [==============================] - 0s 13ms/step - loss: 5.0059 - root_mean_squared_error: 2.2374 - val_loss: 24.1279 - val_root_mean_squared_error: 4.9120 - lr: 1.0000e-06\n",
      "Epoch 521/1000\n",
      "9/9 [==============================] - 0s 13ms/step - loss: 5.0009 - root_mean_squared_error: 2.2363 - val_loss: 24.1350 - val_root_mean_squared_error: 4.9127 - lr: 1.0000e-06\n",
      "Epoch 522/1000\n",
      "9/9 [==============================] - 0s 13ms/step - loss: 5.0038 - root_mean_squared_error: 2.2369 - val_loss: 24.0906 - val_root_mean_squared_error: 4.9082 - lr: 1.0000e-06\n",
      "Epoch 523/1000\n",
      "9/9 [==============================] - 0s 15ms/step - loss: 4.9983 - root_mean_squared_error: 2.2357 - val_loss: 24.0741 - val_root_mean_squared_error: 4.9065 - lr: 1.0000e-06\n",
      "Epoch 524/1000\n",
      "9/9 [==============================] - 0s 12ms/step - loss: 5.0016 - root_mean_squared_error: 2.2364 - val_loss: 24.0901 - val_root_mean_squared_error: 4.9082 - lr: 1.0000e-06\n",
      "Epoch 525/1000\n",
      "9/9 [==============================] - 0s 13ms/step - loss: 4.9920 - root_mean_squared_error: 2.2343 - val_loss: 24.0756 - val_root_mean_squared_error: 4.9067 - lr: 1.0000e-06\n",
      "Epoch 526/1000\n",
      "9/9 [==============================] - 0s 13ms/step - loss: 4.9934 - root_mean_squared_error: 2.2346 - val_loss: 24.0529 - val_root_mean_squared_error: 4.9044 - lr: 1.0000e-06\n",
      "Epoch 527/1000\n",
      "9/9 [==============================] - 0s 13ms/step - loss: 4.9900 - root_mean_squared_error: 2.2338 - val_loss: 24.0878 - val_root_mean_squared_error: 4.9079 - lr: 1.0000e-06\n",
      "Epoch 528/1000\n",
      "9/9 [==============================] - 0s 12ms/step - loss: 4.9912 - root_mean_squared_error: 2.2341 - val_loss: 24.1032 - val_root_mean_squared_error: 4.9095 - lr: 1.0000e-06\n",
      "Epoch 529/1000\n",
      "9/9 [==============================] - 0s 13ms/step - loss: 4.9860 - root_mean_squared_error: 2.2329 - val_loss: 24.0822 - val_root_mean_squared_error: 4.9074 - lr: 1.0000e-06\n",
      "Epoch 530/1000\n",
      "9/9 [==============================] - 0s 13ms/step - loss: 4.9829 - root_mean_squared_error: 2.2322 - val_loss: 24.0658 - val_root_mean_squared_error: 4.9057 - lr: 1.0000e-06\n",
      "Epoch 531/1000\n",
      "9/9 [==============================] - 0s 13ms/step - loss: 4.9820 - root_mean_squared_error: 2.2320 - val_loss: 24.0406 - val_root_mean_squared_error: 4.9031 - lr: 1.0000e-06\n",
      "Epoch 532/1000\n",
      "9/9 [==============================] - 0s 13ms/step - loss: 4.9876 - root_mean_squared_error: 2.2333 - val_loss: 24.0668 - val_root_mean_squared_error: 4.9058 - lr: 1.0000e-06\n",
      "Epoch 533/1000\n",
      "9/9 [==============================] - 0s 12ms/step - loss: 4.9916 - root_mean_squared_error: 2.2342 - val_loss: 24.0327 - val_root_mean_squared_error: 4.9023 - lr: 1.0000e-06\n",
      "Epoch 534/1000\n",
      "9/9 [==============================] - 0s 13ms/step - loss: 4.9799 - root_mean_squared_error: 2.2316 - val_loss: 24.0508 - val_root_mean_squared_error: 4.9042 - lr: 1.0000e-06\n",
      "Epoch 535/1000\n",
      "9/9 [==============================] - 0s 12ms/step - loss: 4.9800 - root_mean_squared_error: 2.2316 - val_loss: 24.0191 - val_root_mean_squared_error: 4.9009 - lr: 1.0000e-06\n",
      "Epoch 536/1000\n",
      "9/9 [==============================] - 0s 13ms/step - loss: 4.9759 - root_mean_squared_error: 2.2307 - val_loss: 24.0293 - val_root_mean_squared_error: 4.9020 - lr: 1.0000e-06\n",
      "Epoch 537/1000\n",
      "9/9 [==============================] - 0s 13ms/step - loss: 4.9738 - root_mean_squared_error: 2.2302 - val_loss: 24.0092 - val_root_mean_squared_error: 4.8999 - lr: 1.0000e-06\n",
      "Epoch 538/1000\n",
      "9/9 [==============================] - 0s 13ms/step - loss: 4.9690 - root_mean_squared_error: 2.2291 - val_loss: 24.0202 - val_root_mean_squared_error: 4.9010 - lr: 1.0000e-06\n",
      "Epoch 539/1000\n",
      "9/9 [==============================] - 0s 12ms/step - loss: 4.9694 - root_mean_squared_error: 2.2292 - val_loss: 24.0303 - val_root_mean_squared_error: 4.9021 - lr: 1.0000e-06\n",
      "Epoch 540/1000\n",
      "9/9 [==============================] - 0s 12ms/step - loss: 4.9689 - root_mean_squared_error: 2.2291 - val_loss: 23.9978 - val_root_mean_squared_error: 4.8988 - lr: 1.0000e-06\n",
      "Epoch 541/1000\n",
      "9/9 [==============================] - 0s 13ms/step - loss: 4.9656 - root_mean_squared_error: 2.2284 - val_loss: 23.9767 - val_root_mean_squared_error: 4.8966 - lr: 1.0000e-06\n",
      "Epoch 542/1000\n",
      "9/9 [==============================] - 0s 13ms/step - loss: 4.9631 - root_mean_squared_error: 2.2278 - val_loss: 23.9568 - val_root_mean_squared_error: 4.8946 - lr: 1.0000e-06\n",
      "Epoch 543/1000\n",
      "9/9 [==============================] - 0s 13ms/step - loss: 4.9637 - root_mean_squared_error: 2.2279 - val_loss: 23.9624 - val_root_mean_squared_error: 4.8951 - lr: 1.0000e-06\n",
      "Epoch 544/1000\n",
      "9/9 [==============================] - 0s 12ms/step - loss: 4.9592 - root_mean_squared_error: 2.2269 - val_loss: 23.9734 - val_root_mean_squared_error: 4.8963 - lr: 1.0000e-06\n",
      "Epoch 545/1000\n",
      "9/9 [==============================] - 0s 13ms/step - loss: 4.9580 - root_mean_squared_error: 2.2267 - val_loss: 23.9863 - val_root_mean_squared_error: 4.8976 - lr: 1.0000e-06\n",
      "Epoch 546/1000\n",
      "9/9 [==============================] - 0s 13ms/step - loss: 4.9561 - root_mean_squared_error: 2.2262 - val_loss: 23.9786 - val_root_mean_squared_error: 4.8968 - lr: 1.0000e-06\n",
      "Epoch 547/1000\n",
      "9/9 [==============================] - 0s 13ms/step - loss: 4.9546 - root_mean_squared_error: 2.2259 - val_loss: 23.9729 - val_root_mean_squared_error: 4.8962 - lr: 1.0000e-06\n",
      "Epoch 548/1000\n",
      "9/9 [==============================] - 0s 13ms/step - loss: 4.9544 - root_mean_squared_error: 2.2259 - val_loss: 23.9654 - val_root_mean_squared_error: 4.8954 - lr: 1.0000e-06\n",
      "Epoch 549/1000\n",
      "9/9 [==============================] - 0s 13ms/step - loss: 4.9503 - root_mean_squared_error: 2.2249 - val_loss: 23.9436 - val_root_mean_squared_error: 4.8932 - lr: 1.0000e-06\n",
      "Epoch 550/1000\n",
      "9/9 [==============================] - 0s 12ms/step - loss: 4.9575 - root_mean_squared_error: 2.2265 - val_loss: 23.9796 - val_root_mean_squared_error: 4.8969 - lr: 1.0000e-06\n",
      "Epoch 551/1000\n",
      "9/9 [==============================] - 0s 13ms/step - loss: 4.9461 - root_mean_squared_error: 2.2240 - val_loss: 23.9619 - val_root_mean_squared_error: 4.8951 - lr: 1.0000e-06\n",
      "Epoch 552/1000\n",
      "9/9 [==============================] - 0s 13ms/step - loss: 4.9497 - root_mean_squared_error: 2.2248 - val_loss: 23.9242 - val_root_mean_squared_error: 4.8912 - lr: 1.0000e-06\n",
      "Epoch 553/1000\n",
      "9/9 [==============================] - 0s 13ms/step - loss: 4.9467 - root_mean_squared_error: 2.2241 - val_loss: 23.9385 - val_root_mean_squared_error: 4.8927 - lr: 1.0000e-06\n"
     ]
    },
    {
     "name": "stdout",
     "output_type": "stream",
     "text": [
      "Epoch 554/1000\n",
      "9/9 [==============================] - 0s 12ms/step - loss: 4.9471 - root_mean_squared_error: 2.2242 - val_loss: 23.8944 - val_root_mean_squared_error: 4.8882 - lr: 1.0000e-06\n",
      "Epoch 555/1000\n",
      "9/9 [==============================] - 0s 12ms/step - loss: 4.9417 - root_mean_squared_error: 2.2230 - val_loss: 23.8995 - val_root_mean_squared_error: 4.8887 - lr: 1.0000e-06\n",
      "Epoch 556/1000\n",
      "9/9 [==============================] - 0s 13ms/step - loss: 4.9389 - root_mean_squared_error: 2.2224 - val_loss: 23.9072 - val_root_mean_squared_error: 4.8895 - lr: 1.0000e-06\n",
      "Epoch 557/1000\n",
      "9/9 [==============================] - 0s 13ms/step - loss: 4.9424 - root_mean_squared_error: 2.2232 - val_loss: 23.9420 - val_root_mean_squared_error: 4.8931 - lr: 1.0000e-06\n",
      "Epoch 558/1000\n",
      "9/9 [==============================] - 0s 13ms/step - loss: 4.9348 - root_mean_squared_error: 2.2214 - val_loss: 23.9246 - val_root_mean_squared_error: 4.8913 - lr: 1.0000e-06\n",
      "Epoch 559/1000\n",
      "9/9 [==============================] - 0s 12ms/step - loss: 4.9330 - root_mean_squared_error: 2.2210 - val_loss: 23.9029 - val_root_mean_squared_error: 4.8891 - lr: 1.0000e-06\n",
      "Epoch 560/1000\n",
      "9/9 [==============================] - 0s 13ms/step - loss: 4.9346 - root_mean_squared_error: 2.2214 - val_loss: 23.8963 - val_root_mean_squared_error: 4.8884 - lr: 1.0000e-06\n",
      "Epoch 561/1000\n",
      "9/9 [==============================] - 0s 13ms/step - loss: 4.9398 - root_mean_squared_error: 2.2226 - val_loss: 23.8576 - val_root_mean_squared_error: 4.8844 - lr: 1.0000e-06\n",
      "Epoch 562/1000\n",
      "9/9 [==============================] - 0s 12ms/step - loss: 4.9282 - root_mean_squared_error: 2.2200 - val_loss: 23.8570 - val_root_mean_squared_error: 4.8844 - lr: 1.0000e-06\n",
      "Epoch 563/1000\n",
      "9/9 [==============================] - 0s 12ms/step - loss: 4.9328 - root_mean_squared_error: 2.2210 - val_loss: 23.8254 - val_root_mean_squared_error: 4.8811 - lr: 1.0000e-06\n",
      "Epoch 564/1000\n",
      "9/9 [==============================] - 0s 13ms/step - loss: 4.9236 - root_mean_squared_error: 2.2189 - val_loss: 23.8607 - val_root_mean_squared_error: 4.8847 - lr: 1.0000e-06\n",
      "Epoch 565/1000\n",
      "9/9 [==============================] - 0s 12ms/step - loss: 4.9278 - root_mean_squared_error: 2.2199 - val_loss: 23.8439 - val_root_mean_squared_error: 4.8830 - lr: 1.0000e-06\n",
      "Epoch 566/1000\n",
      "9/9 [==============================] - 0s 13ms/step - loss: 4.9244 - root_mean_squared_error: 2.2191 - val_loss: 23.8699 - val_root_mean_squared_error: 4.8857 - lr: 1.0000e-06\n",
      "Epoch 567/1000\n",
      "9/9 [==============================] - 0s 13ms/step - loss: 4.9204 - root_mean_squared_error: 2.2182 - val_loss: 23.8862 - val_root_mean_squared_error: 4.8874 - lr: 1.0000e-06\n",
      "Epoch 568/1000\n",
      "9/9 [==============================] - 0s 12ms/step - loss: 4.9197 - root_mean_squared_error: 2.2180 - val_loss: 23.8954 - val_root_mean_squared_error: 4.8883 - lr: 1.0000e-06\n",
      "Epoch 569/1000\n",
      "9/9 [==============================] - 0s 13ms/step - loss: 4.9226 - root_mean_squared_error: 2.2187 - val_loss: 23.8417 - val_root_mean_squared_error: 4.8828 - lr: 1.0000e-06\n",
      "Epoch 570/1000\n",
      "9/9 [==============================] - 0s 12ms/step - loss: 4.9146 - root_mean_squared_error: 2.2169 - val_loss: 23.8548 - val_root_mean_squared_error: 4.8841 - lr: 1.0000e-06\n",
      "Epoch 571/1000\n",
      "9/9 [==============================] - 0s 12ms/step - loss: 4.9182 - root_mean_squared_error: 2.2177 - val_loss: 23.8351 - val_root_mean_squared_error: 4.8821 - lr: 1.0000e-06\n",
      "Epoch 572/1000\n",
      "9/9 [==============================] - 0s 13ms/step - loss: 4.9109 - root_mean_squared_error: 2.2161 - val_loss: 23.8437 - val_root_mean_squared_error: 4.8830 - lr: 1.0000e-06\n",
      "Epoch 573/1000\n",
      "9/9 [==============================] - 0s 13ms/step - loss: 4.9118 - root_mean_squared_error: 2.2163 - val_loss: 23.8581 - val_root_mean_squared_error: 4.8845 - lr: 1.0000e-06\n",
      "Epoch 574/1000\n",
      "9/9 [==============================] - 0s 12ms/step - loss: 4.9070 - root_mean_squared_error: 2.2152 - val_loss: 23.8457 - val_root_mean_squared_error: 4.8832 - lr: 1.0000e-06\n",
      "Epoch 575/1000\n",
      "9/9 [==============================] - 0s 13ms/step - loss: 4.9058 - root_mean_squared_error: 2.2149 - val_loss: 23.8142 - val_root_mean_squared_error: 4.8800 - lr: 1.0000e-06\n",
      "Epoch 576/1000\n",
      "9/9 [==============================] - 0s 13ms/step - loss: 4.9051 - root_mean_squared_error: 2.2147 - val_loss: 23.7831 - val_root_mean_squared_error: 4.8768 - lr: 1.0000e-06\n",
      "Epoch 577/1000\n",
      "9/9 [==============================] - 0s 13ms/step - loss: 4.9020 - root_mean_squared_error: 2.2140 - val_loss: 23.7932 - val_root_mean_squared_error: 4.8778 - lr: 1.0000e-06\n",
      "Epoch 578/1000\n",
      "9/9 [==============================] - 0s 13ms/step - loss: 4.9016 - root_mean_squared_error: 2.2140 - val_loss: 23.7872 - val_root_mean_squared_error: 4.8772 - lr: 1.0000e-06\n",
      "Epoch 579/1000\n",
      "9/9 [==============================] - 0s 13ms/step - loss: 4.9011 - root_mean_squared_error: 2.2138 - val_loss: 23.8205 - val_root_mean_squared_error: 4.8806 - lr: 1.0000e-06\n",
      "Epoch 580/1000\n",
      "9/9 [==============================] - 0s 13ms/step - loss: 4.9137 - root_mean_squared_error: 2.2167 - val_loss: 23.7705 - val_root_mean_squared_error: 4.8755 - lr: 1.0000e-06\n",
      "Epoch 581/1000\n",
      "9/9 [==============================] - 0s 13ms/step - loss: 4.9048 - root_mean_squared_error: 2.2147 - val_loss: 23.8174 - val_root_mean_squared_error: 4.8803 - lr: 1.0000e-06\n",
      "Epoch 582/1000\n",
      "9/9 [==============================] - 0s 15ms/step - loss: 4.8974 - root_mean_squared_error: 2.2130 - val_loss: 23.7744 - val_root_mean_squared_error: 4.8759 - lr: 1.0000e-06\n",
      "Epoch 583/1000\n",
      "9/9 [==============================] - 0s 13ms/step - loss: 4.8977 - root_mean_squared_error: 2.2131 - val_loss: 23.7377 - val_root_mean_squared_error: 4.8721 - lr: 1.0000e-06\n",
      "Epoch 584/1000\n",
      "9/9 [==============================] - 0s 13ms/step - loss: 4.8947 - root_mean_squared_error: 2.2124 - val_loss: 23.7550 - val_root_mean_squared_error: 4.8739 - lr: 1.0000e-06\n",
      "Epoch 585/1000\n",
      "9/9 [==============================] - 0s 13ms/step - loss: 4.8883 - root_mean_squared_error: 2.2110 - val_loss: 23.7592 - val_root_mean_squared_error: 4.8743 - lr: 1.0000e-06\n",
      "Epoch 586/1000\n",
      "9/9 [==============================] - 0s 13ms/step - loss: 4.8887 - root_mean_squared_error: 2.2110 - val_loss: 23.7586 - val_root_mean_squared_error: 4.8743 - lr: 1.0000e-06\n",
      "Epoch 587/1000\n",
      "9/9 [==============================] - 0s 13ms/step - loss: 4.8900 - root_mean_squared_error: 2.2113 - val_loss: 23.7934 - val_root_mean_squared_error: 4.8779 - lr: 1.0000e-06\n",
      "Epoch 588/1000\n",
      "9/9 [==============================] - 0s 13ms/step - loss: 4.8855 - root_mean_squared_error: 2.2103 - val_loss: 23.7457 - val_root_mean_squared_error: 4.8730 - lr: 1.0000e-06\n",
      "Epoch 589/1000\n",
      "9/9 [==============================] - 0s 12ms/step - loss: 4.8857 - root_mean_squared_error: 2.2104 - val_loss: 23.7330 - val_root_mean_squared_error: 4.8717 - lr: 1.0000e-06\n",
      "Epoch 590/1000\n",
      "9/9 [==============================] - 0s 13ms/step - loss: 4.8854 - root_mean_squared_error: 2.2103 - val_loss: 23.7775 - val_root_mean_squared_error: 4.8762 - lr: 1.0000e-06\n",
      "Epoch 591/1000\n",
      "9/9 [==============================] - 0s 13ms/step - loss: 4.8806 - root_mean_squared_error: 2.2092 - val_loss: 23.7924 - val_root_mean_squared_error: 4.8777 - lr: 1.0000e-06\n",
      "Epoch 592/1000\n",
      "9/9 [==============================] - 0s 13ms/step - loss: 4.8750 - root_mean_squared_error: 2.2079 - val_loss: 23.7714 - val_root_mean_squared_error: 4.8756 - lr: 1.0000e-06\n",
      "Epoch 593/1000\n",
      "9/9 [==============================] - 0s 13ms/step - loss: 4.8738 - root_mean_squared_error: 2.2077 - val_loss: 23.7514 - val_root_mean_squared_error: 4.8735 - lr: 1.0000e-06\n",
      "Epoch 594/1000\n",
      "9/9 [==============================] - 0s 13ms/step - loss: 4.8720 - root_mean_squared_error: 2.2073 - val_loss: 23.7303 - val_root_mean_squared_error: 4.8714 - lr: 1.0000e-06\n",
      "Epoch 595/1000\n",
      "9/9 [==============================] - 0s 12ms/step - loss: 4.8804 - root_mean_squared_error: 2.2092 - val_loss: 23.7709 - val_root_mean_squared_error: 4.8755 - lr: 1.0000e-06\n",
      "Epoch 596/1000\n",
      "9/9 [==============================] - 0s 13ms/step - loss: 4.8800 - root_mean_squared_error: 2.2091 - val_loss: 23.7038 - val_root_mean_squared_error: 4.8687 - lr: 1.0000e-06\n"
     ]
    },
    {
     "name": "stdout",
     "output_type": "stream",
     "text": [
      "Epoch 597/1000\n",
      "9/9 [==============================] - 0s 13ms/step - loss: 4.8709 - root_mean_squared_error: 2.2070 - val_loss: 23.6955 - val_root_mean_squared_error: 4.8678 - lr: 1.0000e-06\n",
      "Epoch 598/1000\n",
      "9/9 [==============================] - 0s 13ms/step - loss: 4.8701 - root_mean_squared_error: 2.2068 - val_loss: 23.7174 - val_root_mean_squared_error: 4.8701 - lr: 1.0000e-06\n",
      "Epoch 599/1000\n",
      "9/9 [==============================] - 0s 13ms/step - loss: 4.8634 - root_mean_squared_error: 2.2053 - val_loss: 23.6943 - val_root_mean_squared_error: 4.8677 - lr: 1.0000e-06\n",
      "Epoch 600/1000\n",
      "9/9 [==============================] - 0s 13ms/step - loss: 4.8648 - root_mean_squared_error: 2.2056 - val_loss: 23.7282 - val_root_mean_squared_error: 4.8712 - lr: 1.0000e-06\n",
      "Epoch 601/1000\n",
      "9/9 [==============================] - 0s 12ms/step - loss: 4.8609 - root_mean_squared_error: 2.2048 - val_loss: 23.7117 - val_root_mean_squared_error: 4.8695 - lr: 1.0000e-06\n",
      "Epoch 602/1000\n",
      "9/9 [==============================] - 0s 13ms/step - loss: 4.8633 - root_mean_squared_error: 2.2053 - val_loss: 23.6437 - val_root_mean_squared_error: 4.8625 - lr: 1.0000e-06\n",
      "Epoch 603/1000\n",
      "9/9 [==============================] - 0s 13ms/step - loss: 4.8581 - root_mean_squared_error: 2.2041 - val_loss: 23.6520 - val_root_mean_squared_error: 4.8633 - lr: 1.0000e-06\n",
      "Epoch 604/1000\n",
      "9/9 [==============================] - 0s 12ms/step - loss: 4.8550 - root_mean_squared_error: 2.2034 - val_loss: 23.6650 - val_root_mean_squared_error: 4.8647 - lr: 1.0000e-06\n",
      "Epoch 605/1000\n",
      "9/9 [==============================] - 0s 12ms/step - loss: 4.8538 - root_mean_squared_error: 2.2031 - val_loss: 23.6776 - val_root_mean_squared_error: 4.8660 - lr: 1.0000e-06\n",
      "Epoch 606/1000\n",
      "9/9 [==============================] - 0s 13ms/step - loss: 4.8510 - root_mean_squared_error: 2.2025 - val_loss: 23.6848 - val_root_mean_squared_error: 4.8667 - lr: 1.0000e-06\n",
      "Epoch 607/1000\n",
      "9/9 [==============================] - 0s 10ms/step - loss: 4.8535 - root_mean_squared_error: 2.2031 - val_loss: 23.7039 - val_root_mean_squared_error: 4.8687 - lr: 1.0000e-06\n",
      "Epoch 608/1000\n",
      "9/9 [==============================] - 0s 12ms/step - loss: 4.8505 - root_mean_squared_error: 2.2024 - val_loss: 23.6526 - val_root_mean_squared_error: 4.8634 - lr: 1.0000e-06\n",
      "Epoch 609/1000\n",
      "9/9 [==============================] - 0s 12ms/step - loss: 4.8517 - root_mean_squared_error: 2.2027 - val_loss: 23.6901 - val_root_mean_squared_error: 4.8672 - lr: 1.0000e-06\n",
      "Epoch 610/1000\n",
      "9/9 [==============================] - 0s 12ms/step - loss: 4.8468 - root_mean_squared_error: 2.2015 - val_loss: 23.6452 - val_root_mean_squared_error: 4.8626 - lr: 1.0000e-06\n",
      "Epoch 611/1000\n",
      "9/9 [==============================] - 0s 13ms/step - loss: 4.8435 - root_mean_squared_error: 2.2008 - val_loss: 23.6283 - val_root_mean_squared_error: 4.8609 - lr: 1.0000e-06\n",
      "Epoch 612/1000\n",
      "9/9 [==============================] - 0s 13ms/step - loss: 4.8398 - root_mean_squared_error: 2.2000 - val_loss: 23.6436 - val_root_mean_squared_error: 4.8625 - lr: 1.0000e-06\n",
      "Epoch 613/1000\n",
      "9/9 [==============================] - 0s 12ms/step - loss: 4.8387 - root_mean_squared_error: 2.1997 - val_loss: 23.6505 - val_root_mean_squared_error: 4.8632 - lr: 1.0000e-06\n",
      "Epoch 614/1000\n",
      "9/9 [==============================] - 0s 13ms/step - loss: 4.8389 - root_mean_squared_error: 2.1997 - val_loss: 23.6562 - val_root_mean_squared_error: 4.8638 - lr: 1.0000e-06\n",
      "Epoch 615/1000\n",
      "9/9 [==============================] - 0s 12ms/step - loss: 4.8415 - root_mean_squared_error: 2.2004 - val_loss: 23.6834 - val_root_mean_squared_error: 4.8666 - lr: 1.0000e-06\n",
      "Epoch 616/1000\n",
      "9/9 [==============================] - 0s 12ms/step - loss: 4.8341 - root_mean_squared_error: 2.1987 - val_loss: 23.6285 - val_root_mean_squared_error: 4.8609 - lr: 1.0000e-06\n",
      "Epoch 617/1000\n",
      "9/9 [==============================] - 0s 12ms/step - loss: 4.8309 - root_mean_squared_error: 2.1979 - val_loss: 23.6246 - val_root_mean_squared_error: 4.8605 - lr: 1.0000e-06\n",
      "Epoch 618/1000\n",
      "9/9 [==============================] - 0s 12ms/step - loss: 4.8300 - root_mean_squared_error: 2.1977 - val_loss: 23.6368 - val_root_mean_squared_error: 4.8618 - lr: 1.0000e-06\n",
      "Epoch 619/1000\n",
      "9/9 [==============================] - 0s 13ms/step - loss: 4.8274 - root_mean_squared_error: 2.1971 - val_loss: 23.6273 - val_root_mean_squared_error: 4.8608 - lr: 1.0000e-06\n",
      "Epoch 620/1000\n",
      "9/9 [==============================] - 0s 13ms/step - loss: 4.8271 - root_mean_squared_error: 2.1971 - val_loss: 23.6143 - val_root_mean_squared_error: 4.8595 - lr: 1.0000e-06\n",
      "Epoch 621/1000\n",
      "9/9 [==============================] - 0s 13ms/step - loss: 4.8251 - root_mean_squared_error: 2.1966 - val_loss: 23.6262 - val_root_mean_squared_error: 4.8607 - lr: 1.0000e-06\n",
      "Epoch 622/1000\n",
      "9/9 [==============================] - 0s 13ms/step - loss: 4.8243 - root_mean_squared_error: 2.1964 - val_loss: 23.5694 - val_root_mean_squared_error: 4.8548 - lr: 1.0000e-06\n",
      "Epoch 623/1000\n",
      "9/9 [==============================] - 0s 13ms/step - loss: 4.8260 - root_mean_squared_error: 2.1968 - val_loss: 23.6153 - val_root_mean_squared_error: 4.8596 - lr: 1.0000e-06\n",
      "Epoch 624/1000\n",
      "9/9 [==============================] - 0s 13ms/step - loss: 4.8234 - root_mean_squared_error: 2.1962 - val_loss: 23.5716 - val_root_mean_squared_error: 4.8551 - lr: 1.0000e-06\n",
      "Epoch 625/1000\n",
      "9/9 [==============================] - 0s 13ms/step - loss: 4.8171 - root_mean_squared_error: 2.1948 - val_loss: 23.5597 - val_root_mean_squared_error: 4.8538 - lr: 1.0000e-06\n",
      "Epoch 626/1000\n",
      "9/9 [==============================] - 0s 13ms/step - loss: 4.8152 - root_mean_squared_error: 2.1944 - val_loss: 23.5635 - val_root_mean_squared_error: 4.8542 - lr: 1.0000e-06\n",
      "Epoch 627/1000\n",
      "9/9 [==============================] - 0s 14ms/step - loss: 4.8138 - root_mean_squared_error: 2.1940 - val_loss: 23.5563 - val_root_mean_squared_error: 4.8535 - lr: 1.0000e-06\n",
      "Epoch 628/1000\n",
      "9/9 [==============================] - 0s 16ms/step - loss: 4.8130 - root_mean_squared_error: 2.1938 - val_loss: 23.5626 - val_root_mean_squared_error: 4.8541 - lr: 1.0000e-06\n",
      "Epoch 629/1000\n",
      "9/9 [==============================] - 0s 13ms/step - loss: 4.8125 - root_mean_squared_error: 2.1937 - val_loss: 23.5235 - val_root_mean_squared_error: 4.8501 - lr: 1.0000e-06\n",
      "Epoch 630/1000\n",
      "9/9 [==============================] - 0s 13ms/step - loss: 4.8073 - root_mean_squared_error: 2.1926 - val_loss: 23.5386 - val_root_mean_squared_error: 4.8517 - lr: 1.0000e-06\n",
      "Epoch 631/1000\n",
      "9/9 [==============================] - 0s 14ms/step - loss: 4.8084 - root_mean_squared_error: 2.1928 - val_loss: 23.5386 - val_root_mean_squared_error: 4.8517 - lr: 1.0000e-06\n",
      "Epoch 632/1000\n",
      "9/9 [==============================] - 0s 12ms/step - loss: 4.8057 - root_mean_squared_error: 2.1922 - val_loss: 23.5467 - val_root_mean_squared_error: 4.8525 - lr: 1.0000e-06\n",
      "Epoch 633/1000\n",
      "9/9 [==============================] - 0s 12ms/step - loss: 4.8124 - root_mean_squared_error: 2.1937 - val_loss: 23.5715 - val_root_mean_squared_error: 4.8551 - lr: 1.0000e-06\n",
      "Epoch 634/1000\n",
      "9/9 [==============================] - 0s 13ms/step - loss: 4.8006 - root_mean_squared_error: 2.1910 - val_loss: 23.5681 - val_root_mean_squared_error: 4.8547 - lr: 1.0000e-06\n",
      "Epoch 635/1000\n",
      "9/9 [==============================] - 0s 12ms/step - loss: 4.7989 - root_mean_squared_error: 2.1906 - val_loss: 23.5316 - val_root_mean_squared_error: 4.8509 - lr: 1.0000e-06\n",
      "Epoch 636/1000\n",
      "9/9 [==============================] - 0s 13ms/step - loss: 4.7988 - root_mean_squared_error: 2.1906 - val_loss: 23.5080 - val_root_mean_squared_error: 4.8485 - lr: 1.0000e-06\n",
      "Epoch 637/1000\n",
      "9/9 [==============================] - 0s 13ms/step - loss: 4.8015 - root_mean_squared_error: 2.1912 - val_loss: 23.5497 - val_root_mean_squared_error: 4.8528 - lr: 1.0000e-06\n",
      "Epoch 638/1000\n",
      "9/9 [==============================] - 0s 13ms/step - loss: 4.7951 - root_mean_squared_error: 2.1898 - val_loss: 23.5190 - val_root_mean_squared_error: 4.8496 - lr: 1.0000e-06\n",
      "Epoch 639/1000\n",
      "9/9 [==============================] - 0s 13ms/step - loss: 4.7925 - root_mean_squared_error: 2.1892 - val_loss: 23.5068 - val_root_mean_squared_error: 4.8484 - lr: 1.0000e-06\n"
     ]
    },
    {
     "name": "stdout",
     "output_type": "stream",
     "text": [
      "Epoch 640/1000\n",
      "9/9 [==============================] - 0s 12ms/step - loss: 4.7934 - root_mean_squared_error: 2.1894 - val_loss: 23.4947 - val_root_mean_squared_error: 4.8471 - lr: 1.0000e-06\n",
      "Epoch 641/1000\n",
      "9/9 [==============================] - 0s 12ms/step - loss: 4.7924 - root_mean_squared_error: 2.1892 - val_loss: 23.5214 - val_root_mean_squared_error: 4.8499 - lr: 1.0000e-06\n",
      "Epoch 642/1000\n",
      "9/9 [==============================] - 0s 13ms/step - loss: 4.7881 - root_mean_squared_error: 2.1882 - val_loss: 23.4969 - val_root_mean_squared_error: 4.8474 - lr: 1.0000e-06\n",
      "Epoch 643/1000\n",
      "9/9 [==============================] - 0s 13ms/step - loss: 4.7827 - root_mean_squared_error: 2.1869 - val_loss: 23.4976 - val_root_mean_squared_error: 4.8474 - lr: 1.0000e-06\n",
      "Epoch 644/1000\n",
      "9/9 [==============================] - 0s 12ms/step - loss: 4.7819 - root_mean_squared_error: 2.1868 - val_loss: 23.5188 - val_root_mean_squared_error: 4.8496 - lr: 1.0000e-06\n",
      "Epoch 645/1000\n",
      "9/9 [==============================] - 0s 13ms/step - loss: 4.7801 - root_mean_squared_error: 2.1863 - val_loss: 23.5426 - val_root_mean_squared_error: 4.8521 - lr: 1.0000e-06\n",
      "Epoch 646/1000\n",
      "9/9 [==============================] - 0s 13ms/step - loss: 4.7820 - root_mean_squared_error: 2.1868 - val_loss: 23.5005 - val_root_mean_squared_error: 4.8477 - lr: 1.0000e-06\n",
      "Epoch 647/1000\n",
      "9/9 [==============================] - 0s 12ms/step - loss: 4.7767 - root_mean_squared_error: 2.1856 - val_loss: 23.4894 - val_root_mean_squared_error: 4.8466 - lr: 1.0000e-06\n",
      "Epoch 648/1000\n",
      "9/9 [==============================] - 0s 13ms/step - loss: 4.7788 - root_mean_squared_error: 2.1861 - val_loss: 23.4614 - val_root_mean_squared_error: 4.8437 - lr: 1.0000e-06\n",
      "Epoch 649/1000\n",
      "9/9 [==============================] - 0s 12ms/step - loss: 4.7700 - root_mean_squared_error: 2.1840 - val_loss: 23.4758 - val_root_mean_squared_error: 4.8452 - lr: 1.0000e-06\n",
      "Epoch 650/1000\n",
      "9/9 [==============================] - 0s 12ms/step - loss: 4.7729 - root_mean_squared_error: 2.1847 - val_loss: 23.4647 - val_root_mean_squared_error: 4.8440 - lr: 1.0000e-06\n",
      "Epoch 651/1000\n",
      "9/9 [==============================] - 0s 12ms/step - loss: 4.7756 - root_mean_squared_error: 2.1853 - val_loss: 23.4596 - val_root_mean_squared_error: 4.8435 - lr: 1.0000e-06\n",
      "Epoch 652/1000\n",
      "9/9 [==============================] - 0s 13ms/step - loss: 4.7662 - root_mean_squared_error: 2.1832 - val_loss: 23.4892 - val_root_mean_squared_error: 4.8466 - lr: 1.0000e-06\n",
      "Epoch 653/1000\n",
      "9/9 [==============================] - 0s 13ms/step - loss: 4.7643 - root_mean_squared_error: 2.1827 - val_loss: 23.4808 - val_root_mean_squared_error: 4.8457 - lr: 1.0000e-06\n",
      "Epoch 654/1000\n",
      "9/9 [==============================] - 0s 13ms/step - loss: 4.7693 - root_mean_squared_error: 2.1839 - val_loss: 23.5445 - val_root_mean_squared_error: 4.8523 - lr: 1.0000e-06\n",
      "Epoch 655/1000\n",
      "9/9 [==============================] - 0s 12ms/step - loss: 4.7613 - root_mean_squared_error: 2.1820 - val_loss: 23.4768 - val_root_mean_squared_error: 4.8453 - lr: 1.0000e-06\n",
      "Epoch 656/1000\n",
      "9/9 [==============================] - 0s 12ms/step - loss: 4.7689 - root_mean_squared_error: 2.1838 - val_loss: 23.4253 - val_root_mean_squared_error: 4.8400 - lr: 1.0000e-06\n",
      "Epoch 657/1000\n",
      "9/9 [==============================] - 0s 12ms/step - loss: 4.7579 - root_mean_squared_error: 2.1813 - val_loss: 23.4506 - val_root_mean_squared_error: 4.8426 - lr: 1.0000e-06\n",
      "Epoch 658/1000\n",
      "9/9 [==============================] - 0s 13ms/step - loss: 4.7576 - root_mean_squared_error: 2.1812 - val_loss: 23.4266 - val_root_mean_squared_error: 4.8401 - lr: 1.0000e-06\n",
      "Epoch 659/1000\n",
      "9/9 [==============================] - 0s 13ms/step - loss: 4.7562 - root_mean_squared_error: 2.1809 - val_loss: 23.4249 - val_root_mean_squared_error: 4.8399 - lr: 1.0000e-06\n",
      "Epoch 660/1000\n",
      "9/9 [==============================] - 0s 13ms/step - loss: 4.7531 - root_mean_squared_error: 2.1802 - val_loss: 23.4158 - val_root_mean_squared_error: 4.8390 - lr: 1.0000e-06\n",
      "Epoch 661/1000\n",
      "9/9 [==============================] - 0s 13ms/step - loss: 4.7484 - root_mean_squared_error: 2.1791 - val_loss: 23.4412 - val_root_mean_squared_error: 4.8416 - lr: 1.0000e-06\n",
      "Epoch 662/1000\n",
      "9/9 [==============================] - 0s 13ms/step - loss: 4.7537 - root_mean_squared_error: 2.1803 - val_loss: 23.4066 - val_root_mean_squared_error: 4.8380 - lr: 1.0000e-06\n",
      "Epoch 663/1000\n",
      "9/9 [==============================] - 0s 14ms/step - loss: 4.7491 - root_mean_squared_error: 2.1792 - val_loss: 23.4190 - val_root_mean_squared_error: 4.8393 - lr: 1.0000e-06\n",
      "Epoch 664/1000\n",
      "9/9 [==============================] - 0s 13ms/step - loss: 4.7499 - root_mean_squared_error: 2.1794 - val_loss: 23.4820 - val_root_mean_squared_error: 4.8458 - lr: 1.0000e-06\n",
      "Epoch 665/1000\n",
      "9/9 [==============================] - 0s 12ms/step - loss: 4.7448 - root_mean_squared_error: 2.1783 - val_loss: 23.4949 - val_root_mean_squared_error: 4.8472 - lr: 1.0000e-06\n",
      "Epoch 666/1000\n",
      "9/9 [==============================] - 0s 13ms/step - loss: 4.7445 - root_mean_squared_error: 2.1782 - val_loss: 23.4294 - val_root_mean_squared_error: 4.8404 - lr: 1.0000e-06\n",
      "Epoch 667/1000\n",
      "9/9 [==============================] - 0s 13ms/step - loss: 4.7394 - root_mean_squared_error: 2.1770 - val_loss: 23.4307 - val_root_mean_squared_error: 4.8405 - lr: 1.0000e-06\n",
      "Epoch 668/1000\n",
      "9/9 [==============================] - 0s 12ms/step - loss: 4.7401 - root_mean_squared_error: 2.1772 - val_loss: 23.4419 - val_root_mean_squared_error: 4.8417 - lr: 1.0000e-06\n",
      "Epoch 669/1000\n",
      "9/9 [==============================] - 0s 13ms/step - loss: 4.7374 - root_mean_squared_error: 2.1766 - val_loss: 23.4210 - val_root_mean_squared_error: 4.8395 - lr: 1.0000e-06\n",
      "Epoch 670/1000\n",
      "9/9 [==============================] - 0s 13ms/step - loss: 4.7325 - root_mean_squared_error: 2.1754 - val_loss: 23.4213 - val_root_mean_squared_error: 4.8396 - lr: 1.0000e-06\n",
      "Epoch 671/1000\n",
      "9/9 [==============================] - 0s 13ms/step - loss: 4.7359 - root_mean_squared_error: 2.1762 - val_loss: 23.4463 - val_root_mean_squared_error: 4.8421 - lr: 1.0000e-06\n",
      "Epoch 672/1000\n",
      "9/9 [==============================] - 0s 13ms/step - loss: 4.7295 - root_mean_squared_error: 2.1747 - val_loss: 23.4050 - val_root_mean_squared_error: 4.8379 - lr: 1.0000e-06\n",
      "Epoch 673/1000\n",
      "9/9 [==============================] - 0s 12ms/step - loss: 4.7312 - root_mean_squared_error: 2.1751 - val_loss: 23.4172 - val_root_mean_squared_error: 4.8391 - lr: 1.0000e-06\n",
      "Epoch 674/1000\n",
      "9/9 [==============================] - 0s 12ms/step - loss: 4.7329 - root_mean_squared_error: 2.1755 - val_loss: 23.3922 - val_root_mean_squared_error: 4.8365 - lr: 1.0000e-06\n",
      "Epoch 675/1000\n",
      "9/9 [==============================] - 0s 12ms/step - loss: 4.7245 - root_mean_squared_error: 2.1736 - val_loss: 23.3764 - val_root_mean_squared_error: 4.8349 - lr: 1.0000e-06\n",
      "Epoch 676/1000\n",
      "9/9 [==============================] - 0s 13ms/step - loss: 4.7208 - root_mean_squared_error: 2.1727 - val_loss: 23.3767 - val_root_mean_squared_error: 4.8349 - lr: 1.0000e-06\n",
      "Epoch 677/1000\n",
      "9/9 [==============================] - 0s 12ms/step - loss: 4.7219 - root_mean_squared_error: 2.1730 - val_loss: 23.4059 - val_root_mean_squared_error: 4.8380 - lr: 1.0000e-06\n",
      "Epoch 678/1000\n",
      "9/9 [==============================] - 0s 13ms/step - loss: 4.7190 - root_mean_squared_error: 2.1723 - val_loss: 23.3885 - val_root_mean_squared_error: 4.8362 - lr: 1.0000e-06\n",
      "Epoch 679/1000\n",
      "9/9 [==============================] - 0s 12ms/step - loss: 4.7200 - root_mean_squared_error: 2.1726 - val_loss: 23.3386 - val_root_mean_squared_error: 4.8310 - lr: 1.0000e-06\n",
      "Epoch 680/1000\n",
      "9/9 [==============================] - 0s 13ms/step - loss: 4.7159 - root_mean_squared_error: 2.1716 - val_loss: 23.3500 - val_root_mean_squared_error: 4.8322 - lr: 1.0000e-06\n",
      "Epoch 681/1000\n",
      "9/9 [==============================] - 0s 12ms/step - loss: 4.7155 - root_mean_squared_error: 2.1715 - val_loss: 23.4044 - val_root_mean_squared_error: 4.8378 - lr: 1.0000e-06\n",
      "Epoch 682/1000\n",
      "9/9 [==============================] - 0s 13ms/step - loss: 4.7104 - root_mean_squared_error: 2.1704 - val_loss: 23.3857 - val_root_mean_squared_error: 4.8359 - lr: 1.0000e-06\n"
     ]
    },
    {
     "name": "stdout",
     "output_type": "stream",
     "text": [
      "Epoch 683/1000\n",
      "9/9 [==============================] - 0s 13ms/step - loss: 4.7117 - root_mean_squared_error: 2.1707 - val_loss: 23.3453 - val_root_mean_squared_error: 4.8317 - lr: 1.0000e-06\n",
      "Epoch 684/1000\n",
      "9/9 [==============================] - 0s 12ms/step - loss: 4.7207 - root_mean_squared_error: 2.1727 - val_loss: 23.4188 - val_root_mean_squared_error: 4.8393 - lr: 1.0000e-06\n",
      "Epoch 685/1000\n",
      "9/9 [==============================] - 0s 12ms/step - loss: 4.7065 - root_mean_squared_error: 2.1694 - val_loss: 23.3996 - val_root_mean_squared_error: 4.8373 - lr: 1.0000e-06\n",
      "Epoch 686/1000\n",
      "9/9 [==============================] - 0s 13ms/step - loss: 4.7103 - root_mean_squared_error: 2.1703 - val_loss: 23.3972 - val_root_mean_squared_error: 4.8371 - lr: 1.0000e-06\n",
      "Epoch 687/1000\n",
      "9/9 [==============================] - 0s 13ms/step - loss: 4.7040 - root_mean_squared_error: 2.1689 - val_loss: 23.3658 - val_root_mean_squared_error: 4.8338 - lr: 1.0000e-06\n",
      "Epoch 688/1000\n",
      "9/9 [==============================] - 0s 13ms/step - loss: 4.7073 - root_mean_squared_error: 2.1696 - val_loss: 23.3203 - val_root_mean_squared_error: 4.8291 - lr: 1.0000e-06\n",
      "Epoch 689/1000\n",
      "9/9 [==============================] - 0s 13ms/step - loss: 4.7014 - root_mean_squared_error: 2.1683 - val_loss: 23.3296 - val_root_mean_squared_error: 4.8301 - lr: 1.0000e-06\n",
      "Epoch 690/1000\n",
      "9/9 [==============================] - 0s 12ms/step - loss: 4.7015 - root_mean_squared_error: 2.1683 - val_loss: 23.3631 - val_root_mean_squared_error: 4.8335 - lr: 1.0000e-06\n",
      "Epoch 691/1000\n",
      "9/9 [==============================] - 0s 13ms/step - loss: 4.6958 - root_mean_squared_error: 2.1670 - val_loss: 23.3460 - val_root_mean_squared_error: 4.8318 - lr: 1.0000e-06\n",
      "Epoch 692/1000\n",
      "9/9 [==============================] - 0s 12ms/step - loss: 4.6982 - root_mean_squared_error: 2.1675 - val_loss: 23.3684 - val_root_mean_squared_error: 4.8341 - lr: 1.0000e-06\n",
      "Epoch 693/1000\n",
      "9/9 [==============================] - 0s 13ms/step - loss: 4.6966 - root_mean_squared_error: 2.1672 - val_loss: 23.3186 - val_root_mean_squared_error: 4.8289 - lr: 1.0000e-06\n",
      "Epoch 694/1000\n",
      "9/9 [==============================] - 0s 13ms/step - loss: 4.6914 - root_mean_squared_error: 2.1660 - val_loss: 23.3407 - val_root_mean_squared_error: 4.8312 - lr: 1.0000e-06\n",
      "Epoch 695/1000\n",
      "9/9 [==============================] - 0s 13ms/step - loss: 4.6920 - root_mean_squared_error: 2.1661 - val_loss: 23.3604 - val_root_mean_squared_error: 4.8333 - lr: 1.0000e-06\n",
      "Epoch 696/1000\n",
      "9/9 [==============================] - 0s 12ms/step - loss: 4.6929 - root_mean_squared_error: 2.1663 - val_loss: 23.3213 - val_root_mean_squared_error: 4.8292 - lr: 1.0000e-06\n",
      "Epoch 697/1000\n",
      "9/9 [==============================] - 0s 12ms/step - loss: 4.6860 - root_mean_squared_error: 2.1647 - val_loss: 23.3279 - val_root_mean_squared_error: 4.8299 - lr: 1.0000e-06\n",
      "Epoch 698/1000\n",
      "9/9 [==============================] - 0s 12ms/step - loss: 4.6909 - root_mean_squared_error: 2.1658 - val_loss: 23.2970 - val_root_mean_squared_error: 4.8267 - lr: 1.0000e-06\n",
      "Epoch 699/1000\n",
      "9/9 [==============================] - 0s 13ms/step - loss: 4.6827 - root_mean_squared_error: 2.1639 - val_loss: 23.3303 - val_root_mean_squared_error: 4.8301 - lr: 1.0000e-06\n",
      "Epoch 700/1000\n",
      "9/9 [==============================] - 0s 12ms/step - loss: 4.6824 - root_mean_squared_error: 2.1639 - val_loss: 23.3271 - val_root_mean_squared_error: 4.8298 - lr: 1.0000e-06\n",
      "Epoch 701/1000\n",
      "9/9 [==============================] - 0s 13ms/step - loss: 4.6849 - root_mean_squared_error: 2.1645 - val_loss: 23.3867 - val_root_mean_squared_error: 4.8360 - lr: 1.0000e-06\n",
      "Epoch 702/1000\n",
      "9/9 [==============================] - 0s 13ms/step - loss: 4.6765 - root_mean_squared_error: 2.1625 - val_loss: 23.3476 - val_root_mean_squared_error: 4.8319 - lr: 1.0000e-06\n",
      "Epoch 703/1000\n",
      "9/9 [==============================] - 0s 12ms/step - loss: 4.6745 - root_mean_squared_error: 2.1621 - val_loss: 23.3149 - val_root_mean_squared_error: 4.8285 - lr: 1.0000e-06\n",
      "Epoch 704/1000\n",
      "9/9 [==============================] - 0s 13ms/step - loss: 4.6753 - root_mean_squared_error: 2.1623 - val_loss: 23.2799 - val_root_mean_squared_error: 4.8249 - lr: 1.0000e-06\n",
      "Epoch 705/1000\n",
      "9/9 [==============================] - 0s 12ms/step - loss: 4.6776 - root_mean_squared_error: 2.1628 - val_loss: 23.3244 - val_root_mean_squared_error: 4.8295 - lr: 1.0000e-06\n",
      "Epoch 706/1000\n",
      "9/9 [==============================] - 0s 13ms/step - loss: 4.6794 - root_mean_squared_error: 2.1632 - val_loss: 23.2792 - val_root_mean_squared_error: 4.8249 - lr: 1.0000e-06\n",
      "Epoch 707/1000\n",
      "9/9 [==============================] - 0s 13ms/step - loss: 4.6757 - root_mean_squared_error: 2.1623 - val_loss: 23.2611 - val_root_mean_squared_error: 4.8230 - lr: 1.0000e-06\n",
      "Epoch 708/1000\n",
      "9/9 [==============================] - 0s 12ms/step - loss: 4.6699 - root_mean_squared_error: 2.1610 - val_loss: 23.2538 - val_root_mean_squared_error: 4.8222 - lr: 1.0000e-06\n",
      "Epoch 709/1000\n",
      "9/9 [==============================] - 0s 12ms/step - loss: 4.6705 - root_mean_squared_error: 2.1611 - val_loss: 23.3593 - val_root_mean_squared_error: 4.8331 - lr: 1.0000e-06\n",
      "Epoch 710/1000\n",
      "9/9 [==============================] - 0s 12ms/step - loss: 4.6642 - root_mean_squared_error: 2.1597 - val_loss: 23.3719 - val_root_mean_squared_error: 4.8344 - lr: 1.0000e-06\n",
      "Epoch 711/1000\n",
      "9/9 [==============================] - 0s 13ms/step - loss: 4.6609 - root_mean_squared_error: 2.1589 - val_loss: 23.3803 - val_root_mean_squared_error: 4.8353 - lr: 1.0000e-06\n",
      "Epoch 712/1000\n",
      "9/9 [==============================] - 0s 13ms/step - loss: 4.6642 - root_mean_squared_error: 2.1597 - val_loss: 23.3212 - val_root_mean_squared_error: 4.8292 - lr: 1.0000e-06\n",
      "Epoch 713/1000\n",
      "9/9 [==============================] - 0s 13ms/step - loss: 4.6589 - root_mean_squared_error: 2.1585 - val_loss: 23.3394 - val_root_mean_squared_error: 4.8311 - lr: 1.0000e-06\n",
      "Epoch 714/1000\n",
      "9/9 [==============================] - 0s 13ms/step - loss: 4.6602 - root_mean_squared_error: 2.1588 - val_loss: 23.2876 - val_root_mean_squared_error: 4.8257 - lr: 1.0000e-06\n",
      "Epoch 715/1000\n",
      "9/9 [==============================] - 0s 13ms/step - loss: 4.6564 - root_mean_squared_error: 2.1579 - val_loss: 23.3177 - val_root_mean_squared_error: 4.8288 - lr: 1.0000e-06\n",
      "Epoch 716/1000\n",
      "9/9 [==============================] - 0s 13ms/step - loss: 4.6515 - root_mean_squared_error: 2.1567 - val_loss: 23.3083 - val_root_mean_squared_error: 4.8279 - lr: 1.0000e-06\n",
      "Epoch 717/1000\n",
      "9/9 [==============================] - 0s 13ms/step - loss: 4.6505 - root_mean_squared_error: 2.1565 - val_loss: 23.3275 - val_root_mean_squared_error: 4.8299 - lr: 1.0000e-06\n",
      "Epoch 718/1000\n",
      "9/9 [==============================] - 0s 13ms/step - loss: 4.6513 - root_mean_squared_error: 2.1567 - val_loss: 23.2881 - val_root_mean_squared_error: 4.8258 - lr: 1.0000e-06\n",
      "Epoch 719/1000\n",
      "9/9 [==============================] - 0s 13ms/step - loss: 4.6539 - root_mean_squared_error: 2.1573 - val_loss: 23.3234 - val_root_mean_squared_error: 4.8294 - lr: 1.0000e-06\n",
      "Epoch 720/1000\n",
      "9/9 [==============================] - 0s 13ms/step - loss: 4.6473 - root_mean_squared_error: 2.1558 - val_loss: 23.3400 - val_root_mean_squared_error: 4.8311 - lr: 1.0000e-06\n",
      "Epoch 721/1000\n",
      "9/9 [==============================] - 0s 13ms/step - loss: 4.6461 - root_mean_squared_error: 2.1555 - val_loss: 23.2963 - val_root_mean_squared_error: 4.8266 - lr: 1.0000e-06\n",
      "Epoch 722/1000\n",
      "9/9 [==============================] - 0s 13ms/step - loss: 4.6437 - root_mean_squared_error: 2.1549 - val_loss: 23.3073 - val_root_mean_squared_error: 4.8278 - lr: 1.0000e-06\n",
      "Epoch 723/1000\n",
      "9/9 [==============================] - 0s 13ms/step - loss: 4.6417 - root_mean_squared_error: 2.1545 - val_loss: 23.3157 - val_root_mean_squared_error: 4.8286 - lr: 1.0000e-06\n",
      "Epoch 724/1000\n",
      "9/9 [==============================] - 0s 12ms/step - loss: 4.6405 - root_mean_squared_error: 2.1542 - val_loss: 23.2987 - val_root_mean_squared_error: 4.8269 - lr: 1.0000e-06\n",
      "Epoch 725/1000\n",
      "9/9 [==============================] - 0s 13ms/step - loss: 4.6376 - root_mean_squared_error: 2.1535 - val_loss: 23.2941 - val_root_mean_squared_error: 4.8264 - lr: 1.0000e-06\n"
     ]
    },
    {
     "name": "stdout",
     "output_type": "stream",
     "text": [
      "Epoch 726/1000\n",
      "9/9 [==============================] - 0s 12ms/step - loss: 4.6374 - root_mean_squared_error: 2.1535 - val_loss: 23.2672 - val_root_mean_squared_error: 4.8236 - lr: 1.0000e-06\n",
      "Epoch 727/1000\n",
      "9/9 [==============================] - 0s 12ms/step - loss: 4.6362 - root_mean_squared_error: 2.1532 - val_loss: 23.2892 - val_root_mean_squared_error: 4.8259 - lr: 1.0000e-06\n",
      "Epoch 728/1000\n",
      "9/9 [==============================] - 0s 13ms/step - loss: 4.6324 - root_mean_squared_error: 2.1523 - val_loss: 23.3215 - val_root_mean_squared_error: 4.8292 - lr: 1.0000e-06\n",
      "Epoch 729/1000\n",
      "9/9 [==============================] - 0s 13ms/step - loss: 4.6291 - root_mean_squared_error: 2.1515 - val_loss: 23.3241 - val_root_mean_squared_error: 4.8295 - lr: 1.0000e-06\n",
      "Epoch 730/1000\n",
      "9/9 [==============================] - 0s 12ms/step - loss: 4.6431 - root_mean_squared_error: 2.1548 - val_loss: 23.3642 - val_root_mean_squared_error: 4.8337 - lr: 1.0000e-06\n",
      "Epoch 731/1000\n",
      "9/9 [==============================] - 0s 13ms/step - loss: 4.6259 - root_mean_squared_error: 2.1508 - val_loss: 23.2839 - val_root_mean_squared_error: 4.8253 - lr: 1.0000e-06\n",
      "Epoch 732/1000\n",
      "9/9 [==============================] - 0s 13ms/step - loss: 4.6242 - root_mean_squared_error: 2.1504 - val_loss: 23.2666 - val_root_mean_squared_error: 4.8235 - lr: 1.0000e-06\n",
      "Epoch 733/1000\n",
      "9/9 [==============================] - 0s 12ms/step - loss: 4.6259 - root_mean_squared_error: 2.1508 - val_loss: 23.2431 - val_root_mean_squared_error: 4.8211 - lr: 1.0000e-06\n",
      "Epoch 734/1000\n",
      "9/9 [==============================] - 0s 13ms/step - loss: 4.6223 - root_mean_squared_error: 2.1499 - val_loss: 23.2718 - val_root_mean_squared_error: 4.8241 - lr: 1.0000e-06\n",
      "Epoch 735/1000\n",
      "9/9 [==============================] - 0s 13ms/step - loss: 4.6240 - root_mean_squared_error: 2.1504 - val_loss: 23.2909 - val_root_mean_squared_error: 4.8261 - lr: 1.0000e-06\n",
      "Epoch 736/1000\n",
      "9/9 [==============================] - 0s 12ms/step - loss: 4.6184 - root_mean_squared_error: 2.1491 - val_loss: 23.2576 - val_root_mean_squared_error: 4.8226 - lr: 1.0000e-06\n",
      "Epoch 737/1000\n",
      "9/9 [==============================] - 0s 13ms/step - loss: 4.6211 - root_mean_squared_error: 2.1497 - val_loss: 23.2364 - val_root_mean_squared_error: 4.8204 - lr: 1.0000e-06\n",
      "Epoch 738/1000\n",
      "9/9 [==============================] - 0s 13ms/step - loss: 4.6143 - root_mean_squared_error: 2.1481 - val_loss: 23.2527 - val_root_mean_squared_error: 4.8221 - lr: 1.0000e-06\n",
      "Epoch 739/1000\n",
      "9/9 [==============================] - 0s 13ms/step - loss: 4.6167 - root_mean_squared_error: 2.1486 - val_loss: 23.3269 - val_root_mean_squared_error: 4.8298 - lr: 1.0000e-06\n",
      "Epoch 740/1000\n",
      "9/9 [==============================] - 0s 13ms/step - loss: 4.6168 - root_mean_squared_error: 2.1487 - val_loss: 23.2624 - val_root_mean_squared_error: 4.8231 - lr: 1.0000e-06\n",
      "Epoch 741/1000\n",
      "9/9 [==============================] - 0s 12ms/step - loss: 4.6130 - root_mean_squared_error: 2.1478 - val_loss: 23.2996 - val_root_mean_squared_error: 4.8270 - lr: 1.0000e-06\n",
      "Epoch 742/1000\n",
      "9/9 [==============================] - 0s 13ms/step - loss: 4.6117 - root_mean_squared_error: 2.1475 - val_loss: 23.2465 - val_root_mean_squared_error: 4.8215 - lr: 1.0000e-06\n",
      "Epoch 743/1000\n",
      "9/9 [==============================] - 0s 13ms/step - loss: 4.6094 - root_mean_squared_error: 2.1470 - val_loss: 23.2623 - val_root_mean_squared_error: 4.8231 - lr: 1.0000e-06\n",
      "Epoch 744/1000\n",
      "9/9 [==============================] - 0s 13ms/step - loss: 4.6143 - root_mean_squared_error: 2.1481 - val_loss: 23.3375 - val_root_mean_squared_error: 4.8309 - lr: 1.0000e-06\n",
      "Epoch 745/1000\n",
      "9/9 [==============================] - 0s 12ms/step - loss: 4.6056 - root_mean_squared_error: 2.1461 - val_loss: 23.2528 - val_root_mean_squared_error: 4.8221 - lr: 1.0000e-06\n",
      "Epoch 746/1000\n",
      "9/9 [==============================] - 0s 13ms/step - loss: 4.6033 - root_mean_squared_error: 2.1455 - val_loss: 23.2209 - val_root_mean_squared_error: 4.8188 - lr: 1.0000e-06\n",
      "Epoch 747/1000\n",
      "9/9 [==============================] - 0s 13ms/step - loss: 4.5990 - root_mean_squared_error: 2.1445 - val_loss: 23.2432 - val_root_mean_squared_error: 4.8211 - lr: 1.0000e-06\n",
      "Epoch 748/1000\n",
      "9/9 [==============================] - 0s 13ms/step - loss: 4.5952 - root_mean_squared_error: 2.1436 - val_loss: 23.2865 - val_root_mean_squared_error: 4.8256 - lr: 1.0000e-06\n",
      "Epoch 749/1000\n",
      "9/9 [==============================] - 0s 13ms/step - loss: 4.5987 - root_mean_squared_error: 2.1445 - val_loss: 23.3479 - val_root_mean_squared_error: 4.8320 - lr: 1.0000e-06\n",
      "Epoch 750/1000\n",
      "9/9 [==============================] - 0s 13ms/step - loss: 4.5928 - root_mean_squared_error: 2.1431 - val_loss: 23.2915 - val_root_mean_squared_error: 4.8261 - lr: 1.0000e-06\n",
      "Epoch 751/1000\n",
      "9/9 [==============================] - 0s 13ms/step - loss: 4.5896 - root_mean_squared_error: 2.1423 - val_loss: 23.2643 - val_root_mean_squared_error: 4.8233 - lr: 1.0000e-06\n",
      "Epoch 752/1000\n",
      "9/9 [==============================] - 0s 12ms/step - loss: 4.5931 - root_mean_squared_error: 2.1432 - val_loss: 23.3012 - val_root_mean_squared_error: 4.8271 - lr: 1.0000e-06\n",
      "Epoch 753/1000\n",
      "9/9 [==============================] - 0s 12ms/step - loss: 4.5877 - root_mean_squared_error: 2.1419 - val_loss: 23.2642 - val_root_mean_squared_error: 4.8233 - lr: 1.0000e-06\n",
      "Epoch 754/1000\n",
      "9/9 [==============================] - 0s 12ms/step - loss: 4.5853 - root_mean_squared_error: 2.1413 - val_loss: 23.2916 - val_root_mean_squared_error: 4.8261 - lr: 1.0000e-06\n",
      "Epoch 755/1000\n",
      "9/9 [==============================] - 0s 13ms/step - loss: 4.5854 - root_mean_squared_error: 2.1413 - val_loss: 23.2639 - val_root_mean_squared_error: 4.8233 - lr: 1.0000e-06\n",
      "Epoch 756/1000\n",
      "9/9 [==============================] - 0s 12ms/step - loss: 4.5819 - root_mean_squared_error: 2.1405 - val_loss: 23.2750 - val_root_mean_squared_error: 4.8244 - lr: 1.0000e-06\n",
      "Epoch 757/1000\n",
      "9/9 [==============================] - 0s 13ms/step - loss: 4.5780 - root_mean_squared_error: 2.1396 - val_loss: 23.2614 - val_root_mean_squared_error: 4.8230 - lr: 1.0000e-06\n",
      "Epoch 758/1000\n",
      "9/9 [==============================] - 0s 13ms/step - loss: 4.5860 - root_mean_squared_error: 2.1415 - val_loss: 23.2956 - val_root_mean_squared_error: 4.8265 - lr: 1.0000e-06\n",
      "Epoch 759/1000\n",
      "9/9 [==============================] - 0s 12ms/step - loss: 4.5911 - root_mean_squared_error: 2.1427 - val_loss: 23.2242 - val_root_mean_squared_error: 4.8192 - lr: 1.0000e-06\n",
      "Epoch 760/1000\n",
      "9/9 [==============================] - 0s 13ms/step - loss: 4.5771 - root_mean_squared_error: 2.1394 - val_loss: 23.2132 - val_root_mean_squared_error: 4.8180 - lr: 1.0000e-06\n",
      "Epoch 761/1000\n",
      "9/9 [==============================] - 0s 12ms/step - loss: 4.5740 - root_mean_squared_error: 2.1387 - val_loss: 23.2579 - val_root_mean_squared_error: 4.8226 - lr: 1.0000e-06\n",
      "Epoch 762/1000\n",
      "9/9 [==============================] - 0s 13ms/step - loss: 4.5785 - root_mean_squared_error: 2.1398 - val_loss: 23.3207 - val_root_mean_squared_error: 4.8292 - lr: 1.0000e-06\n",
      "Epoch 763/1000\n",
      "9/9 [==============================] - 0s 13ms/step - loss: 4.5694 - root_mean_squared_error: 2.1376 - val_loss: 23.2826 - val_root_mean_squared_error: 4.8252 - lr: 1.0000e-06\n",
      "Epoch 764/1000\n",
      "9/9 [==============================] - 0s 12ms/step - loss: 4.5684 - root_mean_squared_error: 2.1374 - val_loss: 23.2840 - val_root_mean_squared_error: 4.8253 - lr: 1.0000e-06\n",
      "Epoch 765/1000\n",
      "9/9 [==============================] - 0s 13ms/step - loss: 4.5645 - root_mean_squared_error: 2.1365 - val_loss: 23.2821 - val_root_mean_squared_error: 4.8251 - lr: 1.0000e-06\n",
      "Epoch 766/1000\n",
      "9/9 [==============================] - 0s 13ms/step - loss: 4.5692 - root_mean_squared_error: 2.1376 - val_loss: 23.2323 - val_root_mean_squared_error: 4.8200 - lr: 1.0000e-06\n",
      "Epoch 767/1000\n",
      "9/9 [==============================] - 0s 13ms/step - loss: 4.5671 - root_mean_squared_error: 2.1371 - val_loss: 23.2681 - val_root_mean_squared_error: 4.8237 - lr: 1.0000e-06\n",
      "Epoch 768/1000\n",
      "9/9 [==============================] - 0s 13ms/step - loss: 4.5601 - root_mean_squared_error: 2.1354 - val_loss: 23.2945 - val_root_mean_squared_error: 4.8264 - lr: 1.0000e-06\n"
     ]
    },
    {
     "name": "stdout",
     "output_type": "stream",
     "text": [
      "Epoch 769/1000\n",
      "9/9 [==============================] - 0s 13ms/step - loss: 4.5595 - root_mean_squared_error: 2.1353 - val_loss: 23.2582 - val_root_mean_squared_error: 4.8227 - lr: 1.0000e-06\n",
      "Epoch 770/1000\n",
      "9/9 [==============================] - 0s 13ms/step - loss: 4.5568 - root_mean_squared_error: 2.1347 - val_loss: 23.2643 - val_root_mean_squared_error: 4.8233 - lr: 1.0000e-06\n",
      "Epoch 771/1000\n",
      "9/9 [==============================] - 0s 14ms/step - loss: 4.5565 - root_mean_squared_error: 2.1346 - val_loss: 23.2347 - val_root_mean_squared_error: 4.8202 - lr: 1.0000e-06\n",
      "Epoch 772/1000\n",
      "9/9 [==============================] - 0s 13ms/step - loss: 4.5634 - root_mean_squared_error: 2.1362 - val_loss: 23.2036 - val_root_mean_squared_error: 4.8170 - lr: 1.0000e-06\n",
      "Epoch 773/1000\n",
      "9/9 [==============================] - 0s 12ms/step - loss: 4.5569 - root_mean_squared_error: 2.1347 - val_loss: 23.2035 - val_root_mean_squared_error: 4.8170 - lr: 1.0000e-06\n",
      "Epoch 774/1000\n",
      "9/9 [==============================] - 0s 13ms/step - loss: 4.5469 - root_mean_squared_error: 2.1323 - val_loss: 23.2615 - val_root_mean_squared_error: 4.8230 - lr: 1.0000e-06\n",
      "Epoch 775/1000\n",
      "9/9 [==============================] - 0s 13ms/step - loss: 4.5467 - root_mean_squared_error: 2.1323 - val_loss: 23.2713 - val_root_mean_squared_error: 4.8240 - lr: 1.0000e-06\n",
      "Epoch 776/1000\n",
      "9/9 [==============================] - 0s 14ms/step - loss: 4.5465 - root_mean_squared_error: 2.1323 - val_loss: 23.2780 - val_root_mean_squared_error: 4.8247 - lr: 1.0000e-06\n",
      "Epoch 777/1000\n",
      "9/9 [==============================] - 0s 13ms/step - loss: 4.5469 - root_mean_squared_error: 2.1323 - val_loss: 23.2524 - val_root_mean_squared_error: 4.8221 - lr: 1.0000e-06\n",
      "Epoch 778/1000\n",
      "9/9 [==============================] - 0s 13ms/step - loss: 4.5418 - root_mean_squared_error: 2.1312 - val_loss: 23.2730 - val_root_mean_squared_error: 4.8242 - lr: 1.0000e-06\n",
      "Epoch 779/1000\n",
      "9/9 [==============================] - 0s 13ms/step - loss: 4.5406 - root_mean_squared_error: 2.1309 - val_loss: 23.2496 - val_root_mean_squared_error: 4.8218 - lr: 1.0000e-06\n",
      "Epoch 780/1000\n",
      "9/9 [==============================] - 0s 13ms/step - loss: 4.5437 - root_mean_squared_error: 2.1316 - val_loss: 23.2191 - val_root_mean_squared_error: 4.8186 - lr: 1.0000e-06\n",
      "Epoch 781/1000\n",
      "9/9 [==============================] - 0s 13ms/step - loss: 4.5379 - root_mean_squared_error: 2.1302 - val_loss: 23.2154 - val_root_mean_squared_error: 4.8182 - lr: 1.0000e-06\n",
      "Epoch 782/1000\n",
      "9/9 [==============================] - 0s 12ms/step - loss: 4.5339 - root_mean_squared_error: 2.1293 - val_loss: 23.2433 - val_root_mean_squared_error: 4.8211 - lr: 1.0000e-06\n",
      "Epoch 783/1000\n",
      "9/9 [==============================] - 0s 13ms/step - loss: 4.5325 - root_mean_squared_error: 2.1290 - val_loss: 23.3041 - val_root_mean_squared_error: 4.8274 - lr: 1.0000e-06\n",
      "Epoch 784/1000\n",
      "9/9 [==============================] - 0s 13ms/step - loss: 4.5327 - root_mean_squared_error: 2.1290 - val_loss: 23.2716 - val_root_mean_squared_error: 4.8241 - lr: 1.0000e-06\n",
      "Epoch 785/1000\n",
      "9/9 [==============================] - 0s 13ms/step - loss: 4.5321 - root_mean_squared_error: 2.1289 - val_loss: 23.3393 - val_root_mean_squared_error: 4.8311 - lr: 1.0000e-06\n",
      "Epoch 786/1000\n",
      "9/9 [==============================] - 0s 13ms/step - loss: 4.5295 - root_mean_squared_error: 2.1283 - val_loss: 23.3046 - val_root_mean_squared_error: 4.8275 - lr: 1.0000e-06\n",
      "Epoch 787/1000\n",
      "9/9 [==============================] - 0s 15ms/step - loss: 4.5306 - root_mean_squared_error: 2.1285 - val_loss: 23.2447 - val_root_mean_squared_error: 4.8213 - lr: 1.0000e-06\n",
      "Epoch 788/1000\n",
      "9/9 [==============================] - 0s 14ms/step - loss: 4.5302 - root_mean_squared_error: 2.1284 - val_loss: 23.2987 - val_root_mean_squared_error: 4.8269 - lr: 1.0000e-06\n",
      "Epoch 789/1000\n",
      "9/9 [==============================] - 0s 14ms/step - loss: 4.5255 - root_mean_squared_error: 2.1273 - val_loss: 23.3217 - val_root_mean_squared_error: 4.8293 - lr: 1.0000e-06\n",
      "Epoch 790/1000\n",
      "9/9 [==============================] - 0s 13ms/step - loss: 4.5191 - root_mean_squared_error: 2.1258 - val_loss: 23.3194 - val_root_mean_squared_error: 4.8290 - lr: 1.0000e-06\n",
      "Epoch 791/1000\n",
      "9/9 [==============================] - 0s 13ms/step - loss: 4.5191 - root_mean_squared_error: 2.1258 - val_loss: 23.3068 - val_root_mean_squared_error: 4.8277 - lr: 1.0000e-06\n",
      "Epoch 792/1000\n",
      "9/9 [==============================] - 0s 13ms/step - loss: 4.5164 - root_mean_squared_error: 2.1252 - val_loss: 23.2558 - val_root_mean_squared_error: 4.8224 - lr: 1.0000e-06\n",
      "Epoch 793/1000\n",
      "9/9 [==============================] - 0s 12ms/step - loss: 4.5160 - root_mean_squared_error: 2.1251 - val_loss: 23.2263 - val_root_mean_squared_error: 4.8194 - lr: 1.0000e-06\n",
      "Epoch 794/1000\n",
      "9/9 [==============================] - 0s 13ms/step - loss: 4.5158 - root_mean_squared_error: 2.1250 - val_loss: 23.2494 - val_root_mean_squared_error: 4.8218 - lr: 1.0000e-06\n",
      "Epoch 795/1000\n",
      "9/9 [==============================] - 0s 12ms/step - loss: 4.5107 - root_mean_squared_error: 2.1238 - val_loss: 23.2363 - val_root_mean_squared_error: 4.8204 - lr: 1.0000e-06\n",
      "Epoch 796/1000\n",
      "9/9 [==============================] - 0s 13ms/step - loss: 4.5145 - root_mean_squared_error: 2.1247 - val_loss: 23.3077 - val_root_mean_squared_error: 4.8278 - lr: 1.0000e-06\n",
      "Epoch 797/1000\n",
      "9/9 [==============================] - 0s 13ms/step - loss: 4.5080 - root_mean_squared_error: 2.1232 - val_loss: 23.3121 - val_root_mean_squared_error: 4.8283 - lr: 1.0000e-06\n",
      "Epoch 798/1000\n",
      "9/9 [==============================] - 0s 14ms/step - loss: 4.5098 - root_mean_squared_error: 2.1236 - val_loss: 23.2397 - val_root_mean_squared_error: 4.8208 - lr: 1.0000e-06\n",
      "Epoch 799/1000\n",
      "9/9 [==============================] - 0s 15ms/step - loss: 4.5072 - root_mean_squared_error: 2.1230 - val_loss: 23.2548 - val_root_mean_squared_error: 4.8223 - lr: 1.0000e-06\n",
      "Epoch 800/1000\n",
      "9/9 [==============================] - 0s 15ms/step - loss: 4.5054 - root_mean_squared_error: 2.1226 - val_loss: 23.2786 - val_root_mean_squared_error: 4.8248 - lr: 1.0000e-06\n",
      "Epoch 801/1000\n",
      "9/9 [==============================] - 0s 13ms/step - loss: 4.5016 - root_mean_squared_error: 2.1217 - val_loss: 23.2598 - val_root_mean_squared_error: 4.8228 - lr: 1.0000e-06\n",
      "Epoch 802/1000\n",
      "9/9 [==============================] - 0s 12ms/step - loss: 4.4986 - root_mean_squared_error: 2.1210 - val_loss: 23.2874 - val_root_mean_squared_error: 4.8257 - lr: 1.0000e-06\n",
      "Epoch 803/1000\n",
      "9/9 [==============================] - 0s 13ms/step - loss: 4.4989 - root_mean_squared_error: 2.1211 - val_loss: 23.3014 - val_root_mean_squared_error: 4.8272 - lr: 1.0000e-06\n",
      "Epoch 804/1000\n",
      "9/9 [==============================] - 0s 13ms/step - loss: 4.4947 - root_mean_squared_error: 2.1201 - val_loss: 23.3063 - val_root_mean_squared_error: 4.8277 - lr: 1.0000e-06\n",
      "Epoch 805/1000\n",
      "9/9 [==============================] - 0s 12ms/step - loss: 4.4966 - root_mean_squared_error: 2.1205 - val_loss: 23.2471 - val_root_mean_squared_error: 4.8215 - lr: 1.0000e-06\n",
      "Epoch 806/1000\n",
      "9/9 [==============================] - 0s 13ms/step - loss: 4.4922 - root_mean_squared_error: 2.1195 - val_loss: 23.2600 - val_root_mean_squared_error: 4.8229 - lr: 1.0000e-06\n",
      "Epoch 807/1000\n",
      "9/9 [==============================] - 0s 13ms/step - loss: 4.4918 - root_mean_squared_error: 2.1194 - val_loss: 23.3000 - val_root_mean_squared_error: 4.8270 - lr: 1.0000e-06\n",
      "Epoch 808/1000\n",
      "9/9 [==============================] - 0s 13ms/step - loss: 4.4880 - root_mean_squared_error: 2.1185 - val_loss: 23.2317 - val_root_mean_squared_error: 4.8199 - lr: 1.0000e-06\n",
      "Epoch 809/1000\n",
      "9/9 [==============================] - 0s 13ms/step - loss: 4.4858 - root_mean_squared_error: 2.1180 - val_loss: 23.2802 - val_root_mean_squared_error: 4.8250 - lr: 1.0000e-06\n",
      "Epoch 810/1000\n",
      "9/9 [==============================] - 0s 14ms/step - loss: 4.4816 - root_mean_squared_error: 2.1170 - val_loss: 23.2870 - val_root_mean_squared_error: 4.8257 - lr: 1.0000e-06\n",
      "Epoch 811/1000\n",
      "9/9 [==============================] - 0s 15ms/step - loss: 4.4858 - root_mean_squared_error: 2.1180 - val_loss: 23.2264 - val_root_mean_squared_error: 4.8194 - lr: 1.0000e-06\n"
     ]
    },
    {
     "name": "stdout",
     "output_type": "stream",
     "text": [
      "Epoch 812/1000\n",
      "9/9 [==============================] - 0s 16ms/step - loss: 4.4785 - root_mean_squared_error: 2.1162 - val_loss: 23.2447 - val_root_mean_squared_error: 4.8213 - lr: 1.0000e-06\n",
      "Epoch 813/1000\n",
      "9/9 [==============================] - 0s 13ms/step - loss: 4.4815 - root_mean_squared_error: 2.1170 - val_loss: 23.2654 - val_root_mean_squared_error: 4.8234 - lr: 1.0000e-06\n",
      "Epoch 814/1000\n",
      "9/9 [==============================] - 0s 15ms/step - loss: 4.4791 - root_mean_squared_error: 2.1164 - val_loss: 23.2162 - val_root_mean_squared_error: 4.8183 - lr: 1.0000e-06\n",
      "Epoch 815/1000\n",
      "9/9 [==============================] - 0s 15ms/step - loss: 4.4731 - root_mean_squared_error: 2.1150 - val_loss: 23.2607 - val_root_mean_squared_error: 4.8229 - lr: 1.0000e-06\n",
      "Epoch 816/1000\n",
      "9/9 [==============================] - 0s 14ms/step - loss: 4.4775 - root_mean_squared_error: 2.1160 - val_loss: 23.3407 - val_root_mean_squared_error: 4.8312 - lr: 1.0000e-06\n",
      "Epoch 817/1000\n",
      "9/9 [==============================] - 0s 12ms/step - loss: 4.4698 - root_mean_squared_error: 2.1142 - val_loss: 23.2695 - val_root_mean_squared_error: 4.8238 - lr: 1.0000e-06\n",
      "Epoch 818/1000\n",
      "9/9 [==============================] - 0s 12ms/step - loss: 4.4664 - root_mean_squared_error: 2.1134 - val_loss: 23.2912 - val_root_mean_squared_error: 4.8261 - lr: 1.0000e-06\n",
      "Epoch 819/1000\n",
      "9/9 [==============================] - 0s 13ms/step - loss: 4.4671 - root_mean_squared_error: 2.1136 - val_loss: 23.2838 - val_root_mean_squared_error: 4.8253 - lr: 1.0000e-06\n",
      "Epoch 820/1000\n",
      "9/9 [==============================] - 0s 13ms/step - loss: 4.4654 - root_mean_squared_error: 2.1131 - val_loss: 23.2481 - val_root_mean_squared_error: 4.8216 - lr: 1.0000e-06\n",
      "Epoch 821/1000\n",
      "9/9 [==============================] - 0s 13ms/step - loss: 4.4647 - root_mean_squared_error: 2.1130 - val_loss: 23.2805 - val_root_mean_squared_error: 4.8250 - lr: 1.0000e-06\n",
      "Epoch 822/1000\n",
      "9/9 [==============================] - 0s 13ms/step - loss: 4.4602 - root_mean_squared_error: 2.1119 - val_loss: 23.2551 - val_root_mean_squared_error: 4.8224 - lr: 1.0000e-06\n",
      "Epoch 823/1000\n",
      "9/9 [==============================] - 0s 13ms/step - loss: 4.4629 - root_mean_squared_error: 2.1126 - val_loss: 23.2377 - val_root_mean_squared_error: 4.8205 - lr: 1.0000e-06\n",
      "Epoch 824/1000\n",
      "9/9 [==============================] - 0s 13ms/step - loss: 4.4560 - root_mean_squared_error: 2.1109 - val_loss: 23.2336 - val_root_mean_squared_error: 4.8201 - lr: 1.0000e-06\n",
      "Epoch 825/1000\n",
      "9/9 [==============================] - 0s 12ms/step - loss: 4.4522 - root_mean_squared_error: 2.1100 - val_loss: 23.2772 - val_root_mean_squared_error: 4.8246 - lr: 1.0000e-06\n",
      "Epoch 826/1000\n",
      "9/9 [==============================] - 0s 14ms/step - loss: 4.4537 - root_mean_squared_error: 2.1104 - val_loss: 23.2786 - val_root_mean_squared_error: 4.8248 - lr: 1.0000e-06\n",
      "Epoch 827/1000\n",
      "9/9 [==============================] - 0s 13ms/step - loss: 4.4624 - root_mean_squared_error: 2.1124 - val_loss: 23.3724 - val_root_mean_squared_error: 4.8345 - lr: 1.0000e-06\n",
      "Epoch 828/1000\n",
      "9/9 [==============================] - 0s 12ms/step - loss: 4.4520 - root_mean_squared_error: 2.1100 - val_loss: 23.2846 - val_root_mean_squared_error: 4.8254 - lr: 1.0000e-06\n",
      "Epoch 829/1000\n",
      "9/9 [==============================] - 0s 12ms/step - loss: 4.4563 - root_mean_squared_error: 2.1110 - val_loss: 23.2358 - val_root_mean_squared_error: 4.8203 - lr: 1.0000e-06\n",
      "Epoch 830/1000\n",
      "9/9 [==============================] - 0s 13ms/step - loss: 4.4492 - root_mean_squared_error: 2.1093 - val_loss: 23.2469 - val_root_mean_squared_error: 4.8215 - lr: 1.0000e-06\n",
      "Epoch 831/1000\n",
      "9/9 [==============================] - 0s 13ms/step - loss: 4.4474 - root_mean_squared_error: 2.1089 - val_loss: 23.2215 - val_root_mean_squared_error: 4.8189 - lr: 1.0000e-06\n",
      "Epoch 832/1000\n",
      "9/9 [==============================] - 0s 13ms/step - loss: 4.4427 - root_mean_squared_error: 2.1078 - val_loss: 23.3107 - val_root_mean_squared_error: 4.8281 - lr: 1.0000e-06\n",
      "Epoch 833/1000\n",
      "9/9 [==============================] - 0s 12ms/step - loss: 4.4468 - root_mean_squared_error: 2.1087 - val_loss: 23.2464 - val_root_mean_squared_error: 4.8215 - lr: 1.0000e-06\n",
      "Epoch 834/1000\n",
      "9/9 [==============================] - 0s 13ms/step - loss: 4.4376 - root_mean_squared_error: 2.1066 - val_loss: 23.2999 - val_root_mean_squared_error: 4.8270 - lr: 1.0000e-06\n",
      "Epoch 835/1000\n",
      "9/9 [==============================] - 0s 13ms/step - loss: 4.4456 - root_mean_squared_error: 2.1085 - val_loss: 23.2573 - val_root_mean_squared_error: 4.8226 - lr: 1.0000e-06\n",
      "Epoch 836/1000\n",
      "9/9 [==============================] - 0s 13ms/step - loss: 4.4324 - root_mean_squared_error: 2.1053 - val_loss: 23.2871 - val_root_mean_squared_error: 4.8257 - lr: 1.0000e-06\n",
      "Epoch 837/1000\n",
      "9/9 [==============================] - 0s 13ms/step - loss: 4.4339 - root_mean_squared_error: 2.1057 - val_loss: 23.2875 - val_root_mean_squared_error: 4.8257 - lr: 1.0000e-06\n",
      "Epoch 838/1000\n",
      "9/9 [==============================] - 0s 13ms/step - loss: 4.4310 - root_mean_squared_error: 2.1050 - val_loss: 23.3101 - val_root_mean_squared_error: 4.8281 - lr: 1.0000e-06\n",
      "Epoch 839/1000\n",
      "9/9 [==============================] - 0s 13ms/step - loss: 4.4296 - root_mean_squared_error: 2.1047 - val_loss: 23.3243 - val_root_mean_squared_error: 4.8295 - lr: 1.0000e-06\n",
      "Epoch 840/1000\n",
      "9/9 [==============================] - 0s 12ms/step - loss: 4.4340 - root_mean_squared_error: 2.1057 - val_loss: 23.2590 - val_root_mean_squared_error: 4.8228 - lr: 1.0000e-06\n",
      "Epoch 841/1000\n",
      "9/9 [==============================] - 0s 13ms/step - loss: 4.4287 - root_mean_squared_error: 2.1045 - val_loss: 23.2956 - val_root_mean_squared_error: 4.8265 - lr: 1.0000e-06\n",
      "Epoch 842/1000\n",
      "9/9 [==============================] - 0s 13ms/step - loss: 4.4235 - root_mean_squared_error: 2.1032 - val_loss: 23.3351 - val_root_mean_squared_error: 4.8306 - lr: 1.0000e-06\n",
      "Epoch 843/1000\n",
      "9/9 [==============================] - 0s 13ms/step - loss: 4.4204 - root_mean_squared_error: 2.1025 - val_loss: 23.3286 - val_root_mean_squared_error: 4.8300 - lr: 1.0000e-06\n",
      "Epoch 844/1000\n",
      "9/9 [==============================] - 0s 13ms/step - loss: 4.4206 - root_mean_squared_error: 2.1025 - val_loss: 23.2983 - val_root_mean_squared_error: 4.8268 - lr: 1.0000e-06\n",
      "Epoch 845/1000\n",
      "9/9 [==============================] - 0s 13ms/step - loss: 4.4181 - root_mean_squared_error: 2.1019 - val_loss: 23.2716 - val_root_mean_squared_error: 4.8241 - lr: 1.0000e-06\n",
      "Epoch 846/1000\n",
      "9/9 [==============================] - 0s 13ms/step - loss: 4.4163 - root_mean_squared_error: 2.1015 - val_loss: 23.2995 - val_root_mean_squared_error: 4.8270 - lr: 1.0000e-06\n",
      "Epoch 847/1000\n",
      "9/9 [==============================] - 0s 13ms/step - loss: 4.4127 - root_mean_squared_error: 2.1007 - val_loss: 23.3137 - val_root_mean_squared_error: 4.8284 - lr: 1.0000e-06\n",
      "Epoch 848/1000\n",
      "9/9 [==============================] - 0s 13ms/step - loss: 4.4222 - root_mean_squared_error: 2.1029 - val_loss: 23.3763 - val_root_mean_squared_error: 4.8349 - lr: 1.0000e-06\n",
      "Epoch 849/1000\n",
      "9/9 [==============================] - 0s 13ms/step - loss: 4.4214 - root_mean_squared_error: 2.1027 - val_loss: 23.2606 - val_root_mean_squared_error: 4.8229 - lr: 1.0000e-06\n",
      "Epoch 850/1000\n",
      "9/9 [==============================] - 0s 13ms/step - loss: 4.4101 - root_mean_squared_error: 2.1000 - val_loss: 23.2926 - val_root_mean_squared_error: 4.8262 - lr: 1.0000e-06\n",
      "Epoch 851/1000\n",
      "9/9 [==============================] - 0s 12ms/step - loss: 4.4094 - root_mean_squared_error: 2.0999 - val_loss: 23.3299 - val_root_mean_squared_error: 4.8301 - lr: 1.0000e-06\n",
      "Epoch 852/1000\n",
      "9/9 [==============================] - 0s 13ms/step - loss: 4.4105 - root_mean_squared_error: 2.1001 - val_loss: 23.3678 - val_root_mean_squared_error: 4.8340 - lr: 1.0000e-06\n",
      "Epoch 853/1000\n",
      "9/9 [==============================] - 0s 12ms/step - loss: 4.4061 - root_mean_squared_error: 2.0991 - val_loss: 23.3361 - val_root_mean_squared_error: 4.8307 - lr: 1.0000e-06\n",
      "Epoch 854/1000\n",
      "9/9 [==============================] - 0s 13ms/step - loss: 4.4065 - root_mean_squared_error: 2.0992 - val_loss: 23.3042 - val_root_mean_squared_error: 4.8274 - lr: 1.0000e-06\n"
     ]
    },
    {
     "name": "stdout",
     "output_type": "stream",
     "text": [
      "Epoch 855/1000\n",
      "9/9 [==============================] - 0s 13ms/step - loss: 4.4045 - root_mean_squared_error: 2.0987 - val_loss: 23.2728 - val_root_mean_squared_error: 4.8242 - lr: 1.0000e-06\n",
      "Epoch 856/1000\n",
      "9/9 [==============================] - 0s 13ms/step - loss: 4.3969 - root_mean_squared_error: 2.0969 - val_loss: 23.2529 - val_root_mean_squared_error: 4.8221 - lr: 1.0000e-06\n",
      "Epoch 857/1000\n",
      "9/9 [==============================] - 0s 13ms/step - loss: 4.4067 - root_mean_squared_error: 2.0992 - val_loss: 23.3539 - val_root_mean_squared_error: 4.8326 - lr: 1.0000e-06\n",
      "Epoch 858/1000\n",
      "9/9 [==============================] - 0s 13ms/step - loss: 4.3966 - root_mean_squared_error: 2.0968 - val_loss: 23.3804 - val_root_mean_squared_error: 4.8353 - lr: 1.0000e-06\n",
      "Epoch 859/1000\n",
      "9/9 [==============================] - 0s 12ms/step - loss: 4.3976 - root_mean_squared_error: 2.0971 - val_loss: 23.3103 - val_root_mean_squared_error: 4.8281 - lr: 1.0000e-06\n",
      "Epoch 860/1000\n",
      "9/9 [==============================] - 0s 13ms/step - loss: 4.3948 - root_mean_squared_error: 2.0964 - val_loss: 23.3594 - val_root_mean_squared_error: 4.8332 - lr: 1.0000e-06\n",
      "Epoch 861/1000\n",
      "9/9 [==============================] - 0s 13ms/step - loss: 4.3902 - root_mean_squared_error: 2.0953 - val_loss: 23.3177 - val_root_mean_squared_error: 4.8288 - lr: 1.0000e-06\n",
      "Epoch 862/1000\n",
      "9/9 [==============================] - 0s 13ms/step - loss: 4.3852 - root_mean_squared_error: 2.0941 - val_loss: 23.3355 - val_root_mean_squared_error: 4.8307 - lr: 1.0000e-06\n",
      "Epoch 863/1000\n",
      "9/9 [==============================] - 0s 12ms/step - loss: 4.3840 - root_mean_squared_error: 2.0938 - val_loss: 23.3923 - val_root_mean_squared_error: 4.8366 - lr: 1.0000e-06\n",
      "Epoch 864/1000\n",
      "9/9 [==============================] - 0s 13ms/step - loss: 4.3891 - root_mean_squared_error: 2.0950 - val_loss: 23.3287 - val_root_mean_squared_error: 4.8300 - lr: 1.0000e-06\n",
      "Epoch 865/1000\n",
      "9/9 [==============================] - 0s 12ms/step - loss: 4.3834 - root_mean_squared_error: 2.0937 - val_loss: 23.3913 - val_root_mean_squared_error: 4.8365 - lr: 1.0000e-06\n",
      "Epoch 866/1000\n",
      "9/9 [==============================] - 0s 16ms/step - loss: 4.3787 - root_mean_squared_error: 2.0925 - val_loss: 23.3623 - val_root_mean_squared_error: 4.8335 - lr: 1.0000e-06\n",
      "Epoch 867/1000\n",
      "9/9 [==============================] - 0s 13ms/step - loss: 4.3776 - root_mean_squared_error: 2.0923 - val_loss: 23.3482 - val_root_mean_squared_error: 4.8320 - lr: 1.0000e-06\n",
      "Epoch 868/1000\n",
      "9/9 [==============================] - 0s 12ms/step - loss: 4.3793 - root_mean_squared_error: 2.0927 - val_loss: 23.3491 - val_root_mean_squared_error: 4.8321 - lr: 1.0000e-06\n",
      "Epoch 869/1000\n",
      "9/9 [==============================] - 0s 18ms/step - loss: 4.3824 - root_mean_squared_error: 2.0934 - val_loss: 23.3987 - val_root_mean_squared_error: 4.8372 - lr: 1.0000e-06\n",
      "Epoch 870/1000\n",
      "9/9 [==============================] - 0s 14ms/step - loss: 4.3768 - root_mean_squared_error: 2.0921 - val_loss: 23.3303 - val_root_mean_squared_error: 4.8301 - lr: 1.0000e-06\n",
      "Epoch 871/1000\n",
      "9/9 [==============================] - 0s 12ms/step - loss: 4.3707 - root_mean_squared_error: 2.0906 - val_loss: 23.3306 - val_root_mean_squared_error: 4.8302 - lr: 1.0000e-06\n",
      "Epoch 872/1000\n",
      "9/9 [==============================] - 0s 13ms/step - loss: 4.3653 - root_mean_squared_error: 2.0893 - val_loss: 23.3664 - val_root_mean_squared_error: 4.8339 - lr: 1.0000e-06\n",
      "Epoch 873/1000\n",
      "9/9 [==============================] - 0s 14ms/step - loss: 4.3654 - root_mean_squared_error: 2.0894 - val_loss: 23.4224 - val_root_mean_squared_error: 4.8397 - lr: 1.0000e-06\n",
      "Epoch 874/1000\n",
      "9/9 [==============================] - 0s 15ms/step - loss: 4.3644 - root_mean_squared_error: 2.0891 - val_loss: 23.4362 - val_root_mean_squared_error: 4.8411 - lr: 1.0000e-06\n",
      "Epoch 875/1000\n",
      "9/9 [==============================] - 0s 15ms/step - loss: 4.3708 - root_mean_squared_error: 2.0906 - val_loss: 23.3656 - val_root_mean_squared_error: 4.8338 - lr: 1.0000e-06\n",
      "Epoch 876/1000\n",
      "9/9 [==============================] - 0s 14ms/step - loss: 4.3643 - root_mean_squared_error: 2.0891 - val_loss: 23.4150 - val_root_mean_squared_error: 4.8389 - lr: 1.0000e-06\n",
      "Epoch 877/1000\n",
      "9/9 [==============================] - 0s 16ms/step - loss: 4.3590 - root_mean_squared_error: 2.0878 - val_loss: 23.3629 - val_root_mean_squared_error: 4.8335 - lr: 1.0000e-06\n",
      "Epoch 878/1000\n",
      "9/9 [==============================] - 0s 15ms/step - loss: 4.3578 - root_mean_squared_error: 2.0875 - val_loss: 23.4037 - val_root_mean_squared_error: 4.8377 - lr: 1.0000e-06\n",
      "Epoch 879/1000\n",
      "9/9 [==============================] - 0s 13ms/step - loss: 4.3552 - root_mean_squared_error: 2.0869 - val_loss: 23.4007 - val_root_mean_squared_error: 4.8374 - lr: 1.0000e-06\n",
      "Epoch 880/1000\n",
      "9/9 [==============================] - 0s 13ms/step - loss: 4.3588 - root_mean_squared_error: 2.0878 - val_loss: 23.4746 - val_root_mean_squared_error: 4.8451 - lr: 1.0000e-06\n",
      "Epoch 881/1000\n",
      "9/9 [==============================] - 0s 13ms/step - loss: 4.3552 - root_mean_squared_error: 2.0869 - val_loss: 23.3812 - val_root_mean_squared_error: 4.8354 - lr: 1.0000e-06\n",
      "Epoch 882/1000\n",
      "9/9 [==============================] - 0s 13ms/step - loss: 4.3500 - root_mean_squared_error: 2.0857 - val_loss: 23.3480 - val_root_mean_squared_error: 4.8320 - lr: 1.0000e-06\n",
      "Epoch 883/1000\n",
      "9/9 [==============================] - 0s 13ms/step - loss: 4.3463 - root_mean_squared_error: 2.0848 - val_loss: 23.3749 - val_root_mean_squared_error: 4.8348 - lr: 1.0000e-06\n",
      "Epoch 884/1000\n",
      "9/9 [==============================] - 0s 13ms/step - loss: 4.3497 - root_mean_squared_error: 2.0856 - val_loss: 23.4123 - val_root_mean_squared_error: 4.8386 - lr: 1.0000e-06\n",
      "Epoch 885/1000\n",
      "9/9 [==============================] - 0s 13ms/step - loss: 4.3484 - root_mean_squared_error: 2.0853 - val_loss: 23.4946 - val_root_mean_squared_error: 4.8471 - lr: 1.0000e-06\n",
      "Epoch 886/1000\n",
      "9/9 [==============================] - 0s 16ms/step - loss: 4.3396 - root_mean_squared_error: 2.0832 - val_loss: 23.4321 - val_root_mean_squared_error: 4.8407 - lr: 1.0000e-06\n",
      "Epoch 887/1000\n",
      "9/9 [==============================] - 0s 15ms/step - loss: 4.3361 - root_mean_squared_error: 2.0823 - val_loss: 23.4351 - val_root_mean_squared_error: 4.8410 - lr: 1.0000e-06\n",
      "Epoch 888/1000\n",
      "9/9 [==============================] - 0s 14ms/step - loss: 4.3392 - root_mean_squared_error: 2.0831 - val_loss: 23.3971 - val_root_mean_squared_error: 4.8371 - lr: 1.0000e-06\n",
      "Epoch 889/1000\n",
      "9/9 [==============================] - 0s 14ms/step - loss: 4.3351 - root_mean_squared_error: 2.0821 - val_loss: 23.4242 - val_root_mean_squared_error: 4.8399 - lr: 1.0000e-06\n",
      "Epoch 890/1000\n",
      "9/9 [==============================] - 0s 13ms/step - loss: 4.3339 - root_mean_squared_error: 2.0818 - val_loss: 23.4109 - val_root_mean_squared_error: 4.8385 - lr: 1.0000e-06\n",
      "Epoch 891/1000\n",
      "9/9 [==============================] - 0s 13ms/step - loss: 4.3321 - root_mean_squared_error: 2.0814 - val_loss: 23.4649 - val_root_mean_squared_error: 4.8441 - lr: 1.0000e-06\n",
      "Epoch 892/1000\n",
      "9/9 [==============================] - 0s 13ms/step - loss: 4.3331 - root_mean_squared_error: 2.0816 - val_loss: 23.4927 - val_root_mean_squared_error: 4.8469 - lr: 1.0000e-06\n",
      "Epoch 893/1000\n",
      "9/9 [==============================] - 0s 13ms/step - loss: 4.3308 - root_mean_squared_error: 2.0811 - val_loss: 23.4305 - val_root_mean_squared_error: 4.8405 - lr: 1.0000e-06\n",
      "Epoch 894/1000\n",
      "9/9 [==============================] - 0s 14ms/step - loss: 4.3271 - root_mean_squared_error: 2.0802 - val_loss: 23.4627 - val_root_mean_squared_error: 4.8438 - lr: 1.0000e-06\n",
      "Epoch 895/1000\n",
      "9/9 [==============================] - 0s 13ms/step - loss: 4.3267 - root_mean_squared_error: 2.0801 - val_loss: 23.3990 - val_root_mean_squared_error: 4.8373 - lr: 1.0000e-06\n",
      "Epoch 896/1000\n",
      "9/9 [==============================] - 0s 13ms/step - loss: 4.3249 - root_mean_squared_error: 2.0796 - val_loss: 23.4584 - val_root_mean_squared_error: 4.8434 - lr: 1.0000e-06\n",
      "Epoch 897/1000\n",
      "9/9 [==============================] - 0s 13ms/step - loss: 4.3220 - root_mean_squared_error: 2.0789 - val_loss: 23.4730 - val_root_mean_squared_error: 4.8449 - lr: 1.0000e-06\n"
     ]
    },
    {
     "name": "stdout",
     "output_type": "stream",
     "text": [
      "Epoch 898/1000\n",
      "9/9 [==============================] - 0s 13ms/step - loss: 4.3163 - root_mean_squared_error: 2.0776 - val_loss: 23.4766 - val_root_mean_squared_error: 4.8453 - lr: 1.0000e-06\n",
      "Epoch 899/1000\n",
      "9/9 [==============================] - 0s 15ms/step - loss: 4.3143 - root_mean_squared_error: 2.0771 - val_loss: 23.4759 - val_root_mean_squared_error: 4.8452 - lr: 1.0000e-06\n",
      "Epoch 900/1000\n",
      "9/9 [==============================] - 0s 13ms/step - loss: 4.3181 - root_mean_squared_error: 2.0780 - val_loss: 23.4291 - val_root_mean_squared_error: 4.8404 - lr: 1.0000e-06\n",
      "Epoch 901/1000\n",
      "9/9 [==============================] - 0s 13ms/step - loss: 4.3126 - root_mean_squared_error: 2.0767 - val_loss: 23.4132 - val_root_mean_squared_error: 4.8387 - lr: 1.0000e-06\n",
      "Epoch 902/1000\n",
      "9/9 [==============================] - 0s 14ms/step - loss: 4.3094 - root_mean_squared_error: 2.0759 - val_loss: 23.4526 - val_root_mean_squared_error: 4.8428 - lr: 1.0000e-06\n",
      "Epoch 903/1000\n",
      "9/9 [==============================] - 0s 14ms/step - loss: 4.3123 - root_mean_squared_error: 2.0766 - val_loss: 23.4613 - val_root_mean_squared_error: 4.8437 - lr: 1.0000e-06\n",
      "Epoch 904/1000\n",
      "9/9 [==============================] - 0s 13ms/step - loss: 4.3073 - root_mean_squared_error: 2.0754 - val_loss: 23.4821 - val_root_mean_squared_error: 4.8458 - lr: 1.0000e-06\n",
      "Epoch 905/1000\n",
      "9/9 [==============================] - 0s 14ms/step - loss: 4.3060 - root_mean_squared_error: 2.0751 - val_loss: 23.5286 - val_root_mean_squared_error: 4.8506 - lr: 1.0000e-06\n",
      "Epoch 906/1000\n",
      "9/9 [==============================] - 0s 15ms/step - loss: 4.3031 - root_mean_squared_error: 2.0744 - val_loss: 23.5107 - val_root_mean_squared_error: 4.8488 - lr: 1.0000e-06\n",
      "Epoch 907/1000\n",
      "9/9 [==============================] - 0s 13ms/step - loss: 4.3015 - root_mean_squared_error: 2.0740 - val_loss: 23.4978 - val_root_mean_squared_error: 4.8475 - lr: 1.0000e-06\n",
      "Epoch 908/1000\n",
      "9/9 [==============================] - 0s 13ms/step - loss: 4.2986 - root_mean_squared_error: 2.0733 - val_loss: 23.4773 - val_root_mean_squared_error: 4.8453 - lr: 1.0000e-06\n",
      "Epoch 909/1000\n",
      "9/9 [==============================] - 0s 14ms/step - loss: 4.2991 - root_mean_squared_error: 2.0734 - val_loss: 23.5050 - val_root_mean_squared_error: 4.8482 - lr: 1.0000e-06\n",
      "Epoch 910/1000\n",
      "9/9 [==============================] - 0s 13ms/step - loss: 4.2939 - root_mean_squared_error: 2.0722 - val_loss: 23.4852 - val_root_mean_squared_error: 4.8462 - lr: 1.0000e-06\n",
      "Epoch 911/1000\n",
      "9/9 [==============================] - 0s 12ms/step - loss: 4.2994 - root_mean_squared_error: 2.0735 - val_loss: 23.4542 - val_root_mean_squared_error: 4.8430 - lr: 1.0000e-06\n",
      "Epoch 912/1000\n",
      "9/9 [==============================] - 0s 14ms/step - loss: 4.2944 - root_mean_squared_error: 2.0723 - val_loss: 23.4835 - val_root_mean_squared_error: 4.8460 - lr: 1.0000e-06\n",
      "Epoch 913/1000\n",
      "9/9 [==============================] - 0s 14ms/step - loss: 4.2908 - root_mean_squared_error: 2.0714 - val_loss: 23.5093 - val_root_mean_squared_error: 4.8486 - lr: 1.0000e-06\n",
      "Epoch 914/1000\n",
      "9/9 [==============================] - 0s 13ms/step - loss: 4.2868 - root_mean_squared_error: 2.0705 - val_loss: 23.5143 - val_root_mean_squared_error: 4.8492 - lr: 1.0000e-06\n",
      "Epoch 915/1000\n",
      "9/9 [==============================] - 0s 13ms/step - loss: 4.2869 - root_mean_squared_error: 2.0705 - val_loss: 23.5248 - val_root_mean_squared_error: 4.8502 - lr: 1.0000e-06\n",
      "Epoch 916/1000\n",
      "9/9 [==============================] - 0s 14ms/step - loss: 4.2837 - root_mean_squared_error: 2.0697 - val_loss: 23.5394 - val_root_mean_squared_error: 4.8517 - lr: 1.0000e-06\n",
      "Epoch 917/1000\n",
      "9/9 [==============================] - 0s 14ms/step - loss: 4.2920 - root_mean_squared_error: 2.0717 - val_loss: 23.4838 - val_root_mean_squared_error: 4.8460 - lr: 1.0000e-06\n",
      "Epoch 918/1000\n",
      "9/9 [==============================] - 0s 15ms/step - loss: 4.2832 - root_mean_squared_error: 2.0696 - val_loss: 23.5238 - val_root_mean_squared_error: 4.8501 - lr: 1.0000e-06\n",
      "Epoch 919/1000\n",
      "9/9 [==============================] - 0s 14ms/step - loss: 4.2781 - root_mean_squared_error: 2.0684 - val_loss: 23.5288 - val_root_mean_squared_error: 4.8507 - lr: 1.0000e-06\n",
      "Epoch 920/1000\n",
      "9/9 [==============================] - 0s 14ms/step - loss: 4.2805 - root_mean_squared_error: 2.0689 - val_loss: 23.5503 - val_root_mean_squared_error: 4.8529 - lr: 1.0000e-06\n",
      "Epoch 921/1000\n",
      "9/9 [==============================] - 0s 15ms/step - loss: 4.2870 - root_mean_squared_error: 2.0705 - val_loss: 23.6251 - val_root_mean_squared_error: 4.8606 - lr: 1.0000e-06\n",
      "Epoch 922/1000\n",
      "9/9 [==============================] - 0s 14ms/step - loss: 4.2732 - root_mean_squared_error: 2.0672 - val_loss: 23.5285 - val_root_mean_squared_error: 4.8506 - lr: 1.0000e-06\n",
      "Epoch 923/1000\n",
      "9/9 [==============================] - 0s 16ms/step - loss: 4.2750 - root_mean_squared_error: 2.0676 - val_loss: 23.5533 - val_root_mean_squared_error: 4.8532 - lr: 1.0000e-06\n",
      "Epoch 924/1000\n",
      "9/9 [==============================] - 0s 14ms/step - loss: 4.2832 - root_mean_squared_error: 2.0696 - val_loss: 23.4831 - val_root_mean_squared_error: 4.8459 - lr: 1.0000e-06\n",
      "Epoch 925/1000\n",
      "9/9 [==============================] - 0s 14ms/step - loss: 4.2679 - root_mean_squared_error: 2.0659 - val_loss: 23.5103 - val_root_mean_squared_error: 4.8487 - lr: 1.0000e-06\n",
      "Epoch 926/1000\n",
      "9/9 [==============================] - 0s 15ms/step - loss: 4.2681 - root_mean_squared_error: 2.0659 - val_loss: 23.5638 - val_root_mean_squared_error: 4.8543 - lr: 1.0000e-06\n",
      "Epoch 927/1000\n",
      "9/9 [==============================] - 0s 14ms/step - loss: 4.2651 - root_mean_squared_error: 2.0652 - val_loss: 23.6028 - val_root_mean_squared_error: 4.8583 - lr: 1.0000e-06\n",
      "Epoch 928/1000\n",
      "9/9 [==============================] - 0s 14ms/step - loss: 4.2639 - root_mean_squared_error: 2.0649 - val_loss: 23.5432 - val_root_mean_squared_error: 4.8521 - lr: 1.0000e-06\n",
      "Epoch 929/1000\n",
      "9/9 [==============================] - 0s 14ms/step - loss: 4.2608 - root_mean_squared_error: 2.0642 - val_loss: 23.5610 - val_root_mean_squared_error: 4.8540 - lr: 1.0000e-06\n",
      "Epoch 930/1000\n",
      "9/9 [==============================] - 0s 15ms/step - loss: 4.2613 - root_mean_squared_error: 2.0643 - val_loss: 23.5105 - val_root_mean_squared_error: 4.8488 - lr: 1.0000e-06\n",
      "Epoch 931/1000\n",
      "9/9 [==============================] - 0s 15ms/step - loss: 4.2549 - root_mean_squared_error: 2.0627 - val_loss: 23.5415 - val_root_mean_squared_error: 4.8520 - lr: 1.0000e-06\n",
      "Epoch 932/1000\n",
      "9/9 [==============================] - 0s 14ms/step - loss: 4.2573 - root_mean_squared_error: 2.0633 - val_loss: 23.6226 - val_root_mean_squared_error: 4.8603 - lr: 1.0000e-06\n",
      "Epoch 933/1000\n",
      "9/9 [==============================] - 0s 14ms/step - loss: 4.2715 - root_mean_squared_error: 2.0668 - val_loss: 23.5253 - val_root_mean_squared_error: 4.8503 - lr: 1.0000e-06\n",
      "Epoch 934/1000\n",
      "9/9 [==============================] - 0s 15ms/step - loss: 4.2476 - root_mean_squared_error: 2.0610 - val_loss: 23.5528 - val_root_mean_squared_error: 4.8531 - lr: 1.0000e-06\n",
      "Epoch 935/1000\n",
      "9/9 [==============================] - 0s 14ms/step - loss: 4.2467 - root_mean_squared_error: 2.0608 - val_loss: 23.6005 - val_root_mean_squared_error: 4.8580 - lr: 1.0000e-06\n",
      "Epoch 936/1000\n",
      "9/9 [==============================] - 0s 14ms/step - loss: 4.2488 - root_mean_squared_error: 2.0613 - val_loss: 23.6114 - val_root_mean_squared_error: 4.8592 - lr: 1.0000e-06\n",
      "Epoch 937/1000\n",
      "9/9 [==============================] - 0s 14ms/step - loss: 4.2437 - root_mean_squared_error: 2.0600 - val_loss: 23.6378 - val_root_mean_squared_error: 4.8619 - lr: 1.0000e-06\n",
      "Epoch 938/1000\n",
      "9/9 [==============================] - 0s 13ms/step - loss: 4.2426 - root_mean_squared_error: 2.0598 - val_loss: 23.5915 - val_root_mean_squared_error: 4.8571 - lr: 1.0000e-06\n",
      "Epoch 939/1000\n",
      "9/9 [==============================] - 0s 14ms/step - loss: 4.2420 - root_mean_squared_error: 2.0596 - val_loss: 23.6221 - val_root_mean_squared_error: 4.8603 - lr: 1.0000e-06\n",
      "Epoch 940/1000\n",
      "9/9 [==============================] - 0s 13ms/step - loss: 4.2370 - root_mean_squared_error: 2.0584 - val_loss: 23.6248 - val_root_mean_squared_error: 4.8605 - lr: 1.0000e-06\n"
     ]
    },
    {
     "name": "stdout",
     "output_type": "stream",
     "text": [
      "Epoch 941/1000\n",
      "9/9 [==============================] - 0s 13ms/step - loss: 4.2380 - root_mean_squared_error: 2.0587 - val_loss: 23.5813 - val_root_mean_squared_error: 4.8561 - lr: 1.0000e-06\n",
      "Epoch 942/1000\n",
      "9/9 [==============================] - 0s 13ms/step - loss: 4.2390 - root_mean_squared_error: 2.0589 - val_loss: 23.5854 - val_root_mean_squared_error: 4.8565 - lr: 1.0000e-06\n",
      "Epoch 943/1000\n",
      "9/9 [==============================] - 0s 13ms/step - loss: 4.2288 - root_mean_squared_error: 2.0564 - val_loss: 23.6046 - val_root_mean_squared_error: 4.8585 - lr: 1.0000e-06\n",
      "Epoch 944/1000\n",
      "9/9 [==============================] - 0s 14ms/step - loss: 4.2293 - root_mean_squared_error: 2.0565 - val_loss: 23.6089 - val_root_mean_squared_error: 4.8589 - lr: 1.0000e-06\n",
      "Epoch 945/1000\n",
      "9/9 [==============================] - 0s 14ms/step - loss: 4.2292 - root_mean_squared_error: 2.0565 - val_loss: 23.6274 - val_root_mean_squared_error: 4.8608 - lr: 1.0000e-06\n",
      "Epoch 946/1000\n",
      "9/9 [==============================] - 0s 13ms/step - loss: 4.2340 - root_mean_squared_error: 2.0577 - val_loss: 23.7004 - val_root_mean_squared_error: 4.8683 - lr: 1.0000e-06\n",
      "Epoch 947/1000\n",
      "9/9 [==============================] - 0s 14ms/step - loss: 4.2259 - root_mean_squared_error: 2.0557 - val_loss: 23.6638 - val_root_mean_squared_error: 4.8645 - lr: 1.0000e-06\n",
      "Epoch 948/1000\n",
      "9/9 [==============================] - 0s 14ms/step - loss: 4.2226 - root_mean_squared_error: 2.0549 - val_loss: 23.6374 - val_root_mean_squared_error: 4.8618 - lr: 1.0000e-06\n",
      "Epoch 949/1000\n",
      "9/9 [==============================] - 0s 13ms/step - loss: 4.2232 - root_mean_squared_error: 2.0550 - val_loss: 23.6355 - val_root_mean_squared_error: 4.8616 - lr: 1.0000e-06\n",
      "Epoch 950/1000\n",
      "9/9 [==============================] - 0s 14ms/step - loss: 4.2171 - root_mean_squared_error: 2.0536 - val_loss: 23.6727 - val_root_mean_squared_error: 4.8655 - lr: 1.0000e-06\n",
      "Epoch 951/1000\n",
      "9/9 [==============================] - 0s 14ms/step - loss: 4.2241 - root_mean_squared_error: 2.0553 - val_loss: 23.7572 - val_root_mean_squared_error: 4.8741 - lr: 1.0000e-06\n",
      "Epoch 952/1000\n",
      "9/9 [==============================] - 0s 14ms/step - loss: 4.2126 - root_mean_squared_error: 2.0525 - val_loss: 23.7277 - val_root_mean_squared_error: 4.8711 - lr: 1.0000e-06\n",
      "Epoch 953/1000\n",
      "9/9 [==============================] - 0s 15ms/step - loss: 4.2142 - root_mean_squared_error: 2.0528 - val_loss: 23.6959 - val_root_mean_squared_error: 4.8678 - lr: 1.0000e-06\n",
      "Epoch 954/1000\n",
      "9/9 [==============================] - 0s 14ms/step - loss: 4.2134 - root_mean_squared_error: 2.0526 - val_loss: 23.6420 - val_root_mean_squared_error: 4.8623 - lr: 1.0000e-06\n",
      "Epoch 955/1000\n",
      "9/9 [==============================] - 0s 14ms/step - loss: 4.2087 - root_mean_squared_error: 2.0515 - val_loss: 23.6742 - val_root_mean_squared_error: 4.8656 - lr: 1.0000e-06\n",
      "Epoch 956/1000\n",
      "9/9 [==============================] - 0s 13ms/step - loss: 4.2109 - root_mean_squared_error: 2.0521 - val_loss: 23.7188 - val_root_mean_squared_error: 4.8702 - lr: 1.0000e-06\n",
      "Epoch 957/1000\n",
      "9/9 [==============================] - 0s 15ms/step - loss: 4.2042 - root_mean_squared_error: 2.0504 - val_loss: 23.6832 - val_root_mean_squared_error: 4.8665 - lr: 1.0000e-06\n",
      "Epoch 958/1000\n",
      "9/9 [==============================] - 0s 14ms/step - loss: 4.2004 - root_mean_squared_error: 2.0495 - val_loss: 23.6934 - val_root_mean_squared_error: 4.8676 - lr: 1.0000e-06\n",
      "Epoch 959/1000\n",
      "9/9 [==============================] - 0s 13ms/step - loss: 4.2005 - root_mean_squared_error: 2.0495 - val_loss: 23.6885 - val_root_mean_squared_error: 4.8671 - lr: 1.0000e-06\n",
      "Epoch 960/1000\n",
      "9/9 [==============================] - 0s 14ms/step - loss: 4.1999 - root_mean_squared_error: 2.0494 - val_loss: 23.6482 - val_root_mean_squared_error: 4.8629 - lr: 1.0000e-06\n",
      "Epoch 961/1000\n",
      "9/9 [==============================] - 0s 14ms/step - loss: 4.1942 - root_mean_squared_error: 2.0480 - val_loss: 23.6753 - val_root_mean_squared_error: 4.8657 - lr: 1.0000e-06\n",
      "Epoch 962/1000\n",
      "9/9 [==============================] - 0s 13ms/step - loss: 4.1951 - root_mean_squared_error: 2.0482 - val_loss: 23.7233 - val_root_mean_squared_error: 4.8707 - lr: 1.0000e-06\n",
      "Epoch 963/1000\n",
      "9/9 [==============================] - 0s 13ms/step - loss: 4.1933 - root_mean_squared_error: 2.0478 - val_loss: 23.7194 - val_root_mean_squared_error: 4.8703 - lr: 1.0000e-06\n",
      "Epoch 964/1000\n",
      "9/9 [==============================] - 0s 14ms/step - loss: 4.1957 - root_mean_squared_error: 2.0483 - val_loss: 23.6821 - val_root_mean_squared_error: 4.8664 - lr: 1.0000e-06\n",
      "Epoch 965/1000\n",
      "9/9 [==============================] - 0s 14ms/step - loss: 4.1857 - root_mean_squared_error: 2.0459 - val_loss: 23.7013 - val_root_mean_squared_error: 4.8684 - lr: 1.0000e-06\n",
      "Epoch 966/1000\n",
      "9/9 [==============================] - 0s 14ms/step - loss: 4.1853 - root_mean_squared_error: 2.0458 - val_loss: 23.7295 - val_root_mean_squared_error: 4.8713 - lr: 1.0000e-06\n",
      "Epoch 967/1000\n",
      "9/9 [==============================] - 0s 14ms/step - loss: 4.1840 - root_mean_squared_error: 2.0455 - val_loss: 23.7821 - val_root_mean_squared_error: 4.8767 - lr: 1.0000e-06\n",
      "Epoch 968/1000\n",
      "9/9 [==============================] - 0s 13ms/step - loss: 4.1846 - root_mean_squared_error: 2.0456 - val_loss: 23.7994 - val_root_mean_squared_error: 4.8785 - lr: 1.0000e-06\n",
      "Epoch 969/1000\n",
      "9/9 [==============================] - 0s 13ms/step - loss: 4.1851 - root_mean_squared_error: 2.0458 - val_loss: 23.7587 - val_root_mean_squared_error: 4.8743 - lr: 1.0000e-06\n",
      "Epoch 970/1000\n",
      "9/9 [==============================] - 0s 13ms/step - loss: 4.1798 - root_mean_squared_error: 2.0445 - val_loss: 23.7189 - val_root_mean_squared_error: 4.8702 - lr: 1.0000e-06\n",
      "Epoch 971/1000\n",
      "9/9 [==============================] - 0s 13ms/step - loss: 4.1882 - root_mean_squared_error: 2.0465 - val_loss: 23.7907 - val_root_mean_squared_error: 4.8776 - lr: 1.0000e-06\n",
      "Epoch 972/1000\n",
      "9/9 [==============================] - 0s 14ms/step - loss: 4.1787 - root_mean_squared_error: 2.0442 - val_loss: 23.7477 - val_root_mean_squared_error: 4.8732 - lr: 1.0000e-06\n",
      "Epoch 973/1000\n",
      "9/9 [==============================] - 0s 14ms/step - loss: 4.1762 - root_mean_squared_error: 2.0436 - val_loss: 23.7790 - val_root_mean_squared_error: 4.8764 - lr: 1.0000e-06\n",
      "Epoch 974/1000\n",
      "9/9 [==============================] - 0s 14ms/step - loss: 4.1740 - root_mean_squared_error: 2.0430 - val_loss: 23.7899 - val_root_mean_squared_error: 4.8775 - lr: 1.0000e-06\n",
      "Epoch 975/1000\n",
      "9/9 [==============================] - 0s 13ms/step - loss: 4.1763 - root_mean_squared_error: 2.0436 - val_loss: 23.8147 - val_root_mean_squared_error: 4.8800 - lr: 1.0000e-06\n",
      "Epoch 976/1000\n",
      "9/9 [==============================] - 0s 13ms/step - loss: 4.1693 - root_mean_squared_error: 2.0419 - val_loss: 23.7701 - val_root_mean_squared_error: 4.8755 - lr: 1.0000e-06\n",
      "Epoch 977/1000\n",
      "9/9 [==============================] - 0s 14ms/step - loss: 4.1655 - root_mean_squared_error: 2.0410 - val_loss: 23.7382 - val_root_mean_squared_error: 4.8722 - lr: 1.0000e-06\n",
      "Epoch 978/1000\n",
      "9/9 [==============================] - 0s 14ms/step - loss: 4.1667 - root_mean_squared_error: 2.0412 - val_loss: 23.7734 - val_root_mean_squared_error: 4.8758 - lr: 1.0000e-06\n",
      "Epoch 979/1000\n",
      "9/9 [==============================] - 0s 13ms/step - loss: 4.1635 - root_mean_squared_error: 2.0405 - val_loss: 23.7556 - val_root_mean_squared_error: 4.8740 - lr: 1.0000e-06\n",
      "Epoch 980/1000\n",
      "9/9 [==============================] - 0s 13ms/step - loss: 4.1638 - root_mean_squared_error: 2.0405 - val_loss: 23.8244 - val_root_mean_squared_error: 4.8810 - lr: 1.0000e-06\n",
      "Epoch 981/1000\n",
      "9/9 [==============================] - 0s 14ms/step - loss: 4.1558 - root_mean_squared_error: 2.0386 - val_loss: 23.8108 - val_root_mean_squared_error: 4.8796 - lr: 1.0000e-06\n",
      "Epoch 982/1000\n",
      "9/9 [==============================] - 0s 13ms/step - loss: 4.1551 - root_mean_squared_error: 2.0384 - val_loss: 23.8312 - val_root_mean_squared_error: 4.8817 - lr: 1.0000e-06\n",
      "Epoch 983/1000\n",
      "9/9 [==============================] - 0s 14ms/step - loss: 4.1547 - root_mean_squared_error: 2.0383 - val_loss: 23.8110 - val_root_mean_squared_error: 4.8797 - lr: 1.0000e-06\n"
     ]
    },
    {
     "name": "stdout",
     "output_type": "stream",
     "text": [
      "Epoch 984/1000\n",
      "9/9 [==============================] - 0s 13ms/step - loss: 4.1526 - root_mean_squared_error: 2.0378 - val_loss: 23.8126 - val_root_mean_squared_error: 4.8798 - lr: 1.0000e-06\n",
      "Epoch 985/1000\n",
      "9/9 [==============================] - 0s 13ms/step - loss: 4.1519 - root_mean_squared_error: 2.0376 - val_loss: 23.8014 - val_root_mean_squared_error: 4.8787 - lr: 1.0000e-06\n",
      "Epoch 986/1000\n",
      "9/9 [==============================] - 0s 14ms/step - loss: 4.1502 - root_mean_squared_error: 2.0372 - val_loss: 23.7805 - val_root_mean_squared_error: 4.8765 - lr: 1.0000e-06\n",
      "Epoch 987/1000\n",
      "9/9 [==============================] - 0s 14ms/step - loss: 4.1545 - root_mean_squared_error: 2.0383 - val_loss: 23.8750 - val_root_mean_squared_error: 4.8862 - lr: 1.0000e-06\n",
      "Epoch 988/1000\n",
      "9/9 [==============================] - 0s 13ms/step - loss: 4.1425 - root_mean_squared_error: 2.0353 - val_loss: 23.8519 - val_root_mean_squared_error: 4.8838 - lr: 1.0000e-06\n",
      "Epoch 989/1000\n",
      "9/9 [==============================] - 0s 13ms/step - loss: 4.1404 - root_mean_squared_error: 2.0348 - val_loss: 23.8234 - val_root_mean_squared_error: 4.8809 - lr: 1.0000e-06\n",
      "Epoch 990/1000\n",
      "9/9 [==============================] - 0s 14ms/step - loss: 4.1398 - root_mean_squared_error: 2.0347 - val_loss: 23.8255 - val_root_mean_squared_error: 4.8811 - lr: 1.0000e-06\n",
      "Epoch 991/1000\n",
      "9/9 [==============================] - 0s 13ms/step - loss: 4.1367 - root_mean_squared_error: 2.0339 - val_loss: 23.8091 - val_root_mean_squared_error: 4.8795 - lr: 1.0000e-06\n",
      "Epoch 992/1000\n",
      "9/9 [==============================] - 0s 13ms/step - loss: 4.1352 - root_mean_squared_error: 2.0335 - val_loss: 23.8273 - val_root_mean_squared_error: 4.8813 - lr: 1.0000e-06\n",
      "Epoch 993/1000\n",
      "9/9 [==============================] - 0s 13ms/step - loss: 4.1359 - root_mean_squared_error: 2.0337 - val_loss: 23.8203 - val_root_mean_squared_error: 4.8806 - lr: 1.0000e-06\n",
      "Epoch 994/1000\n",
      "9/9 [==============================] - 0s 13ms/step - loss: 4.1334 - root_mean_squared_error: 2.0331 - val_loss: 23.8785 - val_root_mean_squared_error: 4.8866 - lr: 1.0000e-06\n",
      "Epoch 995/1000\n",
      "9/9 [==============================] - 0s 14ms/step - loss: 4.1314 - root_mean_squared_error: 2.0326 - val_loss: 23.8505 - val_root_mean_squared_error: 4.8837 - lr: 1.0000e-06\n",
      "Epoch 996/1000\n",
      "9/9 [==============================] - 0s 14ms/step - loss: 4.1278 - root_mean_squared_error: 2.0317 - val_loss: 23.8441 - val_root_mean_squared_error: 4.8830 - lr: 1.0000e-06\n",
      "Epoch 997/1000\n",
      "9/9 [==============================] - 0s 13ms/step - loss: 4.1300 - root_mean_squared_error: 2.0322 - val_loss: 23.8299 - val_root_mean_squared_error: 4.8816 - lr: 1.0000e-06\n",
      "Epoch 998/1000\n",
      "9/9 [==============================] - 0s 13ms/step - loss: 4.1301 - root_mean_squared_error: 2.0323 - val_loss: 23.8931 - val_root_mean_squared_error: 4.8881 - lr: 1.0000e-06\n",
      "Epoch 999/1000\n",
      "9/9 [==============================] - 0s 13ms/step - loss: 4.1234 - root_mean_squared_error: 2.0306 - val_loss: 23.8781 - val_root_mean_squared_error: 4.8865 - lr: 1.0000e-06\n",
      "Epoch 1000/1000\n",
      "9/9 [==============================] - 0s 14ms/step - loss: 4.1241 - root_mean_squared_error: 2.0308 - val_loss: 23.9365 - val_root_mean_squared_error: 4.8925 - lr: 1.0000e-06\n"
     ]
    }
   ],
   "source": [
    "AAPL_hist = AAPL_Model.fit(AAPL_Train_X, AAPL_Train_Y, epochs = 1000, validation_data = (AAPL_Test_X, AAPL_Test_Y), callbacks=[callback])"
   ]
  },
  {
   "cell_type": "code",
   "execution_count": 19,
   "metadata": {
    "id": "GI_rlBQ4HBim"
   },
   "outputs": [],
   "source": [
    "history_dict = AAPL_hist.history\n",
    "\n",
    "loss = history_dict[\"loss\"]\n",
    "root_mean_squared_error = history_dict[\"root_mean_squared_error\"]\n",
    "val_loss = history_dict[\"val_loss\"]\n",
    "val_root_mean_squared_error = history_dict[\"val_root_mean_squared_error\"]\n",
    "\n",
    "epochs = range(1, len(loss) + 1)"
   ]
  },
  {
   "cell_type": "code",
   "execution_count": 20,
   "metadata": {
    "colab": {
     "base_uri": "https://localhost:8080/",
     "height": 334
    },
    "id": "ExABS58lFHrS",
    "outputId": "8f3d3aaa-f907-47b3-c6fb-f617d6774e25"
   },
   "outputs": [
    {
     "data": {
      "image/png": "[encoded data removed]",
      "text/plain": [
       "<Figure size 1500x500 with 2 Axes>"
      ]
     },
     "metadata": {},
     "output_type": "display_data"
    }
   ],
   "source": [
    "fig, (ax1, ax2) = plt.subplots(1, 2)\n",
    "\n",
    "fig.set_figheight(5)\n",
    "fig.set_figwidth(15)\n",
    "\n",
    "ax1.plot(epochs, loss, label = 'Training Loss')\n",
    "ax1.plot(epochs, val_loss, label = 'Validation Loss')\n",
    "ax1.set(xlabel = \"Epochs\", ylabel = \"Loss\")\n",
    "ax1.legend()\n",
    "\n",
    "ax2.plot(epochs, root_mean_squared_error, label = \"Training Root Mean Squared Error\")\n",
    "ax2.plot(epochs, val_root_mean_squared_error, label = \"Validation Root Mean Squared Error\")\n",
    "ax2.set(xlabel = \"Epochs\", ylabel = \"Loss\")\n",
    "ax2.legend()\n",
    "\n",
    "plt.show()"
   ]
  },
  {
   "cell_type": "markdown",
   "metadata": {
    "id": "zrM4MV_A1Y26"
   },
   "source": [
    "### Predicting the closing stock price of Apple"
   ]
  },
  {
   "cell_type": "code",
   "execution_count": 21,
   "metadata": {
    "id": "BlBhKm6dEye7"
   },
   "outputs": [
    {
     "name": "stdout",
     "output_type": "stream",
     "text": [
      "1/1 [==============================] - 0s 370ms/step\n"
     ]
    }
   ],
   "source": [
    "AAPL_prediction = AAPL_Model.predict(AAPL_Test_X)"
   ]
  },
  {
   "cell_type": "code",
   "execution_count": 22,
   "metadata": {
    "colab": {
     "base_uri": "https://localhost:8080/",
     "height": 351
    },
    "id": "zKt-0GuXEFbL",
    "outputId": "53c40a47-f4cb-4c7a-e64f-7fd7e9f1c2f7"
   },
   "outputs": [
    {
     "data": {
      "text/plain": [
       "<matplotlib.legend.Legend at 0x27dc705f690>"
      ]
     },
     "execution_count": 22,
     "metadata": {},
     "output_type": "execute_result"
    },
    {
     "data": {
      "image/png": "[encoded data removed]",
      "text/plain": [
       "<Figure size 2000x500 with 1 Axes>"
      ]
     },
     "metadata": {},
     "output_type": "display_data"
    }
   ],
   "source": [
    "plt.figure(figsize=(20, 5))\n",
    "plt.plot(AAPL['Date'][AAPL['Date'] < '2020-10-12'], AAPL['Adj. Close'][AAPL['Date'] < '2020-10-12'], label = 'Training')\n",
    "plt.plot(AAPL['Date'][AAPL['Date'] >= '2020-10-09'], AAPL['Adj. Close'][AAPL['Date'] >= '2020-10-09'], label = 'Testing')\n",
    "plt.plot(AAPL['Date'][AAPL['Date'] >= '2020-10-12'], AAPL_prediction.reshape(-1), label = 'Predictions')\n",
    "plt.xlabel('Time')\n",
    "plt.ylabel('Closing Price')\n",
    "plt.legend(loc = 'best')"
   ]
  },
  {
   "cell_type": "code",
   "execution_count": 23,
   "metadata": {
    "colab": {
     "base_uri": "https://localhost:8080/"
    },
    "id": "Rk9tSItpFveZ",
    "outputId": "2f2bb456-a8ca-4265-84cc-6ae3d0e88a18"
   },
   "outputs": [
    {
     "name": "stdout",
     "output_type": "stream",
     "text": [
      "RMSE: 4.892489268244268\n",
      "MAPE: 0.02972339002047008\n"
     ]
    }
   ],
   "source": [
    "rmse = math.sqrt(mean_squared_error(AAPL_Test_Y.reshape(-1, 5), AAPL_prediction))\n",
    "mape = np.mean(np.abs(AAPL_prediction - AAPL_Test_Y.reshape(-1, 5))/np.abs(AAPL_Test_Y.reshape(-1, 5)))\n",
    "print(f'RMSE: {rmse}')\n",
    "print(f'MAPE: {mape}')"
   ]
  },
  {
   "cell_type": "markdown",
   "metadata": {
    "id": "ypf8ZYJOLDBM"
   },
   "source": [
    "#Tesla"
   ]
  },
  {
   "cell_type": "code",
   "execution_count": 23,
   "metadata": {
    "colab": {
     "base_uri": "https://localhost:8080/",
     "height": 195
    },
    "id": "QJq_CWY6TPHd",
    "outputId": "471a8905-1005-45bd-aa3b-f24cb7c86e8a"
   },
   "outputs": [
    {
     "data": {
      "text/html": [
       "<div>\n",
       "<style scoped>\n",
       "    .dataframe tbody tr th:only-of-type {\n",
       "        vertical-align: middle;\n",
       "    }\n",
       "\n",
       "    .dataframe tbody tr th {\n",
       "        vertical-align: top;\n",
       "    }\n",
       "\n",
       "    .dataframe thead th {\n",
       "        text-align: right;\n",
       "    }\n",
       "</style>\n",
       "<table border=\"1\" class=\"dataframe\">\n",
       "  <thead>\n",
       "    <tr style=\"text-align: right;\">\n",
       "      <th></th>\n",
       "      <th>Date</th>\n",
       "      <th>Open</th>\n",
       "      <th>High</th>\n",
       "      <th>Low</th>\n",
       "      <th>Close</th>\n",
       "      <th>Adj. Close</th>\n",
       "      <th>Volume</th>\n",
       "    </tr>\n",
       "  </thead>\n",
       "  <tbody>\n",
       "    <tr>\n",
       "      <th>0</th>\n",
       "      <td>2015-01-02</td>\n",
       "      <td>44.57</td>\n",
       "      <td>44.65</td>\n",
       "      <td>42.65</td>\n",
       "      <td>43.86</td>\n",
       "      <td>43.86</td>\n",
       "      <td>23822000.0</td>\n",
       "    </tr>\n",
       "    <tr>\n",
       "      <th>1</th>\n",
       "      <td>2015-01-05</td>\n",
       "      <td>42.91</td>\n",
       "      <td>43.30</td>\n",
       "      <td>41.43</td>\n",
       "      <td>42.02</td>\n",
       "      <td>42.02</td>\n",
       "      <td>26842500.0</td>\n",
       "    </tr>\n",
       "    <tr>\n",
       "      <th>2</th>\n",
       "      <td>2015-01-06</td>\n",
       "      <td>42.01</td>\n",
       "      <td>42.84</td>\n",
       "      <td>40.84</td>\n",
       "      <td>42.26</td>\n",
       "      <td>42.26</td>\n",
       "      <td>31309500.0</td>\n",
       "    </tr>\n",
       "    <tr>\n",
       "      <th>3</th>\n",
       "      <td>2015-01-07</td>\n",
       "      <td>42.67</td>\n",
       "      <td>42.96</td>\n",
       "      <td>41.96</td>\n",
       "      <td>42.19</td>\n",
       "      <td>42.19</td>\n",
       "      <td>14842000.0</td>\n",
       "    </tr>\n",
       "    <tr>\n",
       "      <th>4</th>\n",
       "      <td>2015-01-08</td>\n",
       "      <td>42.56</td>\n",
       "      <td>42.76</td>\n",
       "      <td>42.00</td>\n",
       "      <td>42.12</td>\n",
       "      <td>42.12</td>\n",
       "      <td>17212500.0</td>\n",
       "    </tr>\n",
       "  </tbody>\n",
       "</table>\n",
       "</div>"
      ],
      "text/plain": [
       "         Date   Open   High    Low  Close  Adj. Close      Volume\n",
       "0  2015-01-02  44.57  44.65  42.65  43.86       43.86  23822000.0\n",
       "1  2015-01-05  42.91  43.30  41.43  42.02       42.02  26842500.0\n",
       "2  2015-01-06  42.01  42.84  40.84  42.26       42.26  31309500.0\n",
       "3  2015-01-07  42.67  42.96  41.96  42.19       42.19  14842000.0\n",
       "4  2015-01-08  42.56  42.76  42.00  42.12       42.12  17212500.0"
      ]
     },
     "execution_count": 23,
     "metadata": {
      "tags": []
     },
     "output_type": "execute_result"
    }
   ],
   "source": [
    "TSLA.head()"
   ]
  },
  {
   "cell_type": "code",
   "execution_count": 24,
   "metadata": {
    "colab": {
     "base_uri": "https://localhost:8080/"
    },
    "id": "pyL1B3uMTUNv",
    "outputId": "ec027b1a-8917-4d44-faaa-e3d082a7792a"
   },
   "outputs": [
    {
     "name": "stdout",
     "output_type": "stream",
     "text": [
      "<class 'pandas.core.frame.DataFrame'>\n",
      "RangeIndex: 1549 entries, 0 to 1548\n",
      "Data columns (total 7 columns):\n",
      " #   Column      Non-Null Count  Dtype  \n",
      "---  ------      --------------  -----  \n",
      " 0   Date        1549 non-null   object \n",
      " 1   Open        1549 non-null   float64\n",
      " 2   High        1549 non-null   float64\n",
      " 3   Low         1549 non-null   float64\n",
      " 4   Close       1549 non-null   float64\n",
      " 5   Adj. Close  1549 non-null   float64\n",
      " 6   Volume      1549 non-null   float64\n",
      "dtypes: float64(6), object(1)\n",
      "memory usage: 84.8+ KB\n"
     ]
    }
   ],
   "source": [
    "TSLA.info()"
   ]
  },
  {
   "cell_type": "code",
   "execution_count": 25,
   "metadata": {
    "id": "acJ0D4D8TbuT"
   },
   "outputs": [],
   "source": [
    "# Change Dtype of Date column\n",
    "TSLA[\"Date\"] = pd.to_datetime(TSLA[\"Date\"])"
   ]
  },
  {
   "cell_type": "markdown",
   "metadata": {
    "id": "fdCQQVG36NtH"
   },
   "source": [
    "###Split the Data into Training and Test set\n",
    "    Training Period: 2015-01-02 - 2020-09-30\n",
    "\n",
    "    Testing Period:  2020-10-01 - 2021-02-26"
   ]
  },
  {
   "cell_type": "code",
   "execution_count": 26,
   "metadata": {
    "id": "MJ4YxPbLTogR"
   },
   "outputs": [],
   "source": [
    "TSLA_Date = '2020-10-01'\n",
    "TSLA_Train_X, TSLA_Train_Y, TSLA_Test_X, TSLA_Test_Y = Dataset(TSLA, TSLA_Date)"
   ]
  },
  {
   "cell_type": "markdown",
   "metadata": {
    "id": "aYKWpHMa17Kh"
   },
   "source": [
    "### Model Fitting"
   ]
  },
  {
   "cell_type": "code",
   "execution_count": 27,
   "metadata": {
    "id": "SH2GuSX6T2Cm"
   },
   "outputs": [],
   "source": [
    "TSLA_Model = Model()"
   ]
  },
  {
   "cell_type": "code",
   "execution_count": 28,
   "metadata": {
    "id": "w-nr1vkYT_JJ"
   },
   "outputs": [],
   "source": [
    "TSLA_Model.compile(optimizer = tf.keras.optimizers.Adam(), loss = 'mse', metrics = tf.keras.metrics.RootMeanSquaredError())"
   ]
  },
  {
   "cell_type": "code",
   "execution_count": null,
   "metadata": {
    "id": "GcfkNJk2ULD0"
   },
   "outputs": [],
   "source": [
    "TSLA_hist = TSLA_Model.fit(TSLA_Train_X, TSLA_Train_Y, epochs = 200, validation_data = (TSLA_Test_X, TSLA_Test_Y), callbacks=[callback])"
   ]
  },
  {
   "cell_type": "code",
   "execution_count": 30,
   "metadata": {
    "id": "ZXWgxxkkUXt-"
   },
   "outputs": [],
   "source": [
    "history_dict = TSLA_hist.history\n",
    "\n",
    "loss = history_dict[\"loss\"]\n",
    "root_mean_squared_error = history_dict[\"root_mean_squared_error\"]\n",
    "val_loss = history_dict[\"val_loss\"]\n",
    "val_root_mean_squared_error = history_dict[\"val_root_mean_squared_error\"]\n",
    "\n",
    "epochs = range(1, len(loss) + 1)"
   ]
  },
  {
   "cell_type": "code",
   "execution_count": 31,
   "metadata": {
    "colab": {
     "base_uri": "https://localhost:8080/",
     "height": 334
    },
    "id": "fkrETLmdUy88",
    "outputId": "0f24d23b-a061-495e-ddcb-2eea048752ce"
   },
   "outputs": [
    {
     "data": {
      "image/png": "[encoded data removed]",
      "text/plain": [
       "<Figure size 1080x360 with 2 Axes>"
      ]
     },
     "metadata": {
      "needs_background": "light",
      "tags": []
     },
     "output_type": "display_data"
    }
   ],
   "source": [
    "fig, (ax1, ax2) = plt.subplots(1, 2)\n",
    "\n",
    "fig.set_figheight(5)\n",
    "fig.set_figwidth(15)\n",
    "\n",
    "ax1.plot(epochs, loss, label = \"Training Loss\")\n",
    "ax1.plot(epochs, val_loss, label = \"Validation Loss\")\n",
    "ax1.set(xlabel = \"Epochs\", ylabel = \"Loss\")\n",
    "ax1.legend()\n",
    "\n",
    "ax2.plot(epochs, root_mean_squared_error, label = \"Training Root Mean Squared Error\")\n",
    "ax2.plot(epochs, val_root_mean_squared_error, label = \"Validation Root Mean Squared Error\")\n",
    "ax2.set(xlabel = \"Epochs\", ylabel = \"Loss\")\n",
    "ax2.legend()\n",
    "\n",
    "plt.show()"
   ]
  },
  {
   "cell_type": "markdown",
   "metadata": {
    "id": "kz5vH7re1Unf"
   },
   "source": [
    "### Predicting the closing stock price of Tesla"
   ]
  },
  {
   "cell_type": "code",
   "execution_count": 32,
   "metadata": {
    "id": "LvaeZqRJUe1C"
   },
   "outputs": [],
   "source": [
    "TSLA_prediction = TSLA_Model.predict(TSLA_Test_X)"
   ]
  },
  {
   "cell_type": "code",
   "execution_count": 33,
   "metadata": {
    "colab": {
     "base_uri": "https://localhost:8080/",
     "height": 351
    },
    "id": "2wuKdS85Ut1t",
    "outputId": "abfe5cfe-2101-4df4-e580-8686fc36849d"
   },
   "outputs": [
    {
     "data": {
      "text/plain": [
       "<matplotlib.legend.Legend at 0x7f968415de50>"
      ]
     },
     "execution_count": 33,
     "metadata": {
      "tags": []
     },
     "output_type": "execute_result"
    },
    {
     "data": {
      "image/png": "[encoded data removed]",
      "text/plain": [
       "<Figure size 720x360 with 1 Axes>"
      ]
     },
     "metadata": {
      "needs_background": "light",
      "tags": []
     },
     "output_type": "display_data"
    }
   ],
   "source": [
    "plt.figure(figsize=(10, 5))\n",
    "plt.plot(TSLA['Date'][TSLA['Date'] < '2020-10-12'], TSLA['Adj. Close'][TSLA['Date'] < '2020-10-12'], label = 'Training')\n",
    "plt.plot(TSLA['Date'][TSLA['Date'] >= '2020-10-09'], TSLA['Adj. Close'][TSLA['Date'] >= '2020-10-09'], label = 'Testing')\n",
    "plt.plot(TSLA['Date'][TSLA['Date'] >= '2020-10-12'], TSLA_prediction.reshape(-1), label = 'Predictions')\n",
    "plt.xlabel('Time')\n",
    "plt.ylabel('Closing Price')\n",
    "plt.legend(loc = 'best')"
   ]
  },
  {
   "cell_type": "code",
   "execution_count": 34,
   "metadata": {
    "colab": {
     "base_uri": "https://localhost:8080/"
    },
    "id": "GtI6XOGNUmqG",
    "outputId": "e9b5d415-886a-42d9-c71f-8deb636a399b"
   },
   "outputs": [
    {
     "name": "stdout",
     "output_type": "stream",
     "text": [
      "RMSE: 66.40686299614501\n",
      "MAPE: 0.07223948908878701\n"
     ]
    }
   ],
   "source": [
    "rmse = math.sqrt(mean_squared_error(TSLA_Test_Y.reshape(-1, 5), TSLA_prediction))\n",
    "mape = np.mean(np.abs(TSLA_prediction - TSLA_Test_Y.reshape(-1, 5))/np.abs(TSLA_Test_Y.reshape(-1, 5)))\n",
    "print(f'RMSE: {rmse}')\n",
    "print(f'MAPE: {mape}')"
   ]
  },
  {
   "cell_type": "markdown",
   "metadata": {
    "id": "2JhHyPLLYnUY"
   },
   "source": [
    "#Google"
   ]
  },
  {
   "cell_type": "code",
   "execution_count": 35,
   "metadata": {
    "colab": {
     "base_uri": "https://localhost:8080/",
     "height": 195
    },
    "id": "Ss34732uYmXB",
    "outputId": "13da1f56-696c-4d35-f6c6-8e9be62d0666"
   },
   "outputs": [
    {
     "data": {
      "text/html": [
       "<div>\n",
       "<style scoped>\n",
       "    .dataframe tbody tr th:only-of-type {\n",
       "        vertical-align: middle;\n",
       "    }\n",
       "\n",
       "    .dataframe tbody tr th {\n",
       "        vertical-align: top;\n",
       "    }\n",
       "\n",
       "    .dataframe thead th {\n",
       "        text-align: right;\n",
       "    }\n",
       "</style>\n",
       "<table border=\"1\" class=\"dataframe\">\n",
       "  <thead>\n",
       "    <tr style=\"text-align: right;\">\n",
       "      <th></th>\n",
       "      <th>Date</th>\n",
       "      <th>Open</th>\n",
       "      <th>High</th>\n",
       "      <th>Low</th>\n",
       "      <th>Close</th>\n",
       "      <th>Adj. Close</th>\n",
       "      <th>Volume</th>\n",
       "    </tr>\n",
       "  </thead>\n",
       "  <tbody>\n",
       "    <tr>\n",
       "      <th>0</th>\n",
       "      <td>2015-01-02</td>\n",
       "      <td>527.56</td>\n",
       "      <td>529.82</td>\n",
       "      <td>522.67</td>\n",
       "      <td>523.37</td>\n",
       "      <td>523.37</td>\n",
       "      <td>1447563.0</td>\n",
       "    </tr>\n",
       "    <tr>\n",
       "      <th>1</th>\n",
       "      <td>2015-01-05</td>\n",
       "      <td>521.83</td>\n",
       "      <td>522.89</td>\n",
       "      <td>511.66</td>\n",
       "      <td>512.46</td>\n",
       "      <td>512.46</td>\n",
       "      <td>2059840.0</td>\n",
       "    </tr>\n",
       "    <tr>\n",
       "      <th>2</th>\n",
       "      <td>2015-01-06</td>\n",
       "      <td>513.59</td>\n",
       "      <td>514.76</td>\n",
       "      <td>499.68</td>\n",
       "      <td>500.59</td>\n",
       "      <td>500.59</td>\n",
       "      <td>2899940.0</td>\n",
       "    </tr>\n",
       "    <tr>\n",
       "      <th>3</th>\n",
       "      <td>2015-01-07</td>\n",
       "      <td>505.61</td>\n",
       "      <td>505.86</td>\n",
       "      <td>498.28</td>\n",
       "      <td>499.73</td>\n",
       "      <td>499.73</td>\n",
       "      <td>2065054.0</td>\n",
       "    </tr>\n",
       "    <tr>\n",
       "      <th>4</th>\n",
       "      <td>2015-01-08</td>\n",
       "      <td>496.63</td>\n",
       "      <td>502.10</td>\n",
       "      <td>489.66</td>\n",
       "      <td>501.30</td>\n",
       "      <td>501.30</td>\n",
       "      <td>3353582.0</td>\n",
       "    </tr>\n",
       "  </tbody>\n",
       "</table>\n",
       "</div>"
      ],
      "text/plain": [
       "         Date    Open    High     Low   Close  Adj. Close     Volume\n",
       "0  2015-01-02  527.56  529.82  522.67  523.37      523.37  1447563.0\n",
       "1  2015-01-05  521.83  522.89  511.66  512.46      512.46  2059840.0\n",
       "2  2015-01-06  513.59  514.76  499.68  500.59      500.59  2899940.0\n",
       "3  2015-01-07  505.61  505.86  498.28  499.73      499.73  2065054.0\n",
       "4  2015-01-08  496.63  502.10  489.66  501.30      501.30  3353582.0"
      ]
     },
     "execution_count": 35,
     "metadata": {
      "tags": []
     },
     "output_type": "execute_result"
    }
   ],
   "source": [
    "GOOG.head()"
   ]
  },
  {
   "cell_type": "code",
   "execution_count": 36,
   "metadata": {
    "colab": {
     "base_uri": "https://localhost:8080/"
    },
    "id": "n5JxMBTjZ_2Q",
    "outputId": "7f4f54f7-1aca-42d8-e58b-fe99dd399a64"
   },
   "outputs": [
    {
     "name": "stdout",
     "output_type": "stream",
     "text": [
      "<class 'pandas.core.frame.DataFrame'>\n",
      "RangeIndex: 1549 entries, 0 to 1548\n",
      "Data columns (total 7 columns):\n",
      " #   Column      Non-Null Count  Dtype  \n",
      "---  ------      --------------  -----  \n",
      " 0   Date        1549 non-null   object \n",
      " 1   Open        1549 non-null   float64\n",
      " 2   High        1549 non-null   float64\n",
      " 3   Low         1549 non-null   float64\n",
      " 4   Close       1549 non-null   float64\n",
      " 5   Adj. Close  1549 non-null   float64\n",
      " 6   Volume      1549 non-null   float64\n",
      "dtypes: float64(6), object(1)\n",
      "memory usage: 84.8+ KB\n"
     ]
    }
   ],
   "source": [
    "GOOG.info()"
   ]
  },
  {
   "cell_type": "code",
   "execution_count": 37,
   "metadata": {
    "id": "SB2BNkTKaGnx"
   },
   "outputs": [],
   "source": [
    "# Change Dtype of Date column\n",
    "GOOG[\"Date\"] = pd.to_datetime(GOOG[\"Date\"])"
   ]
  },
  {
   "cell_type": "markdown",
   "metadata": {
    "id": "ZPLEQ3pv6h2S"
   },
   "source": [
    "###Split the Data into Training and Test set\n",
    "    Training Period: 2015-01-02 - 2020-10-30\n",
    "\n",
    "    Testing Period:  2020-11-02 - 2021-02-26"
   ]
  },
  {
   "cell_type": "code",
   "execution_count": 38,
   "metadata": {
    "id": "CATiVyQ4aZ93"
   },
   "outputs": [],
   "source": [
    "GOOG_Date = '2020-11-01'\n",
    "GOOG_Train_X, GOOG_Train_Y, GOOG_Test_X, GOOG_Test_Y = Dataset(GOOG, GOOG_Date)"
   ]
  },
  {
   "cell_type": "markdown",
   "metadata": {
    "id": "toxFZOh914XG"
   },
   "source": [
    "### Model Fitting"
   ]
  },
  {
   "cell_type": "code",
   "execution_count": 39,
   "metadata": {
    "id": "RV2GNSl6aaBf"
   },
   "outputs": [],
   "source": [
    "GOOG_Model = Model()"
   ]
  },
  {
   "cell_type": "code",
   "execution_count": 40,
   "metadata": {
    "id": "PPjOZW8AaaFD"
   },
   "outputs": [],
   "source": [
    "GOOG_Model.compile(optimizer = tf.keras.optimizers.Adam(), loss = 'mse', metrics = tf.keras.metrics.RootMeanSquaredError())"
   ]
  },
  {
   "cell_type": "code",
   "execution_count": null,
   "metadata": {
    "id": "Fh9miHDgaaIk"
   },
   "outputs": [],
   "source": [
    "GOOG_hist = GOOG_Model.fit(GOOG_Train_X, GOOG_Train_Y, epochs = 1000, validation_data = (GOOG_Test_X, GOOG_Test_Y), callbacks = [callback])"
   ]
  },
  {
   "cell_type": "code",
   "execution_count": 42,
   "metadata": {
    "id": "vp7tR-PBaaL8"
   },
   "outputs": [],
   "source": [
    "history_dict = GOOG_hist.history\n",
    "\n",
    "loss = history_dict[\"loss\"]\n",
    "root_mean_squared_error = history_dict[\"root_mean_squared_error\"]\n",
    "val_loss = history_dict[\"val_loss\"]\n",
    "val_root_mean_squared_error = history_dict[\"val_root_mean_squared_error\"]\n",
    "\n",
    "epochs = range(1, len(loss) + 1)"
   ]
  },
  {
   "cell_type": "code",
   "execution_count": 43,
   "metadata": {
    "colab": {
     "base_uri": "https://localhost:8080/",
     "height": 345
    },
    "id": "DcU99odHbA-f",
    "outputId": "0e3d7e96-3502-4792-c0e3-3240f063c30a"
   },
   "outputs": [
    {
     "data": {
      "image/png": "[encoded data removed]",
      "text/plain": [
       "<Figure size 1080x360 with 2 Axes>"
      ]
     },
     "metadata": {
      "needs_background": "light",
      "tags": []
     },
     "output_type": "display_data"
    }
   ],
   "source": [
    "fig, (ax1, ax2) = plt.subplots(1, 2)\n",
    "\n",
    "fig.set_figheight(5)\n",
    "fig.set_figwidth(15)\n",
    "\n",
    "ax1.plot(epochs, loss, label = \"Training Loss\")\n",
    "ax1.plot(epochs, val_loss, label = \"Validation Loss\")\n",
    "ax1.set(xlabel = \"Epochs\", ylabel = \"Loss\")\n",
    "ax1.legend()\n",
    "\n",
    "ax2.plot(epochs, root_mean_squared_error, label = \"Training Root Mean Squared Error\")\n",
    "ax2.plot(epochs, val_root_mean_squared_error, label = \"Validation Root Mean Squared Error\")\n",
    "ax2.set(xlabel = \"Epochs\", ylabel = \"Loss\")\n",
    "ax2.legend()\n",
    "\n",
    "plt.show()"
   ]
  },
  {
   "cell_type": "markdown",
   "metadata": {
    "id": "YKZETIgK1MgM"
   },
   "source": [
    "### Predicting the closing stock price of Google"
   ]
  },
  {
   "cell_type": "code",
   "execution_count": 44,
   "metadata": {
    "id": "W5on4_hjbFb1"
   },
   "outputs": [],
   "source": [
    "GOOG_prediction = GOOG_Model.predict(GOOG_Test_X)"
   ]
  },
  {
   "cell_type": "code",
   "execution_count": 45,
   "metadata": {
    "colab": {
     "base_uri": "https://localhost:8080/",
     "height": 351
    },
    "id": "jqwt0ivCbBdD",
    "outputId": "78429ed1-e1fd-4837-c05e-1959aeecc5d6"
   },
   "outputs": [
    {
     "data": {
      "text/plain": [
       "<matplotlib.legend.Legend at 0x7f96850a5e50>"
      ]
     },
     "execution_count": 45,
     "metadata": {
      "tags": []
     },
     "output_type": "execute_result"
    },
    {
     "data": {
      "image/png": "[encoded data removed]",
      "text/plain": [
       "<Figure size 720x360 with 1 Axes>"
      ]
     },
     "metadata": {
      "needs_background": "light",
      "tags": []
     },
     "output_type": "display_data"
    }
   ],
   "source": [
    "plt.figure(figsize=(10, 5))\n",
    "plt.plot(GOOG['Date'][GOOG['Date'] < '2020-11-07'], GOOG['Adj. Close'][GOOG['Date'] < '2020-11-07'], label = 'Training')\n",
    "plt.plot(GOOG['Date'][GOOG['Date'] >= '2020-11-07'], GOOG['Adj. Close'][GOOG['Date'] >= '2020-11-07'], label = 'Testing')\n",
    "plt.plot(GOOG['Date'][GOOG['Date'] >= '2020-11-07'], GOOG_prediction.reshape(-1), label = 'Predictions')\n",
    "plt.xlabel('Time')\n",
    "plt.ylabel('Closing Price')\n",
    "plt.legend(loc = 'best')"
   ]
  },
  {
   "cell_type": "code",
   "execution_count": 46,
   "metadata": {
    "colab": {
     "base_uri": "https://localhost:8080/"
    },
    "id": "Xdol8v86bkj5",
    "outputId": "565a80ca-10b9-42e2-9f46-31b09ed48d85"
   },
   "outputs": [
    {
     "name": "stdout",
     "output_type": "stream",
     "text": [
      "RMSE: 115.66296805524927\n",
      "MAPE: 0.039782693356206676\n"
     ]
    }
   ],
   "source": [
    "rmse = math.sqrt(mean_squared_error(GOOG_Test_Y.reshape(-1, 5), GOOG_prediction))\n",
    "mape = np.mean(np.abs(GOOG_prediction - GOOG_Test_Y.reshape(-1, 5))/np.abs(GOOG_Test_Y.reshape(-1, 5)))\n",
    "print(f'RMSE: {rmse}')\n",
    "print(f'MAPE: {mape}')"
   ]
  },
  {
   "cell_type": "markdown",
   "metadata": {
    "id": "7QKWND5DTruk"
   },
   "source": [
    "#Microsoft"
   ]
  },
  {
   "cell_type": "code",
   "execution_count": 47,
   "metadata": {
    "colab": {
     "base_uri": "https://localhost:8080/",
     "height": 195
    },
    "id": "6qpItzGXT1gu",
    "outputId": "c31f0878-fe42-49f5-fee8-522a66c2efee"
   },
   "outputs": [
    {
     "data": {
      "text/html": [
       "<div>\n",
       "<style scoped>\n",
       "    .dataframe tbody tr th:only-of-type {\n",
       "        vertical-align: middle;\n",
       "    }\n",
       "\n",
       "    .dataframe tbody tr th {\n",
       "        vertical-align: top;\n",
       "    }\n",
       "\n",
       "    .dataframe thead th {\n",
       "        text-align: right;\n",
       "    }\n",
       "</style>\n",
       "<table border=\"1\" class=\"dataframe\">\n",
       "  <thead>\n",
       "    <tr style=\"text-align: right;\">\n",
       "      <th></th>\n",
       "      <th>Date</th>\n",
       "      <th>Open</th>\n",
       "      <th>High</th>\n",
       "      <th>Low</th>\n",
       "      <th>Close</th>\n",
       "      <th>Adj. Close</th>\n",
       "      <th>Volume</th>\n",
       "    </tr>\n",
       "  </thead>\n",
       "  <tbody>\n",
       "    <tr>\n",
       "      <th>0</th>\n",
       "      <td>2015-01-02</td>\n",
       "      <td>46.66</td>\n",
       "      <td>47.42</td>\n",
       "      <td>46.54</td>\n",
       "      <td>46.76</td>\n",
       "      <td>41.44</td>\n",
       "      <td>27913900.0</td>\n",
       "    </tr>\n",
       "    <tr>\n",
       "      <th>1</th>\n",
       "      <td>2015-01-05</td>\n",
       "      <td>46.37</td>\n",
       "      <td>46.73</td>\n",
       "      <td>46.25</td>\n",
       "      <td>46.33</td>\n",
       "      <td>41.06</td>\n",
       "      <td>39673900.0</td>\n",
       "    </tr>\n",
       "    <tr>\n",
       "      <th>2</th>\n",
       "      <td>2015-01-06</td>\n",
       "      <td>46.38</td>\n",
       "      <td>46.75</td>\n",
       "      <td>45.54</td>\n",
       "      <td>45.65</td>\n",
       "      <td>40.46</td>\n",
       "      <td>36447900.0</td>\n",
       "    </tr>\n",
       "    <tr>\n",
       "      <th>3</th>\n",
       "      <td>2015-01-07</td>\n",
       "      <td>45.98</td>\n",
       "      <td>46.46</td>\n",
       "      <td>45.49</td>\n",
       "      <td>46.23</td>\n",
       "      <td>40.97</td>\n",
       "      <td>29114100.0</td>\n",
       "    </tr>\n",
       "    <tr>\n",
       "      <th>4</th>\n",
       "      <td>2015-01-08</td>\n",
       "      <td>46.75</td>\n",
       "      <td>47.75</td>\n",
       "      <td>46.72</td>\n",
       "      <td>47.59</td>\n",
       "      <td>42.18</td>\n",
       "      <td>29645200.0</td>\n",
       "    </tr>\n",
       "  </tbody>\n",
       "</table>\n",
       "</div>"
      ],
      "text/plain": [
       "         Date   Open   High    Low  Close  Adj. Close      Volume\n",
       "0  2015-01-02  46.66  47.42  46.54  46.76       41.44  27913900.0\n",
       "1  2015-01-05  46.37  46.73  46.25  46.33       41.06  39673900.0\n",
       "2  2015-01-06  46.38  46.75  45.54  45.65       40.46  36447900.0\n",
       "3  2015-01-07  45.98  46.46  45.49  46.23       40.97  29114100.0\n",
       "4  2015-01-08  46.75  47.75  46.72  47.59       42.18  29645200.0"
      ]
     },
     "execution_count": 47,
     "metadata": {
      "tags": []
     },
     "output_type": "execute_result"
    }
   ],
   "source": [
    "MSFT.head()"
   ]
  },
  {
   "cell_type": "code",
   "execution_count": 48,
   "metadata": {
    "colab": {
     "base_uri": "https://localhost:8080/"
    },
    "id": "E3MHxY8bT7a5",
    "outputId": "3dba2670-166d-4a51-9383-09f8f115adde"
   },
   "outputs": [
    {
     "name": "stdout",
     "output_type": "stream",
     "text": [
      "<class 'pandas.core.frame.DataFrame'>\n",
      "RangeIndex: 1549 entries, 0 to 1548\n",
      "Data columns (total 7 columns):\n",
      " #   Column      Non-Null Count  Dtype  \n",
      "---  ------      --------------  -----  \n",
      " 0   Date        1549 non-null   object \n",
      " 1   Open        1549 non-null   float64\n",
      " 2   High        1549 non-null   float64\n",
      " 3   Low         1549 non-null   float64\n",
      " 4   Close       1549 non-null   float64\n",
      " 5   Adj. Close  1549 non-null   float64\n",
      " 6   Volume      1549 non-null   float64\n",
      "dtypes: float64(6), object(1)\n",
      "memory usage: 84.8+ KB\n"
     ]
    }
   ],
   "source": [
    "MSFT.info()"
   ]
  },
  {
   "cell_type": "code",
   "execution_count": 49,
   "metadata": {
    "id": "hYeHjmqGT8sh"
   },
   "outputs": [],
   "source": [
    "# Change Dtype of Date column\n",
    "MSFT[\"Date\"] = pd.to_datetime(MSFT[\"Date\"])"
   ]
  },
  {
   "cell_type": "markdown",
   "metadata": {
    "id": "KCrPxO3S6uPh"
   },
   "source": [
    "###Split the Data into Training and Test set\n",
    "    Training Period: 2015-01-02 - 2020-09-30\n",
    "\n",
    "    Testing Period:  2020-10-01 - 2021-02-26"
   ]
  },
  {
   "cell_type": "code",
   "execution_count": 50,
   "metadata": {
    "id": "A10WQqexUJK2"
   },
   "outputs": [],
   "source": [
    "MSFT_Date = '2020-10-01'\n",
    "MSFT_Train_X, MSFT_Train_Y, MSFT_Test_X, MSFT_Test_Y = Dataset(MSFT, MSFT_Date)"
   ]
  },
  {
   "cell_type": "markdown",
   "metadata": {
    "id": "Vk8LE9OW1zco"
   },
   "source": [
    "### Model Fitting"
   ]
  },
  {
   "cell_type": "code",
   "execution_count": 51,
   "metadata": {
    "id": "2b8w-sYTUTpq"
   },
   "outputs": [],
   "source": [
    "MSFT_Model = Model()"
   ]
  },
  {
   "cell_type": "code",
   "execution_count": 52,
   "metadata": {
    "id": "Aav5PTMSUYzx"
   },
   "outputs": [],
   "source": [
    "MSFT_Model.compile(optimizer = tf.keras.optimizers.Adam(), loss = 'mse', metrics = tf.keras.metrics.RootMeanSquaredError())"
   ]
  },
  {
   "cell_type": "code",
   "execution_count": null,
   "metadata": {
    "id": "uMbnWIM9UhDx"
   },
   "outputs": [],
   "source": [
    "MSFT_hist = MSFT_Model.fit(MSFT_Train_X, MSFT_Train_Y, epochs = 1000, validation_data = (MSFT_Test_X, MSFT_Test_Y), callbacks=[callback])"
   ]
  },
  {
   "cell_type": "code",
   "execution_count": 54,
   "metadata": {
    "id": "E9ztdmCqUrec"
   },
   "outputs": [],
   "source": [
    "history_dict = MSFT_hist.history\n",
    "\n",
    "loss = history_dict[\"loss\"]\n",
    "root_mean_squared_error = history_dict[\"root_mean_squared_error\"]\n",
    "val_loss = history_dict[\"val_loss\"]\n",
    "val_root_mean_squared_error = history_dict[\"val_root_mean_squared_error\"]\n",
    "\n",
    "epochs = range(1, len(loss) + 1)"
   ]
  },
  {
   "cell_type": "code",
   "execution_count": 55,
   "metadata": {
    "colab": {
     "base_uri": "https://localhost:8080/",
     "height": 335
    },
    "id": "zp60IGaqUw7-",
    "outputId": "d8db879c-2cc7-4c8d-fc69-11cc89b8098d"
   },
   "outputs": [
    {
     "data": {
      "image/png": "[encoded data removed]",
      "text/plain": [
       "<Figure size 1080x360 with 2 Axes>"
      ]
     },
     "metadata": {
      "needs_background": "light",
      "tags": []
     },
     "output_type": "display_data"
    }
   ],
   "source": [
    "fig, (ax1, ax2) = plt.subplots(1, 2)\n",
    "\n",
    "fig.set_figheight(5)\n",
    "fig.set_figwidth(15)\n",
    "\n",
    "ax1.plot(epochs, loss, label = \"Training Loss\")\n",
    "ax1.plot(epochs, val_loss, label = \"Validation Loss\")\n",
    "ax1.set(xlabel = \"Epochs\", ylabel = \"Loss\")\n",
    "ax1.legend()\n",
    "\n",
    "ax2.plot(epochs, root_mean_squared_error, label = \"Training Root Mean Squared Error\")\n",
    "ax2.plot(epochs, val_root_mean_squared_error, label = \"Validation Root Mean Squared Error\")\n",
    "ax2.set(xlabel = \"Epochs\", ylabel = \"Loss\")\n",
    "ax2.legend()\n",
    "\n",
    "plt.show()"
   ]
  },
  {
   "cell_type": "markdown",
   "metadata": {
    "id": "IzoKGAK71e2e"
   },
   "source": [
    "### Predicting the closing stock price of Microsoft"
   ]
  },
  {
   "cell_type": "code",
   "execution_count": 56,
   "metadata": {
    "id": "aIR_MW2PU0OX"
   },
   "outputs": [],
   "source": [
    "MSFT_prediction = MSFT_Model.predict(MSFT_Test_X)"
   ]
  },
  {
   "cell_type": "code",
   "execution_count": 57,
   "metadata": {
    "colab": {
     "base_uri": "https://localhost:8080/",
     "height": 351
    },
    "id": "h5tqUN3xU6m6",
    "outputId": "f2c2ff1c-da54-4acd-fe0d-ced11a0f2193"
   },
   "outputs": [
    {
     "data": {
      "text/plain": [
       "<matplotlib.legend.Legend at 0x7f967efd55d0>"
      ]
     },
     "execution_count": 57,
     "metadata": {
      "tags": []
     },
     "output_type": "execute_result"
    },
    {
     "data": {
      "image/png": "[encoded data removed]",
      "text/plain": [
       "<Figure size 720x360 with 1 Axes>"
      ]
     },
     "metadata": {
      "needs_background": "light",
      "tags": []
     },
     "output_type": "display_data"
    }
   ],
   "source": [
    "plt.figure(figsize=(10, 5))\n",
    "plt.plot(MSFT['Date'][MSFT['Date'] < '2020-10-12'], MSFT['Adj. Close'][MSFT['Date'] < '2020-10-12'], label = 'Training')\n",
    "plt.plot(MSFT['Date'][MSFT['Date'] >= '2020-10-09'], MSFT['Adj. Close'][MSFT['Date'] >= '2020-10-09'], label = 'Testing')\n",
    "plt.plot(MSFT['Date'][MSFT['Date'] >= '2020-10-12'], MSFT_prediction.reshape(-1), label = 'Predictions')\n",
    "plt.xlabel('Time')\n",
    "plt.ylabel('Closing Price')\n",
    "plt.legend(loc = 'best')"
   ]
  },
  {
   "cell_type": "code",
   "execution_count": 58,
   "metadata": {
    "colab": {
     "base_uri": "https://localhost:8080/"
    },
    "id": "Q7U_uYv1U_Xf",
    "outputId": "046bcf3a-0f5c-459f-802d-c8379294e996"
   },
   "outputs": [
    {
     "name": "stdout",
     "output_type": "stream",
     "text": [
      "RMSE: 6.2306768444560205\n",
      "MAPE: 0.02214984775145576\n"
     ]
    }
   ],
   "source": [
    "rmse = math.sqrt(mean_squared_error(MSFT_Test_Y.reshape(-1, 5), MSFT_prediction))\n",
    "mape = np.mean(np.abs(MSFT_prediction - MSFT_Test_Y.reshape(-1, 5))/np.abs(MSFT_Test_Y.reshape(-1, 5)))\n",
    "print(f'RMSE: {rmse}')\n",
    "print(f'MAPE: {mape}')"
   ]
  },
  {
   "cell_type": "markdown",
   "metadata": {
    "id": "SkK2GpHFVUM4"
   },
   "source": [
    "#Amazon"
   ]
  },
  {
   "cell_type": "code",
   "execution_count": 59,
   "metadata": {
    "colab": {
     "base_uri": "https://localhost:8080/",
     "height": 195
    },
    "id": "fUPDJfvkVXBS",
    "outputId": "6a704552-cba6-4ecb-a9d6-9cdfd74a231c"
   },
   "outputs": [
    {
     "data": {
      "text/html": [
       "<div>\n",
       "<style scoped>\n",
       "    .dataframe tbody tr th:only-of-type {\n",
       "        vertical-align: middle;\n",
       "    }\n",
       "\n",
       "    .dataframe tbody tr th {\n",
       "        vertical-align: top;\n",
       "    }\n",
       "\n",
       "    .dataframe thead th {\n",
       "        text-align: right;\n",
       "    }\n",
       "</style>\n",
       "<table border=\"1\" class=\"dataframe\">\n",
       "  <thead>\n",
       "    <tr style=\"text-align: right;\">\n",
       "      <th></th>\n",
       "      <th>Date</th>\n",
       "      <th>Open</th>\n",
       "      <th>High</th>\n",
       "      <th>Low</th>\n",
       "      <th>Close</th>\n",
       "      <th>Adj. Close</th>\n",
       "      <th>Volume</th>\n",
       "    </tr>\n",
       "  </thead>\n",
       "  <tbody>\n",
       "    <tr>\n",
       "      <th>0</th>\n",
       "      <td>2015-01-02</td>\n",
       "      <td>312.58</td>\n",
       "      <td>314.75</td>\n",
       "      <td>306.96</td>\n",
       "      <td>308.52</td>\n",
       "      <td>308.52</td>\n",
       "      <td>2783200.0</td>\n",
       "    </tr>\n",
       "    <tr>\n",
       "      <th>1</th>\n",
       "      <td>2015-01-05</td>\n",
       "      <td>307.01</td>\n",
       "      <td>308.38</td>\n",
       "      <td>300.85</td>\n",
       "      <td>302.19</td>\n",
       "      <td>302.19</td>\n",
       "      <td>2774200.0</td>\n",
       "    </tr>\n",
       "    <tr>\n",
       "      <th>2</th>\n",
       "      <td>2015-01-06</td>\n",
       "      <td>302.24</td>\n",
       "      <td>303.00</td>\n",
       "      <td>292.38</td>\n",
       "      <td>295.29</td>\n",
       "      <td>295.29</td>\n",
       "      <td>3519000.0</td>\n",
       "    </tr>\n",
       "    <tr>\n",
       "      <th>3</th>\n",
       "      <td>2015-01-07</td>\n",
       "      <td>297.50</td>\n",
       "      <td>301.28</td>\n",
       "      <td>295.33</td>\n",
       "      <td>298.42</td>\n",
       "      <td>298.42</td>\n",
       "      <td>2640300.0</td>\n",
       "    </tr>\n",
       "    <tr>\n",
       "      <th>4</th>\n",
       "      <td>2015-01-08</td>\n",
       "      <td>300.32</td>\n",
       "      <td>303.14</td>\n",
       "      <td>296.11</td>\n",
       "      <td>300.46</td>\n",
       "      <td>300.46</td>\n",
       "      <td>3088400.0</td>\n",
       "    </tr>\n",
       "  </tbody>\n",
       "</table>\n",
       "</div>"
      ],
      "text/plain": [
       "         Date    Open    High     Low   Close  Adj. Close     Volume\n",
       "0  2015-01-02  312.58  314.75  306.96  308.52      308.52  2783200.0\n",
       "1  2015-01-05  307.01  308.38  300.85  302.19      302.19  2774200.0\n",
       "2  2015-01-06  302.24  303.00  292.38  295.29      295.29  3519000.0\n",
       "3  2015-01-07  297.50  301.28  295.33  298.42      298.42  2640300.0\n",
       "4  2015-01-08  300.32  303.14  296.11  300.46      300.46  3088400.0"
      ]
     },
     "execution_count": 59,
     "metadata": {
      "tags": []
     },
     "output_type": "execute_result"
    }
   ],
   "source": [
    "AMZN.head()"
   ]
  },
  {
   "cell_type": "code",
   "execution_count": 60,
   "metadata": {
    "colab": {
     "base_uri": "https://localhost:8080/"
    },
    "id": "-xF-HPHwVaK2",
    "outputId": "0f0a9605-4815-4ed0-c538-154924b9bccb"
   },
   "outputs": [
    {
     "name": "stdout",
     "output_type": "stream",
     "text": [
      "<class 'pandas.core.frame.DataFrame'>\n",
      "RangeIndex: 1549 entries, 0 to 1548\n",
      "Data columns (total 7 columns):\n",
      " #   Column      Non-Null Count  Dtype  \n",
      "---  ------      --------------  -----  \n",
      " 0   Date        1549 non-null   object \n",
      " 1   Open        1549 non-null   float64\n",
      " 2   High        1549 non-null   float64\n",
      " 3   Low         1549 non-null   float64\n",
      " 4   Close       1549 non-null   float64\n",
      " 5   Adj. Close  1549 non-null   float64\n",
      " 6   Volume      1549 non-null   float64\n",
      "dtypes: float64(6), object(1)\n",
      "memory usage: 84.8+ KB\n"
     ]
    }
   ],
   "source": [
    "AMZN.info()"
   ]
  },
  {
   "cell_type": "code",
   "execution_count": 61,
   "metadata": {
    "id": "DnZTLxJ3Vczg"
   },
   "outputs": [],
   "source": [
    "# Change Dtype of Date column\n",
    "AMZN[\"Date\"] = pd.to_datetime(AMZN[\"Date\"])"
   ]
  },
  {
   "cell_type": "markdown",
   "metadata": {
    "id": "8OeQGXjM6405"
   },
   "source": [
    "###Split the Data into Training and Test set\n",
    "    Training Period: 2015-01-02 - 2020-10-30\n",
    "\n",
    "    Testing Period:  2020-11-02 - 2021-02-26"
   ]
  },
  {
   "cell_type": "code",
   "execution_count": 62,
   "metadata": {
    "id": "vzD9HTYoViBa"
   },
   "outputs": [],
   "source": [
    "AMZN_Date = '2020-11-01'\n",
    "AMZN_Train_X, AMZN_Train_Y, AMZN_Test_X, AMZN_Test_Y = Dataset(AMZN, AMZN_Date)"
   ]
  },
  {
   "cell_type": "markdown",
   "metadata": {
    "id": "Ir-w5AGj1oiK"
   },
   "source": [
    "### Model Fitting"
   ]
  },
  {
   "cell_type": "code",
   "execution_count": 63,
   "metadata": {
    "id": "2LOoZH8NVpUj"
   },
   "outputs": [],
   "source": [
    "AMZN_Model = Model()"
   ]
  },
  {
   "cell_type": "code",
   "execution_count": 64,
   "metadata": {
    "id": "qln_peIdVs7s"
   },
   "outputs": [],
   "source": [
    "AMZN_Model.compile(optimizer = tf.keras.optimizers.Adam(), loss = 'mse', metrics = tf.keras.metrics.RootMeanSquaredError())"
   ]
  },
  {
   "cell_type": "code",
   "execution_count": null,
   "metadata": {
    "id": "lo_MPS7aVwLg"
   },
   "outputs": [],
   "source": [
    "AMZN_hist = AMZN_Model.fit(AMZN_Train_X, AMZN_Train_Y, epochs = 200, validation_data = (AMZN_Test_X, AMZN_Test_Y), callbacks=[callback])"
   ]
  },
  {
   "cell_type": "code",
   "execution_count": 66,
   "metadata": {
    "id": "O3U9RoCMV5us"
   },
   "outputs": [],
   "source": [
    "history_dict = AMZN_hist.history\n",
    "\n",
    "loss = history_dict[\"loss\"]\n",
    "root_mean_squared_error = history_dict[\"root_mean_squared_error\"]\n",
    "val_loss = history_dict[\"val_loss\"]\n",
    "val_root_mean_squared_error = history_dict[\"val_root_mean_squared_error\"]\n",
    "\n",
    "epochs = range(1, len(loss) + 1)"
   ]
  },
  {
   "cell_type": "code",
   "execution_count": 67,
   "metadata": {
    "colab": {
     "base_uri": "https://localhost:8080/",
     "height": 345
    },
    "id": "nOT_ddNYV9sX",
    "outputId": "088ec2d4-c15f-4776-c2d9-2dd12f6b8bb2"
   },
   "outputs": [
    {
     "data": {
      "image/png": "[encoded data removed]",
      "text/plain": [
       "<Figure size 1080x360 with 2 Axes>"
      ]
     },
     "metadata": {
      "needs_background": "light",
      "tags": []
     },
     "output_type": "display_data"
    }
   ],
   "source": [
    "fig, (ax1, ax2) = plt.subplots(1, 2)\n",
    "\n",
    "fig.set_figheight(5)\n",
    "fig.set_figwidth(15)\n",
    "\n",
    "ax1.plot(epochs, loss, label = \"Training Loss\")\n",
    "ax1.plot(epochs, val_loss, label = \"Validation Loss\")\n",
    "ax1.set(xlabel = \"Epochs\", ylabel = \"Loss\")\n",
    "ax1.legend()\n",
    "\n",
    "ax2.plot(epochs, root_mean_squared_error, label = \"Training Root Mean Squared Error\")\n",
    "ax2.plot(epochs, val_root_mean_squared_error, label = \"Validation Root Mean Squared Error\")\n",
    "ax2.set(xlabel = \"Epochs\", ylabel = \"Loss\")\n",
    "ax2.legend()\n",
    "\n",
    "plt.show()"
   ]
  },
  {
   "cell_type": "markdown",
   "metadata": {
    "id": "xnAosvbS1jIK"
   },
   "source": [
    "### Predicting the closing stock price of Amazon"
   ]
  },
  {
   "cell_type": "code",
   "execution_count": null,
   "metadata": {
    "id": "ulvjzyNnWAKY"
   },
   "outputs": [],
   "source": [
    "AMZN_prediction = AMZN_Model.predict(AMZN_Test_X)"
   ]
  },
  {
   "cell_type": "code",
   "execution_count": 69,
   "metadata": {
    "colab": {
     "base_uri": "https://localhost:8080/",
     "height": 351
    },
    "id": "yqz-_qZeWFPL",
    "outputId": "4f60be4f-def8-4bc9-8566-164a90786c79"
   },
   "outputs": [
    {
     "data": {
      "text/plain": [
       "<matplotlib.legend.Legend at 0x7f967ec8c6d0>"
      ]
     },
     "execution_count": 69,
     "metadata": {
      "tags": []
     },
     "output_type": "execute_result"
    },
    {
     "data": {
      "image/png": "[encoded data removed]",
      "text/plain": [
       "<Figure size 720x360 with 1 Axes>"
      ]
     },
     "metadata": {
      "needs_background": "light",
      "tags": []
     },
     "output_type": "display_data"
    }
   ],
   "source": [
    "plt.figure(figsize=(10, 5))\n",
    "plt.plot(AMZN['Date'][AMZN['Date'] < '2020-11-07'], AMZN['Adj. Close'][AMZN['Date'] < '2020-11-07'], label = 'Training')\n",
    "plt.plot(AMZN['Date'][AMZN['Date'] >= '2020-11-07'], AMZN['Adj. Close'][AMZN['Date'] >= '2020-11-07'], label = 'Testing')\n",
    "plt.plot(AMZN['Date'][AMZN['Date'] >= '2020-11-07'], AMZN_prediction.reshape(-1), label = 'Predictions')\n",
    "plt.xlabel('Time')\n",
    "plt.ylabel('Closing Price')\n",
    "plt.legend(loc = 'best')"
   ]
  },
  {
   "cell_type": "code",
   "execution_count": 70,
   "metadata": {
    "colab": {
     "base_uri": "https://localhost:8080/"
    },
    "id": "pdn-MQg6WJQu",
    "outputId": "5d5af807-18ae-480d-90b2-62025aeb200b"
   },
   "outputs": [
    {
     "name": "stdout",
     "output_type": "stream",
     "text": [
      "RMSE: 87.48506342352238\n",
      "MAPE: 0.021571786340561845\n"
     ]
    }
   ],
   "source": [
    "rmse = math.sqrt(mean_squared_error(AMZN_Test_Y.reshape(-1, 5), AMZN_prediction))\n",
    "mape = np.mean(np.abs(AMZN_prediction - AMZN_Test_Y.reshape(-1, 5))/np.abs(AMZN_Test_Y.reshape(-1, 5)))\n",
    "print(f'RMSE: {rmse}')\n",
    "print(f'MAPE: {mape}')"
   ]
  }
 ],
 "metadata": {
  "colab": {
   "authorship_tag": "ABX9TyM4xlL433J3ix0OmGgqGEZR",
   "collapsed_sections": [],
   "include_colab_link": true,
   "mount_file_id": "1KuYp2WlzjRG-MGmNx00tSzP4-gMj8jYy",
   "name": "Deep_Learning_Model.ipynb",
   "provenance": []
  },
  "kernelspec": {
   "display_name": "Python 3 (ipykernel)",
   "language": "python",
   "name": "python3"
  },
  "language_info": {
   "codemirror_mode": {
    "name": "ipython",
    "version": 3
   },
   "file_extension": ".py",
   "mimetype": "text/x-python",
   "name": "python",
   "nbconvert_exporter": "python",
   "pygments_lexer": "ipython3",
   "version": "3.11.5"
  }
 },
 "nbformat": 4,
 "nbformat_minor": 1
}
