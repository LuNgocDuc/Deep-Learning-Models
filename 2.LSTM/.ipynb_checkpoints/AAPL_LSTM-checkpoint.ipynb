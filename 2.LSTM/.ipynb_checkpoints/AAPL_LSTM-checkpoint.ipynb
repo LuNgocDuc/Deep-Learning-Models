{
 "cells": [
  {
   "cell_type": "markdown",
   "metadata": {},
   "source": [
    "# Import thư viện cần thiết"
   ]
  },
  {
   "cell_type": "code",
   "execution_count": 1,
   "metadata": {
    "colab": {},
    "colab_type": "code",
    "id": "DjCc3igB1dj2"
   },
   "outputs": [
    {
     "name": "stdout",
     "output_type": "stream",
     "text": [
      "WARNING:tensorflow:From C:\\Users\\Win10\\anaconda3\\Lib\\site-packages\\keras\\src\\losses.py:2976: The name tf.losses.sparse_softmax_cross_entropy is deprecated. Please use tf.compat.v1.losses.sparse_softmax_cross_entropy instead.\n",
      "\n"
     ]
    }
   ],
   "source": [
    "#bỏ qua các cảnh báo\n",
    "import warnings\n",
    "warnings.filterwarnings('ignore')\n",
    "#thư viện toán học cho hàm toán học\n",
    "import math\n",
    "#dùng để đọc dữ liệu\n",
    "import pandas as pd\n",
    "#giúp xử lý số liệu\n",
    "import numpy as np\n",
    "#dùng để chuẩn hóa dữ liệu\n",
    "from sklearn.preprocessing import MinMaxScaler\n",
    "#cài keras - thư viện mạng thần kinh for LSTM\n",
    "from keras.layers import LSTM\n",
    "from keras.layers import Dense\n",
    "from keras.models import Sequential\n",
    "#dùng để vẽ biểu đồ \n",
    "import matplotlib.pyplot as mtlplt\n",
    "mtlplt.style.use(\"fivethirtyeight\")\n",
    "%matplotlib inline\n",
    "from matplotlib import rcParams \n",
    "import tkinter\n",
    "from matplotlib.backends.backend_tkagg import (\n",
    "    FigureCanvasTkAgg, NavigationToolbar2Tk)"
   ]
  },
  {
   "cell_type": "markdown",
   "metadata": {},
   "source": [
    "# Lấy data từ file"
   ]
  },
  {
   "cell_type": "code",
   "execution_count": 2,
   "metadata": {
    "colab": {
     "base_uri": "https://localhost:8080/",
     "height": 402
    },
    "colab_type": "code",
    "executionInfo": {
     "elapsed": 2922,
     "status": "ok",
     "timestamp": 1587444345258,
     "user": {
      "displayName": "Thenuja Shanthacumaran",
      "photoUrl": "https://lh3.googleusercontent.com/a-/AOh14GgwSc7uEqkv3sGGjky6eYr_T2HSXZ2VgNTu-LqYyg=s64",
      "userId": "06406019534418310581"
     },
     "user_tz": -330
    },
    "id": "anRiueGp1ysF",
    "outputId": "71ccd134-f403-438c-e66b-8462e96ae89a"
   },
   "outputs": [
    {
     "data": {
      "text/html": [
       "<div>\n",
       "<style scoped>\n",
       "    .dataframe tbody tr th:only-of-type {\n",
       "        vertical-align: middle;\n",
       "    }\n",
       "\n",
       "    .dataframe tbody tr th {\n",
       "        vertical-align: top;\n",
       "    }\n",
       "\n",
       "    .dataframe thead th {\n",
       "        text-align: right;\n",
       "    }\n",
       "</style>\n",
       "<table border=\"1\" class=\"dataframe\">\n",
       "  <thead>\n",
       "    <tr style=\"text-align: right;\">\n",
       "      <th></th>\n",
       "      <th>Date</th>\n",
       "      <th>Open</th>\n",
       "      <th>High</th>\n",
       "      <th>Low</th>\n",
       "      <th>Close</th>\n",
       "      <th>Volume</th>\n",
       "      <th>Open Interest</th>\n",
       "    </tr>\n",
       "  </thead>\n",
       "  <tbody>\n",
       "    <tr>\n",
       "      <th>0</th>\n",
       "      <td>2016-01-04</td>\n",
       "      <td>579.03</td>\n",
       "      <td>579.97</td>\n",
       "      <td>573.15</td>\n",
       "      <td>574.41</td>\n",
       "      <td>9.590000e+07</td>\n",
       "      <td>41926</td>\n",
       "    </tr>\n",
       "    <tr>\n",
       "      <th>1</th>\n",
       "      <td>2016-01-05</td>\n",
       "      <td>571.66</td>\n",
       "      <td>575.40</td>\n",
       "      <td>569.26</td>\n",
       "      <td>569.94</td>\n",
       "      <td>9.800000e+07</td>\n",
       "      <td>42607</td>\n",
       "    </tr>\n",
       "    <tr>\n",
       "      <th>2</th>\n",
       "      <td>2016-01-06</td>\n",
       "      <td>569.50</td>\n",
       "      <td>574.57</td>\n",
       "      <td>569.50</td>\n",
       "      <td>574.57</td>\n",
       "      <td>8.230000e+07</td>\n",
       "      <td>37738</td>\n",
       "    </tr>\n",
       "    <tr>\n",
       "      <th>3</th>\n",
       "      <td>2016-01-07</td>\n",
       "      <td>570.62</td>\n",
       "      <td>570.94</td>\n",
       "      <td>561.09</td>\n",
       "      <td>565.36</td>\n",
       "      <td>1.410000e+08</td>\n",
       "      <td>59811</td>\n",
       "    </tr>\n",
       "    <tr>\n",
       "      <th>4</th>\n",
       "      <td>2016-01-08</td>\n",
       "      <td>562.62</td>\n",
       "      <td>563.17</td>\n",
       "      <td>556.36</td>\n",
       "      <td>560.05</td>\n",
       "      <td>1.340000e+08</td>\n",
       "      <td>51162</td>\n",
       "    </tr>\n",
       "    <tr>\n",
       "      <th>...</th>\n",
       "      <td>...</td>\n",
       "      <td>...</td>\n",
       "      <td>...</td>\n",
       "      <td>...</td>\n",
       "      <td>...</td>\n",
       "      <td>...</td>\n",
       "      <td>...</td>\n",
       "    </tr>\n",
       "    <tr>\n",
       "      <th>1501</th>\n",
       "      <td>2022-01-04</td>\n",
       "      <td>1508.55</td>\n",
       "      <td>1526.69</td>\n",
       "      <td>1507.19</td>\n",
       "      <td>1525.58</td>\n",
       "      <td>8.400000e+08</td>\n",
       "      <td>0</td>\n",
       "    </tr>\n",
       "    <tr>\n",
       "      <th>1502</th>\n",
       "      <td>2022-01-05</td>\n",
       "      <td>1529.06</td>\n",
       "      <td>1535.82</td>\n",
       "      <td>1522.50</td>\n",
       "      <td>1522.50</td>\n",
       "      <td>9.870000e+08</td>\n",
       "      <td>0</td>\n",
       "    </tr>\n",
       "    <tr>\n",
       "      <th>1503</th>\n",
       "      <td>2022-01-06</td>\n",
       "      <td>1519.72</td>\n",
       "      <td>1536.24</td>\n",
       "      <td>1518.18</td>\n",
       "      <td>1528.57</td>\n",
       "      <td>1.110000e+09</td>\n",
       "      <td>0</td>\n",
       "    </tr>\n",
       "    <tr>\n",
       "      <th>1504</th>\n",
       "      <td>2022-01-07</td>\n",
       "      <td>1534.10</td>\n",
       "      <td>1534.52</td>\n",
       "      <td>1524.96</td>\n",
       "      <td>1528.48</td>\n",
       "      <td>9.520000e+08</td>\n",
       "      <td>0</td>\n",
       "    </tr>\n",
       "    <tr>\n",
       "      <th>1505</th>\n",
       "      <td>2022-01-10</td>\n",
       "      <td>1528.74</td>\n",
       "      <td>1535.09</td>\n",
       "      <td>1525.92</td>\n",
       "      <td>1528.58</td>\n",
       "      <td>6.650000e+08</td>\n",
       "      <td>0</td>\n",
       "    </tr>\n",
       "  </tbody>\n",
       "</table>\n",
       "<p>1506 rows × 7 columns</p>\n",
       "</div>"
      ],
      "text/plain": [
       "           Date     Open     High      Low    Close        Volume  \\\n",
       "0    2016-01-04   579.03   579.97   573.15   574.41  9.590000e+07   \n",
       "1    2016-01-05   571.66   575.40   569.26   569.94  9.800000e+07   \n",
       "2    2016-01-06   569.50   574.57   569.50   574.57  8.230000e+07   \n",
       "3    2016-01-07   570.62   570.94   561.09   565.36  1.410000e+08   \n",
       "4    2016-01-08   562.62   563.17   556.36   560.05  1.340000e+08   \n",
       "...         ...      ...      ...      ...      ...           ...   \n",
       "1501 2022-01-04  1508.55  1526.69  1507.19  1525.58  8.400000e+08   \n",
       "1502 2022-01-05  1529.06  1535.82  1522.50  1522.50  9.870000e+08   \n",
       "1503 2022-01-06  1519.72  1536.24  1518.18  1528.57  1.110000e+09   \n",
       "1504 2022-01-07  1534.10  1534.52  1524.96  1528.48  9.520000e+08   \n",
       "1505 2022-01-10  1528.74  1535.09  1525.92  1528.58  6.650000e+08   \n",
       "\n",
       "      Open Interest  \n",
       "0             41926  \n",
       "1             42607  \n",
       "2             37738  \n",
       "3             59811  \n",
       "4             51162  \n",
       "...             ...  \n",
       "1501              0  \n",
       "1502              0  \n",
       "1503              0  \n",
       "1504              0  \n",
       "1505              0  \n",
       "\n",
       "[1506 rows x 7 columns]"
      ]
     },
     "execution_count": 2,
     "metadata": {},
     "output_type": "execute_result"
    }
   ],
   "source": [
    "file = 'VNINDEX.csv' #dữ liệu được tải về từ trang tradingview.com được niêm yết trên thị trường chứng khoán VN\n",
    "df = pd.read_csv(file,parse_dates=True,index_col=0)\n",
    "data = df.reset_index('Date') #đặt cột Date làm chỉ mục\n",
    "data"
   ]
  },
  {
   "cell_type": "markdown",
   "metadata": {},
   "source": [
    "# Lấy số lượng cột và hàng"
   ]
  },
  {
   "cell_type": "code",
   "execution_count": 3,
   "metadata": {},
   "outputs": [
    {
     "data": {
      "text/plain": [
       "(1506, 6)"
      ]
     },
     "execution_count": 3,
     "metadata": {},
     "output_type": "execute_result"
    }
   ],
   "source": [
    "df.shape"
   ]
  },
  {
   "cell_type": "markdown",
   "metadata": {},
   "source": [
    "# Vẽ biểu đồ từ dữ liệu"
   ]
  },
  {
   "cell_type": "code",
   "execution_count": 4,
   "metadata": {
    "colab": {
     "base_uri": "https://localhost:8080/",
     "height": 631
    },
    "colab_type": "code",
    "executionInfo": {
     "elapsed": 4266,
     "status": "ok",
     "timestamp": 1587444346625,
     "user": {
      "displayName": "Thenuja Shanthacumaran",
      "photoUrl": "https://lh3.googleusercontent.com/a-/AOh14GgwSc7uEqkv3sGGjky6eYr_T2HSXZ2VgNTu-LqYyg=s64",
      "userId": "06406019534418310581"
     },
     "user_tz": -330
    },
    "id": "RGmmHqq02R7b",
    "outputId": "468fe7f5-2aeb-43ea-c92f-d2bee02a5260",
    "scrolled": true
   },
   "outputs": [
    {
     "data": {
      "text/plain": [
       "<function matplotlib.pyplot.show(close=None, block=None)>"
      ]
     },
     "execution_count": 4,
     "metadata": {},
     "output_type": "execute_result"
    },
    {
     "data": {
      "image/png": "[encoded data removed]",
      "text/plain": [
       "<Figure size 1800x900 with 1 Axes>"
      ]
     },
     "metadata": {},
     "output_type": "display_data"
    }
   ],
   "source": [
    "#Đây là biểu đồ giá đóng cửa của data từ khoảng thời gian 1/4/2016 đến 10/1/2022\n",
    "mtlplt.figure(figsize=(18,9))\n",
    "mtlplt.title('Close price history data')\n",
    "mtlplt.plot(df['Close']) \n",
    "mtlplt.xlabel('Date', fontsize=20) #trục x biễu diễn cột Date\n",
    "mtlplt.ylabel('Close price in $(VND)',fontsize=20) #trục y biểu diễn giá đóng trong ngày\n",
    "mtlplt.show"
   ]
  },
  {
   "cell_type": "markdown",
   "metadata": {},
   "source": [
    "# Tiền xử lý tập dữ liệu"
   ]
  },
  {
   "cell_type": "code",
   "execution_count": 5,
   "metadata": {
    "colab": {
     "base_uri": "https://localhost:8080/",
     "height": 34
    },
    "colab_type": "code",
    "executionInfo": {
     "elapsed": 4238,
     "status": "ok",
     "timestamp": 1587444346626,
     "user": {
      "displayName": "Thenuja Shanthacumaran",
      "photoUrl": "https://lh3.googleusercontent.com/a-/AOh14GgwSc7uEqkv3sGGjky6eYr_T2HSXZ2VgNTu-LqYyg=s64",
      "userId": "06406019534418310581"
     },
     "user_tz": -330
    },
    "id": "WRHDMRdD3Adr",
    "outputId": "04d70988-5ff7-41de-d50d-a29afb5b1f5d"
   },
   "outputs": [
    {
     "data": {
      "text/plain": [
       "1205"
      ]
     },
     "execution_count": 5,
     "metadata": {},
     "output_type": "execute_result"
    }
   ],
   "source": [
    "#Tạo dataframe chỉ có cột giá đóng\n",
    "stock_close_data = df.filter(['Close'])\n",
    "\n",
    "#chuyển đổi dataframe đã tạo thành mảng numpy bằng hàm values\n",
    "stock_close_dataset = stock_close_data.values\n",
    "\n",
    "#chia dữ liệu thành tập train and test(train chiếm 80% data và test 20% còn lại của data)\n",
    "trainingDataLength = math.ceil( len(stock_close_dataset) * 0.8 )\n",
    "\n",
    "#hiển thị độ dài tập trai\n",
    "trainingDataLength"
   ]
  },
  {
   "cell_type": "code",
   "execution_count": 6,
   "metadata": {
    "colab": {
     "base_uri": "https://localhost:8080/",
     "height": 134
    },
    "colab_type": "code",
    "executionInfo": {
     "elapsed": 4231,
     "status": "ok",
     "timestamp": 1587444346627,
     "user": {
      "displayName": "Thenuja Shanthacumaran",
      "photoUrl": "https://lh3.googleusercontent.com/a-/AOh14GgwSc7uEqkv3sGGjky6eYr_T2HSXZ2VgNTu-LqYyg=s64",
      "userId": "06406019534418310581"
     },
     "user_tz": -330
    },
    "id": "1L_RNTDu3gd5",
    "outputId": "d09343e7-4de7-46f2-e3d8-27c3a8aacd62"
   },
   "outputs": [
    {
     "data": {
      "text/plain": [
       "(1506, 1)"
      ]
     },
     "execution_count": 6,
     "metadata": {},
     "output_type": "execute_result"
    }
   ],
   "source": [
    "#Scale dữ liệu về dạng 0,1 giúp model train nhanh hơn. \n",
    "#Lstm hoạt động tốt hơn khi các giá trị đầu vào được chia tỷ lệ thành phạm vi tiêu chuẩn\n",
    "scaler = MinMaxScaler(feature_range=(0,1))\n",
    "\n",
    "#tiến hành scale dữ liệu bằng fit.trainsform\n",
    "scaledData = scaler.fit_transform(stock_close_dataset)\n",
    "\n",
    "#hiển thị giá trị dữ liệu được chia\n",
    "scaledData.shape"
   ]
  },
  {
   "cell_type": "code",
   "execution_count": 7,
   "metadata": {
    "colab": {
     "base_uri": "https://localhost:8080/",
     "height": 672
    },
    "colab_type": "code",
    "executionInfo": {
     "elapsed": 4164,
     "status": "ok",
     "timestamp": 1587444346627,
     "user": {
      "displayName": "Thenuja Shanthacumaran",
      "photoUrl": "https://lh3.googleusercontent.com/a-/AOh14GgwSc7uEqkv3sGGjky6eYr_T2HSXZ2VgNTu-LqYyg=s64",
      "userId": "06406019534418310581"
     },
     "user_tz": -330
    },
    "id": "iWWqVFb_3-3n",
    "outputId": "37efd4ee-bda4-4f37-a85e-c3aefa097305"
   },
   "outputs": [
    {
     "name": "stdout",
     "output_type": "stream",
     "text": [
      "[array([0.05218039, 0.04774014, 0.05233933, 0.04319062, 0.03791596,\n",
      "       0.03575047, 0.04209794, 0.03823383, 0.03094268, 0.02101917,\n",
      "       0.00446012, 0.01379756, 0.00750969, 0.        , 0.0003576 ,\n",
      "       0.02033376, 0.01574451, 0.0206715 , 0.01747293, 0.02321446,\n",
      "       0.01855568, 0.01447303, 0.01707559, 0.02013509, 0.02271779,\n",
      "       0.02176418, 0.02599583, 0.02500248, 0.03040628, 0.03193603,\n",
      "       0.03857157, 0.03913778, 0.04585279, 0.04066753, 0.04393563,\n",
      "       0.03724049, 0.03941591, 0.04797854, 0.04818715, 0.05142545,\n",
      "       0.05395848, 0.05247839, 0.04949836, 0.05367041, 0.05501142,\n",
      "       0.05572663, 0.05181285, 0.05482269, 0.05699811, 0.05358101,\n",
      "       0.05005463, 0.04870369, 0.05247839, 0.04845535, 0.0498659 ,\n",
      "       0.05348167, 0.04609119, 0.04771034, 0.03907818, 0.03630674])]\n",
      "[0.0337141154266416]\n",
      "\n",
      "[array([0.05218039, 0.04774014, 0.05233933, 0.04319062, 0.03791596,\n",
      "       0.03575047, 0.04209794, 0.03823383, 0.03094268, 0.02101917,\n",
      "       0.00446012, 0.01379756, 0.00750969, 0.        , 0.0003576 ,\n",
      "       0.02033376, 0.01574451, 0.0206715 , 0.01747293, 0.02321446,\n",
      "       0.01855568, 0.01447303, 0.01707559, 0.02013509, 0.02271779,\n",
      "       0.02176418, 0.02599583, 0.02500248, 0.03040628, 0.03193603,\n",
      "       0.03857157, 0.03913778, 0.04585279, 0.04066753, 0.04393563,\n",
      "       0.03724049, 0.03941591, 0.04797854, 0.04818715, 0.05142545,\n",
      "       0.05395848, 0.05247839, 0.04949836, 0.05367041, 0.05501142,\n",
      "       0.05572663, 0.05181285, 0.05482269, 0.05699811, 0.05358101,\n",
      "       0.05005463, 0.04870369, 0.05247839, 0.04845535, 0.0498659 ,\n",
      "       0.05348167, 0.04609119, 0.04771034, 0.03907818, 0.03630674]), array([0.04774014, 0.05233933, 0.04319062, 0.03791596, 0.03575047,\n",
      "       0.04209794, 0.03823383, 0.03094268, 0.02101917, 0.00446012,\n",
      "       0.01379756, 0.00750969, 0.        , 0.0003576 , 0.02033376,\n",
      "       0.01574451, 0.0206715 , 0.01747293, 0.02321446, 0.01855568,\n",
      "       0.01447303, 0.01707559, 0.02013509, 0.02271779, 0.02176418,\n",
      "       0.02599583, 0.02500248, 0.03040628, 0.03193603, 0.03857157,\n",
      "       0.03913778, 0.04585279, 0.04066753, 0.04393563, 0.03724049,\n",
      "       0.03941591, 0.04797854, 0.04818715, 0.05142545, 0.05395848,\n",
      "       0.05247839, 0.04949836, 0.05367041, 0.05501142, 0.05572663,\n",
      "       0.05181285, 0.05482269, 0.05699811, 0.05358101, 0.05005463,\n",
      "       0.04870369, 0.05247839, 0.04845535, 0.0498659 , 0.05348167,\n",
      "       0.04609119, 0.04771034, 0.03907818, 0.03630674, 0.03371412])]\n",
      "[0.0337141154266416, 0.038184166087215754]\n",
      "\n"
     ]
    }
   ],
   "source": [
    "#tạo tập dữ liệu mới chứa giá trị giá trị scale có kích thước từ 0 đến kích thươc dữ liệu 80% ở trên\n",
    "StockTrainData = scaledData[0:trainingDataLength , :]\n",
    "\n",
    "#tách dữ liệu thành 2 phần Xtrain và Ytrain\n",
    "Xtrain = []\n",
    "Ytrain = []\n",
    "#tiến hành tạo dữ lieu cho xtrain và ytrain bằng vòng lặp trong phạm vi từ 60 đến tổng kích thước dữ liệu huấn luyện\n",
    "#tạo dữ liệu với timestep=60 ngày, xem xét dữ liệu quá khứ để đoán ra ngày 61 \n",
    "for i in range(60, len(StockTrainData)):\n",
    "  Xtrain.append(StockTrainData[i-60:i, 0])\n",
    "  Ytrain.append(StockTrainData[i, 0])\n",
    "  if i<= 61:\n",
    "    print(Xtrain)\n",
    "    print(Ytrain)\n",
    "    print()"
   ]
  },
  {
   "cell_type": "code",
   "execution_count": 8,
   "metadata": {
    "colab": {},
    "colab_type": "code",
    "id": "DBf5XSfM5RZN"
   },
   "outputs": [],
   "source": [
    "#chuyển đổi dữ liệu Xtrain, dữ liệu Ytrain thành mảng numpy \n",
    "Xtrain = np.array(Xtrain)\n",
    "Ytrain = np.array(Ytrain)"
   ]
  },
  {
   "cell_type": "code",
   "execution_count": 9,
   "metadata": {
    "colab": {
     "base_uri": "https://localhost:8080/",
     "height": 34
    },
    "colab_type": "code",
    "executionInfo": {
     "elapsed": 4150,
     "status": "ok",
     "timestamp": 1587444346628,
     "user": {
      "displayName": "Thenuja Shanthacumaran",
      "photoUrl": "https://lh3.googleusercontent.com/a-/AOh14GgwSc7uEqkv3sGGjky6eYr_T2HSXZ2VgNTu-LqYyg=s64",
      "userId": "06406019534418310581"
     },
     "user_tz": -330
    },
    "id": "orKF9Ghv5a-E",
    "outputId": "f3361554-45b4-4561-f846-814ebf86db5e"
   },
   "outputs": [
    {
     "data": {
      "text/plain": [
       "(1145, 60, 1)"
      ]
     },
     "execution_count": 9,
     "metadata": {},
     "output_type": "execute_result"
    }
   ],
   "source": [
    "#định hình lại dữ liệu Xtrain cho phù hợp với dữ liệu đầu vào thành dạng 3D và 1 đối tượng đại diện giá đóng cửa\n",
    "Xtrain = np.reshape(Xtrain, (Xtrain.shape[0], Xtrain.shape[1], 1))\n",
    "Xtrain.shape"
   ]
  },
  {
   "cell_type": "markdown",
   "metadata": {},
   "source": [
    "# Tạo model và xây dựng mô hình LSTM"
   ]
  },
  {
   "cell_type": "code",
   "execution_count": 10,
   "metadata": {
    "colab": {},
    "colab_type": "code",
    "id": "RJHjLt6t52Ac"
   },
   "outputs": [
    {
     "name": "stdout",
     "output_type": "stream",
     "text": [
      "WARNING:tensorflow:From C:\\Users\\Win10\\anaconda3\\Lib\\site-packages\\keras\\src\\backend.py:873: The name tf.get_default_graph is deprecated. Please use tf.compat.v1.get_default_graph instead.\n",
      "\n"
     ]
    }
   ],
   "source": [
    "#khởi tạo model\n",
    "model = Sequential()\n",
    "\n",
    "neurons = 50\n",
    "\n",
    "#lớp LSTM đầu\n",
    "model.add(LSTM(neurons, return_sequences=True, input_shape= (Xtrain.shape[1], 1))) \n",
    "\n",
    "#lớp LSTM thứ 2, không còn lớp nào cho lstm nên return_sequences= False\n",
    "model.add(LSTM(neurons, return_sequences= False)) \n",
    "\n",
    "#thêm lớp nơron dày đặc\n",
    "model.add(Dense(25)) \n",
    "model.add(Dense(1))"
   ]
  },
  {
   "cell_type": "code",
   "execution_count": 11,
   "metadata": {
    "colab": {},
    "colab_type": "code",
    "id": "_yhADCRm6YEj"
   },
   "outputs": [
    {
     "name": "stdout",
     "output_type": "stream",
     "text": [
      "WARNING:tensorflow:From C:\\Users\\Win10\\anaconda3\\Lib\\site-packages\\keras\\src\\optimizers\\__init__.py:309: The name tf.train.Optimizer is deprecated. Please use tf.compat.v1.train.Optimizer instead.\n",
      "\n"
     ]
    }
   ],
   "source": [
    "#biên dịch model\n",
    "model.compile(optimizer='adam', loss='mse') "
   ]
  },
  {
   "cell_type": "code",
   "execution_count": null,
   "metadata": {
    "colab": {
     "base_uri": "https://localhost:8080/",
     "height": 1000
    },
    "colab_type": "code",
    "executionInfo": {
     "elapsed": 413604,
     "status": "ok",
     "timestamp": 1587444756103,
     "user": {
      "displayName": "Thenuja Shanthacumaran",
      "photoUrl": "https://lh3.googleusercontent.com/a-/AOh14GgwSc7uEqkv3sGGjky6eYr_T2HSXZ2VgNTu-LqYyg=s64",
      "userId": "06406019534418310581"
     },
     "user_tz": -330
    },
    "id": "_2Qi1brn6i5L",
    "outputId": "79940508-d232-4e46-afe8-621c0ef5a7e7",
    "scrolled": false
   },
   "outputs": [
    {
     "name": "stdout",
     "output_type": "stream",
     "text": [
      "Epoch 1/200\n",
      "WARNING:tensorflow:From C:\\Users\\Win10\\anaconda3\\Lib\\site-packages\\keras\\src\\utils\\tf_utils.py:492: The name tf.ragged.RaggedTensorValue is deprecated. Please use tf.compat.v1.ragged.RaggedTensorValue instead.\n",
      "\n",
      "23/23 - 5s - loss: 0.0212 - 5s/epoch - 207ms/step\n",
      "Epoch 2/200\n",
      "23/23 - 1s - loss: 0.0020 - 623ms/epoch - 27ms/step\n",
      "Epoch 3/200\n",
      "23/23 - 1s - loss: 7.9764e-04 - 579ms/epoch - 25ms/step\n",
      "Epoch 4/200\n",
      "23/23 - 1s - loss: 6.4526e-04 - 588ms/epoch - 26ms/step\n",
      "Epoch 5/200\n",
      "23/23 - 1s - loss: 6.3179e-04 - 582ms/epoch - 25ms/step\n",
      "Epoch 6/200\n",
      "23/23 - 1s - loss: 6.2112e-04 - 617ms/epoch - 27ms/step\n",
      "Epoch 7/200\n",
      "23/23 - 1s - loss: 6.0805e-04 - 601ms/epoch - 26ms/step\n",
      "Epoch 8/200\n",
      "23/23 - 1s - loss: 6.1997e-04 - 585ms/epoch - 25ms/step\n",
      "Epoch 9/200\n",
      "23/23 - 1s - loss: 6.2311e-04 - 586ms/epoch - 25ms/step\n",
      "Epoch 10/200\n",
      "23/23 - 1s - loss: 5.6298e-04 - 648ms/epoch - 28ms/step\n",
      "Epoch 11/200\n",
      "23/23 - 1s - loss: 5.5458e-04 - 655ms/epoch - 28ms/step\n",
      "Epoch 12/200\n",
      "23/23 - 1s - loss: 5.6704e-04 - 590ms/epoch - 26ms/step\n",
      "Epoch 13/200\n",
      "23/23 - 1s - loss: 5.3450e-04 - 595ms/epoch - 26ms/step\n",
      "Epoch 14/200\n",
      "23/23 - 1s - loss: 4.9615e-04 - 586ms/epoch - 25ms/step\n",
      "Epoch 15/200\n",
      "23/23 - 1s - loss: 4.7494e-04 - 623ms/epoch - 27ms/step\n",
      "Epoch 16/200\n",
      "23/23 - 1s - loss: 4.7912e-04 - 633ms/epoch - 28ms/step\n",
      "Epoch 17/200\n",
      "23/23 - 1s - loss: 4.8049e-04 - 686ms/epoch - 30ms/step\n",
      "Epoch 18/200\n",
      "23/23 - 1s - loss: 4.5408e-04 - 641ms/epoch - 28ms/step\n",
      "Epoch 19/200\n",
      "23/23 - 1s - loss: 4.4920e-04 - 664ms/epoch - 29ms/step\n",
      "Epoch 20/200\n",
      "23/23 - 1s - loss: 4.1250e-04 - 661ms/epoch - 29ms/step\n",
      "Epoch 21/200\n",
      "23/23 - 1s - loss: 4.0799e-04 - 637ms/epoch - 28ms/step\n",
      "Epoch 22/200\n",
      "23/23 - 1s - loss: 4.0306e-04 - 649ms/epoch - 28ms/step\n",
      "Epoch 23/200\n",
      "23/23 - 1s - loss: 3.8065e-04 - 617ms/epoch - 27ms/step\n",
      "Epoch 24/200\n",
      "23/23 - 1s - loss: 4.0218e-04 - 601ms/epoch - 26ms/step\n",
      "Epoch 25/200\n",
      "23/23 - 1s - loss: 3.9979e-04 - 596ms/epoch - 26ms/step\n",
      "Epoch 26/200\n",
      "23/23 - 1s - loss: 3.7796e-04 - 586ms/epoch - 25ms/step\n",
      "Epoch 27/200\n",
      "23/23 - 1s - loss: 3.8968e-04 - 601ms/epoch - 26ms/step\n",
      "Epoch 28/200\n",
      "23/23 - 1s - loss: 3.4933e-04 - 586ms/epoch - 25ms/step\n",
      "Epoch 29/200\n",
      "23/23 - 1s - loss: 3.5758e-04 - 583ms/epoch - 25ms/step\n",
      "Epoch 30/200\n",
      "23/23 - 1s - loss: 3.4730e-04 - 601ms/epoch - 26ms/step\n",
      "Epoch 31/200\n",
      "23/23 - 1s - loss: 3.4460e-04 - 590ms/epoch - 26ms/step\n",
      "Epoch 32/200\n",
      "23/23 - 1s - loss: 3.4174e-04 - 586ms/epoch - 25ms/step\n",
      "Epoch 33/200\n",
      "23/23 - 1s - loss: 3.2498e-04 - 601ms/epoch - 26ms/step\n",
      "Epoch 34/200\n",
      "23/23 - 1s - loss: 3.4095e-04 - 579ms/epoch - 25ms/step\n",
      "Epoch 35/200\n",
      "23/23 - 1s - loss: 3.0420e-04 - 586ms/epoch - 25ms/step\n",
      "Epoch 36/200\n",
      "23/23 - 1s - loss: 3.0074e-04 - 691ms/epoch - 30ms/step\n",
      "Epoch 37/200\n",
      "23/23 - 1s - loss: 2.9696e-04 - 617ms/epoch - 27ms/step\n",
      "Epoch 38/200\n",
      "23/23 - 1s - loss: 3.0001e-04 - 638ms/epoch - 28ms/step\n",
      "Epoch 39/200\n",
      "23/23 - 1s - loss: 3.2089e-04 - 599ms/epoch - 26ms/step\n",
      "Epoch 40/200\n",
      "23/23 - 1s - loss: 3.1977e-04 - 586ms/epoch - 25ms/step\n",
      "Epoch 41/200\n",
      "23/23 - 1s - loss: 3.2315e-04 - 586ms/epoch - 25ms/step\n",
      "Epoch 42/200\n",
      "23/23 - 1s - loss: 2.8030e-04 - 586ms/epoch - 25ms/step\n",
      "Epoch 43/200\n",
      "23/23 - 1s - loss: 2.8363e-04 - 586ms/epoch - 25ms/step\n",
      "Epoch 44/200\n",
      "23/23 - 1s - loss: 2.6213e-04 - 586ms/epoch - 25ms/step\n",
      "Epoch 45/200\n",
      "23/23 - 1s - loss: 2.7166e-04 - 602ms/epoch - 26ms/step\n",
      "Epoch 46/200\n",
      "23/23 - 1s - loss: 2.5693e-04 - 601ms/epoch - 26ms/step\n",
      "Epoch 47/200\n",
      "23/23 - 1s - loss: 2.3668e-04 - 602ms/epoch - 26ms/step\n",
      "Epoch 48/200\n",
      "23/23 - 1s - loss: 2.3388e-04 - 579ms/epoch - 25ms/step\n",
      "Epoch 49/200\n",
      "23/23 - 1s - loss: 2.3427e-04 - 586ms/epoch - 25ms/step\n",
      "Epoch 50/200\n",
      "23/23 - 1s - loss: 2.2391e-04 - 586ms/epoch - 25ms/step\n",
      "Epoch 51/200\n",
      "23/23 - 1s - loss: 2.6711e-04 - 585ms/epoch - 25ms/step\n",
      "Epoch 52/200\n",
      "23/23 - 1s - loss: 2.2471e-04 - 586ms/epoch - 25ms/step\n",
      "Epoch 53/200\n",
      "23/23 - 1s - loss: 2.1825e-04 - 601ms/epoch - 26ms/step\n",
      "Epoch 54/200\n",
      "23/23 - 1s - loss: 2.0797e-04 - 633ms/epoch - 28ms/step\n",
      "Epoch 55/200\n",
      "23/23 - 1s - loss: 2.1598e-04 - 655ms/epoch - 28ms/step\n",
      "Epoch 56/200\n",
      "23/23 - 1s - loss: 2.1452e-04 - 622ms/epoch - 27ms/step\n",
      "Epoch 57/200\n",
      "23/23 - 1s - loss: 2.1376e-04 - 579ms/epoch - 25ms/step\n",
      "Epoch 58/200\n",
      "23/23 - 1s - loss: 2.0039e-04 - 586ms/epoch - 25ms/step\n",
      "Epoch 59/200\n",
      "23/23 - 1s - loss: 2.1445e-04 - 586ms/epoch - 25ms/step\n",
      "Epoch 60/200\n",
      "23/23 - 1s - loss: 1.8055e-04 - 617ms/epoch - 27ms/step\n",
      "Epoch 61/200\n",
      "23/23 - 1s - loss: 1.9429e-04 - 586ms/epoch - 25ms/step\n",
      "Epoch 62/200\n",
      "23/23 - 1s - loss: 1.7800e-04 - 586ms/epoch - 25ms/step\n",
      "Epoch 63/200\n",
      "23/23 - 1s - loss: 1.6283e-04 - 601ms/epoch - 26ms/step\n",
      "Epoch 64/200\n",
      "23/23 - 1s - loss: 1.5911e-04 - 586ms/epoch - 25ms/step\n",
      "Epoch 65/200\n",
      "23/23 - 1s - loss: 1.6475e-04 - 586ms/epoch - 25ms/step\n",
      "Epoch 66/200\n",
      "23/23 - 1s - loss: 1.5403e-04 - 610ms/epoch - 27ms/step\n",
      "Epoch 67/200\n",
      "23/23 - 1s - loss: 1.6419e-04 - 610ms/epoch - 27ms/step\n",
      "Epoch 68/200\n",
      "23/23 - 1s - loss: 1.6540e-04 - 611ms/epoch - 27ms/step\n",
      "Epoch 69/200\n",
      "23/23 - 1s - loss: 1.8568e-04 - 636ms/epoch - 28ms/step\n",
      "Epoch 70/200\n",
      "23/23 - 1s - loss: 1.7062e-04 - 596ms/epoch - 26ms/step\n",
      "Epoch 71/200\n",
      "23/23 - 1s - loss: 1.8940e-04 - 601ms/epoch - 26ms/step\n",
      "Epoch 72/200\n",
      "23/23 - 1s - loss: 1.7052e-04 - 594ms/epoch - 26ms/step\n",
      "Epoch 73/200\n",
      "23/23 - 1s - loss: 1.4831e-04 - 586ms/epoch - 25ms/step\n",
      "Epoch 74/200\n",
      "23/23 - 1s - loss: 1.4745e-04 - 579ms/epoch - 25ms/step\n",
      "Epoch 75/200\n",
      "23/23 - 1s - loss: 1.5895e-04 - 586ms/epoch - 25ms/step\n",
      "Epoch 76/200\n",
      "23/23 - 1s - loss: 1.7202e-04 - 602ms/epoch - 26ms/step\n",
      "Epoch 77/200\n",
      "23/23 - 1s - loss: 1.4100e-04 - 570ms/epoch - 25ms/step\n",
      "Epoch 78/200\n",
      "23/23 - 1s - loss: 1.6130e-04 - 586ms/epoch - 25ms/step\n",
      "Epoch 79/200\n",
      "23/23 - 1s - loss: 1.3878e-04 - 602ms/epoch - 26ms/step\n",
      "Epoch 80/200\n",
      "23/23 - 1s - loss: 1.3733e-04 - 586ms/epoch - 25ms/step\n",
      "Epoch 81/200\n",
      "23/23 - 1s - loss: 1.3713e-04 - 579ms/epoch - 25ms/step\n",
      "Epoch 82/200\n",
      "23/23 - 1s - loss: 1.4172e-04 - 585ms/epoch - 25ms/step\n",
      "Epoch 83/200\n",
      "23/23 - 1s - loss: 1.3724e-04 - 585ms/epoch - 25ms/step\n",
      "Epoch 84/200\n",
      "23/23 - 1s - loss: 1.4914e-04 - 586ms/epoch - 25ms/step\n",
      "Epoch 85/200\n",
      "23/23 - 1s - loss: 1.3187e-04 - 586ms/epoch - 25ms/step\n",
      "Epoch 86/200\n",
      "23/23 - 1s - loss: 1.4025e-04 - 586ms/epoch - 25ms/step\n",
      "Epoch 87/200\n",
      "23/23 - 1s - loss: 1.3150e-04 - 617ms/epoch - 27ms/step\n",
      "Epoch 88/200\n",
      "23/23 - 1s - loss: 1.4229e-04 - 588ms/epoch - 26ms/step\n",
      "Epoch 89/200\n",
      "23/23 - 1s - loss: 1.4448e-04 - 586ms/epoch - 25ms/step\n",
      "Epoch 90/200\n",
      "23/23 - 1s - loss: 1.3029e-04 - 601ms/epoch - 26ms/step\n",
      "Epoch 91/200\n",
      "23/23 - 1s - loss: 1.4021e-04 - 601ms/epoch - 26ms/step\n",
      "Epoch 92/200\n",
      "23/23 - 1s - loss: 1.2203e-04 - 601ms/epoch - 26ms/step\n",
      "Epoch 93/200\n",
      "23/23 - 1s - loss: 1.2491e-04 - 586ms/epoch - 25ms/step\n",
      "Epoch 94/200\n",
      "23/23 - 1s - loss: 1.2846e-04 - 601ms/epoch - 26ms/step\n",
      "Epoch 95/200\n",
      "23/23 - 1s - loss: 1.3634e-04 - 704ms/epoch - 31ms/step\n",
      "Epoch 96/200\n",
      "23/23 - 1s - loss: 1.2790e-04 - 726ms/epoch - 32ms/step\n",
      "Epoch 97/200\n",
      "23/23 - 1s - loss: 1.5051e-04 - 644ms/epoch - 28ms/step\n",
      "Epoch 98/200\n",
      "23/23 - 1s - loss: 1.3854e-04 - 585ms/epoch - 25ms/step\n",
      "Epoch 99/200\n",
      "23/23 - 1s - loss: 1.2798e-04 - 607ms/epoch - 26ms/step\n",
      "Epoch 100/200\n",
      "23/23 - 1s - loss: 1.2562e-04 - 649ms/epoch - 28ms/step\n",
      "Epoch 101/200\n",
      "23/23 - 1s - loss: 1.3398e-04 - 789ms/epoch - 34ms/step\n",
      "Epoch 102/200\n",
      "23/23 - 1s - loss: 1.2098e-04 - 620ms/epoch - 27ms/step\n",
      "Epoch 103/200\n",
      "23/23 - 1s - loss: 1.1835e-04 - 634ms/epoch - 28ms/step\n",
      "Epoch 104/200\n",
      "23/23 - 1s - loss: 1.2539e-04 - 641ms/epoch - 28ms/step\n",
      "Epoch 105/200\n",
      "23/23 - 1s - loss: 1.2608e-04 - 671ms/epoch - 29ms/step\n",
      "Epoch 106/200\n",
      "23/23 - 1s - loss: 1.4390e-04 - 590ms/epoch - 26ms/step\n",
      "Epoch 107/200\n",
      "23/23 - 1s - loss: 1.2455e-04 - 626ms/epoch - 27ms/step\n",
      "Epoch 108/200\n",
      "23/23 - 1s - loss: 1.5158e-04 - 611ms/epoch - 27ms/step\n",
      "Epoch 109/200\n",
      "23/23 - 1s - loss: 1.1740e-04 - 619ms/epoch - 27ms/step\n",
      "Epoch 110/200\n",
      "23/23 - 1s - loss: 1.1696e-04 - 608ms/epoch - 26ms/step\n",
      "Epoch 111/200\n",
      "23/23 - 1s - loss: 1.1436e-04 - 606ms/epoch - 26ms/step\n",
      "Epoch 112/200\n",
      "23/23 - 1s - loss: 1.2225e-04 - 607ms/epoch - 26ms/step\n",
      "Epoch 113/200\n",
      "23/23 - 1s - loss: 1.1741e-04 - 579ms/epoch - 25ms/step\n",
      "Epoch 114/200\n",
      "23/23 - 1s - loss: 1.1402e-04 - 604ms/epoch - 26ms/step\n",
      "Epoch 115/200\n",
      "23/23 - 1s - loss: 1.1149e-04 - 602ms/epoch - 26ms/step\n",
      "Epoch 116/200\n",
      "23/23 - 1s - loss: 1.1715e-04 - 602ms/epoch - 26ms/step\n"
     ]
    },
    {
     "name": "stdout",
     "output_type": "stream",
     "text": [
      "Epoch 117/200\n",
      "23/23 - 1s - loss: 1.1298e-04 - 602ms/epoch - 26ms/step\n",
      "Epoch 118/200\n",
      "23/23 - 1s - loss: 1.2304e-04 - 586ms/epoch - 25ms/step\n",
      "Epoch 119/200\n",
      "23/23 - 1s - loss: 1.0566e-04 - 670ms/epoch - 29ms/step\n",
      "Epoch 120/200\n",
      "23/23 - 1s - loss: 1.0892e-04 - 586ms/epoch - 25ms/step\n",
      "Epoch 121/200\n",
      "23/23 - 1s - loss: 1.1072e-04 - 570ms/epoch - 25ms/step\n",
      "Epoch 122/200\n",
      "23/23 - 1s - loss: 1.2168e-04 - 602ms/epoch - 26ms/step\n",
      "Epoch 123/200\n",
      "23/23 - 1s - loss: 1.3415e-04 - 630ms/epoch - 27ms/step\n",
      "Epoch 124/200\n",
      "23/23 - 1s - loss: 1.0797e-04 - 624ms/epoch - 27ms/step\n",
      "Epoch 125/200\n",
      "23/23 - 1s - loss: 1.0816e-04 - 629ms/epoch - 27ms/step\n",
      "Epoch 126/200\n",
      "23/23 - 1s - loss: 1.1921e-04 - 637ms/epoch - 28ms/step\n",
      "Epoch 127/200\n",
      "23/23 - 1s - loss: 1.2509e-04 - 617ms/epoch - 27ms/step\n",
      "Epoch 128/200\n",
      "23/23 - 1s - loss: 1.1283e-04 - 607ms/epoch - 26ms/step\n",
      "Epoch 129/200\n",
      "23/23 - 1s - loss: 1.3174e-04 - 672ms/epoch - 29ms/step\n",
      "Epoch 130/200\n",
      "23/23 - 1s - loss: 1.1693e-04 - 655ms/epoch - 28ms/step\n",
      "Epoch 131/200\n",
      "23/23 - 1s - loss: 1.4328e-04 - 655ms/epoch - 28ms/step\n",
      "Epoch 132/200\n",
      "23/23 - 1s - loss: 1.2444e-04 - 608ms/epoch - 26ms/step\n",
      "Epoch 133/200\n",
      "23/23 - 1s - loss: 1.1995e-04 - 602ms/epoch - 26ms/step\n",
      "Epoch 134/200\n",
      "23/23 - 1s - loss: 1.0866e-04 - 601ms/epoch - 26ms/step\n",
      "Epoch 135/200\n"
     ]
    }
   ],
   "source": [
    "#đào tạo với tập Xtrain, Ytrain đã cho\n",
    "history_data = model.fit(Xtrain, Ytrain, batch_size=50, epochs=200, verbose=2) "
   ]
  },
  {
   "cell_type": "markdown",
   "metadata": {},
   "source": [
    "# Xây dựng tập thử nghiệm test"
   ]
  },
  {
   "cell_type": "code",
   "execution_count": 13,
   "metadata": {
    "colab": {},
    "colab_type": "code",
    "id": "iiui_Nn97Wk9"
   },
   "outputs": [],
   "source": [
    "#tạo tập dữ liệu test với timestep=60 ngày tương tự như tập train\n",
    "testingData = scaledData[trainingDataLength - 60: , :]\n",
    "\n",
    "#tạo tập Xtest và Ytest\n",
    "Xtest = []\n",
    "Ytest = stock_close_dataset[trainingDataLength:, :]\n",
    "for i in range(60, len(testingData)):\n",
    "  Xtest.append(testingData[i-60:i, 0])"
   ]
  },
  {
   "cell_type": "code",
   "execution_count": 14,
   "metadata": {
    "colab": {
     "base_uri": "https://localhost:8080/",
     "height": 235
    },
    "colab_type": "code",
    "executionInfo": {
     "elapsed": 413574,
     "status": "ok",
     "timestamp": 1587444756107,
     "user": {
      "displayName": "Thenuja Shanthacumaran",
      "photoUrl": "https://lh3.googleusercontent.com/a-/AOh14GgwSc7uEqkv3sGGjky6eYr_T2HSXZ2VgNTu-LqYyg=s64",
      "userId": "06406019534418310581"
     },
     "user_tz": -330
    },
    "id": "1BjgzNH28HWp",
    "outputId": "3370cb9a-0092-4d10-cb38-2995f1524876"
   },
   "outputs": [
    {
     "data": {
      "text/plain": [
       "array([[0.31381742, 0.31604252, 0.31745306, ..., 0.42606536, 0.42176418,\n",
       "        0.39651336],\n",
       "       [0.31604252, 0.31745306, 0.31918148, ..., 0.42176418, 0.39651336,\n",
       "        0.39455647],\n",
       "       [0.31745306, 0.31918148, 0.31906228, ..., 0.39651336, 0.39455647,\n",
       "        0.40090394],\n",
       "       ...,\n",
       "       [0.86423959, 0.86417999, 0.86502434, ..., 0.96990166, 0.99701997,\n",
       "        0.99396046],\n",
       "       [0.86417999, 0.86502434, 0.8678355 , ..., 0.99701997, 0.99396046,\n",
       "        0.99999007],\n",
       "       [0.86502434, 0.8678355 , 0.86763683, ..., 0.99396046, 0.99999007,\n",
       "        0.99990067]])"
      ]
     },
     "execution_count": 14,
     "metadata": {},
     "output_type": "execute_result"
    }
   ],
   "source": [
    "#chuyển dữ liệu Xtest thành mảng numpy\n",
    "Xtest = np.array(Xtest)\n",
    "Xtest"
   ]
  },
  {
   "cell_type": "code",
   "execution_count": 15,
   "metadata": {
    "colab": {},
    "colab_type": "code",
    "id": "kMV34hpZ8Qlj"
   },
   "outputs": [],
   "source": [
    "#Reshape dữ liệu \n",
    "Xtest = np.reshape(Xtest, (Xtest.shape[0], Xtest.shape[1], 1 ))"
   ]
  },
  {
   "cell_type": "code",
   "execution_count": 16,
   "metadata": {
    "colab": {
     "base_uri": "https://localhost:8080/",
     "height": 1000
    },
    "colab_type": "code",
    "executionInfo": {
     "elapsed": 413553,
     "status": "ok",
     "timestamp": 1587444756108,
     "user": {
      "displayName": "Thenuja Shanthacumaran",
      "photoUrl": "https://lh3.googleusercontent.com/a-/AOh14GgwSc7uEqkv3sGGjky6eYr_T2HSXZ2VgNTu-LqYyg=s64",
      "userId": "06406019534418310581"
     },
     "user_tz": -330
    },
    "id": "M2MrVjoK8oXD",
    "outputId": "8f7fc2a7-02b7-4901-a124-07bcb1bf5d60",
    "scrolled": true
   },
   "outputs": [
    {
     "data": {
      "text/plain": [
       "array([[ 927.2377 ],\n",
       "       [ 921.9021 ],\n",
       "       [ 928.9541 ],\n",
       "       [ 939.4986 ],\n",
       "       [ 943.3744 ],\n",
       "       [ 947.7892 ],\n",
       "       [ 945.86414],\n",
       "       [ 945.33514],\n",
       "       [ 958.2304 ],\n",
       "       [ 959.85925],\n",
       "       [ 959.5643 ],\n",
       "       [ 965.84485],\n",
       "       [ 973.3145 ],\n",
       "       [ 958.52167],\n",
       "       [ 973.7503 ],\n",
       "       [ 980.8682 ],\n",
       "       [ 991.07544],\n",
       "       [ 998.4623 ],\n",
       "       [1002.56854],\n",
       "       [1003.5949 ],\n",
       "       [1007.1138 ],\n",
       "       [1013.13904],\n",
       "       [1017.729  ],\n",
       "       [1010.434  ],\n",
       "       [1015.12744],\n",
       "       [1021.31964],\n",
       "       [1027.5192 ],\n",
       "       [1029.5227 ],\n",
       "       [1037.9082 ],\n",
       "       [1037.4242 ],\n",
       "       [1046.8967 ],\n",
       "       [1038.6843 ],\n",
       "       [1052.9889 ],\n",
       "       [1073.0889 ],\n",
       "       [1064.5887 ],\n",
       "       [1074.8469 ],\n",
       "       [1058.7678 ],\n",
       "       [1073.6299 ],\n",
       "       [1089.431  ],\n",
       "       [1092.5823 ],\n",
       "       [1086.8062 ],\n",
       "       [1073.4252 ],\n",
       "       [1090.615  ],\n",
       "       [1099.5885 ],\n",
       "       [1108.5583 ],\n",
       "       [1106.0469 ],\n",
       "       [1111.7372 ],\n",
       "       [1129.3745 ],\n",
       "       [1142.53   ],\n",
       "       [1153.2684 ],\n",
       "       [1166.4797 ],\n",
       "       [1177.3988 ],\n",
       "       [1194.9646 ],\n",
       "       [1201.59   ],\n",
       "       [1192.6339 ],\n",
       "       [1192.9373 ],\n",
       "       [1200.4901 ],\n",
       "       [1198.0922 ],\n",
       "       [1129.3378 ],\n",
       "       [1135.1987 ],\n",
       "       [1171.7312 ],\n",
       "       [1177.4373 ],\n",
       "       [1176.2128 ],\n",
       "       [1141.2002 ],\n",
       "       [1097.0947 ],\n",
       "       [1018.3534 ],\n",
       "       [1054.7898 ],\n",
       "       [1039.8517 ],\n",
       "       [1084.3542 ],\n",
       "       [1126.8082 ],\n",
       "       [1127.7039 ],\n",
       "       [1139.1642 ],\n",
       "       [1087.9598 ],\n",
       "       [1118.5596 ],\n",
       "       [1165.2302 ],\n",
       "       [1186.7815 ],\n",
       "       [1183.2269 ],\n",
       "       [1181.664  ],\n",
       "       [1182.7947 ],\n",
       "       [1164.6919 ],\n",
       "       [1168.9952 ],\n",
       "       [1173.7832 ],\n",
       "       [1194.8258 ],\n",
       "       [1195.5466 ],\n",
       "       [1195.0204 ],\n",
       "       [1173.2463 ],\n",
       "       [1173.3945 ],\n",
       "       [1173.8066 ],\n",
       "       [1167.5956 ],\n",
       "       [1177.3324 ],\n",
       "       [1190.8387 ],\n",
       "       [1190.1691 ],\n",
       "       [1192.428  ],\n",
       "       [1186.1283 ],\n",
       "       [1192.574  ],\n",
       "       [1209.2277 ],\n",
       "       [1200.7102 ],\n",
       "       [1200.3188 ],\n",
       "       [1187.4331 ],\n",
       "       [1163.2556 ],\n",
       "       [1166.1682 ],\n",
       "       [1167.102  ],\n",
       "       [1183.6973 ],\n",
       "       [1196.1804 ],\n",
       "       [1200.9816 ],\n",
       "       [1227.4154 ],\n",
       "       [1234.7289 ],\n",
       "       [1245.368  ],\n",
       "       [1247.2661 ],\n",
       "       [1248.171  ],\n",
       "       [1238.3959 ],\n",
       "       [1234.8438 ],\n",
       "       [1259.8732 ],\n",
       "       [1254.734  ],\n",
       "       [1263.2915 ],\n",
       "       [1252.307  ],\n",
       "       [1242.4117 ],\n",
       "       [1268.7776 ],\n",
       "       [1277.1189 ],\n",
       "       [1228.37   ],\n",
       "       [1254.4261 ],\n",
       "       [1216.2596 ],\n",
       "       [1223.5419 ],\n",
       "       [1236.3971 ],\n",
       "       [1248.3218 ],\n",
       "       [1250.6984 ],\n",
       "       [1265.8582 ],\n",
       "       [1256.8185 ],\n",
       "       [1245.4023 ],\n",
       "       [1266.2075 ],\n",
       "       [1261.2427 ],\n",
       "       [1276.3705 ],\n",
       "       [1266.7433 ],\n",
       "       [1271.6871 ],\n",
       "       [1262.2261 ],\n",
       "       [1255.7465 ],\n",
       "       [1268.2692 ],\n",
       "       [1286.8474 ],\n",
       "       [1292.2836 ],\n",
       "       [1307.2174 ],\n",
       "       [1317.2091 ],\n",
       "       [1324.296  ],\n",
       "       [1306.1941 ],\n",
       "       [1326.7007 ],\n",
       "       [1334.3109 ],\n",
       "       [1344.9403 ],\n",
       "       [1346.728  ],\n",
       "       [1373.9329 ],\n",
       "       [1382.2047 ],\n",
       "       [1360.6672 ],\n",
       "       [1313.79   ],\n",
       "       [1335.3121 ],\n",
       "       [1325.1753 ],\n",
       "       [1362.1885 ],\n",
       "       [1371.6744 ],\n",
       "       [1375.8507 ],\n",
       "       [1359.6681 ],\n",
       "       [1363.7012 ],\n",
       "       [1384.866  ],\n",
       "       [1376.1401 ],\n",
       "       [1385.0363 ],\n",
       "       [1379.656  ],\n",
       "       [1383.2614 ],\n",
       "       [1395.623  ],\n",
       "       [1413.4196 ],\n",
       "       [1415.6376 ],\n",
       "       [1411.7816 ],\n",
       "       [1421.5548 ],\n",
       "       [1423.7662 ],\n",
       "       [1411.4906 ],\n",
       "       [1342.5737 ],\n",
       "       [1394.5917 ],\n",
       "       [1375.4626 ],\n",
       "       [1344.8094 ],\n",
       "       [1286.9602 ],\n",
       "       [1297.3219 ],\n",
       "       [1279.565  ],\n",
       "       [1300.8259 ],\n",
       "       [1307.2115 ],\n",
       "       [1239.2847 ],\n",
       "       [1279.11   ],\n",
       "       [1275.1833 ],\n",
       "       [1302.6754 ],\n",
       "       [1270.3169 ],\n",
       "       [1275.4266 ],\n",
       "       [1280.0858 ],\n",
       "       [1280.2399 ],\n",
       "       [1299.9421 ],\n",
       "       [1318.0024 ],\n",
       "       [1320.4464 ],\n",
       "       [1340.2527 ],\n",
       "       [1339.7885 ],\n",
       "       [1351.1776 ],\n",
       "       [1344.0668 ],\n",
       "       [1366.3313 ],\n",
       "       [1367.1772 ],\n",
       "       [1360.6122 ],\n",
       "       [1354.9686 ],\n",
       "       [1360.7446 ],\n",
       "       [1377.9075 ],\n",
       "       [1366.6683 ],\n",
       "       [1364.4877 ],\n",
       "       [1381.6208 ],\n",
       "       [1324.1129 ],\n",
       "       [1293.0149 ],\n",
       "       [1298.8533 ],\n",
       "       [1315.3634 ],\n",
       "       [1306.136  ],\n",
       "       [1321.4977 ],\n",
       "       [1337.6938 ],\n",
       "       [1338.7775 ],\n",
       "       [1340.2279 ],\n",
       "       [1352.4741 ],\n",
       "       [1344.5874 ],\n",
       "       [1334.1328 ],\n",
       "       [1347.644  ],\n",
       "       [1348.6587 ],\n",
       "       [1343.962  ],\n",
       "       [1342.3119 ],\n",
       "       [1350.247  ],\n",
       "       [1349.8732 ],\n",
       "       [1358.0457 ],\n",
       "       [1354.3237 ],\n",
       "       [1341.1791 ],\n",
       "       [1355.6461 ],\n",
       "       [1357.3025 ],\n",
       "       [1355.0239 ],\n",
       "       [1322.9065 ],\n",
       "       [1343.7715 ],\n",
       "       [1343.1873 ],\n",
       "       [1347.1172 ],\n",
       "       [1337.81   ],\n",
       "       [1343.9827 ],\n",
       "       [1361.7867 ],\n",
       "       [1369.6576 ],\n",
       "       [1371.3503 ],\n",
       "       [1377.843  ],\n",
       "       [1402.2119 ],\n",
       "       [1399.2516 ],\n",
       "       [1394.1337 ],\n",
       "       [1393.5972 ],\n",
       "       [1394.7089 ],\n",
       "       [1398.5189 ],\n",
       "       [1398.2075 ],\n",
       "       [1396.4814 ],\n",
       "       [1385.6085 ],\n",
       "       [1392.7689 ],\n",
       "       [1387.8763 ],\n",
       "       [1396.401  ],\n",
       "       [1434.3492 ],\n",
       "       [1447.5784 ],\n",
       "       [1450.6597 ],\n",
       "       [1440.2847 ],\n",
       "       [1456.562  ],\n",
       "       [1443.5483 ],\n",
       "       [1449.9869 ],\n",
       "       [1459.8182 ],\n",
       "       [1472.6176 ],\n",
       "       [1462.592  ],\n",
       "       [1467.4905 ],\n",
       "       [1463.1742 ],\n",
       "       [1477.6993 ],\n",
       "       [1479.6691 ],\n",
       "       [1465.7567 ],\n",
       "       [1479.1727 ],\n",
       "       [1469.7571 ],\n",
       "       [1448.7264 ],\n",
       "       [1445.9014 ],\n",
       "       [1468.6422 ],\n",
       "       [1498.4373 ],\n",
       "       [1508.1307 ],\n",
       "       [1493.5096 ],\n",
       "       [1482.4067 ],\n",
       "       [1475.2681 ],\n",
       "       [1485.8887 ],\n",
       "       [1481.5035 ],\n",
       "       [1433.1467 ],\n",
       "       [1403.8917 ],\n",
       "       [1453.6962 ],\n",
       "       [1458.2576 ],\n",
       "       [1476.266  ],\n",
       "       [1465.9384 ],\n",
       "       [1480.7776 ],\n",
       "       [1476.7753 ],\n",
       "       [1475.2202 ],\n",
       "       [1476.2051 ],\n",
       "       [1480.0669 ],\n",
       "       [1476.491  ],\n",
       "       [1478.9092 ],\n",
       "       [1477.467  ],\n",
       "       [1451.505  ],\n",
       "       [1481.5745 ],\n",
       "       [1493.6334 ],\n",
       "       [1498.2202 ],\n",
       "       [1484.8268 ],\n",
       "       [1485.6812 ],\n",
       "       [1501.2253 ],\n",
       "       [1533.8094 ],\n",
       "       [1523.5746 ],\n",
       "       [1530.2817 ],\n",
       "       [1527.559  ]], dtype=float32)"
      ]
     },
     "execution_count": 16,
     "metadata": {},
     "output_type": "execute_result"
    }
   ],
   "source": [
    "#Chuyển đổi về dạng giá thông thường mà ta đọc được \n",
    "predictions = model.predict(Xtest)\n",
    "predictions = scaler.inverse_transform(predictions)\n",
    "predictions"
   ]
  },
  {
   "cell_type": "code",
   "execution_count": 17,
   "metadata": {
    "colab": {
     "base_uri": "https://localhost:8080/",
     "height": 633
    },
    "colab_type": "code",
    "executionInfo": {
     "elapsed": 414608,
     "status": "ok",
     "timestamp": 1587444757182,
     "user": {
      "displayName": "Thenuja Shanthacumaran",
      "photoUrl": "https://lh3.googleusercontent.com/a-/AOh14GgwSc7uEqkv3sGGjky6eYr_T2HSXZ2VgNTu-LqYyg=s64",
      "userId": "06406019534418310581"
     },
     "user_tz": -330
    },
    "id": "FdI9uOr69oGs",
    "outputId": "cdfc8799-b8bc-4a43-dc44-aa95c215c55c"
   },
   "outputs": [
    {
     "data": {
      "image/png": "[encoded data removed]",
      "text/plain": [
       "<Figure size 1536x801 with 1 Axes>"
      ]
     },
     "metadata": {
      "needs_background": "light"
     },
     "output_type": "display_data"
    }
   ],
   "source": [
    "#vẽ biểu đồ để biễu diễn dự đoán \n",
    "#chia tệp data thành tập train và reality sau đó xây dựng tệp predictions để so sánh \n",
    "training = stock_close_data[:trainingDataLength]\n",
    "reality= stock_close_data[trainingDataLength:]\n",
    "reality['Predictions'] = predictions\n",
    "\n",
    "root = tkinter.Tk()\n",
    "fig = mtlplt.figure(figsize=(20,10))\n",
    "mtlplt.title('VNINDEX')\n",
    "mtlplt.xlabel('Date', fontsize=20)\n",
    "mtlplt.ylabel('Close Stock Price $ (VND)', fontsize=20)\n",
    "mtlplt.plot(training['Close'])\n",
    "mtlplt.plot(reality[['Close', 'Predictions']])\n",
    "mtlplt.legend(['Training', 'Reality', 'Predictions'], loc='lower right')\n",
    "canvas = FigureCanvasTkAgg(fig, master=root) \n",
    "canvas.get_tk_widget().pack(side=tkinter.TOP, fill=tkinter.BOTH, expand=1)\n",
    "\n",
    "toolbar = NavigationToolbar2Tk(canvas, root)\n",
    "toolbar.update()\n",
    "canvas.get_tk_widget().pack(side=tkinter.TOP, fill=tkinter.BOTH, expand=1)\n",
    "\n",
    "root.geometry('1400x900')\n",
    "root.mainloop()"
   ]
  },
  {
   "cell_type": "code",
   "execution_count": 18,
   "metadata": {
    "colab": {
     "base_uri": "https://localhost:8080/",
     "height": 402
    },
    "colab_type": "code",
    "executionInfo": {
     "elapsed": 414595,
     "status": "ok",
     "timestamp": 1587444757183,
     "user": {
      "displayName": "Thenuja Shanthacumaran",
      "photoUrl": "https://lh3.googleusercontent.com/a-/AOh14GgwSc7uEqkv3sGGjky6eYr_T2HSXZ2VgNTu-LqYyg=s64",
      "userId": "06406019534418310581"
     },
     "user_tz": -330
    },
    "id": "rjQjGVSg-qy2",
    "outputId": "daf21851-061f-421f-dabf-75a6cb799b17"
   },
   "outputs": [
    {
     "data": {
      "text/html": [
       "<div>\n",
       "<style scoped>\n",
       "    .dataframe tbody tr th:only-of-type {\n",
       "        vertical-align: middle;\n",
       "    }\n",
       "\n",
       "    .dataframe tbody tr th {\n",
       "        vertical-align: top;\n",
       "    }\n",
       "\n",
       "    .dataframe thead th {\n",
       "        text-align: right;\n",
       "    }\n",
       "</style>\n",
       "<table border=\"1\" class=\"dataframe\">\n",
       "  <thead>\n",
       "    <tr style=\"text-align: right;\">\n",
       "      <th></th>\n",
       "      <th>Close</th>\n",
       "      <th>Predictions</th>\n",
       "    </tr>\n",
       "    <tr>\n",
       "      <th>Date</th>\n",
       "      <th></th>\n",
       "      <th></th>\n",
       "    </tr>\n",
       "  </thead>\n",
       "  <tbody>\n",
       "    <tr>\n",
       "      <th>2020-10-29</th>\n",
       "      <td>919.08</td>\n",
       "      <td>927.237671</td>\n",
       "    </tr>\n",
       "    <tr>\n",
       "      <th>2020-10-30</th>\n",
       "      <td>925.47</td>\n",
       "      <td>921.902100</td>\n",
       "    </tr>\n",
       "    <tr>\n",
       "      <th>2020-11-02</th>\n",
       "      <td>933.68</td>\n",
       "      <td>928.954102</td>\n",
       "    </tr>\n",
       "    <tr>\n",
       "      <th>2020-11-03</th>\n",
       "      <td>935.41</td>\n",
       "      <td>939.498596</td>\n",
       "    </tr>\n",
       "    <tr>\n",
       "      <th>2020-11-04</th>\n",
       "      <td>939.76</td>\n",
       "      <td>943.374390</td>\n",
       "    </tr>\n",
       "    <tr>\n",
       "      <th>...</th>\n",
       "      <td>...</td>\n",
       "      <td>...</td>\n",
       "    </tr>\n",
       "    <tr>\n",
       "      <th>2022-01-04</th>\n",
       "      <td>1525.58</td>\n",
       "      <td>1501.225342</td>\n",
       "    </tr>\n",
       "    <tr>\n",
       "      <th>2022-01-05</th>\n",
       "      <td>1522.50</td>\n",
       "      <td>1533.809448</td>\n",
       "    </tr>\n",
       "    <tr>\n",
       "      <th>2022-01-06</th>\n",
       "      <td>1528.57</td>\n",
       "      <td>1523.574585</td>\n",
       "    </tr>\n",
       "    <tr>\n",
       "      <th>2022-01-07</th>\n",
       "      <td>1528.48</td>\n",
       "      <td>1530.281738</td>\n",
       "    </tr>\n",
       "    <tr>\n",
       "      <th>2022-01-10</th>\n",
       "      <td>1528.58</td>\n",
       "      <td>1527.558960</td>\n",
       "    </tr>\n",
       "  </tbody>\n",
       "</table>\n",
       "<p>301 rows × 2 columns</p>\n",
       "</div>"
      ],
      "text/plain": [
       "              Close  Predictions\n",
       "Date                            \n",
       "2020-10-29   919.08   927.237671\n",
       "2020-10-30   925.47   921.902100\n",
       "2020-11-02   933.68   928.954102\n",
       "2020-11-03   935.41   939.498596\n",
       "2020-11-04   939.76   943.374390\n",
       "...             ...          ...\n",
       "2022-01-04  1525.58  1501.225342\n",
       "2022-01-05  1522.50  1533.809448\n",
       "2022-01-06  1528.57  1523.574585\n",
       "2022-01-07  1528.48  1530.281738\n",
       "2022-01-10  1528.58  1527.558960\n",
       "\n",
       "[301 rows x 2 columns]"
      ]
     },
     "execution_count": 18,
     "metadata": {},
     "output_type": "execute_result"
    }
   ],
   "source": [
    "#Show dữ liệu Close và Predictions\n",
    "reality"
   ]
  },
  {
   "cell_type": "code",
   "execution_count": 19,
   "metadata": {},
   "outputs": [],
   "source": [
    "#In kết quả của giá đóng và giá dự đoán ra file csv\n",
    "reality.to_csv('Ketquadubao.csv')"
   ]
  },
  {
   "cell_type": "code",
   "execution_count": 20,
   "metadata": {},
   "outputs": [
    {
     "name": "stdout",
     "output_type": "stream",
     "text": [
      "10.976505058009758\n"
     ]
    }
   ],
   "source": [
    "mae = np.mean(np.abs(Ytest - predictions ))\n",
    "print(mae)"
   ]
  },
  {
   "cell_type": "code",
   "execution_count": 21,
   "metadata": {},
   "outputs": [
    {
     "name": "stdout",
     "output_type": "stream",
     "text": [
      "16.220610157234482\n"
     ]
    }
   ],
   "source": [
    "rmse = np.sqrt(np.mean((Ytest - predictions) ** 2))\n",
    "print(rmse)"
   ]
  },
  {
   "cell_type": "code",
   "execution_count": 22,
   "metadata": {},
   "outputs": [
    {
     "name": "stdout",
     "output_type": "stream",
     "text": [
      "0.8821154450824719\n"
     ]
    }
   ],
   "source": [
    "#tính độ chính xác của dự báo\n",
    "mape = np.mean(np.abs((Ytest - predictions )/ Ytest)) *100\n",
    "print(mape)"
   ]
  },
  {
   "cell_type": "code",
   "execution_count": null,
   "metadata": {},
   "outputs": [],
   "source": []
  },
  {
   "cell_type": "code",
   "execution_count": null,
   "metadata": {},
   "outputs": [],
   "source": []
  }
 ],
 "metadata": {
  "accelerator": "GPU",
  "colab": {
   "collapsed_sections": [],
   "name": "apple_stock_price_prediction_in_LSTM (1).ipynb",
   "provenance": []
  },
  "kernelspec": {
   "display_name": "Python 3 (ipykernel)",
   "language": "python",
   "name": "python3"
  },
  "language_info": {
   "codemirror_mode": {
    "name": "ipython",
    "version": 3
   },
   "file_extension": ".py",
   "mimetype": "text/x-python",
   "name": "python",
   "nbconvert_exporter": "python",
   "pygments_lexer": "ipython3",
   "version": "3.11.5"
  }
 },
 "nbformat": 4,
 "nbformat_minor": 1
}
