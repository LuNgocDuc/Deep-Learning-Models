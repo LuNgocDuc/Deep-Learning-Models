{
 "cells": [
  {
   "cell_type": "markdown",
   "metadata": {},
   "source": [
    "# Import thư viện cần thiết"
   ]
  },
  {
   "cell_type": "code",
   "execution_count": 1,
   "metadata": {
    "colab": {},
    "colab_type": "code",
    "id": "DjCc3igB1dj2"
   },
   "outputs": [
    {
     "name": "stdout",
     "output_type": "stream",
     "text": [
      "WARNING:tensorflow:From C:\\Users\\Win10\\anaconda3\\Lib\\site-packages\\keras\\src\\losses.py:2976: The name tf.losses.sparse_softmax_cross_entropy is deprecated. Please use tf.compat.v1.losses.sparse_softmax_cross_entropy instead.\n",
      "\n"
     ]
    }
   ],
   "source": [
    "#bỏ qua các cảnh báo\n",
    "import warnings\n",
    "warnings.filterwarnings('ignore')\n",
    "#thư viện toán học cho hàm toán học\n",
    "import math\n",
    "#dùng để đọc dữ liệu\n",
    "import pandas as pd\n",
    "#giúp xử lý số liệu\n",
    "import numpy as np\n",
    "#dùng để chuẩn hóa dữ liệu\n",
    "from sklearn.preprocessing import MinMaxScaler\n",
    "#cài keras - thư viện mạng thần kinh for LSTM\n",
    "from keras.layers import LSTM\n",
    "from keras.layers import Dense\n",
    "from keras.models import Sequential\n",
    "#dùng để vẽ biểu đồ \n",
    "import matplotlib.pyplot as mtlplt\n",
    "mtlplt.style.use(\"fivethirtyeight\")\n",
    "%matplotlib inline\n",
    "from matplotlib import rcParams \n",
    "import tkinter\n",
    "from matplotlib.backends.backend_tkagg import (\n",
    "    FigureCanvasTkAgg, NavigationToolbar2Tk)"
   ]
  },
  {
   "cell_type": "code",
   "execution_count": 2,
   "metadata": {},
   "outputs": [],
   "source": [
    "AAPL = pd.read_csv(\"./Database/Pre_Processed_AAPL.csv\")"
   ]
  },
  {
   "cell_type": "markdown",
   "metadata": {},
   "source": [
    "# Lấy data từ file"
   ]
  },
  {
   "cell_type": "code",
   "execution_count": 3,
   "metadata": {
    "colab": {
     "base_uri": "https://localhost:8080/",
     "height": 402
    },
    "colab_type": "code",
    "executionInfo": {
     "elapsed": 2922,
     "status": "ok",
     "timestamp": 1587444345258,
     "user": {
      "displayName": "Thenuja Shanthacumaran",
      "photoUrl": "https://lh3.googleusercontent.com/a-/AOh14GgwSc7uEqkv3sGGjky6eYr_T2HSXZ2VgNTu-LqYyg=s64",
      "userId": "06406019534418310581"
     },
     "user_tz": -330
    },
    "id": "anRiueGp1ysF",
    "outputId": "71ccd134-f403-438c-e66b-8462e96ae89a"
   },
   "outputs": [
    {
     "data": {
      "text/html": [
       "<div>\n",
       "<style scoped>\n",
       "    .dataframe tbody tr th:only-of-type {\n",
       "        vertical-align: middle;\n",
       "    }\n",
       "\n",
       "    .dataframe tbody tr th {\n",
       "        vertical-align: top;\n",
       "    }\n",
       "\n",
       "    .dataframe thead th {\n",
       "        text-align: right;\n",
       "    }\n",
       "</style>\n",
       "<table border=\"1\" class=\"dataframe\">\n",
       "  <thead>\n",
       "    <tr style=\"text-align: right;\">\n",
       "      <th></th>\n",
       "      <th>Date</th>\n",
       "      <th>Open</th>\n",
       "      <th>High</th>\n",
       "      <th>Low</th>\n",
       "      <th>Close</th>\n",
       "      <th>Adj. Close</th>\n",
       "      <th>Volume</th>\n",
       "    </tr>\n",
       "  </thead>\n",
       "  <tbody>\n",
       "    <tr>\n",
       "      <th>0</th>\n",
       "      <td>2010-01-04</td>\n",
       "      <td>7.622500</td>\n",
       "      <td>7.660714</td>\n",
       "      <td>7.585000</td>\n",
       "      <td>7.643214</td>\n",
       "      <td>6.470741</td>\n",
       "      <td>493729600</td>\n",
       "    </tr>\n",
       "    <tr>\n",
       "      <th>1</th>\n",
       "      <td>2010-01-05</td>\n",
       "      <td>7.664286</td>\n",
       "      <td>7.699643</td>\n",
       "      <td>7.616071</td>\n",
       "      <td>7.656429</td>\n",
       "      <td>6.481928</td>\n",
       "      <td>601904800</td>\n",
       "    </tr>\n",
       "    <tr>\n",
       "      <th>2</th>\n",
       "      <td>2010-01-06</td>\n",
       "      <td>7.656429</td>\n",
       "      <td>7.686786</td>\n",
       "      <td>7.526786</td>\n",
       "      <td>7.534643</td>\n",
       "      <td>6.378826</td>\n",
       "      <td>552160000</td>\n",
       "    </tr>\n",
       "    <tr>\n",
       "      <th>3</th>\n",
       "      <td>2010-01-07</td>\n",
       "      <td>7.562500</td>\n",
       "      <td>7.571429</td>\n",
       "      <td>7.466071</td>\n",
       "      <td>7.520714</td>\n",
       "      <td>6.367033</td>\n",
       "      <td>477131200</td>\n",
       "    </tr>\n",
       "    <tr>\n",
       "      <th>4</th>\n",
       "      <td>2010-01-08</td>\n",
       "      <td>7.510714</td>\n",
       "      <td>7.571429</td>\n",
       "      <td>7.466429</td>\n",
       "      <td>7.570714</td>\n",
       "      <td>6.409364</td>\n",
       "      <td>447610800</td>\n",
       "    </tr>\n",
       "    <tr>\n",
       "      <th>...</th>\n",
       "      <td>...</td>\n",
       "      <td>...</td>\n",
       "      <td>...</td>\n",
       "      <td>...</td>\n",
       "      <td>...</td>\n",
       "      <td>...</td>\n",
       "      <td>...</td>\n",
       "    </tr>\n",
       "    <tr>\n",
       "      <th>2762</th>\n",
       "      <td>2020-12-22</td>\n",
       "      <td>131.610001</td>\n",
       "      <td>134.410004</td>\n",
       "      <td>129.649994</td>\n",
       "      <td>131.880005</td>\n",
       "      <td>129.426132</td>\n",
       "      <td>168904800</td>\n",
       "    </tr>\n",
       "    <tr>\n",
       "      <th>2763</th>\n",
       "      <td>2020-12-23</td>\n",
       "      <td>132.160004</td>\n",
       "      <td>132.429993</td>\n",
       "      <td>130.779999</td>\n",
       "      <td>130.960007</td>\n",
       "      <td>128.523270</td>\n",
       "      <td>88223700</td>\n",
       "    </tr>\n",
       "    <tr>\n",
       "      <th>2764</th>\n",
       "      <td>2020-12-24</td>\n",
       "      <td>131.320007</td>\n",
       "      <td>133.460007</td>\n",
       "      <td>131.100006</td>\n",
       "      <td>131.970001</td>\n",
       "      <td>129.514465</td>\n",
       "      <td>54930100</td>\n",
       "    </tr>\n",
       "    <tr>\n",
       "      <th>2765</th>\n",
       "      <td>2020-12-28</td>\n",
       "      <td>133.990005</td>\n",
       "      <td>137.339996</td>\n",
       "      <td>133.509995</td>\n",
       "      <td>136.690002</td>\n",
       "      <td>134.146637</td>\n",
       "      <td>124486200</td>\n",
       "    </tr>\n",
       "    <tr>\n",
       "      <th>2766</th>\n",
       "      <td>2020-12-29</td>\n",
       "      <td>138.050003</td>\n",
       "      <td>138.789993</td>\n",
       "      <td>134.339996</td>\n",
       "      <td>134.869995</td>\n",
       "      <td>132.360489</td>\n",
       "      <td>121047300</td>\n",
       "    </tr>\n",
       "  </tbody>\n",
       "</table>\n",
       "<p>2767 rows × 7 columns</p>\n",
       "</div>"
      ],
      "text/plain": [
       "           Date        Open        High         Low       Close  Adj. Close  \\\n",
       "0    2010-01-04    7.622500    7.660714    7.585000    7.643214    6.470741   \n",
       "1    2010-01-05    7.664286    7.699643    7.616071    7.656429    6.481928   \n",
       "2    2010-01-06    7.656429    7.686786    7.526786    7.534643    6.378826   \n",
       "3    2010-01-07    7.562500    7.571429    7.466071    7.520714    6.367033   \n",
       "4    2010-01-08    7.510714    7.571429    7.466429    7.570714    6.409364   \n",
       "...         ...         ...         ...         ...         ...         ...   \n",
       "2762 2020-12-22  131.610001  134.410004  129.649994  131.880005  129.426132   \n",
       "2763 2020-12-23  132.160004  132.429993  130.779999  130.960007  128.523270   \n",
       "2764 2020-12-24  131.320007  133.460007  131.100006  131.970001  129.514465   \n",
       "2765 2020-12-28  133.990005  137.339996  133.509995  136.690002  134.146637   \n",
       "2766 2020-12-29  138.050003  138.789993  134.339996  134.869995  132.360489   \n",
       "\n",
       "         Volume  \n",
       "0     493729600  \n",
       "1     601904800  \n",
       "2     552160000  \n",
       "3     477131200  \n",
       "4     447610800  \n",
       "...         ...  \n",
       "2762  168904800  \n",
       "2763   88223700  \n",
       "2764   54930100  \n",
       "2765  124486200  \n",
       "2766  121047300  \n",
       "\n",
       "[2767 rows x 7 columns]"
      ]
     },
     "execution_count": 3,
     "metadata": {},
     "output_type": "execute_result"
    }
   ],
   "source": [
    "file = './Database/Pre_Processed_AAPL.csv' #dữ liệu được tải về từ trang tradingview.com được niêm yết trên thị trường chứng khoán VN\n",
    "df = pd.read_csv(file,parse_dates=True,index_col=0)\n",
    "data = df.reset_index('Date') #đặt cột Date làm chỉ mục\n",
    "data"
   ]
  },
  {
   "cell_type": "markdown",
   "metadata": {},
   "source": [
    "# Lấy số lượng cột và hàng"
   ]
  },
  {
   "cell_type": "code",
   "execution_count": 4,
   "metadata": {},
   "outputs": [
    {
     "data": {
      "text/plain": [
       "(2767, 6)"
      ]
     },
     "execution_count": 4,
     "metadata": {},
     "output_type": "execute_result"
    }
   ],
   "source": [
    "df.shape"
   ]
  },
  {
   "cell_type": "markdown",
   "metadata": {},
   "source": [
    "# Vẽ biểu đồ từ dữ liệu"
   ]
  },
  {
   "cell_type": "code",
   "execution_count": 5,
   "metadata": {
    "colab": {
     "base_uri": "https://localhost:8080/",
     "height": 631
    },
    "colab_type": "code",
    "executionInfo": {
     "elapsed": 4266,
     "status": "ok",
     "timestamp": 1587444346625,
     "user": {
      "displayName": "Thenuja Shanthacumaran",
      "photoUrl": "https://lh3.googleusercontent.com/a-/AOh14GgwSc7uEqkv3sGGjky6eYr_T2HSXZ2VgNTu-LqYyg=s64",
      "userId": "06406019534418310581"
     },
     "user_tz": -330
    },
    "id": "RGmmHqq02R7b",
    "outputId": "468fe7f5-2aeb-43ea-c92f-d2bee02a5260",
    "scrolled": true
   },
   "outputs": [
    {
     "data": {
      "text/plain": [
       "<function matplotlib.pyplot.show(close=None, block=None)>"
      ]
     },
     "execution_count": 5,
     "metadata": {},
     "output_type": "execute_result"
    },
    {
     "data": {
      "image/png": "[encoded data removed]",
      "text/plain": [
       "<Figure size 1800x900 with 1 Axes>"
      ]
     },
     "metadata": {},
     "output_type": "display_data"
    }
   ],
   "source": [
    "#Đây là biểu đồ giá đóng cửa của data từ khoảng thời gian 1/4/2016 đến 10/1/2022\n",
    "mtlplt.figure(figsize=(18,9))\n",
    "mtlplt.title('Close price history data')\n",
    "mtlplt.plot(df['Close']) \n",
    "mtlplt.xlabel('Date', fontsize=20) #trục x biễu diễn cột Date\n",
    "mtlplt.ylabel('Close price in $(VND)',fontsize=20) #trục y biểu diễn giá đóng trong ngày\n",
    "mtlplt.show"
   ]
  },
  {
   "cell_type": "markdown",
   "metadata": {},
   "source": [
    "# Tiền xử lý tập dữ liệu"
   ]
  },
  {
   "cell_type": "code",
   "execution_count": 6,
   "metadata": {
    "colab": {
     "base_uri": "https://localhost:8080/",
     "height": 34
    },
    "colab_type": "code",
    "executionInfo": {
     "elapsed": 4238,
     "status": "ok",
     "timestamp": 1587444346626,
     "user": {
      "displayName": "Thenuja Shanthacumaran",
      "photoUrl": "https://lh3.googleusercontent.com/a-/AOh14GgwSc7uEqkv3sGGjky6eYr_T2HSXZ2VgNTu-LqYyg=s64",
      "userId": "06406019534418310581"
     },
     "user_tz": -330
    },
    "id": "WRHDMRdD3Adr",
    "outputId": "04d70988-5ff7-41de-d50d-a29afb5b1f5d"
   },
   "outputs": [
    {
     "data": {
      "text/plain": [
       "2214"
      ]
     },
     "execution_count": 6,
     "metadata": {},
     "output_type": "execute_result"
    }
   ],
   "source": [
    "#Tạo dataframe chỉ có cột giá đóng\n",
    "stock_close_data = df.filter(['Close'])\n",
    "\n",
    "#chuyển đổi dataframe đã tạo thành mảng numpy bằng hàm values\n",
    "stock_close_dataset = stock_close_data.values\n",
    "\n",
    "#chia dữ liệu thành tập train and test(train chiếm 80% data và test 20% còn lại của data)\n",
    "trainingDataLength = math.ceil( len(stock_close_dataset) * 0.8 )\n",
    "\n",
    "#hiển thị độ dài tập trai\n",
    "trainingDataLength"
   ]
  },
  {
   "cell_type": "code",
   "execution_count": 7,
   "metadata": {
    "colab": {
     "base_uri": "https://localhost:8080/",
     "height": 134
    },
    "colab_type": "code",
    "executionInfo": {
     "elapsed": 4231,
     "status": "ok",
     "timestamp": 1587444346627,
     "user": {
      "displayName": "Thenuja Shanthacumaran",
      "photoUrl": "https://lh3.googleusercontent.com/a-/AOh14GgwSc7uEqkv3sGGjky6eYr_T2HSXZ2VgNTu-LqYyg=s64",
      "userId": "06406019534418310581"
     },
     "user_tz": -330
    },
    "id": "1L_RNTDu3gd5",
    "outputId": "d09343e7-4de7-46f2-e3d8-27c3a8aacd62"
   },
   "outputs": [
    {
     "data": {
      "text/plain": [
       "(2767, 1)"
      ]
     },
     "execution_count": 7,
     "metadata": {},
     "output_type": "execute_result"
    }
   ],
   "source": [
    "#Scale dữ liệu về dạng 0,1 giúp model train nhanh hơn. \n",
    "#Lstm hoạt động tốt hơn khi các giá trị đầu vào được chia tỷ lệ thành phạm vi tiêu chuẩn\n",
    "scaler = MinMaxScaler(feature_range=(0,1))\n",
    "\n",
    "#tiến hành scale dữ liệu bằng fit.trainsform\n",
    "scaledData = scaler.fit_transform(stock_close_dataset)\n",
    "\n",
    "#hiển thị giá trị dữ liệu được chia\n",
    "scaledData.shape"
   ]
  },
  {
   "cell_type": "code",
   "execution_count": 8,
   "metadata": {
    "colab": {
     "base_uri": "https://localhost:8080/",
     "height": 672
    },
    "colab_type": "code",
    "executionInfo": {
     "elapsed": 4164,
     "status": "ok",
     "timestamp": 1587444346627,
     "user": {
      "displayName": "Thenuja Shanthacumaran",
      "photoUrl": "https://lh3.googleusercontent.com/a-/AOh14GgwSc7uEqkv3sGGjky6eYr_T2HSXZ2VgNTu-LqYyg=s64",
      "userId": "06406019534418310581"
     },
     "user_tz": -330
    },
    "id": "iWWqVFb_3-3n",
    "outputId": "37efd4ee-bda4-4f37-a85e-c3aefa097305"
   },
   "outputs": [
    {
     "name": "stdout",
     "output_type": "stream",
     "text": [
      "[array([6.04081172e-03, 6.14259466e-03, 5.20456312e-03, 5.09727473e-03,\n",
      "       5.48239202e-03, 4.96799391e-03, 4.31053849e-03, 5.11653096e-03,\n",
      "       4.78093337e-03, 3.81814383e-03, 6.32414607e-03, 5.41362711e-03,\n",
      "       4.40681598e-03, 1.56796704e-03, 3.03140758e-03, 3.82089472e-03,\n",
      "       4.35455641e-03, 1.99159311e-03, 2.74721599e-06, 7.37216551e-04,\n",
      "       1.04805980e-03, 1.97508777e-03, 0.00000000e+00, 9.38024188e-04,\n",
      "       5.69415920e-04, 1.13883918e-03, 8.44497594e-04, 1.82104159e-03,\n",
      "       2.29143648e-03, 3.12218696e-03, 2.88836864e-03, 2.99289512e-03,\n",
      "       2.64629029e-03, 2.30243636e-03, 1.37815928e-03, 2.36846140e-03,\n",
      "       2.73706968e-03, 3.45778456e-03, 4.65990155e-03, 4.62138909e-03,\n",
      "       4.75342080e-03, 5.13303631e-03, 7.39972212e-03, 7.43548369e-03,\n",
      "       8.51930873e-03, 9.01995606e-03, 9.20150747e-03, 9.50410540e-03,\n",
      "       8.74487805e-03, 8.91267502e-03, 8.82189931e-03, 8.96769282e-03,\n",
      "       8.30749385e-03, 8.99520173e-03, 9.98824739e-03, 1.02660836e-02,\n",
      "       9.51785617e-03, 1.06869662e-02, 1.10968304e-02, 1.20486164e-02])]\n",
      "[0.011814794430059165]\n",
      "\n",
      "[array([6.04081172e-03, 6.14259466e-03, 5.20456312e-03, 5.09727473e-03,\n",
      "       5.48239202e-03, 4.96799391e-03, 4.31053849e-03, 5.11653096e-03,\n",
      "       4.78093337e-03, 3.81814383e-03, 6.32414607e-03, 5.41362711e-03,\n",
      "       4.40681598e-03, 1.56796704e-03, 3.03140758e-03, 3.82089472e-03,\n",
      "       4.35455641e-03, 1.99159311e-03, 2.74721599e-06, 7.37216551e-04,\n",
      "       1.04805980e-03, 1.97508777e-03, 0.00000000e+00, 9.38024188e-04,\n",
      "       5.69415920e-04, 1.13883918e-03, 8.44497594e-04, 1.82104159e-03,\n",
      "       2.29143648e-03, 3.12218696e-03, 2.88836864e-03, 2.99289512e-03,\n",
      "       2.64629029e-03, 2.30243636e-03, 1.37815928e-03, 2.36846140e-03,\n",
      "       2.73706968e-03, 3.45778456e-03, 4.65990155e-03, 4.62138909e-03,\n",
      "       4.75342080e-03, 5.13303631e-03, 7.39972212e-03, 7.43548369e-03,\n",
      "       8.51930873e-03, 9.01995606e-03, 9.20150747e-03, 9.50410540e-03,\n",
      "       8.74487805e-03, 8.91267502e-03, 8.82189931e-03, 8.96769282e-03,\n",
      "       8.30749385e-03, 8.99520173e-03, 9.98824739e-03, 1.02660836e-02,\n",
      "       9.51785617e-03, 1.06869662e-02, 1.10968304e-02, 1.20486164e-02]), array([6.14259466e-03, 5.20456312e-03, 5.09727473e-03, 5.48239202e-03,\n",
      "       4.96799391e-03, 4.31053849e-03, 5.11653096e-03, 4.78093337e-03,\n",
      "       3.81814383e-03, 6.32414607e-03, 5.41362711e-03, 4.40681598e-03,\n",
      "       1.56796704e-03, 3.03140758e-03, 3.82089472e-03, 4.35455641e-03,\n",
      "       1.99159311e-03, 2.74721599e-06, 7.37216551e-04, 1.04805980e-03,\n",
      "       1.97508777e-03, 0.00000000e+00, 9.38024188e-04, 5.69415920e-04,\n",
      "       1.13883918e-03, 8.44497594e-04, 1.82104159e-03, 2.29143648e-03,\n",
      "       3.12218696e-03, 2.88836864e-03, 2.99289512e-03, 2.64629029e-03,\n",
      "       2.30243636e-03, 1.37815928e-03, 2.36846140e-03, 2.73706968e-03,\n",
      "       3.45778456e-03, 4.65990155e-03, 4.62138909e-03, 4.75342080e-03,\n",
      "       5.13303631e-03, 7.39972212e-03, 7.43548369e-03, 8.51930873e-03,\n",
      "       9.01995606e-03, 9.20150747e-03, 9.50410540e-03, 8.74487805e-03,\n",
      "       8.91267502e-03, 8.82189931e-03, 8.96769282e-03, 8.30749385e-03,\n",
      "       8.99520173e-03, 9.98824739e-03, 1.02660836e-02, 9.51785617e-03,\n",
      "       1.06869662e-02, 1.10968304e-02, 1.20486164e-02, 1.18147944e-02])]\n",
      "[0.011814794430059165, 0.012081627108359229]\n",
      "\n"
     ]
    }
   ],
   "source": [
    "#tạo tập dữ liệu mới chứa giá trị giá trị scale có kích thước từ 0 đến kích thươc dữ liệu 80% ở trên\n",
    "StockTrainData = scaledData[0:trainingDataLength , :]\n",
    "\n",
    "#tách dữ liệu thành 2 phần Xtrain và Ytrain\n",
    "Xtrain = []\n",
    "Ytrain = []\n",
    "#tiến hành tạo dữ lieu cho xtrain và ytrain bằng vòng lặp trong phạm vi từ 60 đến tổng kích thước dữ liệu huấn luyện\n",
    "#tạo dữ liệu với timestep=60 ngày, xem xét dữ liệu quá khứ để đoán ra ngày 61 \n",
    "for i in range(60, len(StockTrainData)):\n",
    "  Xtrain.append(StockTrainData[i-60:i, 0])\n",
    "  Ytrain.append(StockTrainData[i, 0])\n",
    "  if i<= 61:\n",
    "    print(Xtrain)\n",
    "    print(Ytrain)\n",
    "    print()"
   ]
  },
  {
   "cell_type": "code",
   "execution_count": 9,
   "metadata": {
    "colab": {},
    "colab_type": "code",
    "id": "DBf5XSfM5RZN"
   },
   "outputs": [],
   "source": [
    "#chuyển đổi dữ liệu Xtrain, dữ liệu Ytrain thành mảng numpy \n",
    "Xtrain = np.array(Xtrain)\n",
    "Ytrain = np.array(Ytrain)"
   ]
  },
  {
   "cell_type": "code",
   "execution_count": 10,
   "metadata": {
    "colab": {
     "base_uri": "https://localhost:8080/",
     "height": 34
    },
    "colab_type": "code",
    "executionInfo": {
     "elapsed": 4150,
     "status": "ok",
     "timestamp": 1587444346628,
     "user": {
      "displayName": "Thenuja Shanthacumaran",
      "photoUrl": "https://lh3.googleusercontent.com/a-/AOh14GgwSc7uEqkv3sGGjky6eYr_T2HSXZ2VgNTu-LqYyg=s64",
      "userId": "06406019534418310581"
     },
     "user_tz": -330
    },
    "id": "orKF9Ghv5a-E",
    "outputId": "f3361554-45b4-4561-f846-814ebf86db5e"
   },
   "outputs": [
    {
     "data": {
      "text/plain": [
       "(2154, 60, 1)"
      ]
     },
     "execution_count": 10,
     "metadata": {},
     "output_type": "execute_result"
    }
   ],
   "source": [
    "#định hình lại dữ liệu Xtrain cho phù hợp với dữ liệu đầu vào thành dạng 3D và 1 đối tượng đại diện giá đóng cửa\n",
    "Xtrain = np.reshape(Xtrain, (Xtrain.shape[0], Xtrain.shape[1], 1))\n",
    "Xtrain.shape"
   ]
  },
  {
   "cell_type": "markdown",
   "metadata": {},
   "source": [
    "# Tạo model và xây dựng mô hình LSTM"
   ]
  },
  {
   "cell_type": "code",
   "execution_count": 14,
   "metadata": {},
   "outputs": [],
   "source": [
    "# Libraries\n",
    "from tensorflow.keras import Sequential\n",
    "from tensorflow.keras.layers import Dropout, Dense, Activation, BatchNormalization\n",
    "from tensorflow.keras.callbacks import ModelCheckpoint"
   ]
  },
  {
   "cell_type": "code",
   "execution_count": 15,
   "metadata": {},
   "outputs": [],
   "source": [
    "# Parameters - please tweak them in later runs\n",
    "dropout_ratio = 0.23\n",
    "momentum = 0.99\n",
    "np.random.seed(42)\n",
    "neurons = 175\n",
    "act_1 = 'tanh'\n",
    "act_2 = 'softmax'"
   ]
  },
  {
   "cell_type": "code",
   "execution_count": 16,
   "metadata": {
    "colab": {},
    "colab_type": "code",
    "id": "RJHjLt6t52Ac"
   },
   "outputs": [
    {
     "name": "stdout",
     "output_type": "stream",
     "text": [
      "WARNING:tensorflow:From C:\\Users\\Win10\\anaconda3\\Lib\\site-packages\\keras\\src\\optimizers\\__init__.py:309: The name tf.train.Optimizer is deprecated. Please use tf.compat.v1.train.Optimizer instead.\n",
      "\n"
     ]
    }
   ],
   "source": [
    "#khởi tạo model\n",
    "model=Sequential()\n",
    "model.add(Dense(neurons, kernel_initializer='he_normal',input_shape=(5,), bias_initializer='zeros'))\n",
    "model.add(Activation(act_1))\n",
    "model.add(Dropout(dropout_ratio))\n",
    "\n",
    "model.add(Dense(neurons*2, use_bias=True, kernel_initializer='he_normal'\n",
    "               , bias_initializer='zeros'))\n",
    "model.add(Activation(act_1))\n",
    "model.add(Dropout(dropout_ratio))\n",
    "model.add(Dense(neurons*3, use_bias=True, kernel_initializer='he_normal'\n",
    "              , bias_initializer='zeros'))\n",
    "model.add(Activation(act_1))\n",
    "model.add(Dropout(dropout_ratio))\n",
    "model.add(Dense(neurons*4, use_bias=True, kernel_initializer='he_normal'\n",
    "             , bias_initializer='zeros'))\n",
    "model.add(Activation(act_1))\n",
    "model.add(Dropout(dropout_ratio))\n",
    "model.add(Dense(neurons*5, use_bias=True, kernel_initializer='he_normal'\n",
    "             , bias_initializer='zeros'))\n",
    "model.add(Activation(act_1))\n",
    "model.add(Dropout(dropout_ratio))\n",
    "\n",
    "model.add(Dense(1,activation='sigmoid'))\n",
    "model.compile(loss='binary_crossentropy', optimizer='adam', metrics = ['accuracy'])"
   ]
  },
  {
   "cell_type": "code",
   "execution_count": 17,
   "metadata": {
    "colab": {},
    "colab_type": "code",
    "id": "_yhADCRm6YEj"
   },
   "outputs": [],
   "source": [
    "#biên dịch model\n",
    "model.compile(optimizer='adam', loss='mse') "
   ]
  },
  {
   "cell_type": "code",
   "execution_count": 18,
   "metadata": {
    "colab": {
     "base_uri": "https://localhost:8080/",
     "height": 1000
    },
    "colab_type": "code",
    "executionInfo": {
     "elapsed": 413604,
     "status": "ok",
     "timestamp": 1587444756103,
     "user": {
      "displayName": "Thenuja Shanthacumaran",
      "photoUrl": "https://lh3.googleusercontent.com/a-/AOh14GgwSc7uEqkv3sGGjky6eYr_T2HSXZ2VgNTu-LqYyg=s64",
      "userId": "06406019534418310581"
     },
     "user_tz": -330
    },
    "id": "_2Qi1brn6i5L",
    "outputId": "79940508-d232-4e46-afe8-621c0ef5a7e7",
    "scrolled": false
   },
   "outputs": [
    {
     "name": "stdout",
     "output_type": "stream",
     "text": [
      "Epoch 1/200\n"
     ]
    },
    {
     "ename": "ValueError",
     "evalue": "in user code:\n\n    File \"C:\\Users\\Win10\\anaconda3\\Lib\\site-packages\\keras\\src\\engine\\training.py\", line 1401, in train_function  *\n        return step_function(self, iterator)\n    File \"C:\\Users\\Win10\\anaconda3\\Lib\\site-packages\\keras\\src\\engine\\training.py\", line 1384, in step_function  **\n        outputs = model.distribute_strategy.run(run_step, args=(data,))\n    File \"C:\\Users\\Win10\\anaconda3\\Lib\\site-packages\\keras\\src\\engine\\training.py\", line 1373, in run_step  **\n        outputs = model.train_step(data)\n    File \"C:\\Users\\Win10\\anaconda3\\Lib\\site-packages\\keras\\src\\engine\\training.py\", line 1150, in train_step\n        y_pred = self(x, training=True)\n    File \"C:\\Users\\Win10\\anaconda3\\Lib\\site-packages\\keras\\src\\utils\\traceback_utils.py\", line 70, in error_handler\n        raise e.with_traceback(filtered_tb) from None\n    File \"C:\\Users\\Win10\\anaconda3\\Lib\\site-packages\\keras\\src\\engine\\input_spec.py\", line 298, in assert_input_compatibility\n        raise ValueError(\n\n    ValueError: Input 0 of layer \"sequential_2\" is incompatible with the layer: expected shape=(None, 5), found shape=(None, 60, 1)\n",
     "output_type": "error",
     "traceback": [
      "\u001b[1;31m---------------------------------------------------------------------------\u001b[0m",
      "\u001b[1;31mValueError\u001b[0m                                Traceback (most recent call last)",
      "Cell \u001b[1;32mIn[18], line 2\u001b[0m\n\u001b[0;32m      1\u001b[0m \u001b[38;5;66;03m#đào tạo với tập Xtrain, Ytrain đã cho\u001b[39;00m\n\u001b[1;32m----> 2\u001b[0m history_data \u001b[38;5;241m=\u001b[39m model\u001b[38;5;241m.\u001b[39mfit(Xtrain, Ytrain, batch_size\u001b[38;5;241m=\u001b[39m\u001b[38;5;241m50\u001b[39m, epochs\u001b[38;5;241m=\u001b[39m\u001b[38;5;241m200\u001b[39m, verbose\u001b[38;5;241m=\u001b[39m\u001b[38;5;241m2\u001b[39m)\n",
      "File \u001b[1;32m~\\anaconda3\\Lib\\site-packages\\keras\\src\\utils\\traceback_utils.py:70\u001b[0m, in \u001b[0;36mfilter_traceback.<locals>.error_handler\u001b[1;34m(*args, **kwargs)\u001b[0m\n\u001b[0;32m     67\u001b[0m     filtered_tb \u001b[38;5;241m=\u001b[39m _process_traceback_frames(e\u001b[38;5;241m.\u001b[39m__traceback__)\n\u001b[0;32m     68\u001b[0m     \u001b[38;5;66;03m# To get the full stack trace, call:\u001b[39;00m\n\u001b[0;32m     69\u001b[0m     \u001b[38;5;66;03m# `tf.debugging.disable_traceback_filtering()`\u001b[39;00m\n\u001b[1;32m---> 70\u001b[0m     \u001b[38;5;28;01mraise\u001b[39;00m e\u001b[38;5;241m.\u001b[39mwith_traceback(filtered_tb) \u001b[38;5;28;01mfrom\u001b[39;00m \u001b[38;5;28;01mNone\u001b[39;00m\n\u001b[0;32m     71\u001b[0m \u001b[38;5;28;01mfinally\u001b[39;00m:\n\u001b[0;32m     72\u001b[0m     \u001b[38;5;28;01mdel\u001b[39;00m filtered_tb\n",
      "File \u001b[1;32m~\\AppData\\Local\\Temp\\__autograph_generated_fileln_p4kyd.py:15\u001b[0m, in \u001b[0;36mouter_factory.<locals>.inner_factory.<locals>.tf__train_function\u001b[1;34m(iterator)\u001b[0m\n\u001b[0;32m     13\u001b[0m \u001b[38;5;28;01mtry\u001b[39;00m:\n\u001b[0;32m     14\u001b[0m     do_return \u001b[38;5;241m=\u001b[39m \u001b[38;5;28;01mTrue\u001b[39;00m\n\u001b[1;32m---> 15\u001b[0m     retval_ \u001b[38;5;241m=\u001b[39m ag__\u001b[38;5;241m.\u001b[39mconverted_call(ag__\u001b[38;5;241m.\u001b[39mld(step_function), (ag__\u001b[38;5;241m.\u001b[39mld(\u001b[38;5;28mself\u001b[39m), ag__\u001b[38;5;241m.\u001b[39mld(iterator)), \u001b[38;5;28;01mNone\u001b[39;00m, fscope)\n\u001b[0;32m     16\u001b[0m \u001b[38;5;28;01mexcept\u001b[39;00m:\n\u001b[0;32m     17\u001b[0m     do_return \u001b[38;5;241m=\u001b[39m \u001b[38;5;28;01mFalse\u001b[39;00m\n",
      "\u001b[1;31mValueError\u001b[0m: in user code:\n\n    File \"C:\\Users\\Win10\\anaconda3\\Lib\\site-packages\\keras\\src\\engine\\training.py\", line 1401, in train_function  *\n        return step_function(self, iterator)\n    File \"C:\\Users\\Win10\\anaconda3\\Lib\\site-packages\\keras\\src\\engine\\training.py\", line 1384, in step_function  **\n        outputs = model.distribute_strategy.run(run_step, args=(data,))\n    File \"C:\\Users\\Win10\\anaconda3\\Lib\\site-packages\\keras\\src\\engine\\training.py\", line 1373, in run_step  **\n        outputs = model.train_step(data)\n    File \"C:\\Users\\Win10\\anaconda3\\Lib\\site-packages\\keras\\src\\engine\\training.py\", line 1150, in train_step\n        y_pred = self(x, training=True)\n    File \"C:\\Users\\Win10\\anaconda3\\Lib\\site-packages\\keras\\src\\utils\\traceback_utils.py\", line 70, in error_handler\n        raise e.with_traceback(filtered_tb) from None\n    File \"C:\\Users\\Win10\\anaconda3\\Lib\\site-packages\\keras\\src\\engine\\input_spec.py\", line 298, in assert_input_compatibility\n        raise ValueError(\n\n    ValueError: Input 0 of layer \"sequential_2\" is incompatible with the layer: expected shape=(None, 5), found shape=(None, 60, 1)\n"
     ]
    }
   ],
   "source": [
    "#đào tạo với tập Xtrain, Ytrain đã cho\n",
    "history_data = model.fit(Xtrain, Ytrain, batch_size=50, epochs=200, verbose=2) "
   ]
  },
  {
   "cell_type": "markdown",
   "metadata": {},
   "source": [
    "# Xây dựng tập thử nghiệm test"
   ]
  },
  {
   "cell_type": "code",
   "execution_count": 64,
   "metadata": {
    "colab": {},
    "colab_type": "code",
    "id": "iiui_Nn97Wk9"
   },
   "outputs": [],
   "source": [
    "#tạo tập dữ liệu test với timestep=60 ngày tương tự như tập train\n",
    "testingData = scaledData[trainingDataLength - 60: , :]\n",
    "\n",
    "#tạo tập Xtest và Ytest\n",
    "Xtest = []\n",
    "Ytest = stock_close_dataset[trainingDataLength:, :]\n",
    "for i in range(60, len(testingData)):\n",
    "  Xtest.append(testingData[i-60:i, 0])"
   ]
  },
  {
   "cell_type": "code",
   "execution_count": 65,
   "metadata": {
    "colab": {
     "base_uri": "https://localhost:8080/",
     "height": 235
    },
    "colab_type": "code",
    "executionInfo": {
     "elapsed": 413574,
     "status": "ok",
     "timestamp": 1587444756107,
     "user": {
      "displayName": "Thenuja Shanthacumaran",
      "photoUrl": "https://lh3.googleusercontent.com/a-/AOh14GgwSc7uEqkv3sGGjky6eYr_T2HSXZ2VgNTu-LqYyg=s64",
      "userId": "06406019534418310581"
     },
     "user_tz": -330
    },
    "id": "1BjgzNH28HWp",
    "outputId": "3370cb9a-0092-4d10-cb38-2995f1524876"
   },
   "outputs": [
    {
     "data": {
      "text/plain": [
       "array([[0.32231169, 0.32113709, 0.31491744, ..., 0.36571423, 0.37493774,\n",
       "        0.3730892 ],\n",
       "       [0.32113709, 0.31491744, 0.31285709, ..., 0.37493774, 0.3730892 ,\n",
       "        0.36313396],\n",
       "       [0.31491744, 0.31285709, 0.31358879, ..., 0.3730892 , 0.36313396,\n",
       "        0.3694691 ],\n",
       "       ...,\n",
       "       [0.8391756 , 0.84672389, 0.81768613, ..., 0.93483835, 0.96295188,\n",
       "        0.95586576],\n",
       "       [0.84672389, 0.81768613, 0.84449021, ..., 0.96295188, 0.95586576,\n",
       "        0.96364506],\n",
       "       [0.81768613, 0.84449021, 0.81876451, ..., 0.95586576, 0.96364506,\n",
       "        1.        ]])"
      ]
     },
     "execution_count": 65,
     "metadata": {},
     "output_type": "execute_result"
    }
   ],
   "source": [
    "#chuyển dữ liệu Xtest thành mảng numpy\n",
    "Xtest = np.array(Xtest)\n",
    "Xtest"
   ]
  },
  {
   "cell_type": "code",
   "execution_count": 66,
   "metadata": {
    "colab": {},
    "colab_type": "code",
    "id": "kMV34hpZ8Qlj"
   },
   "outputs": [],
   "source": [
    "#Reshape dữ liệu \n",
    "Xtest = np.reshape(Xtest, (Xtest.shape[0], Xtest.shape[1], 1 ))"
   ]
  },
  {
   "cell_type": "code",
   "execution_count": 67,
   "metadata": {
    "colab": {
     "base_uri": "https://localhost:8080/",
     "height": 1000
    },
    "colab_type": "code",
    "executionInfo": {
     "elapsed": 413553,
     "status": "ok",
     "timestamp": 1587444756108,
     "user": {
      "displayName": "Thenuja Shanthacumaran",
      "photoUrl": "https://lh3.googleusercontent.com/a-/AOh14GgwSc7uEqkv3sGGjky6eYr_T2HSXZ2VgNTu-LqYyg=s64",
      "userId": "06406019534418310581"
     },
     "user_tz": -330
    },
    "id": "M2MrVjoK8oXD",
    "outputId": "8f7fc2a7-02b7-4901-a124-07bcb1bf5d60",
    "scrolled": true
   },
   "outputs": [
    {
     "name": "stdout",
     "output_type": "stream",
     "text": [
      "18/18 [==============================] - 1s 10ms/step\n"
     ]
    },
    {
     "data": {
      "text/plain": [
       "array([[ 54.265938],\n",
       "       [ 52.974075],\n",
       "       [ 54.03004 ],\n",
       "       [ 54.202156],\n",
       "       [ 54.79598 ],\n",
       "       [ 52.598057],\n",
       "       [ 54.220425],\n",
       "       [ 52.94393 ],\n",
       "       [ 52.08271 ],\n",
       "       [ 52.453674],\n",
       "       [ 53.919327],\n",
       "       [ 54.675045],\n",
       "       [ 50.558193],\n",
       "       [ 49.538395],\n",
       "       [ 50.119076],\n",
       "       [ 51.7474  ],\n",
       "       [ 51.208694],\n",
       "       [ 50.254612],\n",
       "       [ 47.549206],\n",
       "       [ 47.34027 ],\n",
       "       [ 45.827698],\n",
       "       [ 47.29051 ],\n",
       "       [ 47.675426],\n",
       "       [ 45.659496],\n",
       "       [ 43.537807],\n",
       "       [ 43.639652],\n",
       "       [ 42.381176],\n",
       "       [ 43.171352],\n",
       "       [ 42.9677  ],\n",
       "       [ 44.809937],\n",
       "       [ 44.24535 ],\n",
       "       [ 44.099712],\n",
       "       [ 45.706673],\n",
       "       [ 43.34906 ],\n",
       "       [ 43.117485],\n",
       "       [ 41.381332],\n",
       "       [ 41.849884],\n",
       "       [ 41.50124 ],\n",
       "       [ 41.71019 ],\n",
       "       [ 42.178356],\n",
       "       [ 40.720596],\n",
       "       [ 40.474037],\n",
       "       [ 40.98675 ],\n",
       "       [ 39.59333 ],\n",
       "       [ 38.69534 ],\n",
       "       [ 37.14316 ],\n",
       "       [ 36.251106],\n",
       "       [ 38.928837],\n",
       "       [ 38.463562],\n",
       "       [ 38.653786],\n",
       "       [ 38.985332],\n",
       "       [ 38.993156],\n",
       "       [ 34.948772],\n",
       "       [ 36.797745],\n",
       "       [ 36.39868 ],\n",
       "       [ 37.268444],\n",
       "       [ 37.853325],\n",
       "       [ 37.974686],\n",
       "       [ 37.58824 ],\n",
       "       [ 37.01505 ],\n",
       "       [ 37.81136 ],\n",
       "       [ 38.20241 ],\n",
       "       [ 38.444584],\n",
       "       [ 38.679825],\n",
       "       [ 37.75289 ],\n",
       "       [ 37.982967],\n",
       "       [ 37.605427],\n",
       "       [ 38.9516  ],\n",
       "       [ 38.461258],\n",
       "       [ 38.143177],\n",
       "       [ 40.8631  ],\n",
       "       [ 40.939583],\n",
       "       [ 41.05682 ],\n",
       "       [ 42.2451  ],\n",
       "       [ 42.881207],\n",
       "       [ 42.862507],\n",
       "       [ 41.99506 ],\n",
       "       [ 41.91681 ],\n",
       "       [ 41.62695 ],\n",
       "       [ 42.04758 ],\n",
       "       [ 41.827938],\n",
       "       [ 42.04558 ],\n",
       "       [ 41.92643 ],\n",
       "       [ 42.08941 ],\n",
       "       [ 42.362823],\n",
       "       [ 42.093464],\n",
       "       [ 42.631874],\n",
       "       [ 42.898632],\n",
       "       [ 42.92034 ],\n",
       "       [ 43.06375 ],\n",
       "       [ 42.589718],\n",
       "       [ 43.115604],\n",
       "       [ 43.27483 ],\n",
       "       [ 43.199245],\n",
       "       [ 42.944157],\n",
       "       [ 42.431973],\n",
       "       [ 42.581738],\n",
       "       [ 44.131382],\n",
       "       [ 44.527695],\n",
       "       [ 44.758564],\n",
       "       [ 45.26241 ],\n",
       "       [ 45.82954 ],\n",
       "       [ 46.273746],\n",
       "       [ 45.828762],\n",
       "       [ 46.309494],\n",
       "       [ 48.07847 ],\n",
       "       [ 46.810154],\n",
       "       [ 46.392666],\n",
       "       [ 45.85153 ],\n",
       "       [ 46.353962],\n",
       "       [ 46.363373],\n",
       "       [ 46.73214 ],\n",
       "       [ 47.046154],\n",
       "       [ 47.77384 ],\n",
       "       [ 48.055   ],\n",
       "       [ 48.12939 ],\n",
       "       [ 48.46565 ],\n",
       "       [ 49.248318],\n",
       "       [ 48.99183 ],\n",
       "       [ 49.340805],\n",
       "       [ 48.821247],\n",
       "       [ 48.871143],\n",
       "       [ 48.942184],\n",
       "       [ 48.949635],\n",
       "       [ 50.009945],\n",
       "       [ 50.082035],\n",
       "       [ 50.291542],\n",
       "       [ 51.054565],\n",
       "       [ 50.863956],\n",
       "       [ 50.39086 ],\n",
       "       [ 50.16483 ],\n",
       "       [ 50.259686],\n",
       "       [ 49.17956 ],\n",
       "       [ 52.012623],\n",
       "       [ 51.250572],\n",
       "       [ 52.16675 ],\n",
       "       [ 51.097263],\n",
       "       [ 49.724976],\n",
       "       [ 49.869312],\n",
       "       [ 49.225266],\n",
       "       [ 48.388077],\n",
       "       [ 45.409084],\n",
       "       [ 46.56584 ],\n",
       "       [ 46.96792 ],\n",
       "       [ 46.801334],\n",
       "       [ 46.56819 ],\n",
       "       [ 45.00884 ],\n",
       "       [ 46.11176 ],\n",
       "       [ 44.91265 ],\n",
       "       [ 44.27162 ],\n",
       "       [ 44.110134],\n",
       "       [ 43.916985],\n",
       "       [ 43.71991 ],\n",
       "       [ 43.984753],\n",
       "       [ 43.100006],\n",
       "       [ 42.73488 ],\n",
       "       [ 44.405804],\n",
       "       [ 44.997437],\n",
       "       [ 45.710396],\n",
       "       [ 46.94064 ],\n",
       "       [ 47.445835],\n",
       "       [ 47.98956 ],\n",
       "       [ 47.73151 ],\n",
       "       [ 47.73166 ],\n",
       "       [ 47.31598 ],\n",
       "       [ 47.665054],\n",
       "       [ 48.837673],\n",
       "       [ 48.56443 ],\n",
       "       [ 49.069576],\n",
       "       [ 48.802647],\n",
       "       [ 48.794697],\n",
       "       [ 47.969185],\n",
       "       [ 49.215923],\n",
       "       [ 49.027184],\n",
       "       [ 48.61728 ],\n",
       "       [ 49.63894 ],\n",
       "       [ 49.817844],\n",
       "       [ 50.289253],\n",
       "       [ 50.17465 ],\n",
       "       [ 49.05045 ],\n",
       "       [ 49.509163],\n",
       "       [ 49.951515],\n",
       "       [ 49.526936],\n",
       "       [ 50.023327],\n",
       "       [ 50.463593],\n",
       "       [ 50.234535],\n",
       "       [ 49.961388],\n",
       "       [ 50.607662],\n",
       "       [ 49.679413],\n",
       "       [ 51.082645],\n",
       "       [ 51.308094],\n",
       "       [ 51.284096],\n",
       "       [ 50.829063],\n",
       "       [ 51.070305],\n",
       "       [ 51.546318],\n",
       "       [ 51.249386],\n",
       "       [ 52.46815 ],\n",
       "       [ 51.028698],\n",
       "       [ 50.058804],\n",
       "       [ 47.23125 ],\n",
       "       [ 48.57545 ],\n",
       "       [ 48.900955],\n",
       "       [ 50.16147 ],\n",
       "       [ 49.37603 ],\n",
       "       [ 49.377235],\n",
       "       [ 51.631226],\n",
       "       [ 49.64253 ],\n",
       "       [ 49.68665 ],\n",
       "       [ 50.86921 ],\n",
       "       [ 51.76793 ],\n",
       "       [ 51.691273],\n",
       "       [ 52.331573],\n",
       "       [ 52.16448 ],\n",
       "       [ 49.506897],\n",
       "       [ 50.89406 ],\n",
       "       [ 49.991367],\n",
       "       [ 50.571777],\n",
       "       [ 51.430145],\n",
       "       [ 51.281883],\n",
       "       [ 50.501614],\n",
       "       [ 51.538067],\n",
       "       [ 52.485794],\n",
       "       [ 52.390144],\n",
       "       [ 52.666355],\n",
       "       [ 53.29246 ],\n",
       "       [ 55.090733],\n",
       "       [ 54.701347],\n",
       "       [ 53.588707],\n",
       "       [ 54.015903],\n",
       "       [ 54.126797],\n",
       "       [ 54.709118],\n",
       "       [ 54.13698 ],\n",
       "       [ 53.352634],\n",
       "       [ 53.72233 ],\n",
       "       [ 53.372227],\n",
       "       [ 54.380985],\n",
       "       [ 53.923695],\n",
       "       [ 53.735096],\n",
       "       [ 55.161427],\n",
       "       [ 55.120365],\n",
       "       [ 53.610973],\n",
       "       [ 54.323696],\n",
       "       [ 55.87424 ],\n",
       "       [ 55.697987],\n",
       "       [ 55.028988],\n",
       "       [ 55.826008],\n",
       "       [ 56.52197 ],\n",
       "       [ 58.142883],\n",
       "       [ 57.805634],\n",
       "       [ 57.723804],\n",
       "       [ 57.421993],\n",
       "       [ 57.703716],\n",
       "       [ 57.963856],\n",
       "       [ 59.08493 ],\n",
       "       [ 58.762043],\n",
       "       [ 59.74405 ],\n",
       "       [ 59.669807],\n",
       "       [ 60.54278 ],\n",
       "       [ 61.073315],\n",
       "       [ 59.371433],\n",
       "       [ 59.647194],\n",
       "       [ 61.094624],\n",
       "       [ 62.87702 ],\n",
       "       [ 63.095177],\n",
       "       [ 62.96991 ],\n",
       "       [ 62.980362],\n",
       "       [ 63.56488 ],\n",
       "       [ 63.64989 ],\n",
       "       [ 64.23116 ],\n",
       "       [ 64.052826],\n",
       "       [ 64.811226],\n",
       "       [ 64.13991 ],\n",
       "       [ 65.17235 ],\n",
       "       [ 65.34449 ],\n",
       "       [ 65.111664],\n",
       "       [ 64.2645  ],\n",
       "       [ 64.07659 ],\n",
       "       [ 64.036736],\n",
       "       [ 65.37795 ],\n",
       "       [ 64.55916 ],\n",
       "       [ 65.768074],\n",
       "       [ 65.34162 ],\n",
       "       [ 64.56256 ],\n",
       "       [ 63.33588 ],\n",
       "       [ 64.200806],\n",
       "       [ 65.13219 ],\n",
       "       [ 66.48139 ],\n",
       "       [ 65.16689 ],\n",
       "       [ 65.866   ],\n",
       "       [ 66.32383 ],\n",
       "       [ 66.445335],\n",
       "       [ 67.47723 ],\n",
       "       [ 68.617645],\n",
       "       [ 68.55754 ],\n",
       "       [ 68.36525 ],\n",
       "       [ 68.44295 ],\n",
       "       [ 68.23707 ],\n",
       "       [ 69.59384 ],\n",
       "       [ 69.40208 ],\n",
       "       [ 71.10314 ],\n",
       "       [ 70.705315],\n",
       "       [ 71.30227 ],\n",
       "       [ 71.75528 ],\n",
       "       [ 73.60336 ],\n",
       "       [ 72.35545 ],\n",
       "       [ 73.31893 ],\n",
       "       [ 72.643074],\n",
       "       [ 74.204926],\n",
       "       [ 75.73437 ],\n",
       "       [ 75.63728 ],\n",
       "       [ 77.595055],\n",
       "       [ 75.85548 ],\n",
       "       [ 75.85132 ],\n",
       "       [ 76.93397 ],\n",
       "       [ 77.73397 ],\n",
       "       [ 76.95008 ],\n",
       "       [ 77.46702 ],\n",
       "       [ 77.77816 ],\n",
       "       [ 77.455   ],\n",
       "       [ 74.778755],\n",
       "       [ 77.96752 ],\n",
       "       [ 79.19261 ],\n",
       "       [ 78.87109 ],\n",
       "       [ 74.690094],\n",
       "       [ 75.36476 ],\n",
       "       [ 78.15224 ],\n",
       "       [ 78.38426 ],\n",
       "       [ 79.50821 ],\n",
       "       [ 77.67731 ],\n",
       "       [ 78.522804],\n",
       "       [ 77.68944 ],\n",
       "       [ 80.144875],\n",
       "       [ 78.8733  ],\n",
       "       [ 79.23018 ],\n",
       "       [ 77.33427 ],\n",
       "       [ 79.152176],\n",
       "       [ 77.73244 ],\n",
       "       [ 75.985794],\n",
       "       [ 71.98969 ],\n",
       "       [ 69.95425 ],\n",
       "       [ 71.76199 ],\n",
       "       [ 65.89696 ],\n",
       "       [ 67.253174],\n",
       "       [ 74.29547 ],\n",
       "       [ 70.25453 ],\n",
       "       [ 75.117226],\n",
       "       [ 71.02021 ],\n",
       "       [ 70.77694 ],\n",
       "       [ 63.999542],\n",
       "       [ 70.93965 ],\n",
       "       [ 66.58916 ],\n",
       "       [ 59.891823],\n",
       "       [ 69.60322 ],\n",
       "       [ 57.437027],\n",
       "       [ 63.126213],\n",
       "       [ 59.995255],\n",
       "       [ 60.292366],\n",
       "       [ 55.783295],\n",
       "       [ 55.229343],\n",
       "       [ 61.51207 ],\n",
       "       [ 60.193123],\n",
       "       [ 64.23273 ],\n",
       "       [ 60.375374],\n",
       "       [ 63.05017 ],\n",
       "       [ 62.22283 ],\n",
       "       [ 58.617855],\n",
       "       [ 60.311134],\n",
       "       [ 58.929916],\n",
       "       [ 65.207794],\n",
       "       [ 63.263264],\n",
       "       [ 65.63916 ],\n",
       "       [ 65.60956 ],\n",
       "       [ 67.11403 ],\n",
       "       [ 70.71412 ],\n",
       "       [ 69.24761 ],\n",
       "       [ 70.18693 ],\n",
       "       [ 68.75021 ],\n",
       "       [ 67.33516 ],\n",
       "       [ 65.11685 ],\n",
       "       [ 67.79525 ],\n",
       "       [ 67.00056 ],\n",
       "       [ 69.58954 ],\n",
       "       [ 69.13972 ],\n",
       "       [ 67.96016 ],\n",
       "       [ 70.78851 ],\n",
       "       [ 71.93918 ],\n",
       "       [ 70.383064],\n",
       "       [ 71.856705],\n",
       "       [ 72.75002 ],\n",
       "       [ 73.47566 ],\n",
       "       [ 74.215385],\n",
       "       [ 75.89794 ],\n",
       "       [ 76.9357  ],\n",
       "       [ 75.63632 ],\n",
       "       [ 74.785484],\n",
       "       [ 75.47381 ],\n",
       "       [ 74.79069 ],\n",
       "       [ 77.122925],\n",
       "       [ 76.084114],\n",
       "       [ 78.16402 ],\n",
       "       [ 76.956184],\n",
       "       [ 77.857605],\n",
       "       [ 76.96784 ],\n",
       "       [ 77.59491 ],\n",
       "       [ 77.47789 ],\n",
       "       [ 77.439835],\n",
       "       [ 78.60573 ],\n",
       "       [ 78.784065],\n",
       "       [ 79.2851  ],\n",
       "       [ 78.3218  ],\n",
       "       [ 81.246506],\n",
       "       [ 81.11377 ],\n",
       "       [ 84.28928 ],\n",
       "       [ 86.08711 ],\n",
       "       [ 80.57598 ],\n",
       "       [ 82.72938 ],\n",
       "       [ 83.32684 ],\n",
       "       [ 85.98454 ],\n",
       "       [ 85.20486 ],\n",
       "       [ 85.45212 ],\n",
       "       [ 84.729744],\n",
       "       [ 87.63359 ],\n",
       "       [ 89.17863 ],\n",
       "       [ 86.86758 ],\n",
       "       [ 88.852165],\n",
       "       [ 84.903465],\n",
       "       [ 88.41444 ],\n",
       "       [ 88.389244],\n",
       "       [ 88.28674 ],\n",
       "       [ 88.296776],\n",
       "       [ 91.20285 ],\n",
       "       [ 90.08528 ],\n",
       "       [ 92.98652 ],\n",
       "       [ 92.630585],\n",
       "       [ 92.90592 ],\n",
       "       [ 92.224106],\n",
       "       [ 94.28671 ],\n",
       "       [ 94.51477 ],\n",
       "       [ 93.013725],\n",
       "       [ 93.17073 ],\n",
       "       [ 95.571754],\n",
       "       [ 93.30298 ],\n",
       "       [ 94.29422 ],\n",
       "       [ 88.62078 ],\n",
       "       [ 89.98142 ],\n",
       "       [ 92.28835 ],\n",
       "       [ 89.935814],\n",
       "       [ 92.80072 ],\n",
       "       [ 93.38103 ],\n",
       "       [105.29806 ],\n",
       "       [105.133514],\n",
       "       [105.84239 ],\n",
       "       [105.72665 ],\n",
       "       [110.155396],\n",
       "       [105.30332 ],\n",
       "       [108.69039 ],\n",
       "       [103.51222 ],\n",
       "       [109.64627 ],\n",
       "       [110.26403 ],\n",
       "       [110.04016 ],\n",
       "       [109.69699 ],\n",
       "       [110.94443 ],\n",
       "       [110.73706 ],\n",
       "       [113.945274],\n",
       "       [120.29153 ],\n",
       "       [119.99149 ],\n",
       "       [118.628494],\n",
       "       [120.93179 ],\n",
       "       [118.24574 ],\n",
       "       [118.89087 ],\n",
       "       [123.86782 ],\n",
       "       [128.48175 ],\n",
       "       [123.47924 ],\n",
       "       [112.043724],\n",
       "       [116.147606],\n",
       "       [104.920685],\n",
       "       [114.72551 ],\n",
       "       [107.10567 ],\n",
       "       [108.038925],\n",
       "       [111.92935 ],\n",
       "       [111.0163  ],\n",
       "       [107.07653 ],\n",
       "       [106.031975],\n",
       "       [102.027626],\n",
       "       [107.348885],\n",
       "       [107.903824],\n",
       "       [102.020996],\n",
       "       [105.11769 ],\n",
       "       [109.07307 ],\n",
       "       [111.1474  ],\n",
       "       [109.32439 ],\n",
       "       [111.79263 ],\n",
       "       [112.053185],\n",
       "       [107.27002 ],\n",
       "       [112.97505 ],\n",
       "       [107.084526],\n",
       "       [111.3786  ],\n",
       "       [109.88545 ],\n",
       "       [112.867004],\n",
       "       [120.883995],\n",
       "       [114.24382 ],\n",
       "       [116.31188 ],\n",
       "       [114.882034],\n",
       "       [113.296745],\n",
       "       [110.117096],\n",
       "       [113.15456 ],\n",
       "       [111.534935],\n",
       "       [110.808525],\n",
       "       [110.21727 ],\n",
       "       [110.484245],\n",
       "       [112.35117 ],\n",
       "       [105.130875],\n",
       "       [112.509605],\n",
       "       [102.23714 ],\n",
       "       [105.5125  ],\n",
       "       [106.54848 ],\n",
       "       [111.885925],\n",
       "       [115.163635],\n",
       "       [113.56235 ],\n",
       "       [110.91636 ],\n",
       "       [111.144424],\n",
       "       [115.32337 ],\n",
       "       [113.67102 ],\n",
       "       [114.23472 ],\n",
       "       [115.257126],\n",
       "       [113.800415],\n",
       "       [112.6007  ],\n",
       "       [113.759575],\n",
       "       [111.85341 ],\n",
       "       [108.24671 ],\n",
       "       [111.117226],\n",
       "       [111.37147 ],\n",
       "       [112.07429 ],\n",
       "       [114.838264],\n",
       "       [118.3551  ],\n",
       "       [117.533554],\n",
       "       [117.43828 ],\n",
       "       [116.46309 ],\n",
       "       [118.55249 ],\n",
       "       [118.623055],\n",
       "       [115.41066 ],\n",
       "       [118.26855 ],\n",
       "       [116.35607 ],\n",
       "       [116.28732 ],\n",
       "       [123.76934 ],\n",
       "       [121.22967 ],\n",
       "       [123.03693 ],\n",
       "       [119.775375],\n",
       "       [122.74005 ],\n",
       "       [126.17608 ],\n",
       "       [123.88241 ],\n",
       "       [125.80068 ],\n",
       "       [130.79358 ]], dtype=float32)"
      ]
     },
     "execution_count": 67,
     "metadata": {},
     "output_type": "execute_result"
    }
   ],
   "source": [
    "#Chuyển đổi về dạng giá thông thường mà ta đọc được \n",
    "predictions = model.predict(Xtest)\n",
    "predictions = scaler.inverse_transform(predictions)\n",
    "predictions"
   ]
  },
  {
   "cell_type": "code",
   "execution_count": 68,
   "metadata": {
    "colab": {
     "base_uri": "https://localhost:8080/",
     "height": 633
    },
    "colab_type": "code",
    "executionInfo": {
     "elapsed": 414608,
     "status": "ok",
     "timestamp": 1587444757182,
     "user": {
      "displayName": "Thenuja Shanthacumaran",
      "photoUrl": "https://lh3.googleusercontent.com/a-/AOh14GgwSc7uEqkv3sGGjky6eYr_T2HSXZ2VgNTu-LqYyg=s64",
      "userId": "06406019534418310581"
     },
     "user_tz": -330
    },
    "id": "FdI9uOr69oGs",
    "outputId": "cdfc8799-b8bc-4a43-dc44-aa95c215c55c"
   },
   "outputs": [
    {
     "data": {
      "image/png": "[encoded data removed]",
      "text/plain": [
       "<Figure size 1284x781 with 1 Axes>"
      ]
     },
     "metadata": {},
     "output_type": "display_data"
    }
   ],
   "source": [
    "#vẽ biểu đồ để biễu diễn dự đoán \n",
    "#chia tệp data thành tập train và reality sau đó xây dựng tệp predictions để so sánh \n",
    "training = stock_close_data[:trainingDataLength]\n",
    "reality= stock_close_data[trainingDataLength:]\n",
    "reality['Predictions'] = predictions\n",
    "\n",
    "root = tkinter.Tk()\n",
    "fig = mtlplt.figure(figsize=(20,10))\n",
    "mtlplt.title('AAPL')\n",
    "mtlplt.xlabel('Date', fontsize=20)\n",
    "mtlplt.ylabel('Close Stock Price $ (VND)', fontsize=20)\n",
    "mtlplt.plot(training['Close'])\n",
    "mtlplt.plot(reality[['Close', 'Predictions']])\n",
    "mtlplt.legend(['Training', 'Reality', 'Predictions'], loc='lower right')\n",
    "canvas = FigureCanvasTkAgg(fig, master=root) \n",
    "canvas.get_tk_widget().pack(side=tkinter.TOP, fill=tkinter.BOTH, expand=1)\n",
    "\n",
    "toolbar = NavigationToolbar2Tk(canvas, root)\n",
    "toolbar.update()\n",
    "canvas.get_tk_widget().pack(side=tkinter.TOP, fill=tkinter.BOTH, expand=1)\n",
    "\n",
    "root.geometry('1400x900')\n",
    "root.mainloop()"
   ]
  },
  {
   "cell_type": "code",
   "execution_count": 69,
   "metadata": {
    "colab": {
     "base_uri": "https://localhost:8080/",
     "height": 402
    },
    "colab_type": "code",
    "executionInfo": {
     "elapsed": 414595,
     "status": "ok",
     "timestamp": 1587444757183,
     "user": {
      "displayName": "Thenuja Shanthacumaran",
      "photoUrl": "https://lh3.googleusercontent.com/a-/AOh14GgwSc7uEqkv3sGGjky6eYr_T2HSXZ2VgNTu-LqYyg=s64",
      "userId": "06406019534418310581"
     },
     "user_tz": -330
    },
    "id": "rjQjGVSg-qy2",
    "outputId": "daf21851-061f-421f-dabf-75a6cb799b17"
   },
   "outputs": [
    {
     "data": {
      "text/html": [
       "<div>\n",
       "<style scoped>\n",
       "    .dataframe tbody tr th:only-of-type {\n",
       "        vertical-align: middle;\n",
       "    }\n",
       "\n",
       "    .dataframe tbody tr th {\n",
       "        vertical-align: top;\n",
       "    }\n",
       "\n",
       "    .dataframe thead th {\n",
       "        text-align: right;\n",
       "    }\n",
       "</style>\n",
       "<table border=\"1\" class=\"dataframe\">\n",
       "  <thead>\n",
       "    <tr style=\"text-align: right;\">\n",
       "      <th></th>\n",
       "      <th>Close</th>\n",
       "      <th>Predictions</th>\n",
       "    </tr>\n",
       "    <tr>\n",
       "      <th>Date</th>\n",
       "      <th></th>\n",
       "      <th></th>\n",
       "    </tr>\n",
       "  </thead>\n",
       "  <tbody>\n",
       "    <tr>\n",
       "      <th>2018-10-18</th>\n",
       "      <td>54.005001</td>\n",
       "      <td>54.265938</td>\n",
       "    </tr>\n",
       "    <tr>\n",
       "      <th>2018-10-19</th>\n",
       "      <td>54.827499</td>\n",
       "      <td>52.974075</td>\n",
       "    </tr>\n",
       "    <tr>\n",
       "      <th>2018-10-22</th>\n",
       "      <td>55.162498</td>\n",
       "      <td>54.030041</td>\n",
       "    </tr>\n",
       "    <tr>\n",
       "      <th>2018-10-23</th>\n",
       "      <td>55.682499</td>\n",
       "      <td>54.202156</td>\n",
       "    </tr>\n",
       "    <tr>\n",
       "      <th>2018-10-24</th>\n",
       "      <td>53.772499</td>\n",
       "      <td>54.795979</td>\n",
       "    </tr>\n",
       "    <tr>\n",
       "      <th>...</th>\n",
       "      <td>...</td>\n",
       "      <td>...</td>\n",
       "    </tr>\n",
       "    <tr>\n",
       "      <th>2020-12-22</th>\n",
       "      <td>131.880005</td>\n",
       "      <td>122.740051</td>\n",
       "    </tr>\n",
       "    <tr>\n",
       "      <th>2020-12-23</th>\n",
       "      <td>130.960007</td>\n",
       "      <td>126.176079</td>\n",
       "    </tr>\n",
       "    <tr>\n",
       "      <th>2020-12-24</th>\n",
       "      <td>131.970001</td>\n",
       "      <td>123.882408</td>\n",
       "    </tr>\n",
       "    <tr>\n",
       "      <th>2020-12-28</th>\n",
       "      <td>136.690002</td>\n",
       "      <td>125.800682</td>\n",
       "    </tr>\n",
       "    <tr>\n",
       "      <th>2020-12-29</th>\n",
       "      <td>134.869995</td>\n",
       "      <td>130.793579</td>\n",
       "    </tr>\n",
       "  </tbody>\n",
       "</table>\n",
       "<p>553 rows × 2 columns</p>\n",
       "</div>"
      ],
      "text/plain": [
       "                 Close  Predictions\n",
       "Date                               \n",
       "2018-10-18   54.005001    54.265938\n",
       "2018-10-19   54.827499    52.974075\n",
       "2018-10-22   55.162498    54.030041\n",
       "2018-10-23   55.682499    54.202156\n",
       "2018-10-24   53.772499    54.795979\n",
       "...                ...          ...\n",
       "2020-12-22  131.880005   122.740051\n",
       "2020-12-23  130.960007   126.176079\n",
       "2020-12-24  131.970001   123.882408\n",
       "2020-12-28  136.690002   125.800682\n",
       "2020-12-29  134.869995   130.793579\n",
       "\n",
       "[553 rows x 2 columns]"
      ]
     },
     "execution_count": 69,
     "metadata": {},
     "output_type": "execute_result"
    }
   ],
   "source": [
    "#Show dữ liệu Close và Predictions\n",
    "reality"
   ]
  },
  {
   "cell_type": "code",
   "execution_count": 70,
   "metadata": {},
   "outputs": [],
   "source": [
    "#In kết quả của giá đóng và giá dự đoán ra file csv\n",
    "reality.to_csv('APPL_Ketquadubao.csv')"
   ]
  },
  {
   "cell_type": "code",
   "execution_count": 71,
   "metadata": {},
   "outputs": [
    {
     "name": "stdout",
     "output_type": "stream",
     "text": [
      "2.3902733918540204\n",
      "3.3265949523529685\n",
      "3.0057983844447453\n"
     ]
    }
   ],
   "source": [
    "mae = np.mean(np.abs(Ytest - predictions ))\n",
    "print(mae)\n",
    "rmse = np.sqrt(np.mean((Ytest - predictions) ** 2))\n",
    "print(rmse)\n",
    "#tính độ chính xác của dự báo\n",
    "mape = np.mean(np.abs((Ytest - predictions )/ Ytest)) *100\n",
    "print(mape)"
   ]
  },
  {
   "cell_type": "code",
   "execution_count": null,
   "metadata": {},
   "outputs": [],
   "source": []
  },
  {
   "cell_type": "code",
   "execution_count": null,
   "metadata": {},
   "outputs": [],
   "source": []
  },
  {
   "cell_type": "code",
   "execution_count": null,
   "metadata": {},
   "outputs": [],
   "source": []
  },
  {
   "cell_type": "code",
   "execution_count": null,
   "metadata": {},
   "outputs": [],
   "source": []
  }
 ],
 "metadata": {
  "accelerator": "GPU",
  "colab": {
   "collapsed_sections": [],
   "name": "apple_stock_price_prediction_in_LSTM (1).ipynb",
   "provenance": []
  },
  "kernelspec": {
   "display_name": "Python 3 (ipykernel)",
   "language": "python",
   "name": "python3"
  },
  "language_info": {
   "codemirror_mode": {
    "name": "ipython",
    "version": 3
   },
   "file_extension": ".py",
   "mimetype": "text/x-python",
   "name": "python",
   "nbconvert_exporter": "python",
   "pygments_lexer": "ipython3",
   "version": "3.11.5"
  }
 },
 "nbformat": 4,
 "nbformat_minor": 1
}
