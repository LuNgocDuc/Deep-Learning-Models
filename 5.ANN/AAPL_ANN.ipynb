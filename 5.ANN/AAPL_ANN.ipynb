{
 "cells": [
  {
   "cell_type": "markdown",
   "metadata": {},
   "source": [
    "#   ANN"
   ]
  },
  {
   "cell_type": "markdown",
   "metadata": {},
   "source": [
    "## Imports"
   ]
  },
  {
   "cell_type": "code",
   "execution_count": 1,
   "metadata": {},
   "outputs": [],
   "source": [
    "from __future__ import absolute_import, division, print_function\n",
    "\n",
    "import numpy as np\n",
    "import pandas as pd\n",
    "import matplotlib.pyplot as plt\n",
    "\n",
    "import os\n",
    "import math\n",
    "import statistics"
   ]
  },
  {
   "cell_type": "markdown",
   "metadata": {},
   "source": [
    "## Collect the data"
   ]
  },
  {
   "cell_type": "code",
   "execution_count": 2,
   "metadata": {},
   "outputs": [],
   "source": [
    "input_window_size = 10  # this is the no. of input nodes of the NN\n",
    "start_date = '2010-01-01'\n",
    "end_date = '2020-12-29'\n",
    "dates = pd.date_range(start_date, end_date)"
   ]
  },
  {
   "cell_type": "code",
   "execution_count": 3,
   "metadata": {},
   "outputs": [
    {
     "data": {
      "text/html": [
       "<div>\n",
       "<style scoped>\n",
       "    .dataframe tbody tr th:only-of-type {\n",
       "        vertical-align: middle;\n",
       "    }\n",
       "\n",
       "    .dataframe tbody tr th {\n",
       "        vertical-align: top;\n",
       "    }\n",
       "\n",
       "    .dataframe thead th {\n",
       "        text-align: right;\n",
       "    }\n",
       "</style>\n",
       "<table border=\"1\" class=\"dataframe\">\n",
       "  <thead>\n",
       "    <tr style=\"text-align: right;\">\n",
       "      <th></th>\n",
       "      <th>Adj. Close</th>\n",
       "    </tr>\n",
       "  </thead>\n",
       "  <tbody>\n",
       "    <tr>\n",
       "      <th>2010-01-01</th>\n",
       "      <td>NaN</td>\n",
       "    </tr>\n",
       "    <tr>\n",
       "      <th>2010-01-02</th>\n",
       "      <td>NaN</td>\n",
       "    </tr>\n",
       "    <tr>\n",
       "      <th>2010-01-03</th>\n",
       "      <td>NaN</td>\n",
       "    </tr>\n",
       "    <tr>\n",
       "      <th>2010-01-04</th>\n",
       "      <td>6.470741</td>\n",
       "    </tr>\n",
       "    <tr>\n",
       "      <th>2010-01-05</th>\n",
       "      <td>6.481928</td>\n",
       "    </tr>\n",
       "  </tbody>\n",
       "</table>\n",
       "</div>"
      ],
      "text/plain": [
       "            Adj. Close\n",
       "2010-01-01         NaN\n",
       "2010-01-02         NaN\n",
       "2010-01-03         NaN\n",
       "2010-01-04    6.470741\n",
       "2010-01-05    6.481928"
      ]
     },
     "execution_count": 3,
     "metadata": {},
     "output_type": "execute_result"
    }
   ],
   "source": [
    "filter_dates = pd.DataFrame(index=dates)\n",
    "df = pd.read_csv('data/Pre_Processed_AAPL.csv', index_col='Date', parse_dates=True,\n",
    "                    usecols=['Date', 'Adj. Close'], na_values=['nan'])\n",
    "df = filter_dates.join(df)\n",
    "df.head()"
   ]
  },
  {
   "cell_type": "markdown",
   "metadata": {},
   "source": [
    "## Feature Engineering"
   ]
  },
  {
   "cell_type": "code",
   "execution_count": 4,
   "metadata": {},
   "outputs": [
    {
     "data": {
      "text/plain": [
       "Adj. Close    1249\n",
       "dtype: int64"
      ]
     },
     "execution_count": 4,
     "metadata": {},
     "output_type": "execute_result"
    }
   ],
   "source": [
    "df.isna().sum()"
   ]
  },
  {
   "cell_type": "code",
   "execution_count": 5,
   "metadata": {},
   "outputs": [
    {
     "data": {
      "text/plain": [
       "Adj. Close    0\n",
       "dtype: int64"
      ]
     },
     "execution_count": 5,
     "metadata": {},
     "output_type": "execute_result"
    }
   ],
   "source": [
    "df = df.dropna()\n",
    "df.isna().sum()"
   ]
  },
  {
   "cell_type": "code",
   "execution_count": 6,
   "metadata": {},
   "outputs": [
    {
     "data": {
      "text/plain": [
       "(2767, 1)"
      ]
     },
     "execution_count": 6,
     "metadata": {},
     "output_type": "execute_result"
    }
   ],
   "source": [
    "df.shape"
   ]
  },
  {
   "cell_type": "markdown",
   "metadata": {},
   "source": [
    "## Normalize the data"
   ]
  },
  {
   "cell_type": "code",
   "execution_count": 7,
   "metadata": {},
   "outputs": [
    {
     "data": {
      "text/plain": [
       "(6.470741272, 0.15454179945768662)"
      ]
     },
     "execution_count": 7,
     "metadata": {},
     "output_type": "execute_result"
    }
   ],
   "source": [
    "# Normalization and Denormalization constants\n",
    "# denorm_const = df['Adj. Close'].iloc[0]: Đây là việc gán giá trị của cột 'Adj. Close' từ DataFrame df vào biến denorm_const. .iloc[0] được sử dụng để lấy giá trị đầu tiên trong cột 'Adj. Close'. Đây có thể là giá trị của cột 'Adj. Close' cho hàng đầu tiên trong DataFrame.\n",
    "\n",
    "# norm_const = 1/denorm_const: Đây là việc tính toán giá trị của hằng số chuẩn hóa (norm_const). Hằng số này được tính bằng cách lấy giá trị nghịch đảo của denorm_const. Điều này có thể đang thực hiện một phương pháp chuẩn hóa dữ liệu bằng cách chia mỗi giá trị của cột 'Adj. Close' cho giá trị đầu tiên của cột đó. Điều này giúp chuẩn hóa dữ liệu sao cho giá trị ban đầu của cột 'Adj. Close' bằng 1.\n",
    "\n",
    "# Ví dụ, nếu giá trị đầu tiên của cột 'Adj. Close' là 100, thì denorm_const sẽ là 100 và norm_const sẽ là 0.01 (1/100).\n",
    "denorm_const = df['Adj. Close'].iloc[0]\n",
    "norm_const = 1/denorm_const\n",
    "\n",
    "denorm_const, norm_const"
   ]
  },
  {
   "cell_type": "code",
   "execution_count": 8,
   "metadata": {},
   "outputs": [
    {
     "data": {
      "text/html": [
       "<div>\n",
       "<style scoped>\n",
       "    .dataframe tbody tr th:only-of-type {\n",
       "        vertical-align: middle;\n",
       "    }\n",
       "\n",
       "    .dataframe tbody tr th {\n",
       "        vertical-align: top;\n",
       "    }\n",
       "\n",
       "    .dataframe thead th {\n",
       "        text-align: right;\n",
       "    }\n",
       "</style>\n",
       "<table border=\"1\" class=\"dataframe\">\n",
       "  <thead>\n",
       "    <tr style=\"text-align: right;\">\n",
       "      <th></th>\n",
       "      <th>Adj. Close</th>\n",
       "    </tr>\n",
       "  </thead>\n",
       "  <tbody>\n",
       "    <tr>\n",
       "      <th>2010-01-04</th>\n",
       "      <td>1.000000</td>\n",
       "    </tr>\n",
       "    <tr>\n",
       "      <th>2010-01-05</th>\n",
       "      <td>1.001729</td>\n",
       "    </tr>\n",
       "    <tr>\n",
       "      <th>2010-01-06</th>\n",
       "      <td>0.985795</td>\n",
       "    </tr>\n",
       "    <tr>\n",
       "      <th>2010-01-07</th>\n",
       "      <td>0.983973</td>\n",
       "    </tr>\n",
       "    <tr>\n",
       "      <th>2010-01-08</th>\n",
       "      <td>0.990515</td>\n",
       "    </tr>\n",
       "  </tbody>\n",
       "</table>\n",
       "</div>"
      ],
      "text/plain": [
       "            Adj. Close\n",
       "2010-01-04    1.000000\n",
       "2010-01-05    1.001729\n",
       "2010-01-06    0.985795\n",
       "2010-01-07    0.983973\n",
       "2010-01-08    0.990515"
      ]
     },
     "execution_count": 8,
     "metadata": {},
     "output_type": "execute_result"
    }
   ],
   "source": [
    "# Normalize\n",
    "df = df*norm_const\n",
    "df.head()"
   ]
  },
  {
   "cell_type": "markdown",
   "metadata": {},
   "source": [
    "## Bollinger Bands"
   ]
  },
  {
   "cell_type": "code",
   "execution_count": 9,
   "metadata": {},
   "outputs": [],
   "source": [
    "def get_rolling_mean(df_, window):\n",
    "    return df_.rolling(window).mean()\n",
    "\n",
    "def get_rolling_std(df_, window):\n",
    "    return df_.rolling(window).std()\n",
    "\n",
    "def get_bollinger_bands(rm, rstd):\n",
    "    upper_band = rm + 2*rstd\n",
    "    lower_band = rm - 2*rstd\n",
    "    return upper_band, lower_band\n",
    "\n",
    "def clip_to_bollinger_bands(df_, window):\n",
    "    rm = get_rolling_mean(df_, window=window)\n",
    "    rstd = get_rolling_std(df_, window=window)\n",
    "    upper_band, lower_band = get_bollinger_bands(rm, rstd)\n",
    "    return df_.clip(upper=upper_band, lower=lower_band)"
   ]
  },
  {
   "cell_type": "code",
   "execution_count": 10,
   "metadata": {},
   "outputs": [],
   "source": [
    "def plot_df(df, title=\"Default Title\"):\n",
    "    ax = df.plot()\n",
    "    ax.set_xlabel(title)\n",
    "    ax.get_legend().remove()\n",
    "    plt.show()"
   ]
  },
  {
   "cell_type": "code",
   "execution_count": 11,
   "metadata": {},
   "outputs": [
    {
     "data": {
      "image/png": "[encoded data removed]",
      "text/plain": [
       "<Figure size 640x480 with 1 Axes>"
      ]
     },
     "metadata": {},
     "output_type": "display_data"
    },
    {
     "data": {
      "image/png": "[encoded data removed]",
      "text/plain": [
       "<Figure size 640x480 with 1 Axes>"
      ]
     },
     "metadata": {},
     "output_type": "display_data"
    }
   ],
   "source": [
    "plot_df(df, \"Before Bollinger Clipping\")\n",
    "df = clip_to_bollinger_bands(df, input_window_size)\n",
    "plot_df(df, \"After Bollinger Clipping\")"
   ]
  },
  {
   "cell_type": "markdown",
   "metadata": {},
   "source": [
    "After Bollinger Clipping we have first (input_window_size - 1) elements as NaN"
   ]
  },
  {
   "cell_type": "code",
   "execution_count": 12,
   "metadata": {},
   "outputs": [
    {
     "data": {
      "text/html": [
       "<div>\n",
       "<style scoped>\n",
       "    .dataframe tbody tr th:only-of-type {\n",
       "        vertical-align: middle;\n",
       "    }\n",
       "\n",
       "    .dataframe tbody tr th {\n",
       "        vertical-align: top;\n",
       "    }\n",
       "\n",
       "    .dataframe thead th {\n",
       "        text-align: right;\n",
       "    }\n",
       "</style>\n",
       "<table border=\"1\" class=\"dataframe\">\n",
       "  <thead>\n",
       "    <tr style=\"text-align: right;\">\n",
       "      <th></th>\n",
       "      <th>Adj. Close</th>\n",
       "    </tr>\n",
       "  </thead>\n",
       "  <tbody>\n",
       "    <tr>\n",
       "      <th>2010-01-04</th>\n",
       "      <td>1.000000</td>\n",
       "    </tr>\n",
       "    <tr>\n",
       "      <th>2010-01-05</th>\n",
       "      <td>1.001729</td>\n",
       "    </tr>\n",
       "    <tr>\n",
       "      <th>2010-01-06</th>\n",
       "      <td>0.985795</td>\n",
       "    </tr>\n",
       "    <tr>\n",
       "      <th>2010-01-07</th>\n",
       "      <td>0.983973</td>\n",
       "    </tr>\n",
       "    <tr>\n",
       "      <th>2010-01-08</th>\n",
       "      <td>0.990515</td>\n",
       "    </tr>\n",
       "    <tr>\n",
       "      <th>2010-01-11</th>\n",
       "      <td>0.981777</td>\n",
       "    </tr>\n",
       "    <tr>\n",
       "      <th>2010-01-12</th>\n",
       "      <td>0.970609</td>\n",
       "    </tr>\n",
       "    <tr>\n",
       "      <th>2010-01-13</th>\n",
       "      <td>0.984300</td>\n",
       "    </tr>\n",
       "    <tr>\n",
       "      <th>2010-01-14</th>\n",
       "      <td>0.978599</td>\n",
       "    </tr>\n",
       "    <tr>\n",
       "      <th>2010-01-15</th>\n",
       "      <td>0.962245</td>\n",
       "    </tr>\n",
       "    <tr>\n",
       "      <th>2010-01-19</th>\n",
       "      <td>1.004813</td>\n",
       "    </tr>\n",
       "    <tr>\n",
       "      <th>2010-01-20</th>\n",
       "      <td>0.989346</td>\n",
       "    </tr>\n",
       "    <tr>\n",
       "      <th>2010-01-21</th>\n",
       "      <td>0.972244</td>\n",
       "    </tr>\n",
       "    <tr>\n",
       "      <th>2010-01-22</th>\n",
       "      <td>0.932325</td>\n",
       "    </tr>\n",
       "    <tr>\n",
       "      <th>2010-01-25</th>\n",
       "      <td>0.948881</td>\n",
       "    </tr>\n",
       "  </tbody>\n",
       "</table>\n",
       "</div>"
      ],
      "text/plain": [
       "            Adj. Close\n",
       "2010-01-04    1.000000\n",
       "2010-01-05    1.001729\n",
       "2010-01-06    0.985795\n",
       "2010-01-07    0.983973\n",
       "2010-01-08    0.990515\n",
       "2010-01-11    0.981777\n",
       "2010-01-12    0.970609\n",
       "2010-01-13    0.984300\n",
       "2010-01-14    0.978599\n",
       "2010-01-15    0.962245\n",
       "2010-01-19    1.004813\n",
       "2010-01-20    0.989346\n",
       "2010-01-21    0.972244\n",
       "2010-01-22    0.932325\n",
       "2010-01-25    0.948881"
      ]
     },
     "execution_count": 12,
     "metadata": {},
     "output_type": "execute_result"
    }
   ],
   "source": [
    "df.head(15)"
   ]
  },
  {
   "cell_type": "code",
   "execution_count": 13,
   "metadata": {},
   "outputs": [
    {
     "data": {
      "text/plain": [
       "Adj. Close    0\n",
       "dtype: int64"
      ]
     },
     "execution_count": 13,
     "metadata": {},
     "output_type": "execute_result"
    }
   ],
   "source": [
    "df.isna().sum()"
   ]
  },
  {
   "cell_type": "code",
   "execution_count": 14,
   "metadata": {},
   "outputs": [
    {
     "name": "stdout",
     "output_type": "stream",
     "text": [
      "Adj. Close    0\n",
      "dtype: int64\n",
      "(2767, 1)\n"
     ]
    }
   ],
   "source": [
    "df = df.dropna()\n",
    "print(df.isna().sum())\n",
    "print(df.shape)"
   ]
  },
  {
   "cell_type": "code",
   "execution_count": 15,
   "metadata": {},
   "outputs": [
    {
     "data": {
      "text/plain": [
       "2767"
      ]
     },
     "execution_count": 15,
     "metadata": {},
     "output_type": "execute_result"
    }
   ],
   "source": [
    "data = list(df['Adj. Close'])\n",
    "len(data)"
   ]
  },
  {
   "cell_type": "markdown",
   "metadata": {},
   "source": [
    "## Train, Validation and Test data"
   ]
  },
  {
   "cell_type": "markdown",
   "metadata": {},
   "source": [
    "Train : Test = 80 : 20"
   ]
  },
  {
   "cell_type": "code",
   "execution_count": 16,
   "metadata": {},
   "outputs": [
    {
     "name": "stdout",
     "output_type": "stream",
     "text": [
      "2203 2203\n",
      "544 544\n"
     ]
    }
   ],
   "source": [
    "train_till = int(0.8*len(data))\n",
    "\n",
    "train_raw_data = data[:train_till]\n",
    "test_raw_data = data[train_till:]\n",
    "\n",
    "train_features = [train_raw_data[i:i+input_window_size] for i in range(len(train_raw_data)-input_window_size)]\n",
    "test_features = [test_raw_data[i:i+input_window_size] for i in range(len(test_raw_data)-input_window_size)]\n",
    "\n",
    "train_labels = train_raw_data[input_window_size:]\n",
    "test_labels = test_raw_data[input_window_size:]\n",
    "\n",
    "print(len(train_features), len(train_labels))\n",
    "print(len(test_features), len(test_labels))"
   ]
  },
  {
   "cell_type": "code",
   "execution_count": 17,
   "metadata": {},
   "outputs": [
    {
     "name": "stdout",
     "output_type": "stream",
     "text": [
      "(2203, 10) (2203,)\n",
      "(544, 10) (544,)\n"
     ]
    }
   ],
   "source": [
    "train_features = np.array(train_features)\n",
    "test_features = np.array(test_features)\n",
    "\n",
    "train_labels = np.array(train_labels)\n",
    "test_labels = np.array(test_labels)\n",
    "\n",
    "print(train_features.shape, train_labels.shape)\n",
    "print(test_features.shape, test_labels.shape)"
   ]
  },
  {
   "cell_type": "markdown",
   "metadata": {},
   "source": [
    "## Build the model"
   ]
  },
  {
   "cell_type": "markdown",
   "metadata": {},
   "source": [
    "### Activation Function"
   ]
  },
  {
   "cell_type": "code",
   "execution_count": 18,
   "metadata": {},
   "outputs": [],
   "source": [
    "# #Đoạn mã trên định nghĩa hai hàm kích hoạt (activation function) và đạo hàm của chúng:\n",
    "\n",
    "# Hàm ReLU (Rectified Linear Unit):\n",
    "# Hàm relu(x) tính toán giá trị ReLU của mỗi phần tử trong mảng x. ReLU là một hàm kích hoạt phi tuyến tính, được định nghĩa bằng cách trả về giá trị của x nếu x lớn hơn 0 và trả về 0 nếu x nhỏ hơn hoặc bằng 0. Hàm này giúp loại bỏ sự phi tuyến tính và tăng tính toàn vẹn của mô hình, đồng thời giảm thiểu vấn đề biến mất gradient (vanishing gradient problem).\n",
    "# Đạo hàm của hàm ReLU:\n",
    "# Hàm der_relu(x) tính toán đạo hàm của hàm ReLU tại mỗi điểm trong mảng x. Đạo hàm của ReLU bằng 1 nếu x lớn hơn 0 và bằng 0 nếu x nhỏ hơn hoặc bằng 0. Đạo hàm này được sử dụng trong quá trình lan truyền ngược (backpropagation) để cập nhật trọng số của mạng neural network trong quá trình huấn luyện.\n",
    "def relu(x):\n",
    "    return np.array([i if i > 0 else 0 for i in x])\n",
    "\n",
    "def der_relu(x):\n",
    "    return np.array([1 if i > 0 else 0 for i in x])"
   ]
  },
  {
   "cell_type": "markdown",
   "metadata": {},
   "source": [
    "### Hyperparameters"
   ]
  },
  {
   "cell_type": "code",
   "execution_count": 27,
   "metadata": {},
   "outputs": [],
   "source": [
    "# n_epochs: Đây là số lượng epochs (vòng lặp qua toàn bộ tập dữ liệu huấn luyện) được sử dụng trong quá trình huấn luyện mô hình. Trong trường hợp này, mô hình sẽ được huấn luyện trong 200 epochs.\n",
    "\n",
    "# lr: Đây là tỷ lệ học (learning rate), là một tham số quan trọng trong quá trình huấn luyện mạng neural network. Learning rate quyết định tốc độ cập nhật trọng số của mạng trong mỗi bước huấn luyện. Tỷ lệ học càng cao, thì mô hình sẽ hội tụ nhanh hơn, nhưng có thể dễ dàng bị văng vẳng (overshoot) qua giá trị tối ưu. Trong trường hợp này, learning rate được đặt là 0.00005, có vẻ như là một giá trị nhỏ, cho phép mô hình học một cách chậm và ổn định. Điều này có thể hữu ích trong việc học từ dữ liệu nhiễu hoặc dữ liệu có cấu trúc phức tạp.\n",
    "n_epochs = 200\n",
    "lr = 0.00005"
   ]
  },
  {
   "cell_type": "markdown",
   "metadata": {},
   "source": [
    "### Input and Output Nodes and Weight Matrix"
   ]
  },
  {
   "cell_type": "code",
   "execution_count": 28,
   "metadata": {},
   "outputs": [
    {
     "data": {
      "text/plain": [
       "(10, 1)"
      ]
     },
     "execution_count": 28,
     "metadata": {},
     "output_type": "execute_result"
    }
   ],
   "source": [
    "# input_nodes = input_window_size: Đây là số lượng nút (neurons) trong lớp đầu vào của mạng neural network. Trong trường hợp này, input_nodes được đặt bằng input_window_size, tức là số lượng features (đặc trưng) trong mỗi mẫu dữ liệu đầu vào.\n",
    "\n",
    "# output_nodes = 1: Đây là số lượng nút trong lớp đầu ra của mạng neural network. Trong trường hợp này, output_nodes được đặt là 1, do mô hình đang được sử dụng để dự đoán một giá trị đầu ra duy nhất (ví dụ: giá cổ phiếu tiếp theo).\n",
    "\n",
    "# weight_matrix = np.random.uniform(size=(input_nodes, output_nodes)): Đoạn mã này tạo ra ma trận trọng số ngẫu nhiên có kích thước input_nodes x output_nodes. Mỗi phần tử trong ma trận này đại diện cho trọng số của mỗi kết nối giữa mỗi nút trong lớp đầu vào và nút trong lớp đầu ra của mạng neural network. Giá trị của các trọng số được chọn ngẫu nhiên từ phân phối đồng nhất trong khoảng từ 0 đến 1. Ma trận này sẽ được sử dụng trong quá trình lan truyền tiến (forward propagation) để tính toán giá trị đầu ra của mạng dựa trên dữ liệu đầu vào và các trọng số.\n",
    "\n",
    "\n",
    "\n",
    "input_nodes = input_window_size\n",
    "output_nodes = 1\n",
    "\n",
    "weight_matrix = np.random.uniform(size=(input_nodes, output_nodes))\n",
    "weight_matrix.shape"
   ]
  },
  {
   "cell_type": "markdown",
   "metadata": {},
   "source": [
    "### Train the model"
   ]
  },
  {
   "cell_type": "code",
   "execution_count": 29,
   "metadata": {},
   "outputs": [
    {
     "name": "stdout",
     "output_type": "stream",
     "text": [
      "\n",
      "..........\n",
      "..........\n",
      "..........\n",
      "..........\n",
      "..........\n",
      "..........\n",
      "..........\n",
      "..........\n",
      "..........\n",
      "..........\n",
      "..........\n",
      "..........\n",
      "..........\n",
      "..........\n",
      "..........\n",
      "..........\n",
      "..........\n",
      "..........\n",
      "..........\n",
      ".........."
     ]
    }
   ],
   "source": [
    "# Vòng lặp qua các epochs:\n",
    "\n",
    "# Dòng for epoch in range(n_epochs): tạo ra một vòng lặp chạy qua các epochs, với số lượng epochs được xác định trước bởi biến n_epochs.\n",
    "# In ký tự . sau mỗi 10 epochs:\n",
    "\n",
    "# Dòng if epoch % 10 == 0: print() in ra một dòng trống sau mỗi 10 epochs, để theo dõi tiến trình của quá trình huấn luyện.\n",
    "# In dấu . sau mỗi epoch:\n",
    "\n",
    "# Dòng print('.', end='') in ra dấu chấm sau mỗi epoch, để theo dõi tiến trình của quá trình huấn luyện.\n",
    "# Lan truyền tiến (forward propagation):\n",
    "\n",
    "# Dòng output_node_input = train_features.dot(weight_matrix).flatten() tính toán giá trị đầu vào của lớp đầu ra bằng cách nhân ma trận đầu vào (train_features) với ma trận trọng số (weight_matrix) và làm phẳng kết quả để thu được một vector.\n",
    "# Áp dụng hàm kích hoạt ReLU:\n",
    "\n",
    "# Dòng output = relu(output_node_input) áp dụng hàm kích hoạt ReLU lên giá trị đầu vào của lớp đầu ra, để thu được giá trị đầu ra của mạng.\n",
    "# Tính toán lỗi:\n",
    "\n",
    "# Dòng error = train_labels - output tính toán lỗi bằng cách lấy hiệu của giá trị thực tế (train_labels) và giá trị dự đoán (output).\n",
    "# Tính toán delta_weight:\n",
    "\n",
    "# Dòng drv = der_relu(output_node_input) tính toán đạo hàm của hàm kích hoạt ReLU tại giá trị đầu vào của lớp đầu ra.\n",
    "# Dòng delta_weight = error * drv tính toán delta_weight bằng cách nhân lỗi với đạo hàm của hàm kích hoạt, để thu được mức độ thay đổi của trọng số cần áp dụng trong quá trình cập nhật trọng số.\n",
    "# Cập nhật trọng số:\n",
    "\n",
    "# Dòng weight_matrix = weight_matrix + lr * train_features.T.dot(delta_weight.reshape(train_features.shape[0], 1)) cập nhật trọng số bằng cách thêm một khoảng thay đổi tính toán được vào ma trận trọng số. Độ lớn của khoảng thay đổi được điều chỉnh bởi tỷ lệ học (lr).\n",
    "for epoch in range(n_epochs):\n",
    "    if epoch%10 == 0: print()\n",
    "    print('.', end='')\n",
    "    output_node_input = train_features.dot(weight_matrix).flatten()\n",
    "    output = relu(output_node_input)\n",
    "    error = train_labels - output\n",
    "    drv = der_relu(output_node_input)\n",
    "    delta_weight = error * drv\n",
    "    weight_matrix = weight_matrix + lr * train_features.T.dot(delta_weight.reshape(train_features.shape[0], 1))"
   ]
  },
  {
   "cell_type": "code",
   "execution_count": 30,
   "metadata": {},
   "outputs": [
    {
     "data": {
      "text/plain": [
       "array([0, 0, 0, 0, 0, 0, 0, 0, 0, 0])"
      ]
     },
     "execution_count": 30,
     "metadata": {},
     "output_type": "execute_result"
    }
   ],
   "source": [
    "output[:10]"
   ]
  },
  {
   "cell_type": "markdown",
   "metadata": {},
   "source": [
    "## Prediction"
   ]
  },
  {
   "cell_type": "code",
   "execution_count": 31,
   "metadata": {},
   "outputs": [],
   "source": [
    "# Dòng mã trên tính toán các dự đoán trên tập kiểm tra bằng cách sử dụng mạng neural network đã được huấn luyện và áp dụng hàm kích hoạt ReLU cho giá trị đầu ra của lớp đầu ra.\n",
    "\n",
    "# test_features.dot(weight_matrix): Tính toán giá trị đầu vào của lớp đầu ra bằng cách nhân ma trận đặc trưng kiểm tra (test_features) với ma trận trọng số đã được huấn luyện (weight_matrix). Kết quả là một vector chứa giá trị đầu vào của mỗi mẫu trong tập kiểm tra.\n",
    "\n",
    "# .flatten(): Làm phẳng kết quả để thu được một vector.\n",
    "\n",
    "# relu(): Áp dụng hàm kích hoạt ReLU lên các giá trị đầu vào để tính toán các dự đoán cuối cùng trên tập kiểm tra. Điều này được thực hiện để đảm bảo rằng các giá trị đầu ra là không âm và không bị giảm mất tính phi tuyến tính của mô hình.\n",
    "test_predictions = relu(test_features.dot(weight_matrix).flatten())"
   ]
  },
  {
   "cell_type": "code",
   "execution_count": 32,
   "metadata": {},
   "outputs": [
    {
     "data": {
      "text/plain": [
       "array([0, 0, 0, 0, 0, 0, 0, 0, 0, 0])"
      ]
     },
     "execution_count": 32,
     "metadata": {},
     "output_type": "execute_result"
    }
   ],
   "source": [
    "test_predictions[:10]"
   ]
  },
  {
   "cell_type": "code",
   "execution_count": 33,
   "metadata": {},
   "outputs": [
    {
     "data": {
      "image/png": "[encoded data removed]",
      "text/plain": [
       "<Figure size 640x480 with 1 Axes>"
      ]
     },
     "metadata": {},
     "output_type": "display_data"
    }
   ],
   "source": [
    "plt.figure()\n",
    "plt.xlabel('Days')\n",
    "plt.ylabel('Stock Price')\n",
    "plt.plot(test_predictions*denorm_const, 'r', label='Prediction')\n",
    "plt.plot(test_labels*denorm_const, 'g', label='Actual')\n",
    "plt.legend()\n",
    "plt.show()"
   ]
  },
  {
   "cell_type": "code",
   "execution_count": 34,
   "metadata": {},
   "outputs": [
    {
     "name": "stdout",
     "output_type": "stream",
     "text": [
      "10.73433043562837\n",
      "11.50893478454238\n",
      "100.0\n"
     ]
    }
   ],
   "source": [
    "mae = np.mean(np.abs(test_labels - test_predictions ))\n",
    "print(mae)\n",
    "rmse = np.sqrt(np.mean((test_labels - test_predictions) ** 2))\n",
    "print(rmse)\n",
    "#tính độ chính xác của dự báo\n",
    "mape = np.mean(np.abs((test_labels - test_predictions )/ test_labels)) *100\n",
    "print(mape)"
   ]
  },
  {
   "cell_type": "code",
   "execution_count": null,
   "metadata": {},
   "outputs": [],
   "source": []
  },
  {
   "cell_type": "code",
   "execution_count": null,
   "metadata": {},
   "outputs": [],
   "source": []
  }
 ],
 "metadata": {
  "kernelspec": {
   "display_name": "Python 3 (ipykernel)",
   "language": "python",
   "name": "python3"
  },
  "language_info": {
   "codemirror_mode": {
    "name": "ipython",
    "version": 3
   },
   "file_extension": ".py",
   "mimetype": "text/x-python",
   "name": "python",
   "nbconvert_exporter": "python",
   "pygments_lexer": "ipython3",
   "version": "3.11.5"
  }
 },
 "nbformat": 4,
 "nbformat_minor": 2
}
