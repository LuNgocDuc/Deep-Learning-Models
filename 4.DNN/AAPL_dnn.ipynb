{
 "cells": [
  {
   "cell_type": "markdown",
   "metadata": {},
   "source": [
    "# AAPL DNN"
   ]
  },
  {
   "cell_type": "markdown",
   "metadata": {},
   "source": [
    "## Imports"
   ]
  },
  {
   "cell_type": "code",
   "execution_count": 1,
   "metadata": {},
   "outputs": [
    {
     "name": "stdout",
     "output_type": "stream",
     "text": [
      "2.12.0\n"
     ]
    }
   ],
   "source": [
    "from __future__ import absolute_import, division, print_function\n",
    "\n",
    "import numpy as np\n",
    "import pandas as pd\n",
    "import matplotlib.pyplot as plt\n",
    "\n",
    "import os\n",
    "import math\n",
    "import statistics\n",
    "\n",
    "import tensorflow as tf\n",
    "from tensorflow import keras\n",
    "from tensorflow.keras import layers\n",
    "\n",
    "print(tf.__version__)"
   ]
  },
  {
   "cell_type": "markdown",
   "metadata": {},
   "source": [
    "## Collect the data"
   ]
  },
  {
   "cell_type": "code",
   "execution_count": 2,
   "metadata": {},
   "outputs": [],
   "source": [
    "input_window_size = 10  # this is the no. of input nodes of the NN\n",
    "start_date = '2010-01-01'\n",
    "end_date = '2020-12-29'\n",
    "dates = pd.date_range(start_date, end_date)"
   ]
  },
  {
   "cell_type": "code",
   "execution_count": 5,
   "metadata": {},
   "outputs": [
    {
     "data": {
      "text/html": [
       "<div>\n",
       "<style scoped>\n",
       "    .dataframe tbody tr th:only-of-type {\n",
       "        vertical-align: middle;\n",
       "    }\n",
       "\n",
       "    .dataframe tbody tr th {\n",
       "        vertical-align: top;\n",
       "    }\n",
       "\n",
       "    .dataframe thead th {\n",
       "        text-align: right;\n",
       "    }\n",
       "</style>\n",
       "<table border=\"1\" class=\"dataframe\">\n",
       "  <thead>\n",
       "    <tr style=\"text-align: right;\">\n",
       "      <th></th>\n",
       "      <th>Adj. Close</th>\n",
       "    </tr>\n",
       "  </thead>\n",
       "  <tbody>\n",
       "    <tr>\n",
       "      <th>2010-01-01</th>\n",
       "      <td>NaN</td>\n",
       "    </tr>\n",
       "    <tr>\n",
       "      <th>2010-01-02</th>\n",
       "      <td>NaN</td>\n",
       "    </tr>\n",
       "    <tr>\n",
       "      <th>2010-01-03</th>\n",
       "      <td>NaN</td>\n",
       "    </tr>\n",
       "    <tr>\n",
       "      <th>2010-01-04</th>\n",
       "      <td>6.470741</td>\n",
       "    </tr>\n",
       "    <tr>\n",
       "      <th>2010-01-05</th>\n",
       "      <td>6.481928</td>\n",
       "    </tr>\n",
       "  </tbody>\n",
       "</table>\n",
       "</div>"
      ],
      "text/plain": [
       "            Adj. Close\n",
       "2010-01-01         NaN\n",
       "2010-01-02         NaN\n",
       "2010-01-03         NaN\n",
       "2010-01-04    6.470741\n",
       "2010-01-05    6.481928"
      ]
     },
     "execution_count": 5,
     "metadata": {},
     "output_type": "execute_result"
    }
   ],
   "source": [
    "filter_dates = pd.DataFrame(index=dates)\n",
    "df = pd.read_csv('data/Pre_Processed_AAPL.csv', index_col='Date', parse_dates=True,\n",
    "                    usecols=['Date', 'Adj. Close'], na_values=['nan'])\n",
    "df = filter_dates.join(df)\n",
    "df.head()"
   ]
  },
  {
   "cell_type": "markdown",
   "metadata": {},
   "source": [
    "## Feature Engineering"
   ]
  },
  {
   "cell_type": "code",
   "execution_count": 6,
   "metadata": {},
   "outputs": [
    {
     "data": {
      "text/plain": [
       "Adj. Close    1249\n",
       "dtype: int64"
      ]
     },
     "execution_count": 6,
     "metadata": {},
     "output_type": "execute_result"
    }
   ],
   "source": [
    "df.isna().sum()"
   ]
  },
  {
   "cell_type": "code",
   "execution_count": 7,
   "metadata": {},
   "outputs": [
    {
     "data": {
      "text/plain": [
       "Adj. Close    0\n",
       "dtype: int64"
      ]
     },
     "execution_count": 7,
     "metadata": {},
     "output_type": "execute_result"
    }
   ],
   "source": [
    "df = df.dropna()\n",
    "df.isna().sum()"
   ]
  },
  {
   "cell_type": "code",
   "execution_count": 8,
   "metadata": {},
   "outputs": [
    {
     "data": {
      "text/plain": [
       "(2767, 1)"
      ]
     },
     "execution_count": 8,
     "metadata": {},
     "output_type": "execute_result"
    }
   ],
   "source": [
    "df.shape"
   ]
  },
  {
   "cell_type": "markdown",
   "metadata": {},
   "source": [
    "## Normalize the data"
   ]
  },
  {
   "cell_type": "code",
   "execution_count": 10,
   "metadata": {},
   "outputs": [
    {
     "data": {
      "text/plain": [
       "(6.470741272, 0.15454179945768662)"
      ]
     },
     "execution_count": 10,
     "metadata": {},
     "output_type": "execute_result"
    }
   ],
   "source": [
    "# Normalization and Denormalization constants\n",
    "denorm_const = df['Adj. Close'].iloc[0]\n",
    "norm_const = 1/denorm_const\n",
    "\n",
    "denorm_const, norm_const"
   ]
  },
  {
   "cell_type": "code",
   "execution_count": 11,
   "metadata": {},
   "outputs": [
    {
     "data": {
      "text/html": [
       "<div>\n",
       "<style scoped>\n",
       "    .dataframe tbody tr th:only-of-type {\n",
       "        vertical-align: middle;\n",
       "    }\n",
       "\n",
       "    .dataframe tbody tr th {\n",
       "        vertical-align: top;\n",
       "    }\n",
       "\n",
       "    .dataframe thead th {\n",
       "        text-align: right;\n",
       "    }\n",
       "</style>\n",
       "<table border=\"1\" class=\"dataframe\">\n",
       "  <thead>\n",
       "    <tr style=\"text-align: right;\">\n",
       "      <th></th>\n",
       "      <th>Adj. Close</th>\n",
       "    </tr>\n",
       "  </thead>\n",
       "  <tbody>\n",
       "    <tr>\n",
       "      <th>2010-01-04</th>\n",
       "      <td>1.000000</td>\n",
       "    </tr>\n",
       "    <tr>\n",
       "      <th>2010-01-05</th>\n",
       "      <td>1.001729</td>\n",
       "    </tr>\n",
       "    <tr>\n",
       "      <th>2010-01-06</th>\n",
       "      <td>0.985795</td>\n",
       "    </tr>\n",
       "    <tr>\n",
       "      <th>2010-01-07</th>\n",
       "      <td>0.983973</td>\n",
       "    </tr>\n",
       "    <tr>\n",
       "      <th>2010-01-08</th>\n",
       "      <td>0.990515</td>\n",
       "    </tr>\n",
       "  </tbody>\n",
       "</table>\n",
       "</div>"
      ],
      "text/plain": [
       "            Adj. Close\n",
       "2010-01-04    1.000000\n",
       "2010-01-05    1.001729\n",
       "2010-01-06    0.985795\n",
       "2010-01-07    0.983973\n",
       "2010-01-08    0.990515"
      ]
     },
     "execution_count": 11,
     "metadata": {},
     "output_type": "execute_result"
    }
   ],
   "source": [
    "# Normalize\n",
    "df = df*norm_const\n",
    "df.head()"
   ]
  },
  {
   "cell_type": "markdown",
   "metadata": {},
   "source": [
    "## Bollinger Bands"
   ]
  },
  {
   "cell_type": "code",
   "execution_count": 12,
   "metadata": {},
   "outputs": [],
   "source": [
    "# get_rolling_mean(df_, window): Hàm này tính trung bình trượt của DataFrame df_ với một cửa sổ có độ dài là window. Trung bình trượt là trung bình cộng của các giá trị trong cửa sổ trượt.\n",
    "\n",
    "# get_rolling_std(df_, window): Hàm này tính độ lệch chuẩn trượt của DataFrame df_ với một cửa sổ có độ dài là window. Độ lệch chuẩn trượt là độ đo của sự biến động của dữ liệu trong một khoảng cửa sổ trượt.\n",
    "\n",
    "# get_bollinger_bands(rm, rstd): Hàm này tính toán Bollinger Bands sử dụng trung bình trượt (rm) và độ lệch chuẩn trượt (rstd). Bollinger Bands là một khoảng dự đoán xung quanh trung bình trượt, thường được định nghĩa bởi trung bình trượt cộng hoặc trừ một số đa lệch chuẩn.\n",
    "\n",
    "# clip_to_bollinger_bands(df_, window): Hàm này tính toán Bollinger Bands cho DataFrame df_ với cửa sổ trượt có độ dài window và sau đó cắt giá trị của DataFrame lại trong khoảng Bollinger Bands. Điều này có nghĩa là mọi giá trị nằm ngoài khoảng Bollinger Bands sẽ được cắt đi để giữ cho chúng nằm trong khoảng đó.\n",
    "def get_rolling_mean(df_, window):\n",
    "    return df_.rolling(window).mean()\n",
    "\n",
    "def get_rolling_std(df_, window):\n",
    "    return df_.rolling(window).std()\n",
    "\n",
    "def get_bollinger_bands(rm, rstd):\n",
    "    upper_band = rm + 2*rstd\n",
    "    lower_band = rm - 2*rstd\n",
    "    return upper_band, lower_band\n",
    "\n",
    "def clip_to_bollinger_bands(df_, window):\n",
    "    rm = get_rolling_mean(df_, window=window)\n",
    "    rstd = get_rolling_std(df_, window=window)\n",
    "    upper_band, lower_band = get_bollinger_bands(rm, rstd)\n",
    "    return df_.clip(upper=upper_band, lower=lower_band)"
   ]
  },
  {
   "cell_type": "code",
   "execution_count": 13,
   "metadata": {},
   "outputs": [],
   "source": [
    "def plot_df(df, title=\"Default Title\"):\n",
    "    ax = df.plot()\n",
    "    ax.set_xlabel(title)\n",
    "    ax.get_legend().remove()\n",
    "    plt.show()"
   ]
  },
  {
   "cell_type": "code",
   "execution_count": 14,
   "metadata": {},
   "outputs": [
    {
     "data": {
      "image/png": "[encoded data removed]",
      "text/plain": [
       "<Figure size 640x480 with 1 Axes>"
      ]
     },
     "metadata": {},
     "output_type": "display_data"
    },
    {
     "data": {
      "image/png": "[encoded data removed]",
      "text/plain": [
       "<Figure size 640x480 with 1 Axes>"
      ]
     },
     "metadata": {},
     "output_type": "display_data"
    }
   ],
   "source": [
    "# plot_df(df, \"Before Bollinger Clipping\"): Đầu tiên, hàm plot_df được gọi với tham số df là DataFrame và tiêu đề \"Before Bollinger Clipping\". Điều này có nghĩa là đồ thị của DataFrame sẽ được vẽ và hiển thị trước khi thực hiện quá trình Bollinger Clipping (cắt giới hạn Bollinger).\n",
    "\n",
    "# df = clip_to_bollinger_bands(df, input_window_size): Sau đó, DataFrame df được truyền vào hàm clip_to_bollinger_bands để thực hiện quá trình cắt giới hạn Bollinger. Kết quả của quá trình này được gán lại cho df. Nghĩa là DataFrame df sau khi đã được cắt giới hạn Bollinger sẽ được lưu lại trong biến df.\n",
    "\n",
    "# plot_df(df, \"After Bollinger Clipping\"): Cuối cùng, hàm plot_df được gọi lần thứ hai với tham số df (đã được cập nhật sau khi cắt giới hạn Bollinger) và tiêu đề \"After Bollinger Clipping\". Điều này có nghĩa là đồ thị của DataFrame sau khi đã được cắt giới hạn Bollinger sẽ được vẽ và hiển thị.\n",
    "plot_df(df, \"Before Bollinger Clipping\")\n",
    "df = clip_to_bollinger_bands(df, input_window_size)\n",
    "plot_df(df, \"After Bollinger Clipping\")"
   ]
  },
  {
   "cell_type": "markdown",
   "metadata": {},
   "source": [
    "<!-- \n",
    "Khi chúng ta thực hiện quá trình Bollinger Clipping trên DataFrame, đôi khi một số phần tử trong DataFrame có thể được cắt giới hạn Bollinger và trở thành NaN (Not a Number), có nghĩa là chúng không có giá trị hợp lệ.\n",
    "\n",
    "Trong thông điệp \"After Bollinger Clipping we have first (input_window_size - 1) elements as NaN\", điều này có nghĩa là sau khi đã thực hiện Bollinger Clipping, một số phần tử ban đầu của DataFrame sẽ trở thành NaN. Số lượng các phần tử này sẽ là (input_window_size - 1). Điều này xảy ra vì khi thực hiện cắt giới hạn Bollinger, các giá trị không rơi vào phạm vi giới hạn sẽ được đặt thành NaN, và trong trường hợp này, số lượng các giá trị NaN này sẽ bằng input_window_size trừ đi 1. -->\n",
    "After Bollinger Clipping we have first (input_window_size - 1) elements as NaN"
   ]
  },
  {
   "cell_type": "code",
   "execution_count": 15,
   "metadata": {},
   "outputs": [
    {
     "data": {
      "text/html": [
       "<div>\n",
       "<style scoped>\n",
       "    .dataframe tbody tr th:only-of-type {\n",
       "        vertical-align: middle;\n",
       "    }\n",
       "\n",
       "    .dataframe tbody tr th {\n",
       "        vertical-align: top;\n",
       "    }\n",
       "\n",
       "    .dataframe thead th {\n",
       "        text-align: right;\n",
       "    }\n",
       "</style>\n",
       "<table border=\"1\" class=\"dataframe\">\n",
       "  <thead>\n",
       "    <tr style=\"text-align: right;\">\n",
       "      <th></th>\n",
       "      <th>Adj. Close</th>\n",
       "    </tr>\n",
       "  </thead>\n",
       "  <tbody>\n",
       "    <tr>\n",
       "      <th>2010-01-04</th>\n",
       "      <td>1.000000</td>\n",
       "    </tr>\n",
       "    <tr>\n",
       "      <th>2010-01-05</th>\n",
       "      <td>1.001729</td>\n",
       "    </tr>\n",
       "    <tr>\n",
       "      <th>2010-01-06</th>\n",
       "      <td>0.985795</td>\n",
       "    </tr>\n",
       "    <tr>\n",
       "      <th>2010-01-07</th>\n",
       "      <td>0.983973</td>\n",
       "    </tr>\n",
       "    <tr>\n",
       "      <th>2010-01-08</th>\n",
       "      <td>0.990515</td>\n",
       "    </tr>\n",
       "    <tr>\n",
       "      <th>2010-01-11</th>\n",
       "      <td>0.981777</td>\n",
       "    </tr>\n",
       "    <tr>\n",
       "      <th>2010-01-12</th>\n",
       "      <td>0.970609</td>\n",
       "    </tr>\n",
       "    <tr>\n",
       "      <th>2010-01-13</th>\n",
       "      <td>0.984300</td>\n",
       "    </tr>\n",
       "    <tr>\n",
       "      <th>2010-01-14</th>\n",
       "      <td>0.978599</td>\n",
       "    </tr>\n",
       "    <tr>\n",
       "      <th>2010-01-15</th>\n",
       "      <td>0.962245</td>\n",
       "    </tr>\n",
       "    <tr>\n",
       "      <th>2010-01-19</th>\n",
       "      <td>1.004813</td>\n",
       "    </tr>\n",
       "    <tr>\n",
       "      <th>2010-01-20</th>\n",
       "      <td>0.989346</td>\n",
       "    </tr>\n",
       "    <tr>\n",
       "      <th>2010-01-21</th>\n",
       "      <td>0.972244</td>\n",
       "    </tr>\n",
       "    <tr>\n",
       "      <th>2010-01-22</th>\n",
       "      <td>0.932325</td>\n",
       "    </tr>\n",
       "    <tr>\n",
       "      <th>2010-01-25</th>\n",
       "      <td>0.948881</td>\n",
       "    </tr>\n",
       "  </tbody>\n",
       "</table>\n",
       "</div>"
      ],
      "text/plain": [
       "            Adj. Close\n",
       "2010-01-04    1.000000\n",
       "2010-01-05    1.001729\n",
       "2010-01-06    0.985795\n",
       "2010-01-07    0.983973\n",
       "2010-01-08    0.990515\n",
       "2010-01-11    0.981777\n",
       "2010-01-12    0.970609\n",
       "2010-01-13    0.984300\n",
       "2010-01-14    0.978599\n",
       "2010-01-15    0.962245\n",
       "2010-01-19    1.004813\n",
       "2010-01-20    0.989346\n",
       "2010-01-21    0.972244\n",
       "2010-01-22    0.932325\n",
       "2010-01-25    0.948881"
      ]
     },
     "execution_count": 15,
     "metadata": {},
     "output_type": "execute_result"
    }
   ],
   "source": [
    "\n",
    "df.head(15)"
   ]
  },
  {
   "cell_type": "code",
   "execution_count": 16,
   "metadata": {},
   "outputs": [
    {
     "data": {
      "text/plain": [
       "Adj. Close    0\n",
       "dtype: int64"
      ]
     },
     "execution_count": 16,
     "metadata": {},
     "output_type": "execute_result"
    }
   ],
   "source": [
    "\n",
    "# Phương thức isna() được gọi trên DataFrame (df) để tạo ra một DataFrame mới, trong đó mỗi phần tử sẽ là True nếu nó là NaN và False nếu không phải.\n",
    "\n",
    "# Phương thức sum() được gọi sau isna() để tính tổng số lượng giá trị True (NaN) cho mỗi cột trong DataFrame.\n",
    "\n",
    "# Do đó, df.isna().sum() sẽ trả về một Series, trong đó mỗi giá trị sẽ là tổng số lượng giá trị NaN trong mỗi cột tương ứng của DataFrame df. Điều này hữu ích để kiểm tra xem có bao nhiêu giá trị NaN trong mỗi cột của DataFrame, giúp phát hiện và xử lý dữ liệu thiếu.\n",
    "df.isna().sum()"
   ]
  },
  {
   "cell_type": "code",
   "execution_count": 17,
   "metadata": {},
   "outputs": [
    {
     "name": "stdout",
     "output_type": "stream",
     "text": [
      "Adj. Close    0\n",
      "dtype: int64\n",
      "(2767, 1)\n"
     ]
    }
   ],
   "source": [
    "df = df.dropna()\n",
    "print(df.isna().sum())\n",
    "print(df.shape)"
   ]
  },
  {
   "cell_type": "code",
   "execution_count": 19,
   "metadata": {},
   "outputs": [
    {
     "data": {
      "text/plain": [
       "2767"
      ]
     },
     "execution_count": 19,
     "metadata": {},
     "output_type": "execute_result"
    }
   ],
   "source": [
    "data = list(df['Adj. Close'])\n",
    "len(data)"
   ]
  },
  {
   "cell_type": "markdown",
   "metadata": {},
   "source": [
    "## Train, Validation and Test data"
   ]
  },
  {
   "cell_type": "markdown",
   "metadata": {},
   "source": [
    "### For DNN"
   ]
  },
  {
   "cell_type": "markdown",
   "metadata": {},
   "source": [
    "Train+Validation : Test = 80 : 20"
   ]
  },
  {
   "cell_type": "code",
   "execution_count": 20,
   "metadata": {},
   "outputs": [
    {
     "name": "stdout",
     "output_type": "stream",
     "text": [
      "2203 2203\n",
      "544 544\n"
     ]
    }
   ],
   "source": [
    "# train_till = int(0.8*len(data)): Đầu tiên, một biến train_till được tính toán bằng cách nhân độ dài của dữ liệu (data) với 0.8 (80%), và sau đó chuyển đổi thành một số nguyên (bằng cách sử dụng int()) để đại diện cho chỉ số của dữ liệu cuối cùng trong tập huấn luyện và tập validation.\n",
    "\n",
    "# train_raw_data = data[:train_till]: Dữ liệu từ đầu đến chỉ số train_till được gán cho biến train_raw_data, đại diện cho tập huấn luyện và tập validation.\n",
    "\n",
    "# test_raw_data = data[train_till:]: Dữ liệu từ chỉ số train_till đến cuối cùng của dữ liệu được gán cho biến test_raw_data, đại diện cho tập kiểm tra.\n",
    "\n",
    "# train_features = [train_raw_data[i:i+input_window_size] for i in range(len(train_raw_data)-input_window_size)]: Tập huấn luyện được chia thành các đặc trưng (features), mỗi đặc trưng là một dãy con gồm input_window_size phần tử trong tập huấn luyện.\n",
    "\n",
    "# test_features = [test_raw_data[i:i+input_window_size] for i in range(len(test_raw_data)-input_window_size)]: Tương tự, tập kiểm tra cũng được chia thành các đặc trưng, mỗi đặc trưng là một dãy con gồm input_window_size phần tử trong tập kiểm tra.\n",
    "\n",
    "# train_labels = train_raw_data[input_window_size:]: Nhãn (labels) tương ứng với các đặc trưng trong tập huấn luyện được xác định bằng cách lấy các phần tử sau input_window_size của train_raw_data.\n",
    "\n",
    "# test_labels = test_raw_data[input_window_size:]: Tương tự, nhãn tương ứng với các đặc trưng trong tập kiểm tra được xác định bằng cách lấy các phần tử sau input_window_size của test_raw_data.\n",
    "\n",
    "# Cuối cùng, print(len(train_features), len(train_labels)) và print(len(test_features), len(test_labels)) được sử dụng để in ra số lượng các đặc trưng và nhãn trong tập huấn luyện và tập kiểm tra tương ứng.\n",
    "train_till = int(0.8*len(data))  # this is train + validation\n",
    "\n",
    "train_raw_data = data[:train_till]\n",
    "test_raw_data = data[train_till:]\n",
    "\n",
    "train_features = [train_raw_data[i:i+input_window_size] for i in range(len(train_raw_data)-input_window_size)]\n",
    "test_features = [test_raw_data[i:i+input_window_size] for i in range(len(test_raw_data)-input_window_size)]\n",
    "\n",
    "train_labels = train_raw_data[input_window_size:]\n",
    "test_labels = test_raw_data[input_window_size:]\n",
    "\n",
    "print(len(train_features), len(train_labels))\n",
    "print(len(test_features), len(test_labels))"
   ]
  },
  {
   "cell_type": "code",
   "execution_count": 21,
   "metadata": {},
   "outputs": [
    {
     "name": "stdout",
     "output_type": "stream",
     "text": [
      "(2203, 10) (2203, 1)\n",
      "(544, 10) (544, 1)\n"
     ]
    }
   ],
   "source": [
    "# Trong đoạn mã trên, các đặc trưng và nhãn đã được chuyển đổi thành đối tượng DataFrame của thư viện pandas để thuận tiện cho việc xử lý dữ liệu và thực hiện các thao tác phân tích.\n",
    "\n",
    "# train_features = pd.DataFrame.from_records(train_features): Tập huấn luyện train_features, đã là một danh sách các đặc trưng, được chuyển đổi thành DataFrame bằng cách sử dụng phương thức from_records() của pandas. Mỗi hàng của DataFrame mới sẽ là một mẫu dữ liệu, trong đó mỗi cột đại diện cho một đặc trưng.\n",
    "\n",
    "# test_features = pd.DataFrame.from_records(test_features): Tương tự, tập kiểm tra test_features cũng được chuyển đổi thành DataFrame tương tự như tập huấn luyện.\n",
    "\n",
    "# train_labels = pd.DataFrame(train_labels): Tập nhãn huấn luyện train_labels, đã là một danh sách các nhãn, cũng được chuyển đổi thành DataFrame. DataFrame này sẽ chỉ có một cột, trong đó mỗi hàng là một nhãn tương ứng với một mẫu dữ liệu trong tập huấn luyện.\n",
    "\n",
    "# test_labels = pd.DataFrame(test_labels): Tương tự, tập nhãn kiểm tra test_labels cũng được chuyển đổi thành DataFrame tương tự như tập nhãn huấn luyện.\n",
    "train_features = pd.DataFrame.from_records(train_features)\n",
    "test_features = pd.DataFrame.from_records(test_features)\n",
    "\n",
    "train_labels = pd.DataFrame(train_labels)\n",
    "test_labels = pd.DataFrame(test_labels)\n",
    "\n",
    "print(train_features.shape, train_labels.shape)\n",
    "print(test_features.shape, test_labels.shape)"
   ]
  },
  {
   "cell_type": "markdown",
   "metadata": {},
   "source": [
    "## Build the model"
   ]
  },
  {
   "cell_type": "code",
   "execution_count": 22,
   "metadata": {},
   "outputs": [],
   "source": [
    "# Trong đoạn mã trên, một hàm build_model() được định nghĩa để tạo ra một mô hình mạng nơ-ron sử dụng thư viện TensorFlow/Keras.\n",
    "\n",
    "# model = keras.Sequential([...]): Mô hình được khởi tạo dưới dạng một chuỗi tuần tự của các lớp (sequential model) bằng cách sử dụng keras.Sequential(). Trong trường hợp này, mô hình có ba lớp:\n",
    "\n",
    "# Lớp đầu tiên (keras.layers.Dense(10, activation=tf.nn.relu, input_shape=[input_window_size])) là một lớp dense (hoặc fully connected) với 10 đơn vị nơ-ron, hàm kích hoạt relu và input_shape là [input_window_size], xác định kích thước của đầu vào cho mô hình.\n",
    "\n",
    "# Lớp thứ hai (keras.layers.Dense(5, activation=tf.nn.relu)) là một lớp dense với 5 đơn vị nơ-ron và hàm kích hoạt relu.\n",
    "\n",
    "# Lớp thứ ba (keras.layers.Dense(1)) là một lớp dense với 1 đơn vị nơ-ron, không có hàm kích hoạt được chỉ định, điều này có nghĩa là mô hình sẽ xuất ra đầu ra dạng số.\n",
    "\n",
    "# model.compile(loss='mean_squared_error', optimizer='adam'): Sau khi đã xây dựng mô hình, hàm này được sử dụng để biên dịch mô hình với các tham số quan trọng như hàm mất mát (loss function) và bộ tối ưu hóa (optimizer). Trong trường hợp này, hàm mất mát được đặt là 'mean_squared_error' (tính toán sự chênh lệch bình phương trung bình giữa các giá trị dự đoán và các giá trị thực tế), và optimizer được chọn là 'adam', một biến thể của phương pháp tối ưu hóa gradient descent.\n",
    "\n",
    "# Cuối cùng, hàm build_model() trả về mô hình đã được biên dịch để sử dụng trong quá trình huấn luyện và dự đoán.\n",
    "def build_model():\n",
    "    model = keras.Sequential([\n",
    "        keras.layers.Dense(10, activation=tf.nn.relu, input_shape=[input_window_size]),\n",
    "        keras.layers.Dense(5, activation=tf.nn.relu),\n",
    "        keras.layers.Dense(1)\n",
    "    ])\n",
    "    model.compile(loss='mean_squared_error', optimizer='adam')\n",
    "    return model"
   ]
  },
  {
   "cell_type": "code",
   "execution_count": 23,
   "metadata": {},
   "outputs": [
    {
     "name": "stdout",
     "output_type": "stream",
     "text": [
      "Model: \"sequential\"\n",
      "_________________________________________________________________\n",
      " Layer (type)                Output Shape              Param #   \n",
      "=================================================================\n",
      " dense (Dense)               (None, 10)                110       \n",
      "                                                                 \n",
      " dense_1 (Dense)             (None, 5)                 55        \n",
      "                                                                 \n",
      " dense_2 (Dense)             (None, 1)                 6         \n",
      "                                                                 \n",
      "=================================================================\n",
      "Total params: 171\n",
      "Trainable params: 171\n",
      "Non-trainable params: 0\n",
      "_________________________________________________________________\n"
     ]
    }
   ],
   "source": [
    "model = build_model()\n",
    "model.summary()"
   ]
  },
  {
   "cell_type": "markdown",
   "metadata": {},
   "source": [
    "## Train the model"
   ]
  },
  {
   "cell_type": "markdown",
   "metadata": {},
   "source": [
    "### Without Early Stopping"
   ]
  },
  {
   "cell_type": "code",
   "execution_count": 25,
   "metadata": {},
   "outputs": [],
   "source": [
    "\n",
    "# Trong đoạn mã trên:\n",
    "\n",
    "# n_epochs = 500: Đây là số lượng epochs (vòng lặp qua toàn bộ tập dữ liệu) được định nghĩa để huấn luyện mô hình.\n",
    "\n",
    "# class PrintDot(keras.callbacks.Callback): Đây là một subclass của lớp keras.callbacks.Callback. Nó được sử dụng để tạo ra một callback, tức là một hàm sẽ được gọi trong quá trình huấn luyện để thực hiện các hành động nhất định. Trong trường hợp này, hàm on_epoch_end sẽ được gọi sau mỗi epoch.\n",
    "\n",
    "# def on_epoch_end(self, epoch, logs): Đây là phương thức được gọi sau mỗi epoch trong quá trình huấn luyện. Nó nhận các tham số epoch (số thứ tự của epoch) và logs (một từ điển chứa các metric như loss và accuracy).\n",
    "\n",
    "# if epoch % 50 == 0: print(): Nếu epoch chia hết cho 50 (tức là epoch là bội số của 50), một dòng trống sẽ được in ra để tạo ra định dạng cho việc in ra các dấu chấm.\n",
    "\n",
    "# print('.', end=''): Mỗi lần gọi print('.'), một dấu chấm sẽ được in ra trên c\n",
    "\n",
    "# ổng console để chỉ ra rằng một epoch đã được hoàn thành.\n",
    "\n",
    "# history = model.fit(train_features, train_labels, epochs=n_epochs, validation_split=0.2, verbose=0, callbacks=[PrintDot()]): Đây là lệnh để huấn luyện mô hình. Dữ liệu huấn luyện (train_features và train_labels) được truyền vào phương thức fit(). epochs=n_epochs xác định số lượng epochs được sử dụng trong quá trình huấn luyện. validation_split=0.2 xác định tỷ lệ dữ liệu được sử dụng cho tập validation, ở đây là 20% của dữ liệu huấn luyện. verbose=0 chỉ định cách hiển thị thông tin trong quá trình huấn luyện (trong trường hợp này là không hiển thị thông tin). Cuối cùng, callback PrintDot() được truyền vào để in ra các dấu chấm sau mỗi epoch.\n",
    "n_epochs = 500\n",
    "class PrintDot(keras.callbacks.Callback):\n",
    "    def on_epoch_end(self, epoch, logs):\n",
    "        if epoch % 50 == 0: print()\n",
    "        print('.', end='')\n",
    "\n",
    "history = model.fit(train_features, train_labels, epochs=n_epochs, validation_split=0.2,\n",
    "                    verbose=0, callbacks=[PrintDot()])"
   ]
  },
  {
   "cell_type": "code",
   "execution_count": 26,
   "metadata": {},
   "outputs": [
    {
     "data": {
      "text/html": [
       "<div>\n",
       "<style scoped>\n",
       "    .dataframe tbody tr th:only-of-type {\n",
       "        vertical-align: middle;\n",
       "    }\n",
       "\n",
       "    .dataframe tbody tr th {\n",
       "        vertical-align: top;\n",
       "    }\n",
       "\n",
       "    .dataframe thead th {\n",
       "        text-align: right;\n",
       "    }\n",
       "</style>\n",
       "<table border=\"1\" class=\"dataframe\">\n",
       "  <thead>\n",
       "    <tr style=\"text-align: right;\">\n",
       "      <th></th>\n",
       "      <th>loss</th>\n",
       "      <th>val_loss</th>\n",
       "      <th>epoch</th>\n",
       "    </tr>\n",
       "  </thead>\n",
       "  <tbody>\n",
       "    <tr>\n",
       "      <th>495</th>\n",
       "      <td>0.002138</td>\n",
       "      <td>0.007476</td>\n",
       "      <td>495</td>\n",
       "    </tr>\n",
       "    <tr>\n",
       "      <th>496</th>\n",
       "      <td>0.002096</td>\n",
       "      <td>0.010277</td>\n",
       "      <td>496</td>\n",
       "    </tr>\n",
       "    <tr>\n",
       "      <th>497</th>\n",
       "      <td>0.002089</td>\n",
       "      <td>0.007089</td>\n",
       "      <td>497</td>\n",
       "    </tr>\n",
       "    <tr>\n",
       "      <th>498</th>\n",
       "      <td>0.002174</td>\n",
       "      <td>0.007383</td>\n",
       "      <td>498</td>\n",
       "    </tr>\n",
       "    <tr>\n",
       "      <th>499</th>\n",
       "      <td>0.002133</td>\n",
       "      <td>0.008123</td>\n",
       "      <td>499</td>\n",
       "    </tr>\n",
       "  </tbody>\n",
       "</table>\n",
       "</div>"
      ],
      "text/plain": [
       "         loss  val_loss  epoch\n",
       "495  0.002138  0.007476    495\n",
       "496  0.002096  0.010277    496\n",
       "497  0.002089  0.007089    497\n",
       "498  0.002174  0.007383    498\n",
       "499  0.002133  0.008123    499"
      ]
     },
     "execution_count": 26,
     "metadata": {},
     "output_type": "execute_result"
    }
   ],
   "source": [
    "\n",
    "# Đoạn mã trên tạo ra một DataFrame từ object history được trả về sau quá trình huấn luyện mô hình. DataFrame này chứa các thông tin về các metric (ví dụ: loss và accuracy) được thu thập sau mỗi epoch trong quá trình huấn luyện.\n",
    "\n",
    "# Dòng cuối cùng của DataFrame này được in ra bằng cách sử dụng phương thức tail(), cho phép chúng ta xem thông tin về các metric ở các epochs gần nhất.\n",
    "\n",
    "# Thông tin cụ thể về mỗi metric được thu thập sau mỗi epoch được lưu trong các cột của DataFrame hist. Cột 'epoch' lưu trữ số thứ tự của epoch tương ứng.\n",
    "\n",
    "# Đoạn mã trên là một cách tiện lợi để kiểm tra sự tiến triển của mô hình qua các epochs và đánh giá hiệu suất của nó.\n",
    "hist = pd.DataFrame(history.history)\n",
    "hist['epoch'] = history.epoch\n",
    "hist.tail()"
   ]
  },
  {
   "cell_type": "code",
   "execution_count": 27,
   "metadata": {},
   "outputs": [
    {
     "data": {
      "text/html": [
       "<div>\n",
       "<style scoped>\n",
       "    .dataframe tbody tr th:only-of-type {\n",
       "        vertical-align: middle;\n",
       "    }\n",
       "\n",
       "    .dataframe tbody tr th {\n",
       "        vertical-align: top;\n",
       "    }\n",
       "\n",
       "    .dataframe thead th {\n",
       "        text-align: right;\n",
       "    }\n",
       "</style>\n",
       "<table border=\"1\" class=\"dataframe\">\n",
       "  <thead>\n",
       "    <tr style=\"text-align: right;\">\n",
       "      <th></th>\n",
       "      <th>loss</th>\n",
       "      <th>val_loss</th>\n",
       "      <th>epoch</th>\n",
       "    </tr>\n",
       "  </thead>\n",
       "  <tbody>\n",
       "    <tr>\n",
       "      <th>0</th>\n",
       "      <td>0.002244</td>\n",
       "      <td>0.007638</td>\n",
       "      <td>0</td>\n",
       "    </tr>\n",
       "    <tr>\n",
       "      <th>1</th>\n",
       "      <td>0.002207</td>\n",
       "      <td>0.007924</td>\n",
       "      <td>1</td>\n",
       "    </tr>\n",
       "    <tr>\n",
       "      <th>2</th>\n",
       "      <td>0.002164</td>\n",
       "      <td>0.007568</td>\n",
       "      <td>2</td>\n",
       "    </tr>\n",
       "    <tr>\n",
       "      <th>3</th>\n",
       "      <td>0.002245</td>\n",
       "      <td>0.007277</td>\n",
       "      <td>3</td>\n",
       "    </tr>\n",
       "    <tr>\n",
       "      <th>4</th>\n",
       "      <td>0.002213</td>\n",
       "      <td>0.010300</td>\n",
       "      <td>4</td>\n",
       "    </tr>\n",
       "  </tbody>\n",
       "</table>\n",
       "</div>"
      ],
      "text/plain": [
       "       loss  val_loss  epoch\n",
       "0  0.002244  0.007638      0\n",
       "1  0.002207  0.007924      1\n",
       "2  0.002164  0.007568      2\n",
       "3  0.002245  0.007277      3\n",
       "4  0.002213  0.010300      4"
      ]
     },
     "execution_count": 27,
     "metadata": {},
     "output_type": "execute_result"
    }
   ],
   "source": [
    "hist.head()"
   ]
  },
  {
   "cell_type": "code",
   "execution_count": 28,
   "metadata": {},
   "outputs": [],
   "source": [
    "\n",
    "# Hàm plot_history(history) này được sử dụng để vẽ đồ thị biểu diễn sự tiến triển của loss function của mô hình trên tập huấn luyện và tập validation qua các epoch.\n",
    "\n",
    "# Đầu tiên, một DataFrame hist được tạo từ object history chứa thông tin về loss function của mô hình trên cả tập huấn luyện và tập validation sau mỗi epoch.\n",
    "# Sau đó, một figure mới được tạo ra để chứa đồ thị.\n",
    "# Label cho trục x được đặt là 'Epoch'.\n",
    "# Label cho trục y được đặt là 'Loss'.\n",
    "# Hai đường đồ thị được vẽ: một là loss trên tập huấn luyện và một là loss trên tập validation. Các giá trị loss này được lấy từ cột 'loss' và 'val_loss' trong DataFrame hist tương ứng.\n",
    "# Cuối cùng, legend được thêm vào để cho biết mỗi đường đồ thị tượng trưng cho một loại loss function.\n",
    "# Các dòng bị comment trong hàm này là các dòng được sử dụng để điều chỉnh đồ thị, như là chuyển đổi đơn vị của loss function hoặc giới hạn của trục y. Điều này có thể được thực hiện nếu cần thiết cho mục đích hiển thị hoặc đánh giá hiệu suất của mô hình.\n",
    "def plot_history(history):\n",
    "    hist = pd.DataFrame(history.history)\n",
    "    hist['epoch'] = history.epoch\n",
    "    \n",
    "    plt.figure()\n",
    "    plt.xlabel('Epoch')\n",
    "    # plt.ylabel('Loss  x($10^{-6}$)')\n",
    "    plt.ylabel('Loss')\n",
    "    # plt.plot(hist['epoch'], hist['loss']*1000000, label='Train Loss')\n",
    "    # plt.plot(hist['epoch'], hist['val_loss']*1000000, label='Validation Loss')\n",
    "    plt.plot(hist['epoch'], hist['loss'], label='Train Loss')\n",
    "    plt.plot(hist['epoch'], hist['val_loss'], label='Validation Loss')\n",
    "    # plt.ylim([0, 500])\n",
    "    plt.legend()"
   ]
  },
  {
   "cell_type": "code",
   "execution_count": 29,
   "metadata": {},
   "outputs": [
    {
     "data": {
      "image/png": "[encoded data removed]",
      "text/plain": [
       "<Figure size 640x480 with 1 Axes>"
      ]
     },
     "metadata": {},
     "output_type": "display_data"
    }
   ],
   "source": [
    "plot_history(history)"
   ]
  },
  {
   "cell_type": "markdown",
   "metadata": {},
   "source": [
    "### With Early Stopping"
   ]
  },
  {
   "cell_type": "code",
   "execution_count": 30,
   "metadata": {},
   "outputs": [
    {
     "name": "stdout",
     "output_type": "stream",
     "text": [
      "\n",
      "..................................................\n",
      "....."
     ]
    },
    {
     "data": {
      "image/png": "[encoded data removed]",
      "text/plain": [
       "<Figure size 640x480 with 1 Axes>"
      ]
     },
     "metadata": {},
     "output_type": "display_data"
    }
   ],
   "source": [
    "# model = build_model(): Mô hình được xây dựng bằng cách gọi hàm build_model() để tạo ra một mô hình mới.\n",
    "\n",
    "# early_stop = keras.callbacks.EarlyStopping(monitor='val_loss', patience=10): Đây là một callback được sử dụng để dừng quá trình huấn luyện sớm nếu không có sự cải thiện đủ lớn về loss function trên tập validation trong một khoảng patience (10 epochs trong trường hợp này). monitor='val_loss' chỉ ra rằng mô hình sẽ theo dõi loss function trên tập validation để quyết định khi nào dừng.\n",
    "\n",
    "# history = model.fit(train_features, train_labels, epochs=n_epochs, validation_split=0.2, verbose=0, callbacks=[early_stop, PrintDot()]): Mô hình được huấn luyện bằng cách sử dụng dữ liệu từ train_features và train_labels trong số lượng epochs đã được định nghĩa (n_epochs). Phần validation data được xác định bằng cách chia tập huấn luyện thành 80% cho huấn luyện và 20% cho validation (validation_split=0.2). Callback early_stop được sử dụng để dừng quá trình huấn luyện sớm nếu không có cải thiện đủ lớn trong loss function trên tập validation sau một số epochs nhất định. Callback PrintDot() cũng được sử dụng để in ra dấu chấm sau mỗi epoch.\n",
    "\n",
    "# plot_history(history): Cuối cùng, hàm plot_history() được gọi để vẽ đồ thị biểu diễn sự tiến triển của loss function trên cả tập huấn luyện và tập validation.\n",
    "model = build_model()\n",
    "early_stop = keras.callbacks.EarlyStopping(monitor='val_loss', patience=10)\n",
    "history = model.fit(train_features, train_labels, epochs=n_epochs, validation_split=0.2,\n",
    "                    verbose=0, callbacks=[early_stop, PrintDot()])\n",
    "plot_history(history)"
   ]
  },
  {
   "cell_type": "markdown",
   "metadata": {},
   "source": [
    "## Test on test data"
   ]
  },
  {
   "cell_type": "code",
   "execution_count": 31,
   "metadata": {
    "scrolled": true
   },
   "outputs": [
    {
     "name": "stdout",
     "output_type": "stream",
     "text": [
      "17/17 [==============================] - 0s 1ms/step - loss: 0.2845\n",
      "Mean Squared Error on test data = 0.2844609320163727\n"
     ]
    }
   ],
   "source": [
    "\n",
    "# Dòng mã này được sử dụng để đánh giá hiệu suất của mô hình trên tập kiểm tra (test_features và test_labels).\n",
    "\n",
    "# model.evaluate(test_features, test_labels): Phương thức này tính toán loss function của mô hình trên tập kiểm tra bằng cách sử dụng dữ liệu đầu vào từ test_features và kết quả mong đợi từ test_labels. Kết quả của phương thức này là giá trị loss function trên tập kiểm tra.\n",
    "\n",
    "# loss = model.evaluate(test_features, test_labels): Kết quả của model.evaluate() được gán cho biến loss.\n",
    "\n",
    "# print(\"Mean Squared Error on test data = {}\".format(loss)): Cuối cùng, kết quả loss function trên tập kiểm tra được in ra. Điều này cung cấp một ước lượng về hiệu suất của mô hình trên dữ liệu mới mà nó chưa từng thấy trong quá trình huấn luyện. Trong trường hợp này, giá trị được in ra là Mean Squared Error trên dữ liệu kiểm tra.\n",
    "\n",
    "\n",
    "\n",
    "\n",
    "\n",
    "loss = model.evaluate(test_features, test_labels)\n",
    "print(\"Mean Squared Error on test data = {}\".format(loss))"
   ]
  },
  {
   "cell_type": "markdown",
   "metadata": {},
   "source": [
    "## Make Predictions"
   ]
  },
  {
   "cell_type": "code",
   "execution_count": 32,
   "metadata": {},
   "outputs": [
    {
     "name": "stdout",
     "output_type": "stream",
     "text": [
      "17/17 [==============================] - 0s 2ms/step\n"
     ]
    },
    {
     "data": {
      "text/plain": [
       "(544, 1)"
      ]
     },
     "execution_count": 32,
     "metadata": {},
     "output_type": "execute_result"
    }
   ],
   "source": [
    "# Biến test_predictions chứa các dự đoán của mô hình trên tập kiểm tra (test_features).\n",
    "\n",
    "# model.predict(test_features): Phương thức này được sử dụng để dự đoán kết quả dựa trên dữ liệu đầu vào từ test_features. Kết quả là một mảng numpy chứa các giá trị dự đoán tương ứng với mỗi mẫu trong tập kiểm tra.\n",
    "\n",
    "# test_predictions.shape: Thuộc tính này trả về hình dạng (shape) của mảng test_predictions, tức là số lượng dự đoán và số chiều của mỗi dự đoán. Kết quả này cho biết rằng test_predictions có hình dạng là (n, 1), trong đó n là số lượng mẫu trong tập kiểm tra. Điều này chỉ ra rằng mỗi dự đoán được trả về dưới dạng một số nguyên 64-bit.\n",
    "test_predictions = model.predict(test_features)\n",
    "test_predictions.shape"
   ]
  },
  {
   "cell_type": "code",
   "execution_count": 33,
   "metadata": {},
   "outputs": [
    {
     "data": {
      "text/plain": [
       "array([[7.9696503],\n",
       "       [7.9513674],\n",
       "       [7.939613 ],\n",
       "       [7.955519 ],\n",
       "       [7.868231 ],\n",
       "       [7.810989 ],\n",
       "       [7.791477 ],\n",
       "       [7.73479  ],\n",
       "       [7.668149 ],\n",
       "       [7.569827 ]], dtype=float32)"
      ]
     },
     "execution_count": 33,
     "metadata": {},
     "output_type": "execute_result"
    }
   ],
   "source": [
    "test_predictions[:10]"
   ]
  },
  {
   "cell_type": "code",
   "execution_count": 34,
   "metadata": {},
   "outputs": [
    {
     "data": {
      "text/plain": [
       "array([[51.569546],\n",
       "       [51.45124 ],\n",
       "       [51.37518 ],\n",
       "       [51.478107],\n",
       "       [50.913284],\n",
       "       [50.54289 ],\n",
       "       [50.416634],\n",
       "       [50.049824],\n",
       "       [49.618607],\n",
       "       [48.98239 ]], dtype=float32)"
      ]
     },
     "execution_count": 34,
     "metadata": {},
     "output_type": "execute_result"
    }
   ],
   "source": [
    "test_predictions[:10]*denorm_const"
   ]
  },
  {
   "cell_type": "code",
   "execution_count": 35,
   "metadata": {},
   "outputs": [
    {
     "data": {
      "image/png": "[encoded data removed]",
      "text/plain": [
       "<Figure size 640x480 with 1 Axes>"
      ]
     },
     "metadata": {},
     "output_type": "display_data"
    }
   ],
   "source": [
    "# plt.plot(test_predictions*denorm_const, 'r', label='Prediction'): Vẽ đường dự đoán với màu đỏ, được tính toán từ test_predictions, sau đó nhân với hằng số denorm_const để đưa dự đoán về dạng giá cổ phiếu ban đầu. Label của đường này là \"Prediction\".\n",
    "\n",
    "# plt.plot(test_labels[0]*denorm_const, 'g', label='Actual'): Vẽ đường thực tế với màu xanh lá cây, được lấy từ test_labels, sau đó nhân với hằng số denorm_const để đưa giá trị thực tế về dạng giá cổ phiếu ban đầu. Label của đường này là \"Actual\".\n",
    "plt.figure()\n",
    "plt.xlabel('Days')\n",
    "plt.ylabel('Stock Price')\n",
    "plt.plot(test_predictions*denorm_const, 'r', label='Prediction')\n",
    "plt.plot(test_labels[0]*denorm_const, 'g', label='Actual')\n",
    "plt.legend()\n",
    "plt.show()"
   ]
  },
  {
   "cell_type": "code",
   "execution_count": 36,
   "metadata": {},
   "outputs": [
    {
     "name": "stdout",
     "output_type": "stream",
     "text": [
      "0.3952244170819178\n",
      "0.5333487657664137\n",
      "3.5304915671952966\n"
     ]
    }
   ],
   "source": [
    "# Mean Absolute Error (MAE): Đây là trung bình của giá trị tuyệt đối của sự khác biệt giữa giá trị dự đoán và giá trị thực tế. MAE càng nhỏ thì mô hình càng tốt.\n",
    "\n",
    "# Root Mean Squared Error (RMSE): Đây là căn bậc hai của trung bình của bình phương của sự khác biệt giữa giá trị dự đoán và giá trị thực tế. RMSE cũng là một độ đo phổ biến để đánh giá hiệu suất của mô hình dự báo. Giống như MAE, giá trị RMSE càng nhỏ thì mô hình càng tốt.\n",
    "\n",
    "# Mean Absolute Percentage Error (MAPE): Đây là trung bình của giá trị tuyệt đối của tỷ lệ phần trăm sự khác biệt giữa giá trị dự đoán và giá trị thực tế so với giá trị thực tế. MAPE thể hiện độ chính xác của dự báo theo phần trăm. MAPE càng nhỏ thì mô hình càng chính xác.\n",
    "\n",
    "# Trong các độ đo trên, việc mô hình có MAE, RMSE và MAPE càng thấp thì cho thấy mô hình càng tốt.\n",
    "mae = np.mean(np.abs(test_labels - test_predictions ))\n",
    "print(mae)\n",
    "rmse = np.sqrt(np.mean((test_labels - test_predictions) ** 2))\n",
    "print(rmse)\n",
    "#tính độ chính xác của dự báo\n",
    "mape = np.mean(np.abs((test_labels - test_predictions )/ test_labels)) *100\n",
    "print(mape)"
   ]
  },
  {
   "cell_type": "code",
   "execution_count": null,
   "metadata": {},
   "outputs": [],
   "source": [
    "# Mean Absolute Error (MAE): Khoảng cách trung bình giữa giá trị dự đoán và giá trị thực tế là khoảng 0.3952. Điều này cho thấy mô hình có xu hướng dự đoán giá trị gần với giá trị thực tế trên tập kiểm tra.\n",
    "\n",
    "# Root Mean Squared Error (RMSE): Căn bậc hai của trung bình của bình phương của sự khác biệt giữa giá trị dự đoán và giá trị thực tế là khoảng 0.5333. RMSE cũng cho biết mức độ lệch lớn giữa giá trị dự đoán và giá trị thực tế trên tập kiểm tra.\n",
    "\n",
    "# Mean Absolute Percentage Error (MAPE): Trung bình của giá trị tuyệt đối của tỷ lệ phần trăm sự khác biệt giữa giá trị dự đoán và giá trị thực tế so với giá trị thực tế là khoảng 3.5305%. MAPE cho biết mức độ sai lệch trung bình của mô hình so với giá trị thực tế trên tập kiểm tra, tính theo phần trăm. Điều này cho thấy mức độ sai lệch của mô hình là khoảng 3.5305%."
   ]
  }
 ],
 "metadata": {
  "kernelspec": {
   "display_name": "Python 3 (ipykernel)",
   "language": "python",
   "name": "python3"
  },
  "language_info": {
   "codemirror_mode": {
    "name": "ipython",
    "version": 3
   },
   "file_extension": ".py",
   "mimetype": "text/x-python",
   "name": "python",
   "nbconvert_exporter": "python",
   "pygments_lexer": "ipython3",
   "version": "3.11.5"
  }
 },
 "nbformat": 4,
 "nbformat_minor": 2
}
